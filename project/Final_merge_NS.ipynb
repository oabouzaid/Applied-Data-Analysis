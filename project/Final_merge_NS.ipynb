{
 "cells": [
  {
   "cell_type": "markdown",
   "metadata": {},
   "source": [
    "# Patent applications analysis"
   ]
  },
  {
   "cell_type": "markdown",
   "metadata": {},
   "source": [
    "This notebook provides different statistics related to patent applications. **It is important to note that all the given numbers refers to granted patents approved by the USPTO (United State Patent and Trademark Office)**. Therefore the statistics highlighted do not cover all the patent applications all over the world, but since the US is the most important patent provider, our study gives an accurate overview of the trend in the world.\n",
    "\n",
    "\n",
    "Our research aims to compare the evolution of patents application according to different countries, sectors, companies. Thus, the absolute number of patents is less relevent than its evolution over time.\n",
    "\n",
    "This notebook includes the following studies :\n",
    "\n",
    "    1) The evolution of granted patents around the world the past 10 years (from 2007 to 2017)\n",
    "    2) The number of USPTO granted patent by countries\n",
    "    3) A colorful map highlighting the dispertion of patents around the world\n",
    "    4) The top companies delivering patents \n",
    "    5) The top countries delivering patents by general sectors in CPC (Cooperative Patent Classification)\n",
    "    7) Spider charts for the top patents delivered countries displaying the popular sectors\n",
    "    6) A study of the number of patents delivered for a specific sector (To be continued for the next milestone) "
   ]
  },
  {
   "cell_type": "markdown",
   "metadata": {},
   "source": [
    "**Important:** In order to keep the notebook shorter and more to the point, the core implementation is contained in the python file **implementations.py**, which carefully and thouroughly describes the purpose of each function. We kindly invite you to have a look at it. We will however give a brief description of what a functions does when it is first used."
   ]
  },
  {
   "cell_type": "code",
   "execution_count": 1,
   "metadata": {},
   "outputs": [
    {
     "name": "stdout",
     "output_type": "stream",
     "text": [
      "Populating the interactive namespace from numpy and matplotlib\n"
     ]
    }
   ],
   "source": [
    "%pylab inline\n",
    "%matplotlib inline\n",
    "import numpy as np\n",
    "import pandas as pd \n",
    "import matplotlib.pyplot as plt\n",
    "import os\n",
    "import seaborn as sns \n",
    "import requests\n",
    "from bs4 import BeautifulSoup\n",
    "import folium\n",
    "import json\n",
    "import branca.colormap as cm\n",
    "import warnings\n",
    "\n",
    "warnings.filterwarnings('ignore')"
   ]
  },
  {
   "cell_type": "markdown",
   "metadata": {},
   "source": [
    "The file **implementations.py** contains the definitions of the functions used throughout the notebook."
   ]
  },
  {
   "cell_type": "code",
   "execution_count": 2,
   "metadata": {},
   "outputs": [],
   "source": [
    "from implementations import *"
   ]
  },
  {
   "cell_type": "markdown",
   "metadata": {},
   "source": [
    "In order to manipulate the database, an API is provided. The latter will allow us to send queries which always start with the following base URL **BASE_URL 'http://www.patentsview.org/api/patents/query?'**"
   ]
  },
  {
   "cell_type": "markdown",
   "metadata": {
    "collapsed": true
   },
   "source": [
    "In ***implementations.py***, the function BASE_URL() returns this base URL as a helper function. "
   ]
  },
  {
   "cell_type": "markdown",
   "metadata": {},
   "source": [
    "It is possible to request a specific research by keywords.\n",
    "For exemple we could search (using q) for all the patents granted since April 2007 and display the patent number and patent granted date (using f):\n",
    "\n",
    "      Example : \n",
    "#### http://www.patentsview.org/api/patents/query?q={\"_gte\":{\"patent_date\":\"2007-01-04\"}}&f=[\"patent_number\",\"patent_date\"]"
   ]
  },
  {
   "cell_type": "markdown",
   "metadata": {},
   "source": [
    "### Number of granted patents over the past 10 years"
   ]
  },
  {
   "cell_type": "markdown",
   "metadata": {},
   "source": [
    "This section aims to display the evolution of granted patent from January 2007 to January 2017\n",
    "\n",
    "The API cannot return more than 100000 patents in one request. Thus, we need to collect the number of patents by months first and then aggregate the results to obtain the number of patents over a year."
   ]
  },
  {
   "cell_type": "markdown",
   "metadata": {},
   "source": [
    "Let's display the number of granted patents in a table. We use **get_nb_patents_year** to get the number of granted patent for a given year (12 months)."
   ]
  },
  {
   "cell_type": "code",
   "execution_count": null,
   "metadata": {},
   "outputs": [],
   "source": [
    "years = list(range(2007,2017))\n",
    "list_nb_patent=[get_nb_patents_year(str(year)) for year in years]\n",
    "df_nb_patent=pd.DataFrame(index=years)\n",
    "df_nb_patent['nb_patents']=list_nb_patent\n",
    "df_nb_patent"
   ]
  },
  {
   "cell_type": "markdown",
   "metadata": {},
   "source": [
    "We can plot the numbers to have a better visualization of the number of granted patent."
   ]
  },
  {
   "cell_type": "code",
   "execution_count": null,
   "metadata": {},
   "outputs": [],
   "source": [
    "plot(years, df_nb_patent['nb_patents']/1000, 'r', marker= '.')\n",
    "plt.ylabel('Granted patents in thousands')\n",
    "plt.grid(True, 'major', 'y', ls='--', lw=.5, c='k', alpha=.3)\n",
    "plt.title(\"Evolution of number of granted patents over the last decade\")\n",
    "plt.show()"
   ]
  },
  {
   "cell_type": "markdown",
   "metadata": {},
   "source": [
    "### Number of granted patent delivered by countries"
   ]
  },
  {
   "cell_type": "markdown",
   "metadata": {},
   "source": [
    "This section aims to display which countries are the top patent providers. In a given patent, multiple inventors might be cited. Those inventors can be located in different countries. In that case, +1 will be counted for a country if at least one of the inventor is in the given country. The number of patents between January 2016 and January 2017 was chosen for this study."
   ]
  },
  {
   "cell_type": "markdown",
   "metadata": {},
   "source": [
    "First, we read the excel file **location.xlsx** given by the USPTO website which contains all the countries which have delivered patents in the past. The country names are coded according to the Alpha-2 ISO norm (\"US\",\"GE\",\"FR\",\"CH\",...)"
   ]
  },
  {
   "cell_type": "code",
   "execution_count": null,
   "metadata": {
    "collapsed": true
   },
   "outputs": [],
   "source": [
    "dfLocation=pd.read_excel(os.getcwd()+'/data/location.xlsx').fillna('')"
   ]
  },
  {
   "cell_type": "markdown",
   "metadata": {},
   "source": [
    "We clean the countries list and keep the Alpha-2 ISO codes only "
   ]
  },
  {
   "cell_type": "code",
   "execution_count": null,
   "metadata": {
    "collapsed": true
   },
   "outputs": [],
   "source": [
    "countries=list(set(list(dfLocation['country'])))\n",
    "countries = [countries[i] for i in range(len(countries)) if (len(countries[i]) == 2 and countries[i]!='a\"')]"
   ]
  },
  {
   "cell_type": "markdown",
   "metadata": {},
   "source": [
    "The **get_nb_patent_country** function below returns the number of granted patents for a given country. It might be possible that some countries issue a large number of patents that exceeds 100'000 in the year which overwhelms the API capacity. In that case the API request is splited between the 6 first and 6 last months of the year, and the number of patents are summed up together. "
   ]
  },
  {
   "cell_type": "code",
   "execution_count": null,
   "metadata": {
    "collapsed": true
   },
   "outputs": [],
   "source": [
    "dfNbPatents=pd.DataFrame(columns=['country','nb_patents'])\n",
    "dfNbPatents['country']=countries\n",
    "dfNbPatents['nb_patents']=list(map(lambda x: get_nb_patent_country(x),dfNbPatents['country']))"
   ]
  },
  {
   "cell_type": "markdown",
   "metadata": {},
   "source": [
    "We just created the dataframe containing the patents data grouped by countries.\n",
    "\n",
    "The number of patents are sorted by country and the barplot is displayed. We chose to plot the 15 top countries"
   ]
  },
  {
   "cell_type": "code",
   "execution_count": null,
   "metadata": {},
   "outputs": [],
   "source": [
    "dfNbPatents.sort_values(by='nb_patents',inplace=True, ascending=False)\n",
    "dfNbPatents.head(15).plot.bar(x='country', y='nb_patents', figsize=(17,5), grid=True)"
   ]
  },
  {
   "cell_type": "markdown",
   "metadata": {},
   "source": [
    "Display the exact number for the 10 top patent delivered countries"
   ]
  },
  {
   "cell_type": "code",
   "execution_count": null,
   "metadata": {},
   "outputs": [],
   "source": [
    "dfNbPatents.set_index(pd.Series(list(range(1,len(dfNbPatents) + 1))), inplace=True)\n",
    "dfNbPatents.head(10)"
   ]
  },
  {
   "cell_type": "markdown",
   "metadata": {},
   "source": [
    "### Choropleth map map of the granted patent distribution around the world\n"
   ]
  },
  {
   "cell_type": "markdown",
   "metadata": {},
   "source": [
    "This section aims to display a vizual world map that highlights the granted patent dispersion across the countries. "
   ]
  },
  {
   "cell_type": "markdown",
   "metadata": {},
   "source": [
    "As there is a very large gap between the number of patents throughout the different countries, we opted for a **logarithmic scale** for a better vizualisation. Without loss of generality, we shall still be able to vizualize accurate relative differences between numbers.   "
   ]
  },
  {
   "cell_type": "code",
   "execution_count": null,
   "metadata": {
    "collapsed": true
   },
   "outputs": [],
   "source": [
    "# max_n is the maximum number of patents holder, which is the US\n",
    "max_n = dfNbPatents['nb_patents'].max()\n",
    "#Here, we set up a Colormap using the logarithmic scale as shades of Blue colors that will be used to color the map\n",
    "colormap = cm.linear.PuBu.scale(0, round(math.log(max_n))).to_step(100)"
   ]
  },
  {
   "cell_type": "code",
   "execution_count": null,
   "metadata": {
    "scrolled": false
   },
   "outputs": [],
   "source": [
    "patents = dfNbPatents.copy()\n",
    "#Take the log of the number of granted patents to match the logarithmic scale\n",
    "log_nb = list(map(lambda x: math.log(x) if (x > 0) else 0 , patents['nb_patents']))\n",
    "#In the below DataFrame, each country has now its 'logarithmic color code'\n",
    "patents['log_color_code'] = log_nb\n",
    "patents.head()"
   ]
  },
  {
   "cell_type": "code",
   "execution_count": null,
   "metadata": {
    "collapsed": true
   },
   "outputs": [],
   "source": [
    "#We need also to convert the table into a dictionnary, in order to map a feature to its number of patents.\n",
    "patents_dict = patents.set_index('country')['log_color_code']\n",
    "\n",
    "#Here we map each country to a color according to the \"logarithmic\" number of patents\n",
    "color_dict = {key: colormap(patents_dict[key]) for key in patents_dict.keys()}"
   ]
  },
  {
   "cell_type": "markdown",
   "metadata": {},
   "source": [
    "The function **ret_color** below, applies colors to the countries that were previously stored in **color_dict**.\n",
    "In case a country does not appear in the list of patents, we assign the white color by default.\n",
    "\n",
    "The JSON file **custom.geo.json** contains informations about the world countries. It is used to draw a Choropleth below.\n",
    "\n",
    "We can now draw a chloropleth map that shows the number of patents around the world."
   ]
  },
  {
   "cell_type": "code",
   "execution_count": null,
   "metadata": {
    "collapsed": true,
    "scrolled": false
   },
   "outputs": [],
   "source": [
    "m = folium.Map(location= [46.484, 8.1336],tiles='cartodbpositron',zoom_start=2)  \n",
    "\n",
    "#Load the world map\n",
    "countries_geo_path = 'data/custom.geo.json'\n",
    "geo_json_data = json.load(open(countries_geo_path))\n",
    "\n",
    "#Apply the colors using our defined function ret_color, desribed above\n",
    "folium.GeoJson(geo_json_data,\n",
    "               style_function=lambda feature: {\n",
    "              'fillColor': ret_color(feature, color_dict),\n",
    "              'weight': .5,\n",
    "              'fillOpacity': 0.8\n",
    "               }).add_to(m)\n",
    "\n",
    "#Setting up the scale \n",
    "colormap = cm.linear.PuBu.scale(0, 170000).to_step(50)\n",
    "colormap.caption = 'Number of patents'\n",
    "m.add_child(colormap)\n",
    "\n",
    "m.save('world.html')"
   ]
  },
  {
   "cell_type": "markdown",
   "metadata": {},
   "source": [
    "Here is an overview of the distribution of granted patents over the world \n",
    "\n",
    "**The interactive map can be accessed [here](https://skagankose.github.io/ada_fall_2017/world.html).**\n",
    "\n",
    "![Image](data/world_patent.png)"
   ]
  },
  {
   "cell_type": "markdown",
   "metadata": {},
   "source": [
    "### GRANTED VS PENDING"
   ]
  },
  {
   "cell_type": "markdown",
   "metadata": {},
   "source": [
    "Upon our initial milestone 2 objective, we wanted to compare how many patents application are granted. After digging deeper in the DataBase we found out that we can only obtain the granted patents. Therefore it will not be possible to carry out this comparison."
   ]
  },
  {
   "cell_type": "markdown",
   "metadata": {},
   "source": [
    "### TOP COMPANIES\n"
   ]
  },
  {
   "cell_type": "markdown",
   "metadata": {},
   "source": [
    "This section aims to display the top companies patent publishers in the world. The function **get_company** below returns a dictionnary containing the companies as keys and their related number of patent application. \n",
    "\n",
    "To have a recent and significant number of patents we chose to analyse the patent applications over a recent period, namely here from the 1st of january 2017 to the 1st of may 2017. "
   ]
  },
  {
   "cell_type": "code",
   "execution_count": null,
   "metadata": {
    "collapsed": true
   },
   "outputs": [],
   "source": [
    "# DataFrame containing patent counts by companies\n",
    "company_patent_df = pd.DataFrame(list(get_company(2017, 1, 2017, 5).items()))\n",
    "# Cleaning NaNs\n",
    "company_patent_df.dropna(inplace=True)\n",
    "# Changing columns names\n",
    "company_patent_df.columns = ['company', 'total_patent']\n",
    "# Converting to integers\n",
    "company_patent_df.total_patent = company_patent_df.total_patent.astype('int64', copy=False)\n",
    "# Descending sort by number of granted patents\n",
    "top_companies_df = company_patent_df.sort_values(by='total_patent', ascending=False)"
   ]
  },
  {
   "cell_type": "markdown",
   "metadata": {},
   "source": [
    "Here is the list of the TOP15 world patent issuers companies, in terms of number of granted patents:"
   ]
  },
  {
   "cell_type": "code",
   "execution_count": null,
   "metadata": {
    "scrolled": false
   },
   "outputs": [],
   "source": [
    "top_companies_df.head(15)"
   ]
  },
  {
   "cell_type": "code",
   "execution_count": null,
   "metadata": {},
   "outputs": [],
   "source": [
    "top_companies_df.head(25).plot.barh(x='company', y='total_patent', figsize=(17,17), fontsize=20).invert_yaxis()"
   ]
  },
  {
   "cell_type": "markdown",
   "metadata": {},
   "source": [
    "As we can see **International Business Machines Corporation (IBM)** is the leader in terms of the number of granted patents by holding more than 120'000 patents, followed by Samsung Electronics (roughly 75'000) and Canon (75'000)."
   ]
  },
  {
   "cell_type": "markdown",
   "metadata": {},
   "source": [
    "### Patents by countries and sectors"
   ]
  },
  {
   "cell_type": "markdown",
   "metadata": {},
   "source": [
    "The Cooperative Patent Classification (CPC) is a patent classification system, which has been jointly developed by the European Patent Office (EPO) and the United States Patent and Trademark Office (USPTO).\n",
    "\n",
    "Patent categories according to CPC are indicated in the following table. We've used these categories for our initial analysis. We assigned a code to every categories for a paractical purpose."
   ]
  },
  {
   "cell_type": "markdown",
   "metadata": {},
   "source": [
    "| **CODE** | **DESCRIPTION**   |\n",
    "|------|------|\n",
    "|   **A**  | **Human Necessities**|\n",
    "|   **B**  | **Operations and Transport**|\n",
    "|   **C**  | **Chemistry and Metallurgy**|\n",
    "|   **D**  | **Textiles**|\n",
    "|   **E**  | **Fixed Constructions**|\n",
    "|   **F**  | **Mechanical Engineering**|\n",
    "|   **G**  | **Physics**|\n",
    "|   **H**  | **Electricity**|\n",
    "|   **Y**  | **Emerging Cross-Sectional Technologies**|"
   ]
  },
  {
   "cell_type": "markdown",
   "metadata": {},
   "source": [
    "First we obtain the Alpha-2 codes for each country by reading **countries.csv**, which is provided by the **USPTO website** and initialise a dictionnary. The latter countains every countries and the number of patents by categories"
   ]
  },
  {
   "cell_type": "code",
   "execution_count": null,
   "metadata": {
    "collapsed": true
   },
   "outputs": [],
   "source": [
    "# # The following DataFrame contains the Alpha-2 ISO names of the world countries \n",
    "country_abbrev = list(pd.read_csv('data/countries.csv')['alpha-2'])\n",
    "country_total_patent_category = dict()\n",
    "for abbrev in country_abbrev:\n",
    "    country_total_patent_category[abbrev] = {\"A\":0,\"B\":0,\"C\":0,\"D\":0,\"E\":0,\"F\":0,\"G\":0,\"H\":0,\"Y\":0,}"
   ]
  },
  {
   "cell_type": "markdown",
   "metadata": {},
   "source": [
    "The function **get_countries_by_sectors** send requests to get the number of patents delivered by company sorted by sector. We chose 2016 to illustrate our study."
   ]
  },
  {
   "cell_type": "code",
   "execution_count": null,
   "metadata": {
    "collapsed": true
   },
   "outputs": [],
   "source": [
    "country_total_patent_category = get_countries_by_sectors()"
   ]
  },
  {
   "cell_type": "markdown",
   "metadata": {},
   "source": [
    "Create a dataframe containing every countries with their number of patents by sectors"
   ]
  },
  {
   "cell_type": "code",
   "execution_count": null,
   "metadata": {
    "collapsed": true
   },
   "outputs": [],
   "source": [
    "patent_category_df = pd.DataFrame(country_total_patent_category).transpose()"
   ]
  },
  {
   "cell_type": "markdown",
   "metadata": {},
   "source": [
    "The function defined below, **figure_by_sector**, plots the TOP10 leading countries for a given sector (as the category label ('A','B','C',...), in terms of granted patents. The tuple containing the index indicates the location of the plot.\n",
    "\n",
    "Then, we plot the top 10 countries for each sectors"
   ]
  },
  {
   "cell_type": "code",
   "execution_count": null,
   "metadata": {
    "scrolled": false
   },
   "outputs": [],
   "source": [
    "#This function plot one country, it takes as parameter the category ('A','B','C',...),\n",
    "#the label (Operations and Transport) and a tuple containing the index which indicate where is the\n",
    "#plot located\n",
    "\n",
    "#Label mapping\n",
    "category_label = [('A', 'Human Necessities'),('B', 'Operations and Transport'),\\\n",
    "                  ('C', 'Chemistry and Metallurgys'),('D', 'Textiles'), ('E', 'Fixed Constructions'),\\\n",
    "                  ('F', 'Mechanical Engineering'),('G', 'Physics'),('H', 'Electricity'),\\\n",
    "                  ('Y', 'Emerging Cross-Sectional Technologies'),]\n",
    "    \n",
    "fix, axes = plt.subplots(5, 2, figsize=(20, 35))\n",
    "for index, (category, label) in enumerate(category_label):\n",
    "    fıgure_by_sector(category, label, (int(index/2), index%2), axes, patent_category_df)"
   ]
  },
  {
   "cell_type": "markdown",
   "metadata": {},
   "source": [
    "An other way of visualizasing can be performed by plotting the number of patents by country and sector a a stacked bar chart."
   ]
  },
  {
   "cell_type": "code",
   "execution_count": null,
   "metadata": {
    "scrolled": false
   },
   "outputs": [],
   "source": [
    "# Plot the TOP10 countries in terms of granted patents in a stacked bar chart\n",
    "patent_category_df['total'] = patent_category_df.apply(sum, axis=1)\n",
    "clean_df = patent_category_df.sort_values(by='total', ascending=False).drop('total',axis=1).head(10)\n",
    "clean_df.plot.bar(stacked=True, fontsize=20, figsize=(20,10));"
   ]
  },
  {
   "cell_type": "markdown",
   "metadata": {},
   "source": [
    "As we can see, the United States is the leader country in all sectors. Japan also has also a significant number of patents in terms of sectors G and H. Other countries as Germany (DE), South Korea (KR), Taiwan (TW), France (FR), Netherlands (NL), Switzerland (CH), China (CN) and United Kingdom (GB) comes next with less significant number of patents."
   ]
  },
  {
   "cell_type": "markdown",
   "metadata": {},
   "source": [
    "### Spider charts modeling the different patent sectors in different countries"
   ]
  },
  {
   "cell_type": "markdown",
   "metadata": {},
   "source": [
    "This function sorts the DataFrame containing the categorized patents for each country, by the given column passed as a parameter."
   ]
  },
  {
   "cell_type": "code",
   "execution_count": null,
   "metadata": {
    "collapsed": true
   },
   "outputs": [],
   "source": [
    "def sortby(col):\n",
    "    return cat_patent.sort_values(by=col, ascending=False)"
   ]
  },
  {
   "cell_type": "markdown",
   "metadata": {},
   "source": [
    "As an example, this DataFrame represents the TOP5 countries in europe in terms of sector A, which is Human Necessities."
   ]
  },
  {
   "cell_type": "code",
   "execution_count": null,
   "metadata": {
    "scrolled": true
   },
   "outputs": [],
   "source": [
    "cat_patent = pd.DataFrame(country_total_patent_category).transpose()\n",
    "sortby('A').head()"
   ]
  },
  {
   "cell_type": "markdown",
   "metadata": {},
   "source": [
    "After some examining different countries around the world, we decided to choose 9 of them, which are quite different between one another in terms of granted patents distribution across the sectors. For this task, we considered the *United States, Japan, Germany, Canada, Switzerland, France, the Netherlands, Great Britain* and *Korea*.\n",
    "\n",
    "We will now display a spider chart for each one of them. The function **spider_chart** takes care of this task. It shows the involvment level of a given country in all the 7 sectors in CPC (Cooperative Patent Classification) by modeling the relative number of granted patents for each sector, country-wise."
   ]
  },
  {
   "cell_type": "code",
   "execution_count": null,
   "metadata": {
    "scrolled": false
   },
   "outputs": [],
   "source": [
    "model_countries = [('US', 'United States'),('JP', 'Japan'), ('DE','Germany'), ('CA','Canada'),\\\n",
    "                   ('CH', 'Switzerland'), ('FR','France'), ('NL','Netherlands'), \\\n",
    "                   ('GB','Great Britain'), ('KR', 'Korea'), ('CN', 'China')]\n",
    "    \n",
    "model = sortby('A').head(15)\n",
    "model = model.apply(lambda x: x/sum(x), axis=1) # Normalizing the number of patents per sector to extract percentage rates(%)\n",
    "\n",
    "for i in range(len(model_countries)):\n",
    "    spider_chart(model, model_countries[i][0], title= model_countries[i][1])"
   ]
  },
  {
   "cell_type": "markdown",
   "metadata": {},
   "source": [
    "We can see that Japan, Korea, China, Great Britain France and the United States hold most of their patents in the Electricity and the Physics sectors. Switzerland's patents are more concentrated on Chemistry, Humans Necessities and Physics. Germany, Switzerland and Great Britain hold significant number of patents in Transport. \n",
    "\n",
    "In overall, Germany, Switzerland and Great Britain are the most polyvalent countries in terms of granted patent classifications, as we can see that they have the most diversified patents across the different sectors."
   ]
  },
  {
   "cell_type": "markdown",
   "metadata": {},
   "source": [
    "### Evolution of granted patents for a given sector"
   ]
  },
  {
   "cell_type": "markdown",
   "metadata": {},
   "source": [
    "This last part aims to study the evolution of granted patents per sector of interest. This section will be done mostly for milestone 3."
   ]
  },
  {
   "cell_type": "markdown",
   "metadata": {},
   "source": [
    "As a brief overview, the evolution of patents in solar energy was carried out. At the end, this evolution will be compared with the aggregated evolution of patents (in every sector). This study will be useful for comparisons between different technologies in energy. "
   ]
  },
  {
   "cell_type": "markdown",
   "metadata": {},
   "source": [
    "The keywords used are given in the *paper* **\"Patent-based Technology report - Alternative Energy Technology\"** made by the **\"World Intellectual Property Organization\"**, which gives a fairly accurate result for energy technologies. The keywords are used to search for a match in the patent titles.  "
   ]
  },
  {
   "cell_type": "code",
   "execution_count": null,
   "metadata": {
    "collapsed": true
   },
   "outputs": [],
   "source": [
    "Keywords_Solar_Power= [\"solar cell\", \"solar-cell\",\"photovoltaic\", \"solar photo\", \"PV sun\", \"light cell\",\n",
    "\"panel module\"] "
   ]
  },
  {
   "cell_type": "markdown",
   "metadata": {},
   "source": [
    "The function **get_patents_keywords** returns the number of patents in a given year according to a list of key words at a given year.\n",
    "\n",
    "This function also returns a dataframe containing 25 samples maximum of every patent related to a keyword (for checking sake)"
   ]
  },
  {
   "cell_type": "code",
   "execution_count": null,
   "metadata": {
    "collapsed": true
   },
   "outputs": [],
   "source": [
    "list_patent_nb_solar=[]\n",
    "years= range(2007,2017)\n",
    "for i in years:\n",
    "    [dfPatent, nb_patent]=get_patents_keywords(Keywords_Solar_Power,str(i))\n",
    "    list_patent_nb_solar+=[nb_patent]"
   ]
  },
  {
   "cell_type": "markdown",
   "metadata": {},
   "source": [
    "Plot the evolution of number of patent between year 2007 and 2017"
   ]
  },
  {
   "cell_type": "code",
   "execution_count": null,
   "metadata": {
    "scrolled": false
   },
   "outputs": [],
   "source": [
    "plt.plot(years,list_patent_nb_solar)\n",
    "plt.ylabel('Number of patents')\n",
    "plt.title('Evolution of patents related to solar technologies')\n",
    "plt.grid(True, 'major', 'y', ls='--', lw=.5, c='k', alpha=.3)"
   ]
  },
  {
   "cell_type": "markdown",
   "metadata": {},
   "source": [
    "The evolution of granted patent in solar energy can be compared with the aggregated evolution of granted patent for the past 10 years. In order to achieve this pupose, we can compute the growth of patents per year according to the folowing formula :\n",
    "\n",
    "\\begin{equation*}\n",
    "Growth  = \\frac{nb\\ patents\\ year\\ i+1\\ -\\ nb\\ patents\\ year\\ i}{nb\\ patent\\ year\\ i}\n",
    "\\end{equation*}\n",
    "\n",
    "\n"
   ]
  },
  {
   "cell_type": "code",
   "execution_count": null,
   "metadata": {
    "collapsed": true
   },
   "outputs": [],
   "source": [
    "growth_solar=[]\n",
    "growth=[]\n",
    "list_nb_patent=list(df_nb_patent['nb_patents'])\n",
    "for i in range(len(years)-1):\n",
    "    growth_solar+=[(list_patent_nb_solar[i+1]-list_patent_nb_solar[i])/list_patent_nb_solar[i]*100]\n",
    "    growth+=[(list_nb_patent[i+1]-list_nb_patent[i])/list_nb_patent[i]*100]"
   ]
  },
  {
   "cell_type": "markdown",
   "metadata": {},
   "source": [
    "We plot the growth rate of the solar technology patents, compared to the average growth of patents across all sectors."
   ]
  },
  {
   "cell_type": "code",
   "execution_count": null,
   "metadata": {},
   "outputs": [],
   "source": [
    "plt.plot(range(2008,2017),growth_solar,range(2008,2017),growth)\n",
    "plt.grid(True, 'major', 'y', ls='--', lw=.5, c='k', alpha=.3)\n",
    "plt.title(\"Relative growth of patents\")\n",
    "plt.legend(\"solar energy patents\",\"general patents\")\n",
    "plt.ylabel('Growth rate %')\n",
    "plt.show()"
   ]
  },
  {
   "cell_type": "markdown",
   "metadata": {},
   "source": [
    "**The blue graph represents the growth of the solar technology related patents, and in orange the growth of patents in general**"
   ]
  },
  {
   "cell_type": "markdown",
   "metadata": {},
   "source": [
    "It can be observed that the patents granted in solar technology had a significant growth between 2008 and 2013 compared to the other technologies."
   ]
  },
  {
   "cell_type": "markdown",
   "metadata": {},
   "source": [
    "# Patents in the Energy Sector"
   ]
  },
  {
   "cell_type": "code",
   "execution_count": 3,
   "metadata": {
    "collapsed": true
   },
   "outputs": [],
   "source": [
    "from implementations import *"
   ]
  },
  {
   "cell_type": "code",
   "execution_count": 2,
   "metadata": {},
   "outputs": [
    {
     "name": "stdout",
     "output_type": "stream",
     "text": [
      "Populating the interactive namespace from numpy and matplotlib\n"
     ]
    }
   ],
   "source": [
    "%pylab inline\n",
    "%matplotlib inline\n",
    "import numpy as np\n",
    "import pandas as pd \n",
    "import matplotlib.pyplot as plt\n",
    "import os\n",
    "import seaborn as sns \n",
    "import requests\n",
    "from bs4 import BeautifulSoup\n",
    "import folium\n",
    "import json\n",
    "import branca.colormap as cm\n",
    "import warnings\n",
    "warnings.filterwarnings('ignore')"
   ]
  },
  {
   "cell_type": "code",
   "execution_count": 7,
   "metadata": {
    "collapsed": true
   },
   "outputs": [],
   "source": [
    "years=range(2007,2017)\n",
    "list_ipc_solar_p=[('E','04','13'),('H','01','25'),('H','01','31'),('H','02','6')]\n",
    "\n",
    "keywords_solar_power= [[\"solar\", \"cell\"], [\"solarcell\"],[\"solar-cell\"],[\"photovoltaic\"], [\"solar\", \"light\"], \n",
    "                       [\"solar\", \"panel\"],[\"solar\", \"module\"],[\"photo\", \"light\"],[\"photo\", \"cell\"],\n",
    "                       [\"photo\", \"panel\"],[\"photo\", \"module\"],[\"PV\", \"light\"], [\"PV\", \"cell\"],\n",
    "                       [\"PV\", \"panel\"],[\"PV\", \"module\"],[\"sun\", \"light\"],[\"sun\", \"cell\"],\n",
    "                       [\"sun\", \"panel\"],[\"sun\", \"module\"]] \n",
    "\n",
    "\n",
    "keywords_solar_thermal=[['CSP'],['concentrat'],['trough'],['dish'],['tower'],['sterling'],\n",
    "                       ['stirling'],['solar','heat'],['solar','thermal'],['solar','accumulate']\n",
    "                       ,['solar', 'boiler'],['solar','house'],['solar','hot'],['solar','building'],\n",
    "                       ['solar','system'],['solar', 'boiling'],['sun','heat'],['sun','thermal'],\n",
    "                        ['sun','accumulate'],['sun', 'boiler'],['sun','house'],['sun','hot'],\n",
    "                        ['sun','building'],['sun','system'],['sun', 'boiling']]\n",
    "\n",
    "list_ipc_solar_t=[('F','03','6'),('G','02','5'),('H','01','31'),('C','02','1'),\n",
    "                 ('E','04','13'),('F','02','1'),('F','22','1'),('F','24','9'),('F','24','1')\n",
    "                 ,('F','24','2'),('F','24','3'),('F','25','27'),('F','26','3'),('H','02','6')]\n",
    "\n",
    "keywords_wind=['wind','turbine']\n",
    "\n",
    "list_ipc_wind=[('F','03','1'),('F','03','3'),('F','03','5'),('F','03','7'),('F','03','8')\n",
    "              ,('F','03','9'),('F','03','13'),('F','03','15'),('F','03','17'),('F','03','80'),\n",
    "              ('B','60','8')]\n",
    "\n",
    "\n",
    "keywords_hydro = [['hydropower'], ['hydroelectric'], ['hydro-electr'], ['hydro-power'], \n",
    "                  ['water-power'],['waterpower'], ['flow'], ['fluid'], ['fluidpressure'], \n",
    "                ['dam'], ['hydro'],['water'], ['river'], ['drainag'],  ['hydraulic'], \n",
    "                ['buoyancy'], ['tunnel','pump'],['pelton','turbine'], ['turgo','turbine'], \n",
    "                ['ossberger','turbine'], ['fransis','turbine'],['kaplan','turbine'],\n",
    "                ['tubular','turbine'], ['bulb rim','turbine']]\n",
    "                \n",
    "list_ipc_hydro=[('E','02','9'),('F','03','1'),('F','03','3'),('F','03','7'),('F','03','13'),\n",
    "               ('F','03','15'),('F','03','17'),('F','16','41'),('H','02','57')]\n",
    "\n",
    "keywords_wave_and_tidal = [['tidal'], ['tide'], ['seawater'], ['sea','water'], \n",
    "                  ['ocean'],['wave'], ['bollow'], ['offshore'], ['onshore'], \n",
    "                ['duck'], ['float'],]\n",
    "\n",
    "list_ipc_wave_and_tidal=[('E','02','9'),('F','03','7'),('F','03','13'),\n",
    "               ('F','03','15'),('F','03','17')]\n",
    "\n",
    "keywords_carbon_capture_and_storage = [['carbon','dioxide','storage'], ['carbon','dioxide','capture'], \n",
    "                ['carbon','dioxide','recover'],['carbon','dioxide','deliver'],['carbon','dioxide','regenerat'], \n",
    "                ['co2','storage'], ['co2','captur'], ['co2','recover'],['co2','deliver'],['co2','regenerat'],\n",
    "                ['carbon','gas','storage'], ['carbon','gas','captur'], \n",
    "                ['carbon','gas','recover'],['carbon','gas','deliver'],['carbon','gas','regenerat']]\n",
    "\n",
    "list_ipc_carbon_capture_and_storage=[('B','63','35'),('C','01','3'),('C','01','31'),\n",
    "               ('C','02','1'),('C','07','7'),('F','01','3'),('F','25','3'),('B','01','20')\n",
    "                ,('B','01','53'),('B','01','11')]\n",
    "\n",
    "\n",
    "keywords_coal_and_gas=[['gas'],['carbon'],['monoxide'],['steam','engine'],['steam','generation'],\n",
    "                       ['steam','machine'],['combustion'],['burner'],['furnace'],['coal']]\n",
    "list_ipc_carbon_coal_and_gas=[('C','10','1'),('C','10','3'),('F','01','1'),\n",
    "               ('F','01','2'),('F','01','5'),('F','01','7'),('F','01','9'),('F','01','11'),\n",
    "               ('F','01','17'),('F','22','5'),('F','22','7'),('F','22','9'),\n",
    "               ('F','23','10'),('F','23','20'),('F','23','30'),('F','23','40'),('F','23','50'),\n",
    "            ('F','23','60'),('F','23','80'),('F','23','1'),('F','23','3'),('F','23','5'),\n",
    "            ('F','23','7'),('F','23','9')]\n",
    "\n",
    "keywords_nuclear = [['control','nuclear'],['nuclear','reaction'],['nuclear','plant'],\n",
    "                   ['nuclear','reactor'],['nuclear','explosion'],['magnetic','resonance'],\n",
    "                   ['plasma'],['fission'],['particule'],['fusion']]\n",
    "\n",
    "list_ipc_nuclear=[('G','21','1'),('G','21','3'),('G','21','5'),\n",
    "               ('G','21','7'),('G','21','17'),('G','21','19'),('G','01','24'),('H','05','6')]"
   ]
  },
  {
   "cell_type": "code",
   "execution_count": null,
   "metadata": {
    "collapsed": true
   },
   "outputs": [],
   "source": [
    "list_nb_patent_solar_p, _= get_nb_patent_years_keyword(years,keywords_solar_power,list_ipc_solar_p)\n",
    "list_nb_patent_solar_t, _ = get_nb_patent_years_keyword(years, keywords_solar_thermal, list_ipc_solar_t)\n",
    "list_nb_patent_wind, _ = get_nb_patent_years_keyword(years,keywords_wind,list_ipc_wind)\n",
    "list_nb_patent_hydro, _ = get_nb_patent_years_keyword(years,keywords_hydro,list_ipc_hydro)\n",
    "list_nb_patent_wave_tidal, _ = get_nb_patent_years_keyword(years,keywords_wave_and_tidal, list_ipc_wave_and_tidal)\n",
    "list_nb_patent_carbon_capture_and_storage, _= get_nb_patent_years_keyword(years, \n",
    "                keywords_carbon_capture_and_storage, list_ipc_carbon_capture_and_storage)\n",
    "list_nb_patent_coal_and_gas, _ = get_nb_patent_years_keyword(years,\n",
    "                    keywords_coal_and_gas, list_ipc_carbon_coal_and_gas)\n",
    "list_nb_patent_nuclear, _ = get_nb_patent_years_keyword(years,\n",
    "                    keywords_nuclear, list_ipc_nuclear)"
   ]
  },
  {
   "cell_type": "code",
   "execution_count": null,
   "metadata": {},
   "outputs": [],
   "source": [
    "dfEvolutionPatent=pd.DataFrame(columns=['solar photo','solar therm','wind','hydro',\n",
    "                        'tidal and wave','carbon capture','coal and gas','nuclear energy'])\n",
    "dfEvolutionPatent=dfEvolutionPatent.reindex(list(years))\n",
    "dfEvolutionPatent['solar photo']=list_nb_patent_solar_p\n",
    "dfEvolutionPatent['solar therm']=list_nb_patent_solar_t\n",
    "dfEvolutionPatent['wind']=list_nb_patent_wind\n",
    "dfEvolutionPatent['hydro']=list_nb_patent_hydro\n",
    "dfEvolutionPatent['tidal and wave']=list_nb_patent_wave_tidal\n",
    "dfEvolutionPatent['carbon capture']=list_nb_patent_carbon_capture_and_storage\n",
    "dfEvolutionPatent['coal and gas']=list_nb_patent_coal_and_gas\n",
    "dfEvolutionPatent['nuclear energy']=list_nb_patent_nuclear"
   ]
  },
  {
   "cell_type": "code",
   "execution_count": null,
   "metadata": {},
   "outputs": [],
   "source": [
    "savedfexcel(dfEvolutionPatent,'evolution_nb_patents')"
   ]
  },
  {
   "cell_type": "code",
   "execution_count": 8,
   "metadata": {},
   "outputs": [
    {
     "data": {
      "text/html": [
       "<div>\n",
       "<style>\n",
       "    .dataframe thead tr:only-child th {\n",
       "        text-align: right;\n",
       "    }\n",
       "\n",
       "    .dataframe thead th {\n",
       "        text-align: left;\n",
       "    }\n",
       "\n",
       "    .dataframe tbody tr th {\n",
       "        vertical-align: top;\n",
       "    }\n",
       "</style>\n",
       "<table border=\"1\" class=\"dataframe\">\n",
       "  <thead>\n",
       "    <tr style=\"text-align: right;\">\n",
       "      <th></th>\n",
       "      <th>solar photo</th>\n",
       "      <th>solar therm</th>\n",
       "      <th>wind</th>\n",
       "      <th>hydro</th>\n",
       "      <th>tidal and wave</th>\n",
       "      <th>carbon capture</th>\n",
       "      <th>coal and gas</th>\n",
       "      <th>nuclear energy</th>\n",
       "      <th>renewable</th>\n",
       "    </tr>\n",
       "  </thead>\n",
       "  <tbody>\n",
       "    <tr>\n",
       "      <th>2007</th>\n",
       "      <td>44</td>\n",
       "      <td>19</td>\n",
       "      <td>192</td>\n",
       "      <td>33</td>\n",
       "      <td>7</td>\n",
       "      <td>2</td>\n",
       "      <td>328</td>\n",
       "      <td>19</td>\n",
       "      <td>297</td>\n",
       "    </tr>\n",
       "    <tr>\n",
       "      <th>2008</th>\n",
       "      <td>36</td>\n",
       "      <td>15</td>\n",
       "      <td>204</td>\n",
       "      <td>36</td>\n",
       "      <td>14</td>\n",
       "      <td>2</td>\n",
       "      <td>309</td>\n",
       "      <td>17</td>\n",
       "      <td>307</td>\n",
       "    </tr>\n",
       "    <tr>\n",
       "      <th>2009</th>\n",
       "      <td>59</td>\n",
       "      <td>29</td>\n",
       "      <td>188</td>\n",
       "      <td>22</td>\n",
       "      <td>17</td>\n",
       "      <td>5</td>\n",
       "      <td>269</td>\n",
       "      <td>26</td>\n",
       "      <td>320</td>\n",
       "    </tr>\n",
       "    <tr>\n",
       "      <th>2010</th>\n",
       "      <td>139</td>\n",
       "      <td>48</td>\n",
       "      <td>303</td>\n",
       "      <td>49</td>\n",
       "      <td>19</td>\n",
       "      <td>9</td>\n",
       "      <td>394</td>\n",
       "      <td>28</td>\n",
       "      <td>567</td>\n",
       "    </tr>\n",
       "    <tr>\n",
       "      <th>2011</th>\n",
       "      <td>222</td>\n",
       "      <td>87</td>\n",
       "      <td>484</td>\n",
       "      <td>93</td>\n",
       "      <td>30</td>\n",
       "      <td>12</td>\n",
       "      <td>370</td>\n",
       "      <td>23</td>\n",
       "      <td>928</td>\n",
       "    </tr>\n",
       "    <tr>\n",
       "      <th>2012</th>\n",
       "      <td>312</td>\n",
       "      <td>132</td>\n",
       "      <td>594</td>\n",
       "      <td>93</td>\n",
       "      <td>31</td>\n",
       "      <td>5</td>\n",
       "      <td>475</td>\n",
       "      <td>34</td>\n",
       "      <td>1167</td>\n",
       "    </tr>\n",
       "    <tr>\n",
       "      <th>2013</th>\n",
       "      <td>314</td>\n",
       "      <td>157</td>\n",
       "      <td>590</td>\n",
       "      <td>107</td>\n",
       "      <td>46</td>\n",
       "      <td>36</td>\n",
       "      <td>535</td>\n",
       "      <td>39</td>\n",
       "      <td>1250</td>\n",
       "    </tr>\n",
       "    <tr>\n",
       "      <th>2014</th>\n",
       "      <td>587</td>\n",
       "      <td>245</td>\n",
       "      <td>856</td>\n",
       "      <td>181</td>\n",
       "      <td>55</td>\n",
       "      <td>31</td>\n",
       "      <td>908</td>\n",
       "      <td>95</td>\n",
       "      <td>1955</td>\n",
       "    </tr>\n",
       "    <tr>\n",
       "      <th>2015</th>\n",
       "      <td>656</td>\n",
       "      <td>325</td>\n",
       "      <td>1036</td>\n",
       "      <td>216</td>\n",
       "      <td>54</td>\n",
       "      <td>33</td>\n",
       "      <td>1581</td>\n",
       "      <td>148</td>\n",
       "      <td>2320</td>\n",
       "    </tr>\n",
       "    <tr>\n",
       "      <th>2016</th>\n",
       "      <td>628</td>\n",
       "      <td>303</td>\n",
       "      <td>1116</td>\n",
       "      <td>237</td>\n",
       "      <td>56</td>\n",
       "      <td>42</td>\n",
       "      <td>1385</td>\n",
       "      <td>164</td>\n",
       "      <td>2382</td>\n",
       "    </tr>\n",
       "  </tbody>\n",
       "</table>\n",
       "</div>"
      ],
      "text/plain": [
       "      solar photo  solar therm  wind  hydro  tidal and wave  carbon capture  \\\n",
       "2007           44           19   192     33               7               2   \n",
       "2008           36           15   204     36              14               2   \n",
       "2009           59           29   188     22              17               5   \n",
       "2010          139           48   303     49              19               9   \n",
       "2011          222           87   484     93              30              12   \n",
       "2012          312          132   594     93              31               5   \n",
       "2013          314          157   590    107              46              36   \n",
       "2014          587          245   856    181              55              31   \n",
       "2015          656          325  1036    216              54              33   \n",
       "2016          628          303  1116    237              56              42   \n",
       "\n",
       "      coal and gas  nuclear energy  renewable  \n",
       "2007           328              19        297  \n",
       "2008           309              17        307  \n",
       "2009           269              26        320  \n",
       "2010           394              28        567  \n",
       "2011           370              23        928  \n",
       "2012           475              34       1167  \n",
       "2013           535              39       1250  \n",
       "2014           908              95       1955  \n",
       "2015          1581             148       2320  \n",
       "2016          1385             164       2382  "
      ]
     },
     "execution_count": 8,
     "metadata": {},
     "output_type": "execute_result"
    }
   ],
   "source": [
    "dfNbPatent=pd.read_excel('evolution_nb_patents.xlsx')\n",
    "\n",
    "dfNbPatent['renewable']=dfNbPatent[['solar photo','solar therm','wind','hydro','tidal and wave',\n",
    "                                   'carbon capture']].sum(axis=1)\n",
    "dfNbPatent"
   ]
  },
  {
   "cell_type": "code",
   "execution_count": 9,
   "metadata": {},
   "outputs": [
    {
     "data": {
      "text/plain": [
       "<matplotlib.figure.Figure at 0x10eace7b8>"
      ]
     },
     "execution_count": 9,
     "metadata": {},
     "output_type": "execute_result"
    },
    {
     "data": {
      "image/png": "[encoded data removed]",
      "text/plain": [
       "<matplotlib.figure.Figure at 0x10eace908>"
      ]
     },
     "metadata": {},
     "output_type": "display_data"
    },
    {
     "data": {
      "text/plain": [
       "<matplotlib.figure.Figure at 0x10eace7b8>"
      ]
     },
     "metadata": {},
     "output_type": "display_data"
    }
   ],
   "source": [
    "plt_nb_patent(years,dfNbPatent['solar photo'],'years','nb patents','nb patents solar photovoltaic')\n",
    "plt.figure()"
   ]
  },
  {
   "cell_type": "code",
   "execution_count": 10,
   "metadata": {},
   "outputs": [
    {
     "data": {
      "text/plain": [
       "<matplotlib.figure.Figure at 0x10ebca1d0>"
      ]
     },
     "execution_count": 10,
     "metadata": {},
     "output_type": "execute_result"
    },
    {
     "data": {
      "image/png": "[encoded data removed]",
      "text/plain": [
       "<matplotlib.figure.Figure at 0x10ebca358>"
      ]
     },
     "metadata": {},
     "output_type": "display_data"
    },
    {
     "data": {
      "text/plain": [
       "<matplotlib.figure.Figure at 0x10ebca1d0>"
      ]
     },
     "metadata": {},
     "output_type": "display_data"
    }
   ],
   "source": [
    "plt_nb_patent(years,dfNbPatent['solar therm'],'years','nb patents','nb patents solar thermic')\n",
    "plt.figure()"
   ]
  },
  {
   "cell_type": "code",
   "execution_count": 11,
   "metadata": {},
   "outputs": [
    {
     "data": {
      "text/plain": [
       "<matplotlib.figure.Figure at 0x10ed8f5f8>"
      ]
     },
     "execution_count": 11,
     "metadata": {},
     "output_type": "execute_result"
    },
    {
     "data": {
      "image/png": "[encoded data removed]",
      "text/plain": [
       "<matplotlib.figure.Figure at 0x10ed8f048>"
      ]
     },
     "metadata": {},
     "output_type": "display_data"
    },
    {
     "data": {
      "text/plain": [
       "<matplotlib.figure.Figure at 0x10ed8f5f8>"
      ]
     },
     "metadata": {},
     "output_type": "display_data"
    }
   ],
   "source": [
    "plt_nb_patent(years,dfNbPatent['wind'],'years','nb patents','nb patents wind')\n",
    "plt.figure()"
   ]
  },
  {
   "cell_type": "code",
   "execution_count": 12,
   "metadata": {},
   "outputs": [
    {
     "data": {
      "text/plain": [
       "<matplotlib.figure.Figure at 0x10ecb8828>"
      ]
     },
     "execution_count": 12,
     "metadata": {},
     "output_type": "execute_result"
    },
    {
     "data": {
      "image/png": "[encoded data removed]",
      "text/plain": [
       "<matplotlib.figure.Figure at 0x10ecdf6d8>"
      ]
     },
     "metadata": {},
     "output_type": "display_data"
    },
    {
     "data": {
      "text/plain": [
       "<matplotlib.figure.Figure at 0x10ecb8828>"
      ]
     },
     "metadata": {},
     "output_type": "display_data"
    }
   ],
   "source": [
    "plt_nb_patent(years,dfNbPatent['hydro'],'years','nb patents','nb patents hydro')\n",
    "plt.figure()"
   ]
  },
  {
   "cell_type": "code",
   "execution_count": 13,
   "metadata": {},
   "outputs": [
    {
     "data": {
      "text/plain": [
       "<matplotlib.figure.Figure at 0x10ebb2c18>"
      ]
     },
     "execution_count": 13,
     "metadata": {},
     "output_type": "execute_result"
    },
    {
     "data": {
      "image/png": "[encoded data removed]",
      "text/plain": [
       "<matplotlib.figure.Figure at 0x10ebb20f0>"
      ]
     },
     "metadata": {},
     "output_type": "display_data"
    },
    {
     "data": {
      "text/plain": [
       "<matplotlib.figure.Figure at 0x10ebb2c18>"
      ]
     },
     "metadata": {},
     "output_type": "display_data"
    }
   ],
   "source": [
    "plt_nb_patent(years,dfNbPatent['tidal and wave'],'years','nb patents','nb patents wave and tidal')\n",
    "plt.figure()"
   ]
  },
  {
   "cell_type": "code",
   "execution_count": 14,
   "metadata": {},
   "outputs": [
    {
     "data": {
      "text/plain": [
       "<matplotlib.figure.Figure at 0x10ed2e358>"
      ]
     },
     "execution_count": 14,
     "metadata": {},
     "output_type": "execute_result"
    },
    {
     "data": {
      "image/png": "[encoded data removed]",
      "text/plain": [
       "<matplotlib.figure.Figure at 0x10ed2e438>"
      ]
     },
     "metadata": {},
     "output_type": "display_data"
    },
    {
     "data": {
      "text/plain": [
       "<matplotlib.figure.Figure at 0x10ed2e358>"
      ]
     },
     "metadata": {},
     "output_type": "display_data"
    }
   ],
   "source": [
    "plt_nb_patent(years,dfNbPatent['carbon capture'],'years','nb patents', 'nb patents carbon capture')\n",
    "plt.figure()"
   ]
  },
  {
   "cell_type": "code",
   "execution_count": 15,
   "metadata": {},
   "outputs": [
    {
     "data": {
      "text/plain": [
       "<matplotlib.figure.Figure at 0x10e921588>"
      ]
     },
     "execution_count": 15,
     "metadata": {},
     "output_type": "execute_result"
    },
    {
     "data": {
      "image/png": "[encoded data removed]",
      "text/plain": [
       "<matplotlib.figure.Figure at 0x10e921780>"
      ]
     },
     "metadata": {},
     "output_type": "display_data"
    },
    {
     "data": {
      "text/plain": [
       "<matplotlib.figure.Figure at 0x10e921588>"
      ]
     },
     "metadata": {},
     "output_type": "display_data"
    }
   ],
   "source": [
    "plt_nb_patent(years,dfNbPatent['coal and gas'],'years','nb patents','nb patents coal and gas')\n",
    "plt.figure()"
   ]
  },
  {
   "cell_type": "code",
   "execution_count": 16,
   "metadata": {},
   "outputs": [
    {
     "data": {
      "text/plain": [
       "<matplotlib.figure.Figure at 0x10ecfd358>"
      ]
     },
     "execution_count": 16,
     "metadata": {},
     "output_type": "execute_result"
    },
    {
     "data": {
      "image/png": "[encoded data removed]",
      "text/plain": [
       "<matplotlib.figure.Figure at 0x10ed40668>"
      ]
     },
     "metadata": {},
     "output_type": "display_data"
    },
    {
     "data": {
      "text/plain": [
       "<matplotlib.figure.Figure at 0x10ecfd358>"
      ]
     },
     "metadata": {},
     "output_type": "display_data"
    }
   ],
   "source": [
    "plt_nb_patent(years,dfNbPatent['renewable'],'years','nb patents','nb patents renewable energy')\n",
    "plt.figure()"
   ]
  },
  {
   "cell_type": "code",
   "execution_count": 17,
   "metadata": {},
   "outputs": [
    {
     "data": {
      "image/png": "[encoded data removed]",
      "text/plain": [
       "<matplotlib.figure.Figure at 0x10ec94198>"
      ]
     },
     "metadata": {},
     "output_type": "display_data"
    }
   ],
   "source": [
    "plt_nb_patent(years,dfNbPatent['nuclear energy'],'years','nb patents','nb patents nuclear')"
   ]
  },
  {
   "cell_type": "code",
   "execution_count": 18,
   "metadata": {},
   "outputs": [
    {
     "data": {
      "text/plain": [
       "<matplotlib.text.Text at 0x10e8d35f8>"
      ]
     },
     "execution_count": 18,
     "metadata": {},
     "output_type": "execute_result"
    },
    {
     "data": {
      "image/png": "[encoded data removed]",
      "text/plain": [
       "<matplotlib.figure.Figure at 0x10eace978>"
      ]
     },
     "metadata": {},
     "output_type": "display_data"
    }
   ],
   "source": [
    "fig=plt.figure()\n",
    "ax=fig.add_subplot(111)\n",
    "ax.plot(years, dfNbPatent['coal and gas'],'r', label='coal and gas')\n",
    "ax.plot(years, dfNbPatent['renewable'],'g', label= 'renewable')\n",
    "ax.grid(True, 'major', 'y', ls='--', lw=.5, c='k', alpha=.3)\n",
    "plt.legend()\n",
    "plt.title(\"Renewable vs coal and gas\")"
   ]
  },
  {
   "cell_type": "code",
   "execution_count": 15,
   "metadata": {},
   "outputs": [],
   "source": [
    "from implementations import *"
   ]
  },
  {
   "cell_type": "code",
   "execution_count": 20,
   "metadata": {},
   "outputs": [],
   "source": [
    "energies = ['solar photo','solar therm','wind','hydro', 'tidal and wave','carbon capture','coal and gas','nuclear energy']\n",
    "\n",
    "dfEnergyPatentGrowth=pd.DataFrame(columns=['solar photo','solar therm','wind','hydro',\n",
    "                        'tidal and wave','carbon capture','coal and gas','nuclear energy'])\n",
    "\n",
    "for energy in energies:\n",
    "    dfEnergyPatentGrowth[energy] = get_growth(years,list(dfNbPatent[energy]))"
   ]
  },
  {
   "cell_type": "code",
   "execution_count": 21,
   "metadata": {},
   "outputs": [
    {
     "data": {
      "text/plain": [
       "(array([0, 1, 2, 3, 4, 5, 6, 7]), <a list of 8 Text xticklabel objects>)"
      ]
     },
     "execution_count": 21,
     "metadata": {},
     "output_type": "execute_result"
    },
    {
     "data": {
      "image/png": "[encoded data removed]",
      "text/plain": [
       "<matplotlib.figure.Figure at 0x10e9545f8>"
      ]
     },
     "metadata": {},
     "output_type": "display_data"
    }
   ],
   "source": [
    "sns.barplot(data=dfEnergyPatentGrowth)\n",
    "plt.xticks(rotation=45)"
   ]
  },
  {
   "cell_type": "code",
   "execution_count": 22,
   "metadata": {},
   "outputs": [
    {
     "data": {
      "text/html": [
       "<div>\n",
       "<style>\n",
       "    .dataframe thead tr:only-child th {\n",
       "        text-align: right;\n",
       "    }\n",
       "\n",
       "    .dataframe thead th {\n",
       "        text-align: left;\n",
       "    }\n",
       "\n",
       "    .dataframe tbody tr th {\n",
       "        vertical-align: top;\n",
       "    }\n",
       "</style>\n",
       "<table border=\"1\" class=\"dataframe\">\n",
       "  <thead>\n",
       "    <tr style=\"text-align: right;\">\n",
       "      <th></th>\n",
       "      <th>solar photo</th>\n",
       "      <th>solar therm</th>\n",
       "      <th>wind</th>\n",
       "      <th>hydro</th>\n",
       "      <th>tidal and wave</th>\n",
       "      <th>carbon capture</th>\n",
       "      <th>coal and gas</th>\n",
       "      <th>nuclear energy</th>\n",
       "    </tr>\n",
       "  </thead>\n",
       "  <tbody>\n",
       "    <tr>\n",
       "      <th>solar photo</th>\n",
       "      <td>1.000000</td>\n",
       "      <td>0.770742</td>\n",
       "      <td>0.708214</td>\n",
       "      <td>0.651853</td>\n",
       "      <td>-0.346187</td>\n",
       "      <td>-0.196159</td>\n",
       "      <td>0.376685</td>\n",
       "      <td>0.296973</td>\n",
       "    </tr>\n",
       "    <tr>\n",
       "      <th>solar therm</th>\n",
       "      <td>0.770742</td>\n",
       "      <td>1.000000</td>\n",
       "      <td>0.430283</td>\n",
       "      <td>0.256640</td>\n",
       "      <td>-0.332398</td>\n",
       "      <td>-0.077810</td>\n",
       "      <td>0.145474</td>\n",
       "      <td>0.274169</td>\n",
       "    </tr>\n",
       "    <tr>\n",
       "      <th>wind</th>\n",
       "      <td>0.708214</td>\n",
       "      <td>0.430283</td>\n",
       "      <td>1.000000</td>\n",
       "      <td>0.934295</td>\n",
       "      <td>-0.111408</td>\n",
       "      <td>-0.388760</td>\n",
       "      <td>0.438371</td>\n",
       "      <td>0.043223</td>\n",
       "    </tr>\n",
       "    <tr>\n",
       "      <th>hydro</th>\n",
       "      <td>0.651853</td>\n",
       "      <td>0.256640</td>\n",
       "      <td>0.934295</td>\n",
       "      <td>1.000000</td>\n",
       "      <td>0.008101</td>\n",
       "      <td>-0.144509</td>\n",
       "      <td>0.394091</td>\n",
       "      <td>-0.075878</td>\n",
       "    </tr>\n",
       "    <tr>\n",
       "      <th>tidal and wave</th>\n",
       "      <td>-0.346187</td>\n",
       "      <td>-0.332398</td>\n",
       "      <td>-0.111408</td>\n",
       "      <td>0.008101</td>\n",
       "      <td>1.000000</td>\n",
       "      <td>0.197868</td>\n",
       "      <td>-0.480574</td>\n",
       "      <td>-0.471622</td>\n",
       "    </tr>\n",
       "    <tr>\n",
       "      <th>carbon capture</th>\n",
       "      <td>-0.196159</td>\n",
       "      <td>-0.077810</td>\n",
       "      <td>-0.388760</td>\n",
       "      <td>-0.144509</td>\n",
       "      <td>0.197868</td>\n",
       "      <td>1.000000</td>\n",
       "      <td>-0.197049</td>\n",
       "      <td>-0.193649</td>\n",
       "    </tr>\n",
       "    <tr>\n",
       "      <th>coal and gas</th>\n",
       "      <td>0.376685</td>\n",
       "      <td>0.145474</td>\n",
       "      <td>0.438371</td>\n",
       "      <td>0.394091</td>\n",
       "      <td>-0.480574</td>\n",
       "      <td>-0.197049</td>\n",
       "      <td>1.000000</td>\n",
       "      <td>0.644984</td>\n",
       "    </tr>\n",
       "    <tr>\n",
       "      <th>nuclear energy</th>\n",
       "      <td>0.296973</td>\n",
       "      <td>0.274169</td>\n",
       "      <td>0.043223</td>\n",
       "      <td>-0.075878</td>\n",
       "      <td>-0.471622</td>\n",
       "      <td>-0.193649</td>\n",
       "      <td>0.644984</td>\n",
       "      <td>1.000000</td>\n",
       "    </tr>\n",
       "  </tbody>\n",
       "</table>\n",
       "</div>"
      ],
      "text/plain": [
       "                solar photo  solar therm      wind     hydro  tidal and wave  \\\n",
       "solar photo        1.000000     0.770742  0.708214  0.651853       -0.346187   \n",
       "solar therm        0.770742     1.000000  0.430283  0.256640       -0.332398   \n",
       "wind               0.708214     0.430283  1.000000  0.934295       -0.111408   \n",
       "hydro              0.651853     0.256640  0.934295  1.000000        0.008101   \n",
       "tidal and wave    -0.346187    -0.332398 -0.111408  0.008101        1.000000   \n",
       "carbon capture    -0.196159    -0.077810 -0.388760 -0.144509        0.197868   \n",
       "coal and gas       0.376685     0.145474  0.438371  0.394091       -0.480574   \n",
       "nuclear energy     0.296973     0.274169  0.043223 -0.075878       -0.471622   \n",
       "\n",
       "                carbon capture  coal and gas  nuclear energy  \n",
       "solar photo          -0.196159      0.376685        0.296973  \n",
       "solar therm          -0.077810      0.145474        0.274169  \n",
       "wind                 -0.388760      0.438371        0.043223  \n",
       "hydro                -0.144509      0.394091       -0.075878  \n",
       "tidal and wave        0.197868     -0.480574       -0.471622  \n",
       "carbon capture        1.000000     -0.197049       -0.193649  \n",
       "coal and gas         -0.197049      1.000000        0.644984  \n",
       "nuclear energy       -0.193649      0.644984        1.000000  "
      ]
     },
     "execution_count": 22,
     "metadata": {},
     "output_type": "execute_result"
    }
   ],
   "source": [
    "dfEnergyPatentGrowth.corr()"
   ]
  },
  {
   "cell_type": "code",
   "execution_count": 28,
   "metadata": {
    "collapsed": true
   },
   "outputs": [],
   "source": [
    "years=list(range(2010,2017))"
   ]
  },
  {
   "cell_type": "code",
   "execution_count": 21,
   "metadata": {},
   "outputs": [],
   "source": [
    "dfPatentSolarPhoto = build_dataframe(years,keywords_solar_power,list_ipc_solar_p)\n",
    "dfPatentSolarThermo = build_dataframe(years,keywords_solar_thermal,list_ipc_solar_t)                                   \n",
    "dfPatentWind = build_dataframe(years,keywords_wind,list_ipc_wind)  \n",
    "dfPatentHydro = build_dataframe(years,keywords_hydro,list_ipc_hydro)  \n",
    "dfPatentWaveTidal = build_dataframe(years,keywords_wave_and_tidal,list_ipc_wave_and_tidal)  \n",
    "dfPatentCarbonStorage = build_dataframe(years,keywords_carbon_capture_and_storage,list_ipc_carbon_capture_and_storage)  "
   ]
  },
  {
   "cell_type": "code",
   "execution_count": 22,
   "metadata": {
    "collapsed": true
   },
   "outputs": [],
   "source": [
    "dfPatentRenewable=pd.concat([dfPatentSolarPhoto,dfPatentSolarThermo,dfPatentWind,\n",
    "                   dfPatentHydro,dfPatentWaveTidal,dfPatentCarbonStorage], ignore_index=True)"
   ]
  },
  {
   "cell_type": "code",
   "execution_count": 23,
   "metadata": {
    "collapsed": true
   },
   "outputs": [],
   "source": [
    "# save individual dataframes\n",
    "savedfexcel(dfPatentSolarPhoto, 'patent_solar_photo')\n",
    "savedfexcel(dfPatentSolarThermo, 'patent_solar_thermo')\n",
    "savedfexcel(dfPatentWind, 'patent_wind')\n",
    "savedfexcel(dfPatentHydro, 'patent_hydro')\n",
    "savedfexcel(dfPatentWaveTidal, 'patent_wave_tidal')\n",
    "savedfexcel(dfPatentCarbonStorage, 'patent_carbon_storage')\n",
    "\n",
    "# save the merged dataframe\n",
    "savedfexcel(dfPatentRenewable,'patent_renewable')"
   ]
  },
  {
   "cell_type": "code",
   "execution_count": 23,
   "metadata": {},
   "outputs": [],
   "source": [
    "# read\n",
    "#dfNbPatent=pd.read_excel('evolution_nb_patents.xlsx')\n",
    "dfPatentSolarPhoto = pd.read_excel('patent_solar_photo.xlsx')\n",
    "dfPatentSolarThermo = pd.read_excel('patent_solar_thermo.xlsx')\n",
    "dfPatentWind = pd.read_excel('patent_wind.xlsx')\n",
    "dfPatentHydro = pd.read_excel('patent_hydro.xlsx')\n",
    "dfPatentWaveTidal = pd.read_excel('patent_wave_tidal.xlsx')\n",
    "dfPatentCarbonStorage = pd.read_excel('patent_carbon_storage.xlsx')\n",
    "dfPatentRenewable = pd.read_excel('patent_renewable.xlsx')"
   ]
  },
  {
   "cell_type": "code",
   "execution_count": 29,
   "metadata": {},
   "outputs": [],
   "source": [
    "# max_n is the maximum number of patents holder, which is the US\n",
    "dfPatentRenewableMap = df_get_nb_by_group_and_clean(dfPatentRenewable,'inventor_country', years, True)\n",
    "max_n = dfPatentRenewableMap['total'].max()\n",
    "#Here, we set up a Colormap using the logarithmic scale as shades of Blue colors that will be used to color the map\n",
    "colormap = cm.linear.PuBu.scale(0, round(math.log(max_n))).to_step(100)\n",
    "#Take the log of the number of granted patents to match the logarithmic scale\n",
    "log_nb = list(map(lambda x: math.log(x) if (x > 0) else 0 , dfPatentRenewableMap['total']))\n",
    "#In the below DataFrame, each country has now its 'logarithmic color code'\n",
    "dfPatentRenewableMap['log_color_code'] = log_nb\n",
    "#We need also to convert the table into a dictionnary, in order to map a feature to its number of patents.\n",
    "patents_dict = dfPatentRenewableMap['log_color_code']\n",
    "#Here we map each country to a color according to the \"logarithmic\" number of patents\n",
    "color_dict = {key: colormap(patents_dict[key]) for key in patents_dict.keys()}"
   ]
  },
  {
   "cell_type": "code",
   "execution_count": 30,
   "metadata": {},
   "outputs": [],
   "source": [
    "df_map=df_get_nb_by_group_and_clean(dfPatentRenewable,'inventor_country', years,True).reset_index().copy()\n",
    "m = folium.Map(location= [46.484, 8.1336],tiles='cartodbpositron',zoom_start=2)  \n",
    "\n",
    "#Load the world map\n",
    "countries_geo_path = './data/custom.geo.json'\n",
    "geo_json_data = json.load(open(countries_geo_path))\n",
    "\n",
    "#Apply the colors using our defined function ret_color, desribed above\n",
    "folium.GeoJson(geo_json_data,\n",
    "               style_function=lambda feature: {\n",
    "              'fillColor': ret_color(feature, color_dict),\n",
    "              'weight': .5,\n",
    "              'fillOpacity': 0.8\n",
    "               }).add_to(m)\n",
    "\n",
    "#Setting up the scale \n",
    "colormap = cm.linear.PuBu.scale(0, max_n).to_step(50)\n",
    "colormap.caption = 'Number of patents'\n",
    "m.add_child(colormap)\n",
    "\n",
    "m.save('patentsrenewable.html')"
   ]
  },
  {
   "cell_type": "code",
   "execution_count": 34,
   "metadata": {
    "collapsed": true
   },
   "outputs": [],
   "source": [
    "def plt_interactive_by_country(sector):\n",
    "    if sector == 'solar photo':\n",
    "        df=df_get_nb_by_group_and_clean(dfPatentSolarPhoto,'inventor_country', years, False).head(10)\n",
    "    if sector == 'solar termal':\n",
    "        df=df_get_nb_by_group_and_clean(dfPatentSolarThermo,'inventor_country', years, False).head(10)\n",
    "    if sector == 'wind':\n",
    "        df=df_get_nb_by_group_and_clean(dfPatentWind,'inventor_country', years, False).head(10)\n",
    "    if sector == 'hydro':\n",
    "        df=df_get_nb_by_group_and_clean(dfPatentHydro,'inventor_country',years, False).head(10)\n",
    "    if sector == 'tidal and wave':\n",
    "        df=df_get_nb_by_group_and_clean(dfPatentWaveTidal,'inventor_country',years, False).head(10)\n",
    "    if sector == 'carbon capture':\n",
    "        df=df_get_nb_by_group_and_clean(dfPatentCarbonStorage,'inventor_country',years, False).head(10)\n",
    "    if sector == 'renewable':\n",
    "        df=df_get_nb_by_group_and_clean(dfPatentRenewable,'inventor_country', years, False).head(10)       \n",
    "    df.plot.barh(stacked=True, fontsize=20, figsize=(20,13), rot=0)\n",
    "    plt.show()"
   ]
  },
  {
   "cell_type": "code",
   "execution_count": 35,
   "metadata": {},
   "outputs": [
    {
     "data": {
      "application/vnd.jupyter.widget-view+json": {
       "model_id": "c5395afee33249f08d1c419ba782b3cd"
      }
     },
     "metadata": {},
     "output_type": "display_data"
    },
    {
     "data": {
      "text/plain": [
       "<function __main__.plt_interactive_by_country>"
      ]
     },
     "execution_count": 35,
     "metadata": {},
     "output_type": "execute_result"
    }
   ],
   "source": [
    "from ipywidgets import interact, interactive, fixed, interact_manual\n",
    "\n",
    "interact(plt_interactive_by_country, sector=['solar photo','solar termal','wind','hydro','tidal and wave',\n",
    "                                        'carbon capture','renewable'])"
   ]
  },
  {
   "cell_type": "code",
   "execution_count": 37,
   "metadata": {
    "collapsed": true
   },
   "outputs": [],
   "source": [
    "def plt_interactive_by_company(sector):\n",
    "    if sector == 'solar photo':\n",
    "        df=df_get_nb_by_group_and_clean(dfPatentSolarPhoto,'assignee_organization', years, False).head(10)\n",
    "    if sector == 'solar termal':\n",
    "        df=df_get_nb_by_group_and_clean(dfPatentSolarThermo,'assignee_organization', years, False).head(10)\n",
    "    if sector == 'wind':\n",
    "        df=df_get_nb_by_group_and_clean(dfPatentWind,'assignee_organization', years, False).head(10)\n",
    "    if sector == 'hydro':\n",
    "        df=df_get_nb_by_group_and_clean(dfPatentHydro,'assignee_organization',years, False).head(10)\n",
    "    if sector == 'tidal and wave':\n",
    "        df=df_get_nb_by_group_and_clean(dfPatentWaveTidal,'assignee_organization', years, False).head(10)\n",
    "    if sector == 'carbon capture':\n",
    "        df=df_get_nb_by_group_and_clean(dfPatentCarbonStorage,'assignee_organization', years, False).head(10)\n",
    "    if sector == 'renewable':\n",
    "        df=df_get_nb_by_group_and_clean(dfPatentRenewable,'assignee_organization', years, False).head(10)       \n",
    "    df.plot.barh(stacked=True, fontsize=20, figsize=(20,13), rot=0)\n",
    "    plt.show()"
   ]
  },
  {
   "cell_type": "code",
   "execution_count": 38,
   "metadata": {},
   "outputs": [
    {
     "data": {
      "application/vnd.jupyter.widget-view+json": {
       "model_id": "60de81616dee4cd58802f90557c97865"
      }
     },
     "metadata": {},
     "output_type": "display_data"
    },
    {
     "data": {
      "text/plain": [
       "<function __main__.plt_interactive_by_company>"
      ]
     },
     "execution_count": 38,
     "metadata": {},
     "output_type": "execute_result"
    }
   ],
   "source": [
    "interact(plt_interactive_by_company, sector=['solar photo','solar termal','wind','hydro','tidal and wave',\n",
    "                                        'carbon capture','renewable'])"
   ]
  }
 ],
 "metadata": {
  "kernelspec": {
   "display_name": "Python [default]",
   "language": "python",
   "name": "python3"
  },
  "language_info": {
   "codemirror_mode": {
    "name": "ipython",
    "version": 3
   },
   "file_extension": ".py",
   "mimetype": "text/x-python",
   "name": "python",
   "nbconvert_exporter": "python",
   "pygments_lexer": "ipython3",
   "version": "3.6.1"
  }
 },
 "nbformat": 4,
 "nbformat_minor": 2
}
