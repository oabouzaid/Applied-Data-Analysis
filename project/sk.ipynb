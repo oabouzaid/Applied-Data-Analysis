{
 "cells": [
  {
   "cell_type": "code",
   "execution_count": 10,
   "metadata": {},
   "outputs": [],
   "source": [
    "import implementations_sk\n",
    "import numpy as np\n",
    "import pickle\n",
    "import pandas as pd \n",
    "import matplotlib.pyplot as plt\n",
    "%matplotlib inline"
   ]
  },
  {
   "cell_type": "code",
   "execution_count": 11,
   "metadata": {},
   "outputs": [],
   "source": [
    "from __future__ import print_function\n",
    "from ipywidgets import interact, interactive, fixed, interact_manual\n",
    "import ipywidgets as widgets"
   ]
  },
  {
   "cell_type": "code",
   "execution_count": 12,
   "metadata": {},
   "outputs": [],
   "source": [
    "from importlib import reload\n",
    "reload(implementations_sk)\n",
    "from implementations_sk import *"
   ]
  },
  {
   "cell_type": "markdown",
   "metadata": {},
   "source": [
    "**Questions to Answer**\n",
    "\n",
    "**1.** Which are the most cited patents (by other US patents), within the field of AI?\n",
    "\n",
    "**2.** How much AI related patents granted through years and what its the percentage? \n",
    "\n",
    "**3.** We know that from common knowledge AI related researches increased and decreased agin in past decades, can we observe this situation by analysing the number of patents through years (in 1900s)? We also know that AI is one of the most popular area of research nowadays, will these popularity will also fade away like it has on the past or this time the characteristic of the popularity trend is different? \n",
    "\n",
    "**4.** Which countries have the most patents related to artificial intelligence? \n",
    "\n",
    "**5.** Who are the most prolific inventors?\n",
    "\n",
    "**6.** Which companies are holding most AI patents? Is there a relationship between number of AI patents hold and the rank (according to Forbes top 500) of a company (meaning that smartest companies are also the the biggest ones)? \n",
    "\n",
    "**7.** Considering that Putin recently said “the nation that leads in AI will be the ruler of the world”. What is the relationship between number AI related patents and the rank of countries’ defense industry?"
   ]
  },
  {
   "cell_type": "markdown",
   "metadata": {},
   "source": [
    "First, we gathered all the patents related to AI."
   ]
  },
  {
   "cell_type": "markdown",
   "metadata": {},
   "source": [
    "Keywords related to Artificla Intelligence has been gathered from different sources into \"ai_keywords.txt\"."
   ]
  },
  {
   "cell_type": "code",
   "execution_count": 13,
   "metadata": {},
   "outputs": [],
   "source": [
    "keywords = set()\n",
    "\n",
    "f = open(\"data/ai_keywords.txt\")\n",
    "for line in f.readlines():\n",
    "    keywords.add(line.strip('\\n'))"
   ]
  },
  {
   "cell_type": "markdown",
   "metadata": {},
   "source": [
    "Initialize two dictionaries, one for counting the total number of patent granted and one for keeping track of AI related patents."
   ]
  },
  {
   "cell_type": "code",
   "execution_count": 14,
   "metadata": {},
   "outputs": [],
   "source": [
    "num_patents_by_year = dict()\n",
    "ai_patents_by_year = dict()\n",
    "for i in range(2018-1976):\n",
    "    num_patents_by_year[str(1976+i)] = int()\n",
    "    ai_patents_by_year[str(1976+i)] = pd.DataFrame()\n",
    "    \n",
    "months = [\"01\", \"02\", \"03\", \"04\", \"05\", \"06\", \"07\", \"08\", \"09\", \"10\", \"11\", \"12\",]"
   ]
  },
  {
   "cell_type": "markdown",
   "metadata": {},
   "source": [
    "We iterate through years and months to get total number of patents."
   ]
  },
  {
   "cell_type": "raw",
   "metadata": {},
   "source": [
    "for year in num_patents_by_year:\n",
    "    num_patents = 0\n",
    "    for month in months:\n",
    "        try:\n",
    "            num_patents += get_num_patents(year,month)\n",
    "        except Exception as error:\n",
    "            print(\"An error occured on %s-%s. | %s\"%(year,month,error))\n",
    "    num_patents_by_year[year] = num_patents\n",
    "\n",
    "pickle_out = open(\"data/num_patents_by_year.pickle\",\"wb\")\n",
    "pickle.dump(num_patents_by_year, pickle_out)\n",
    "pickle_out.close()"
   ]
  },
  {
   "cell_type": "code",
   "execution_count": 15,
   "metadata": {},
   "outputs": [],
   "source": [
    "pickle_in = open(\"data/num_patents_by_year.pickle\",\"rb\")\n",
    "num_patents_by_year = pickle.load(pickle_in)"
   ]
  },
  {
   "cell_type": "markdown",
   "metadata": {},
   "source": [
    "IPC code \"G06\" corresponds to \"Computing; Calculating; Counting\". More information related to IPC can be found [here](http://www.wipo.int/classifications/ipc/en/)."
   ]
  },
  {
   "cell_type": "code",
   "execution_count": 16,
   "metadata": {},
   "outputs": [],
   "source": [
    "ipc_list = [(\"G\", \"06\", \"-\")]"
   ]
  },
  {
   "cell_type": "markdown",
   "metadata": {},
   "source": [
    "We iterate through years and months to get total number of patents related to AI."
   ]
  },
  {
   "cell_type": "raw",
   "metadata": {},
   "source": [
    "for year in ai_patents_by_year:\n",
    "    ai_patents = pd.DataFrame()\n",
    "    for month in months:\n",
    "        try:\n",
    "            ai_patents_current = get_patents_by_keywords(keywords,ipc_list,year,month)\n",
    "            ai_patents = pd.concat([ai_patents, ai_patents_current],ignore_index=True)\n",
    "        except Exception as error:\n",
    "            print(\"An error occured on %s-%s.\"%(year,month))\n",
    "    ai_patents_by_year[year] = ai_patents\n",
    "\n",
    "pickle_out = open(\"data/ai_patents_by_year.pickle\",\"wb\")\n",
    "pickle.dump(ai_patents_by_year, pickle_out)\n",
    "pickle_out.close()"
   ]
  },
  {
   "cell_type": "code",
   "execution_count": 17,
   "metadata": {},
   "outputs": [],
   "source": [
    "pickle_in = open(\"data/ai_patents_by_year.pickle\",\"rb\")\n",
    "ai_patents_by_year = pickle.load(pickle_in)"
   ]
  },
  {
   "cell_type": "markdown",
   "metadata": {},
   "source": [
    "It seem that for 2015, something went wrong and no patent has been granted under IPC category \"G06\". (We checked and the error were not caused by our code.) Note that error caused by the PatensView itself."
   ]
  },
  {
   "cell_type": "markdown",
   "metadata": {},
   "source": [
    "We wanted to start with a basic question."
   ]
  },
  {
   "cell_type": "markdown",
   "metadata": {},
   "source": [
    "**1.** Which are the most cited patents (by other US patents) within the field of AI?"
   ]
  },
  {
   "cell_type": "markdown",
   "metadata": {},
   "source": [
    "To answer this questions, we first, gathered all the patents in a single DataFrame."
   ]
  },
  {
   "cell_type": "code",
   "execution_count": 18,
   "metadata": {},
   "outputs": [],
   "source": [
    "all_ai_patents = pd.DataFrame()\n",
    "for year in ai_patents_by_year:\n",
    "    all_ai_patents = pd.concat([all_ai_patents, ai_patents_by_year[year]], ignore_index=True)"
   ]
  },
  {
   "cell_type": "markdown",
   "metadata": {},
   "source": [
    "We organized the DataFrame to be able to see country, organiaztion, inventors and date more clearly."
   ]
  },
  {
   "cell_type": "markdown",
   "metadata": {},
   "source": [
    "Since different inventors could carry the same name, we are going to use their unique IDs to differentiate them."
   ]
  },
  {
   "cell_type": "code",
   "execution_count": 19,
   "metadata": {},
   "outputs": [],
   "source": [
    "inventor_id_name = dict()\n",
    "for row in all_ai_patents[\"inventors\"]:\n",
    "    inventor_id = row[0][\"inventor_id\"]\n",
    "    inventor_name = str(row[0][\"inventor_first_name\"]) + \" \" + str(row[0][\"inventor_last_name\"])\n",
    "    inventor_id_name[inventor_id] = inventor_name"
   ]
  },
  {
   "cell_type": "code",
   "execution_count": 20,
   "metadata": {},
   "outputs": [],
   "source": [
    "all_ai_patents = all_ai_patents.rename(columns={'patent_num_cited_by_us_patents': 'cited_by_count',}) \n",
    "\n",
    "all_ai_patents[\"country\"] = all_ai_patents[\"assignees\"].apply(lambda row: row[0][\"assignee_country\"])\n",
    "all_ai_patents[\"organization\"] = all_ai_patents[\"assignees\"].apply(lambda row: row[0][\"assignee_organization\"])\n",
    "all_ai_patents[\"inventor_id\"] = all_ai_patents[\"inventors\"].apply(lambda row: row[0][\"inventor_id\"])\n",
    "all_ai_patents[\"inventor_name\"] = all_ai_patents[\"inventor_id\"].apply(lambda row: inventor_id_name[row])\n",
    "all_ai_patents[\"year\"] = all_ai_patents[\"patent_date\"].apply(lambda row: int(row.split(\"-\")[0]))\n",
    "all_ai_patents[\"month\"] = all_ai_patents[\"patent_date\"].apply(lambda row: int(row.split(\"-\")[1]))\n",
    "\n",
    "all_ai_patents[\"cited_by_count\"] = all_ai_patents[\"cited_by_count\"].astype(\"int64\")\n",
    "\n",
    "all_ai_patents.index = all_ai_patents.patent_number\n",
    "all_ai_patents = all_ai_patents.drop(columns=['assignees', 'inventors', 'patent_date', 'patent_number'])"
   ]
  },
  {
   "cell_type": "code",
   "execution_count": 21,
   "metadata": {},
   "outputs": [
    {
     "data": {
      "text/html": [
       "<div>\n",
       "<style scoped>\n",
       "    .dataframe tbody tr th:only-of-type {\n",
       "        vertical-align: middle;\n",
       "    }\n",
       "\n",
       "    .dataframe tbody tr th {\n",
       "        vertical-align: top;\n",
       "    }\n",
       "\n",
       "    .dataframe thead th {\n",
       "        text-align: right;\n",
       "    }\n",
       "</style>\n",
       "<table border=\"1\" class=\"dataframe\">\n",
       "  <thead>\n",
       "    <tr style=\"text-align: right;\">\n",
       "      <th></th>\n",
       "      <th>patent_title</th>\n",
       "      <th>cited_by_count</th>\n",
       "      <th>country</th>\n",
       "      <th>organization</th>\n",
       "      <th>inventor_id</th>\n",
       "      <th>inventor_name</th>\n",
       "      <th>year</th>\n",
       "      <th>month</th>\n",
       "    </tr>\n",
       "    <tr>\n",
       "      <th>patent_number</th>\n",
       "      <th></th>\n",
       "      <th></th>\n",
       "      <th></th>\n",
       "      <th></th>\n",
       "      <th></th>\n",
       "      <th></th>\n",
       "      <th></th>\n",
       "      <th></th>\n",
       "    </tr>\n",
       "  </thead>\n",
       "  <tbody>\n",
       "    <tr>\n",
       "      <th>3935562</th>\n",
       "      <td>Pattern recognition method and apparatus</td>\n",
       "      <td>14</td>\n",
       "      <td>None</td>\n",
       "      <td>None</td>\n",
       "      <td>3932839-1</td>\n",
       "      <td>Richard G. Stephens</td>\n",
       "      <td>1976</td>\n",
       "      <td>1</td>\n",
       "    </tr>\n",
       "    <tr>\n",
       "      <th>3936800</th>\n",
       "      <td>Pattern recognition system</td>\n",
       "      <td>95</td>\n",
       "      <td>None</td>\n",
       "      <td>None</td>\n",
       "      <td>3936800-1</td>\n",
       "      <td>Masakazu Ejiri</td>\n",
       "      <td>1976</td>\n",
       "      <td>2</td>\n",
       "    </tr>\n",
       "    <tr>\n",
       "      <th>3938089</th>\n",
       "      <td>Double read system for character recognition s...</td>\n",
       "      <td>15</td>\n",
       "      <td>US</td>\n",
       "      <td>Burroughs Corporation</td>\n",
       "      <td>3938089-1</td>\n",
       "      <td>Arvin D. McGregor</td>\n",
       "      <td>1976</td>\n",
       "      <td>2</td>\n",
       "    </tr>\n",
       "    <tr>\n",
       "      <th>3942153</th>\n",
       "      <td>Document transport and scanning system for opt...</td>\n",
       "      <td>3</td>\n",
       "      <td>US</td>\n",
       "      <td>Recognition Equipment Incorporated</td>\n",
       "      <td>3942153-1</td>\n",
       "      <td>Jack E. Balko</td>\n",
       "      <td>1976</td>\n",
       "      <td>3</td>\n",
       "    </tr>\n",
       "    <tr>\n",
       "      <th>3942169</th>\n",
       "      <td>Pattern recognition system</td>\n",
       "      <td>10</td>\n",
       "      <td>None</td>\n",
       "      <td>None</td>\n",
       "      <td>3942169-1</td>\n",
       "      <td>Yoshiji Fujimoto</td>\n",
       "      <td>1976</td>\n",
       "      <td>3</td>\n",
       "    </tr>\n",
       "  </tbody>\n",
       "</table>\n",
       "</div>"
      ],
      "text/plain": [
       "                                                    patent_title  \\\n",
       "patent_number                                                      \n",
       "3935562                 Pattern recognition method and apparatus   \n",
       "3936800                               Pattern recognition system   \n",
       "3938089        Double read system for character recognition s...   \n",
       "3942153        Document transport and scanning system for opt...   \n",
       "3942169                               Pattern recognition system   \n",
       "\n",
       "               cited_by_count country                        organization  \\\n",
       "patent_number                                                               \n",
       "3935562                    14    None                                None   \n",
       "3936800                    95    None                                None   \n",
       "3938089                    15      US               Burroughs Corporation   \n",
       "3942153                     3      US  Recognition Equipment Incorporated   \n",
       "3942169                    10    None                                None   \n",
       "\n",
       "              inventor_id        inventor_name  year  month  \n",
       "patent_number                                                \n",
       "3935562         3932839-1  Richard G. Stephens  1976      1  \n",
       "3936800         3936800-1       Masakazu Ejiri  1976      2  \n",
       "3938089         3938089-1    Arvin D. McGregor  1976      2  \n",
       "3942153         3942153-1        Jack E. Balko  1976      3  \n",
       "3942169         3942169-1     Yoshiji Fujimoto  1976      3  "
      ]
     },
     "execution_count": 21,
     "metadata": {},
     "output_type": "execute_result"
    }
   ],
   "source": [
    "all_ai_patents.head(5)"
   ]
  },
  {
   "cell_type": "markdown",
   "metadata": {},
   "source": [
    "In our initial analysis we observe that, the patent dataset has a field for number of times that a particular patent cited by other patents however, further anaylsis showed that this field based only on US patentes. More clearly, here is the description of this field: \"Number of times the patent was cited by other US patents\". Consequently, we don't have information about citations from other countries and therefore, decided to restrict the question into citation made only by US patents.\n",
    "\n",
    "Note that actual patents are not only from US, just the number of citation that a particular patent have is calculated only by citation of other US patents."
   ]
  },
  {
   "cell_type": "code",
   "execution_count": 22,
   "metadata": {},
   "outputs": [
    {
     "data": {
      "text/html": [
       "<div>\n",
       "<style scoped>\n",
       "    .dataframe tbody tr th:only-of-type {\n",
       "        vertical-align: middle;\n",
       "    }\n",
       "\n",
       "    .dataframe tbody tr th {\n",
       "        vertical-align: top;\n",
       "    }\n",
       "\n",
       "    .dataframe thead th {\n",
       "        text-align: right;\n",
       "    }\n",
       "</style>\n",
       "<table border=\"1\" class=\"dataframe\">\n",
       "  <thead>\n",
       "    <tr style=\"text-align: right;\">\n",
       "      <th></th>\n",
       "      <th>patent_title</th>\n",
       "      <th>cited_by_count</th>\n",
       "      <th>year</th>\n",
       "      <th>organization</th>\n",
       "      <th>inventor_name</th>\n",
       "      <th>country</th>\n",
       "    </tr>\n",
       "    <tr>\n",
       "      <th>patent_number</th>\n",
       "      <th></th>\n",
       "      <th></th>\n",
       "      <th></th>\n",
       "      <th></th>\n",
       "      <th></th>\n",
       "      <th></th>\n",
       "    </tr>\n",
       "  </thead>\n",
       "  <tbody>\n",
       "    <tr>\n",
       "      <th>5875108</th>\n",
       "      <td>Ergonomic man-machine interface incorporating adaptive pattern recognition based control system</td>\n",
       "      <td>849</td>\n",
       "      <td>1999</td>\n",
       "      <td>None</td>\n",
       "      <td>Steven M. Hoffberg</td>\n",
       "      <td>None</td>\n",
       "    </tr>\n",
       "    <tr>\n",
       "      <th>5867799</th>\n",
       "      <td>Information system and method for filtering a massive flow of information entities to meet user information classification needs</td>\n",
       "      <td>736</td>\n",
       "      <td>1999</td>\n",
       "      <td>None</td>\n",
       "      <td>Andrew K. Lang</td>\n",
       "      <td>None</td>\n",
       "    </tr>\n",
       "    <tr>\n",
       "      <th>5933822</th>\n",
       "      <td>Apparatus and methods for an information retrieval system that employs natural language processing of search results to improve overall precision</td>\n",
       "      <td>599</td>\n",
       "      <td>1999</td>\n",
       "      <td>Microsoft Corporation</td>\n",
       "      <td>Lisa C. Braden-Harder</td>\n",
       "      <td>US</td>\n",
       "    </tr>\n",
       "    <tr>\n",
       "      <th>6055573</th>\n",
       "      <td>Communicating with a computer based on an updated purchase behavior classification of a particular consumer</td>\n",
       "      <td>598</td>\n",
       "      <td>2000</td>\n",
       "      <td>SuperMarkets Online, Inc.</td>\n",
       "      <td>Will H. Gardenswartz</td>\n",
       "      <td>US</td>\n",
       "    </tr>\n",
       "    <tr>\n",
       "      <th>5974396</th>\n",
       "      <td>Method and system for gathering and analyzing consumer purchasing information based on product and consumer clustering relationships</td>\n",
       "      <td>597</td>\n",
       "      <td>1999</td>\n",
       "      <td>Moore Business Forms, Inc.</td>\n",
       "      <td>Michael W. Anderson</td>\n",
       "      <td>US</td>\n",
       "    </tr>\n",
       "    <tr>\n",
       "      <th>6157955</th>\n",
       "      <td>Packet processing system including a policy engine having a classification unit</td>\n",
       "      <td>542</td>\n",
       "      <td>2000</td>\n",
       "      <td>Intel Corporation</td>\n",
       "      <td>Pradip Shankar</td>\n",
       "      <td>US</td>\n",
       "    </tr>\n",
       "    <tr>\n",
       "      <th>6363160</th>\n",
       "      <td>Interface using pattern recognition and tracking</td>\n",
       "      <td>456</td>\n",
       "      <td>2002</td>\n",
       "      <td>Intel Corporation</td>\n",
       "      <td>Boon-Lock Yeo</td>\n",
       "      <td>US</td>\n",
       "    </tr>\n",
       "    <tr>\n",
       "      <th>4843562</th>\n",
       "      <td>Broadcast information classification system and method</td>\n",
       "      <td>442</td>\n",
       "      <td>1989</td>\n",
       "      <td>Broadcast Data Systems Limited Partnership</td>\n",
       "      <td>Stephen C. Kenyon</td>\n",
       "      <td>US</td>\n",
       "    </tr>\n",
       "    <tr>\n",
       "      <th>6330546</th>\n",
       "      <td>Risk determination and management using predictive modeling and transaction profiles for individual transacting entities</td>\n",
       "      <td>430</td>\n",
       "      <td>2001</td>\n",
       "      <td>HNC Software, Inc.</td>\n",
       "      <td>Allen P. Jost</td>\n",
       "      <td>US</td>\n",
       "    </tr>\n",
       "    <tr>\n",
       "      <th>6233575</th>\n",
       "      <td>Multilevel taxonomy based on features derived from training documents classification using fisher values as discrimination values</td>\n",
       "      <td>398</td>\n",
       "      <td>2001</td>\n",
       "      <td>International Business Machines Corporation</td>\n",
       "      <td>Byron Edward Dom</td>\n",
       "      <td>US</td>\n",
       "    </tr>\n",
       "    <tr>\n",
       "      <th>6430539</th>\n",
       "      <td>Predictive modeling of consumer financial behavior</td>\n",
       "      <td>392</td>\n",
       "      <td>2002</td>\n",
       "      <td>HNC Software, Inc.</td>\n",
       "      <td>Ted E. Dunning</td>\n",
       "      <td>US</td>\n",
       "    </tr>\n",
       "    <tr>\n",
       "      <th>5357427</th>\n",
       "      <td>Remote monitoring of high-risk patients using artificial intelligence</td>\n",
       "      <td>388</td>\n",
       "      <td>1994</td>\n",
       "      <td>Digital Equipment Corporation</td>\n",
       "      <td>Gayle C. Dempsey</td>\n",
       "      <td>US</td>\n",
       "    </tr>\n",
       "    <tr>\n",
       "      <th>5920477</th>\n",
       "      <td>Human factored interface incorporating adaptive pattern recognition based controller apparatus</td>\n",
       "      <td>376</td>\n",
       "      <td>1999</td>\n",
       "      <td>None</td>\n",
       "      <td>Steven M. Hoffberg</td>\n",
       "      <td>None</td>\n",
       "    </tr>\n",
       "    <tr>\n",
       "      <th>6418424</th>\n",
       "      <td>Ergonomic man-machine interface incorporating adaptive pattern recognition based control system</td>\n",
       "      <td>353</td>\n",
       "      <td>2002</td>\n",
       "      <td>None</td>\n",
       "      <td>Steven M. Hoffberg</td>\n",
       "      <td>None</td>\n",
       "    </tr>\n",
       "    <tr>\n",
       "      <th>5873056</th>\n",
       "      <td>Natural language processing system for semantic vector representation which accounts for lexical ambiguity</td>\n",
       "      <td>344</td>\n",
       "      <td>1999</td>\n",
       "      <td>Syracuse University</td>\n",
       "      <td>Elizabeth D. Liddy</td>\n",
       "      <td>US</td>\n",
       "    </tr>\n",
       "    <tr>\n",
       "      <th>5901246</th>\n",
       "      <td>Ergonomic man-machine interface incorporating adaptive pattern recognition based control system</td>\n",
       "      <td>338</td>\n",
       "      <td>1999</td>\n",
       "      <td>None</td>\n",
       "      <td>Steven M. Hoffberg</td>\n",
       "      <td>None</td>\n",
       "    </tr>\n",
       "    <tr>\n",
       "      <th>5819226</th>\n",
       "      <td>Fraud detection using predictive modeling</td>\n",
       "      <td>334</td>\n",
       "      <td>1998</td>\n",
       "      <td>HNC Software, Inc.</td>\n",
       "      <td>Allen P. Jost</td>\n",
       "      <td>US</td>\n",
       "    </tr>\n",
       "    <tr>\n",
       "      <th>6122628</th>\n",
       "      <td>Multidimensional data clustering and dimension reduction for indexing and searching</td>\n",
       "      <td>334</td>\n",
       "      <td>2000</td>\n",
       "      <td>International Business Machines Corporation</td>\n",
       "      <td>Vittorio R. Castelli</td>\n",
       "      <td>US</td>\n",
       "    </tr>\n",
       "    <tr>\n",
       "      <th>8035624</th>\n",
       "      <td>Computer vision based touch screen</td>\n",
       "      <td>331</td>\n",
       "      <td>2011</td>\n",
       "      <td>Intellectual Ventures I LLC</td>\n",
       "      <td>Philip L. Gleckman</td>\n",
       "      <td>US</td>\n",
       "    </tr>\n",
       "    <tr>\n",
       "      <th>5227985</th>\n",
       "      <td>Computer vision system for position monitoring in three dimensions using non-coplanar light sources attached to a monitored object</td>\n",
       "      <td>321</td>\n",
       "      <td>1993</td>\n",
       "      <td>The University of Maryland</td>\n",
       "      <td>Daniel F. DeMenthon</td>\n",
       "      <td>US</td>\n",
       "    </tr>\n",
       "  </tbody>\n",
       "</table>\n",
       "</div>"
      ],
      "text/plain": [
       "                                                                                                                                                    patent_title  \\\n",
       "patent_number                                                                                                                                                      \n",
       "5875108        Ergonomic man-machine interface incorporating adaptive pattern recognition based control system                                                     \n",
       "5867799        Information system and method for filtering a massive flow of information entities to meet user information classification needs                    \n",
       "5933822        Apparatus and methods for an information retrieval system that employs natural language processing of search results to improve overall precision   \n",
       "6055573        Communicating with a computer based on an updated purchase behavior classification of a particular consumer                                         \n",
       "5974396        Method and system for gathering and analyzing consumer purchasing information based on product and consumer clustering relationships                \n",
       "6157955        Packet processing system including a policy engine having a classification unit                                                                     \n",
       "6363160        Interface using pattern recognition and tracking                                                                                                    \n",
       "4843562        Broadcast information classification system and method                                                                                              \n",
       "6330546        Risk determination and management using predictive modeling and transaction profiles for individual transacting entities                            \n",
       "6233575        Multilevel taxonomy based on features derived from training documents classification using fisher values as discrimination values                   \n",
       "6430539        Predictive modeling of consumer financial behavior                                                                                                  \n",
       "5357427        Remote monitoring of high-risk patients using artificial intelligence                                                                               \n",
       "5920477        Human factored interface incorporating adaptive pattern recognition based controller apparatus                                                      \n",
       "6418424        Ergonomic man-machine interface incorporating adaptive pattern recognition based control system                                                     \n",
       "5873056        Natural language processing system for semantic vector representation which accounts for lexical ambiguity                                          \n",
       "5901246        Ergonomic man-machine interface incorporating adaptive pattern recognition based control system                                                     \n",
       "5819226        Fraud detection using predictive modeling                                                                                                           \n",
       "6122628        Multidimensional data clustering and dimension reduction for indexing and searching                                                                 \n",
       "8035624        Computer vision based touch screen                                                                                                                  \n",
       "5227985        Computer vision system for position monitoring in three dimensions using non-coplanar light sources attached to a monitored object                  \n",
       "\n",
       "               cited_by_count  year  \\\n",
       "patent_number                         \n",
       "5875108        849             1999   \n",
       "5867799        736             1999   \n",
       "5933822        599             1999   \n",
       "6055573        598             2000   \n",
       "5974396        597             1999   \n",
       "6157955        542             2000   \n",
       "6363160        456             2002   \n",
       "4843562        442             1989   \n",
       "6330546        430             2001   \n",
       "6233575        398             2001   \n",
       "6430539        392             2002   \n",
       "5357427        388             1994   \n",
       "5920477        376             1999   \n",
       "6418424        353             2002   \n",
       "5873056        344             1999   \n",
       "5901246        338             1999   \n",
       "5819226        334             1998   \n",
       "6122628        334             2000   \n",
       "8035624        331             2011   \n",
       "5227985        321             1993   \n",
       "\n",
       "                                              organization  \\\n",
       "patent_number                                                \n",
       "5875108        None                                          \n",
       "5867799        None                                          \n",
       "5933822        Microsoft Corporation                         \n",
       "6055573        SuperMarkets Online, Inc.                     \n",
       "5974396        Moore Business Forms, Inc.                    \n",
       "6157955        Intel Corporation                             \n",
       "6363160        Intel Corporation                             \n",
       "4843562        Broadcast Data Systems Limited Partnership    \n",
       "6330546        HNC Software, Inc.                            \n",
       "6233575        International Business Machines Corporation   \n",
       "6430539        HNC Software, Inc.                            \n",
       "5357427        Digital Equipment Corporation                 \n",
       "5920477        None                                          \n",
       "6418424        None                                          \n",
       "5873056        Syracuse University                           \n",
       "5901246        None                                          \n",
       "5819226        HNC Software, Inc.                            \n",
       "6122628        International Business Machines Corporation   \n",
       "8035624        Intellectual Ventures I LLC                   \n",
       "5227985        The University of Maryland                    \n",
       "\n",
       "                       inventor_name country  \n",
       "patent_number                                 \n",
       "5875108        Steven M. Hoffberg     None    \n",
       "5867799        Andrew K. Lang         None    \n",
       "5933822        Lisa C. Braden-Harder  US      \n",
       "6055573        Will H. Gardenswartz   US      \n",
       "5974396        Michael W. Anderson    US      \n",
       "6157955        Pradip Shankar         US      \n",
       "6363160        Boon-Lock Yeo          US      \n",
       "4843562        Stephen C. Kenyon      US      \n",
       "6330546        Allen P. Jost          US      \n",
       "6233575        Byron Edward Dom       US      \n",
       "6430539        Ted E. Dunning         US      \n",
       "5357427        Gayle C. Dempsey       US      \n",
       "5920477        Steven M. Hoffberg     None    \n",
       "6418424        Steven M. Hoffberg     None    \n",
       "5873056        Elizabeth D. Liddy     US      \n",
       "5901246        Steven M. Hoffberg     None    \n",
       "5819226        Allen P. Jost          US      \n",
       "6122628        Vittorio R. Castelli   US      \n",
       "8035624        Philip L. Gleckman     US      \n",
       "5227985        Daniel F. DeMenthon    US      "
      ]
     },
     "metadata": {},
     "output_type": "display_data"
    }
   ],
   "source": [
    "top_patents = all_ai_patents.sort_values(by='cited_by_count', ascending=False)\n",
    "top_patents = top_patents[[\"patent_title\",\"cited_by_count\", \"year\", \"organization\",\\\n",
    "                           \"inventor_name\", \"country\"]]\n",
    "\n",
    "\n",
    "with pd.option_context('display.max_colwidth', -1):\n",
    "    display(top_patents.head(20))"
   ]
  },
  {
   "cell_type": "markdown",
   "metadata": {},
   "source": [
    "Looking at the names of top cited patents, they potentially, have a lots of area of use. Take for example, *\"Predictive modeling of consumer financial behavior\"* patent, this technology is clearly, highly beneficial for any kind of company that interests in financial behaviour of its consumers (which is pretty much any company). Therefore, the use and popularity of this patent is quite expected as many other top-cited patens.\n",
    "\n",
    "It is expected that most cited patents should be granted much earlier and this is the case for most of the top-cited patents including top 3 (all granted in 1999) however we also observe that there are some patents that are relatively new (e.g. 2002, 2011). This might be an indication of that innovations in this area still continues and there are many researches and technologies that are based on these patents."
   ]
  },
  {
   "cell_type": "markdown",
   "metadata": {},
   "source": [
    "Apart from citations by US patents, we don't have information about number of citations that a patent get by other patents. This means that we don't have a global picture of patent citations and for this reason, we decided restrict this part of our study to only analyzing top cited patents (as we did above) and not further. Since our study is not country specific and analyzing top cited data we have (top cited patents by other US patents) would only be related to US, we though that it is not completely aligns with the purpose our study. "
   ]
  },
  {
   "cell_type": "markdown",
   "metadata": {},
   "source": [
    "Now, we move onto deeper analysis of AI related patents."
   ]
  },
  {
   "cell_type": "markdown",
   "metadata": {},
   "source": [
    "**2.** How much AI related patents granted through years? \n",
    "\n",
    "**3.** We know that from common knowledge AI related researches increased and decreased again in past decades, can we observe this situation by analysing the number of patents through years (in 1900s)? We also know that AI is one of the most popular area of research nowadays, will these popularity will also fade away like it has on the past or this time the characteristic of the popularity trend is different? "
   ]
  },
  {
   "cell_type": "markdown",
   "metadata": {},
   "source": [
    "First, we calculated the number of overall and AI patents granted on each year."
   ]
  },
  {
   "cell_type": "code",
   "execution_count": 23,
   "metadata": {},
   "outputs": [],
   "source": [
    "ai_num_patents_by_year_df = pd.DataFrame(columns=['year','number_of_ai_patents'])\n",
    "num_patents_by_year_df = pd.DataFrame(columns=['year','number_of_patents'])\n",
    "for year in ai_patents_by_year:\n",
    "    ai_num_patents_by_year_df = ai_num_patents_by_year_df\\\n",
    "        .append({'year': year,'number_of_ai_patents': len(ai_patents_by_year[year])}, ignore_index=True)\n",
    "    num_patents_by_year_df = num_patents_by_year_df\\\n",
    "        .append({'year': year,'number_of_patents': num_patents_by_year[year]}, ignore_index=True)"
   ]
  },
  {
   "cell_type": "markdown",
   "metadata": {},
   "source": [
    "Since there were something wrong with the year 2005, we were not able to use data belongs to that year and, data for the year 2017 still is not complete. We decided to drop these two years from dataset in order to maintain the continuity of line graphs. We though that dropping them is right course of action both for representation and analysis of the data."
   ]
  },
  {
   "cell_type": "code",
   "execution_count": 24,
   "metadata": {},
   "outputs": [],
   "source": [
    "ai_num_patents_by_year_df = ai_num_patents_by_year_df[~ai_num_patents_by_year_df.year.isin([\"2005\",\"2017\"])]\n",
    "num_patents_by_year_df = num_patents_by_year_df[~num_patents_by_year_df.year.isin([\"2005\",\"2017\"])]"
   ]
  },
  {
   "cell_type": "code",
   "execution_count": 25,
   "metadata": {},
   "outputs": [
    {
     "data": {
      "text/plain": [
       "<matplotlib.axes._subplots.AxesSubplot at 0x108e94fd0>"
      ]
     },
     "execution_count": 25,
     "metadata": {},
     "output_type": "execute_result"
    },
    {
     "data": {
      "image/png": "[encoded data removed]",
      "text/plain": [
       "<matplotlib.figure.Figure at 0x10754a240>"
      ]
     },
     "metadata": {},
     "output_type": "display_data"
    }
   ],
   "source": [
    "ai_num_patents_by_year_df.plot(x=\"year\", y=\"number_of_ai_patents\", figsize=(17,5),)"
   ]
  },
  {
   "cell_type": "markdown",
   "metadata": {},
   "source": [
    "From this figure, it seems that there are two periods of time when number of AI patent rised which are 1986-1996 and 2006-2016. Other than these, the amount of patent seems pretty steady.  But since overall number of patents also rising over years, to be able to see the whole picture and make a more complete analysis, we also need to check the percentage of AI patents over all patents through years. "
   ]
  },
  {
   "cell_type": "code",
   "execution_count": 26,
   "metadata": {},
   "outputs": [],
   "source": [
    "merged_num_patent = pd.merge(ai_num_patents_by_year_df, num_patents_by_year_df, on=\"year\")\n",
    "\n",
    "merged_num_patent['ai_precentage'] =\\\n",
    "    merged_num_patent['number_of_ai_patents'] / merged_num_patent['number_of_patents'] * 100"
   ]
  },
  {
   "cell_type": "code",
   "execution_count": 27,
   "metadata": {},
   "outputs": [
    {
     "data": {
      "text/plain": [
       "<matplotlib.axes._subplots.AxesSubplot at 0x108eb4860>"
      ]
     },
     "execution_count": 27,
     "metadata": {},
     "output_type": "execute_result"
    },
    {
     "data": {
      "image/png": "[encoded data removed]",
      "text/plain": [
       "<matplotlib.figure.Figure at 0x108ed63c8>"
      ]
     },
     "metadata": {},
     "output_type": "display_data"
    }
   ],
   "source": [
    "merged_num_patent.plot(x=\"year\", y=\"ai_precentage\", figsize=(17,5),)"
   ]
  },
  {
   "cell_type": "markdown",
   "metadata": {},
   "source": [
    "There are couple of observations worth mentioning about these figures. **First** of all,  the graph starts with a decline from 1976. We already know that AI was popular field of research at 1960s (e.g. Artificial Neural Networks invented in this period.) and started to decline after that (mostly because of the lack of processing power and data). Although, we don't have data of 1960s, we can see that the graph starts with a steady line in 1976 then, rapid decline starting from 1977. It continues to decline for 3 years until it has the lowest value in 1980. The rate in 1977 is only reached again in 1989 which is 12 years lates.  So,we can derive that the line-graph's confirms our knowledge about the popularity of AI researches in 1960s. At this point, we though that it is also safe to think that percentage of AI patents is an indication the popularity of AI researches among others. **Another** interesting point is that percentage of AI patents rapidly rised from 1987 until 1994 then, stayed steady about 3 years and started to decline again. It continue to decline for 5 years, until 2002. Again, the rate of AI patents in 1997 is only reached after 10 years, around 2007. We can see that this trend is pretty similar to 1960s', it starts with a rapid increase, followed by a steady period then, a decrease for couple of years and in both situation, 13 years had to past before the rate come back to where it was. With the help of these trends, we can try to analyze the ***current situation***. We see that there is a dramatic increase on patent rates from 2002 to 2012 then, it stayed about the same rate with fluctuations. The characteristic that increasing rapidly and entering into steady phase is pretty similar to what we observed in last decades however it seems that the steady phase won't followed by a decline since the rates started to increase again in 2016. Although this might be an indication that popularity of AI related researches won't decline this time, like it did before, we still think that it is too early to infer that. The first two phases were similar to what has been observed in the past trends and it requires time (at least couple more years) to decide whether this time will be different or not.\n",
    "\n",
    "It is clear that the AI researches are dramatically increased over 40 years, it was around 30 per/year with 0.03 percentage overall patents and It is around 700 per/year with a percentage of 0.12 now.\n",
    "\n",
    "Further analysis related to characterictics of these trends (e.g. which types of companies involved, who are the invertors, which countries lead these trends etc.) will be examined later in this study."
   ]
  },
  {
   "cell_type": "markdown",
   "metadata": {},
   "source": [
    "**4.** Which countries have the most patents related to artificial intelligence? "
   ]
  },
  {
   "cell_type": "markdown",
   "metadata": {},
   "source": [
    "We create a dictionary to keep track of how mucn AI patents each country has through years."
   ]
  },
  {
   "cell_type": "code",
   "execution_count": 28,
   "metadata": {},
   "outputs": [],
   "source": [
    "ai_patent_by_country = dict()\n",
    "for country in all_ai_patents.country.unique():\n",
    "    ai_patent_by_country[country] = dict()\n",
    "    for i in range(2018-1976):\n",
    "        ai_patent_by_country[country][1976+i] = int()\n",
    "\n",
    "for country, year in zip(all_ai_patents[\"country\"], all_ai_patents[\"year\"]):\n",
    "    ai_patent_by_country[country][year] += 1\n",
    "\n",
    "del ai_patent_by_country[None]\n",
    "del ai_patent_by_country[\"City of\\\"\"]"
   ]
  },
  {
   "cell_type": "markdown",
   "metadata": {},
   "source": [
    "We created a Dataframe with a row for each country and a column for each year."
   ]
  },
  {
   "cell_type": "code",
   "execution_count": 29,
   "metadata": {},
   "outputs": [],
   "source": [
    "country_year_df =\\\n",
    "pd.DataFrame([(country,year,value) for country,v in ai_patent_by_country.items() for year,value in v.items()],\\\n",
    "             columns = ['country','year','patent_num'])\n",
    "country_year_df = country_year_df.pivot(index='country', columns='year', values='patent_num')"
   ]
  },
  {
   "cell_type": "code",
   "execution_count": 30,
   "metadata": {},
   "outputs": [
    {
     "data": {
      "text/html": [
       "<div>\n",
       "<style scoped>\n",
       "    .dataframe tbody tr th:only-of-type {\n",
       "        vertical-align: middle;\n",
       "    }\n",
       "\n",
       "    .dataframe tbody tr th {\n",
       "        vertical-align: top;\n",
       "    }\n",
       "\n",
       "    .dataframe thead th {\n",
       "        text-align: right;\n",
       "    }\n",
       "</style>\n",
       "<table border=\"1\" class=\"dataframe\">\n",
       "  <thead>\n",
       "    <tr style=\"text-align: right;\">\n",
       "      <th>year</th>\n",
       "      <th>1976</th>\n",
       "      <th>1977</th>\n",
       "      <th>1978</th>\n",
       "      <th>1979</th>\n",
       "      <th>1980</th>\n",
       "      <th>1981</th>\n",
       "      <th>1982</th>\n",
       "      <th>1983</th>\n",
       "      <th>1984</th>\n",
       "      <th>1985</th>\n",
       "      <th>...</th>\n",
       "      <th>2008</th>\n",
       "      <th>2009</th>\n",
       "      <th>2010</th>\n",
       "      <th>2011</th>\n",
       "      <th>2012</th>\n",
       "      <th>2013</th>\n",
       "      <th>2014</th>\n",
       "      <th>2015</th>\n",
       "      <th>2016</th>\n",
       "      <th>2017</th>\n",
       "    </tr>\n",
       "    <tr>\n",
       "      <th>country</th>\n",
       "      <th></th>\n",
       "      <th></th>\n",
       "      <th></th>\n",
       "      <th></th>\n",
       "      <th></th>\n",
       "      <th></th>\n",
       "      <th></th>\n",
       "      <th></th>\n",
       "      <th></th>\n",
       "      <th></th>\n",
       "      <th></th>\n",
       "      <th></th>\n",
       "      <th></th>\n",
       "      <th></th>\n",
       "      <th></th>\n",
       "      <th></th>\n",
       "      <th></th>\n",
       "      <th></th>\n",
       "      <th></th>\n",
       "      <th></th>\n",
       "      <th></th>\n",
       "    </tr>\n",
       "  </thead>\n",
       "  <tbody>\n",
       "    <tr>\n",
       "      <th>AE</th>\n",
       "      <td>0</td>\n",
       "      <td>0</td>\n",
       "      <td>0</td>\n",
       "      <td>0</td>\n",
       "      <td>0</td>\n",
       "      <td>0</td>\n",
       "      <td>0</td>\n",
       "      <td>0</td>\n",
       "      <td>0</td>\n",
       "      <td>0</td>\n",
       "      <td>...</td>\n",
       "      <td>0</td>\n",
       "      <td>0</td>\n",
       "      <td>0</td>\n",
       "      <td>0</td>\n",
       "      <td>0</td>\n",
       "      <td>0</td>\n",
       "      <td>0</td>\n",
       "      <td>0</td>\n",
       "      <td>0</td>\n",
       "      <td>0</td>\n",
       "    </tr>\n",
       "    <tr>\n",
       "      <th>AR</th>\n",
       "      <td>0</td>\n",
       "      <td>0</td>\n",
       "      <td>0</td>\n",
       "      <td>0</td>\n",
       "      <td>0</td>\n",
       "      <td>0</td>\n",
       "      <td>0</td>\n",
       "      <td>0</td>\n",
       "      <td>0</td>\n",
       "      <td>0</td>\n",
       "      <td>...</td>\n",
       "      <td>0</td>\n",
       "      <td>0</td>\n",
       "      <td>0</td>\n",
       "      <td>1</td>\n",
       "      <td>0</td>\n",
       "      <td>0</td>\n",
       "      <td>1</td>\n",
       "      <td>0</td>\n",
       "      <td>0</td>\n",
       "      <td>0</td>\n",
       "    </tr>\n",
       "    <tr>\n",
       "      <th>AU</th>\n",
       "      <td>0</td>\n",
       "      <td>0</td>\n",
       "      <td>0</td>\n",
       "      <td>0</td>\n",
       "      <td>0</td>\n",
       "      <td>0</td>\n",
       "      <td>0</td>\n",
       "      <td>0</td>\n",
       "      <td>0</td>\n",
       "      <td>0</td>\n",
       "      <td>...</td>\n",
       "      <td>0</td>\n",
       "      <td>0</td>\n",
       "      <td>1</td>\n",
       "      <td>3</td>\n",
       "      <td>1</td>\n",
       "      <td>4</td>\n",
       "      <td>2</td>\n",
       "      <td>1</td>\n",
       "      <td>2</td>\n",
       "      <td>0</td>\n",
       "    </tr>\n",
       "    <tr>\n",
       "      <th>BB</th>\n",
       "      <td>0</td>\n",
       "      <td>0</td>\n",
       "      <td>0</td>\n",
       "      <td>0</td>\n",
       "      <td>0</td>\n",
       "      <td>0</td>\n",
       "      <td>0</td>\n",
       "      <td>0</td>\n",
       "      <td>0</td>\n",
       "      <td>0</td>\n",
       "      <td>...</td>\n",
       "      <td>0</td>\n",
       "      <td>0</td>\n",
       "      <td>0</td>\n",
       "      <td>0</td>\n",
       "      <td>0</td>\n",
       "      <td>0</td>\n",
       "      <td>0</td>\n",
       "      <td>0</td>\n",
       "      <td>0</td>\n",
       "      <td>2</td>\n",
       "    </tr>\n",
       "    <tr>\n",
       "      <th>BE</th>\n",
       "      <td>0</td>\n",
       "      <td>0</td>\n",
       "      <td>0</td>\n",
       "      <td>0</td>\n",
       "      <td>0</td>\n",
       "      <td>0</td>\n",
       "      <td>0</td>\n",
       "      <td>0</td>\n",
       "      <td>0</td>\n",
       "      <td>0</td>\n",
       "      <td>...</td>\n",
       "      <td>0</td>\n",
       "      <td>0</td>\n",
       "      <td>0</td>\n",
       "      <td>0</td>\n",
       "      <td>0</td>\n",
       "      <td>1</td>\n",
       "      <td>2</td>\n",
       "      <td>1</td>\n",
       "      <td>1</td>\n",
       "      <td>0</td>\n",
       "    </tr>\n",
       "  </tbody>\n",
       "</table>\n",
       "<p>5 rows × 42 columns</p>\n",
       "</div>"
      ],
      "text/plain": [
       "year     1976  1977  1978  1979  1980  1981  1982  1983  1984  1985  ...   \\\n",
       "country                                                              ...    \n",
       "AE          0     0     0     0     0     0     0     0     0     0  ...    \n",
       "AR          0     0     0     0     0     0     0     0     0     0  ...    \n",
       "AU          0     0     0     0     0     0     0     0     0     0  ...    \n",
       "BB          0     0     0     0     0     0     0     0     0     0  ...    \n",
       "BE          0     0     0     0     0     0     0     0     0     0  ...    \n",
       "\n",
       "year     2008  2009  2010  2011  2012  2013  2014  2015  2016  2017  \n",
       "country                                                              \n",
       "AE          0     0     0     0     0     0     0     0     0     0  \n",
       "AR          0     0     0     1     0     0     1     0     0     0  \n",
       "AU          0     0     1     3     1     4     2     1     2     0  \n",
       "BB          0     0     0     0     0     0     0     0     0     2  \n",
       "BE          0     0     0     0     0     1     2     1     1     0  \n",
       "\n",
       "[5 rows x 42 columns]"
      ]
     },
     "execution_count": 30,
     "metadata": {},
     "output_type": "execute_result"
    }
   ],
   "source": [
    "country_year_df.head(5)"
   ]
  },
  {
   "cell_type": "markdown",
   "metadata": {},
   "source": [
    "We though that stacked bar chart would be a good indication of both to see which countries hold the most AI patents and observe change in number of AI patent through years."
   ]
  },
  {
   "cell_type": "code",
   "execution_count": 31,
   "metadata": {},
   "outputs": [
    {
     "data": {
      "image/png": "[encoded data removed]",
      "text/plain": [
       "<matplotlib.figure.Figure at 0x10809be48>"
      ]
     },
     "metadata": {},
     "output_type": "display_data"
    }
   ],
   "source": [
    "country_year_df_copy = country_year_df.copy()\n",
    "country_year_df_copy['total'] = country_year_df_copy.apply(sum, axis=1)\n",
    "clean_df = country_year_df_copy.sort_values(by='total', ascending=False).drop('total',axis=1).head(10)\n",
    "clean_df.plot.bar(stacked=True, fontsize=20, figsize=(20,13));"
   ]
  },
  {
   "cell_type": "markdown",
   "metadata": {},
   "source": [
    "**[Interpretation of the Figure]**"
   ]
  },
  {
   "cell_type": "markdown",
   "metadata": {},
   "source": [
    "To further study, we wanted to analyze the evolution of AI related patents by an interactive visualization."
   ]
  },
  {
   "cell_type": "code",
   "execution_count": 32,
   "metadata": {},
   "outputs": [],
   "source": [
    "years = list()\n",
    "for i in range(2018-1976):\n",
    "    years.append(1976+i)"
   ]
  },
  {
   "cell_type": "code",
   "execution_count": 33,
   "metadata": {},
   "outputs": [],
   "source": [
    "def draw_until_year(until_year):\n",
    "    columns_drop = list()\n",
    "    for year in years:\n",
    "        if year > until_year:\n",
    "            columns_drop.append(year)\n",
    "    country_year_df_copy = country_year_df.copy()\n",
    "    country_year_df_copy = country_year_df_copy.drop(columns=columns_drop)\n",
    "    country_year_df_copy['total'] = country_year_df_copy.apply(sum, axis=1)\n",
    "    clean_df = country_year_df_copy.sort_values(by='total', ascending=False).drop('total',axis=1).head(10)\n",
    "    clean_df.plot.bar(stacked=True, fontsize=20, figsize=(20,13));"
   ]
  },
  {
   "cell_type": "code",
   "execution_count": 34,
   "metadata": {},
   "outputs": [
    {
     "data": {
      "application/vnd.jupyter.widget-view+json": {
       "model_id": "f103ad688220499788ad1f740cefcd32",
       "version_major": 2,
       "version_minor": 0
      },
      "text/html": [
       "<p>Failed to display Jupyter Widget of type <code>interactive</code>.</p>\n",
       "<p>\n",
       "  If you're reading this message in Jupyter Notebook or JupyterLab, it may mean\n",
       "  that the widgets JavaScript is still loading. If this message persists, it\n",
       "  likely means that the widgets JavaScript library is either not installed or\n",
       "  not enabled. See the <a href=\"https://ipywidgets.readthedocs.io/en/stable/user_install.html\">Jupyter\n",
       "  Widgets Documentation</a> for setup instructions.\n",
       "</p>\n",
       "<p>\n",
       "  If you're reading this message in another notebook frontend (for example, a static\n",
       "  rendering on GitHub or <a href=\"https://nbviewer.jupyter.org/\">NBViewer</a>),\n",
       "  it may mean that your frontend doesn't currently support widgets.\n",
       "</p>\n"
      ],
      "text/plain": [
       "interactive(children=(Dropdown(description='until_year', options=(1976, 1977, 1978, 1979, 1980, 1981, 1982, 1983, 1984, 1985, 1986, 1987, 1988, 1989, 1990, 1991, 1992, 1993, 1994, 1995, 1996, 1997, 1998, 1999, 2000, 2001, 2002, 2003, 2004, 2005, 2006, 2007, 2008, 2009, 2010, 2011, 2012, 2013, 2014, 2015, 2016, 2017), value=1976), Output()), _dom_classes=('widget-interact',))"
      ]
     },
     "metadata": {},
     "output_type": "display_data"
    },
    {
     "data": {
      "text/plain": [
       "<function __main__.draw_until_year>"
      ]
     },
     "execution_count": 34,
     "metadata": {},
     "output_type": "execute_result"
    }
   ],
   "source": [
    "widgets.interact(draw_until_year, until_year=years)"
   ]
  },
  {
   "cell_type": "markdown",
   "metadata": {},
   "source": [
    "If interactive visualization doesn't displayed properly check [here](https://stackoverflow.com/a/38001920)."
   ]
  },
  {
   "cell_type": "markdown",
   "metadata": {},
   "source": [
    "**[Interpretation of the Figure through Years]** - e.g. Isreal"
   ]
  },
  {
   "cell_type": "markdown",
   "metadata": {},
   "source": [
    "**5.** Who are the most prolific inventors?"
   ]
  },
  {
   "cell_type": "code",
   "execution_count": 35,
   "metadata": {},
   "outputs": [
    {
     "data": {
      "text/html": [
       "<div>\n",
       "<style scoped>\n",
       "    .dataframe tbody tr th:only-of-type {\n",
       "        vertical-align: middle;\n",
       "    }\n",
       "\n",
       "    .dataframe tbody tr th {\n",
       "        vertical-align: top;\n",
       "    }\n",
       "\n",
       "    .dataframe thead th {\n",
       "        text-align: right;\n",
       "    }\n",
       "</style>\n",
       "<table border=\"1\" class=\"dataframe\">\n",
       "  <thead>\n",
       "    <tr style=\"text-align: right;\">\n",
       "      <th></th>\n",
       "      <th>patent_title</th>\n",
       "      <th>cited_by_count</th>\n",
       "      <th>country</th>\n",
       "      <th>organization</th>\n",
       "      <th>inventor_id</th>\n",
       "      <th>inventor_name</th>\n",
       "      <th>year</th>\n",
       "      <th>month</th>\n",
       "    </tr>\n",
       "    <tr>\n",
       "      <th>patent_number</th>\n",
       "      <th></th>\n",
       "      <th></th>\n",
       "      <th></th>\n",
       "      <th></th>\n",
       "      <th></th>\n",
       "      <th></th>\n",
       "      <th></th>\n",
       "      <th></th>\n",
       "    </tr>\n",
       "  </thead>\n",
       "  <tbody>\n",
       "    <tr>\n",
       "      <th>3935562</th>\n",
       "      <td>Pattern recognition method and apparatus</td>\n",
       "      <td>14</td>\n",
       "      <td>None</td>\n",
       "      <td>None</td>\n",
       "      <td>3932839-1</td>\n",
       "      <td>Richard G. Stephens</td>\n",
       "      <td>1976</td>\n",
       "      <td>1</td>\n",
       "    </tr>\n",
       "    <tr>\n",
       "      <th>3936800</th>\n",
       "      <td>Pattern recognition system</td>\n",
       "      <td>95</td>\n",
       "      <td>None</td>\n",
       "      <td>None</td>\n",
       "      <td>3936800-1</td>\n",
       "      <td>Masakazu Ejiri</td>\n",
       "      <td>1976</td>\n",
       "      <td>2</td>\n",
       "    </tr>\n",
       "    <tr>\n",
       "      <th>3938089</th>\n",
       "      <td>Double read system for character recognition s...</td>\n",
       "      <td>15</td>\n",
       "      <td>US</td>\n",
       "      <td>Burroughs Corporation</td>\n",
       "      <td>3938089-1</td>\n",
       "      <td>Arvin D. McGregor</td>\n",
       "      <td>1976</td>\n",
       "      <td>2</td>\n",
       "    </tr>\n",
       "    <tr>\n",
       "      <th>3942153</th>\n",
       "      <td>Document transport and scanning system for opt...</td>\n",
       "      <td>3</td>\n",
       "      <td>US</td>\n",
       "      <td>Recognition Equipment Incorporated</td>\n",
       "      <td>3942153-1</td>\n",
       "      <td>Jack E. Balko</td>\n",
       "      <td>1976</td>\n",
       "      <td>3</td>\n",
       "    </tr>\n",
       "    <tr>\n",
       "      <th>3942169</th>\n",
       "      <td>Pattern recognition system</td>\n",
       "      <td>10</td>\n",
       "      <td>None</td>\n",
       "      <td>None</td>\n",
       "      <td>3942169-1</td>\n",
       "      <td>Yoshiji Fujimoto</td>\n",
       "      <td>1976</td>\n",
       "      <td>3</td>\n",
       "    </tr>\n",
       "  </tbody>\n",
       "</table>\n",
       "</div>"
      ],
      "text/plain": [
       "                                                    patent_title  \\\n",
       "patent_number                                                      \n",
       "3935562                 Pattern recognition method and apparatus   \n",
       "3936800                               Pattern recognition system   \n",
       "3938089        Double read system for character recognition s...   \n",
       "3942153        Document transport and scanning system for opt...   \n",
       "3942169                               Pattern recognition system   \n",
       "\n",
       "               cited_by_count country                        organization  \\\n",
       "patent_number                                                               \n",
       "3935562                    14    None                                None   \n",
       "3936800                    95    None                                None   \n",
       "3938089                    15      US               Burroughs Corporation   \n",
       "3942153                     3      US  Recognition Equipment Incorporated   \n",
       "3942169                    10    None                                None   \n",
       "\n",
       "              inventor_id        inventor_name  year  month  \n",
       "patent_number                                                \n",
       "3935562         3932839-1  Richard G. Stephens  1976      1  \n",
       "3936800         3936800-1       Masakazu Ejiri  1976      2  \n",
       "3938089         3938089-1    Arvin D. McGregor  1976      2  \n",
       "3942153         3942153-1        Jack E. Balko  1976      3  \n",
       "3942169         3942169-1     Yoshiji Fujimoto  1976      3  "
      ]
     },
     "execution_count": 35,
     "metadata": {},
     "output_type": "execute_result"
    }
   ],
   "source": [
    "all_ai_patents.head(5)"
   ]
  },
  {
   "cell_type": "code",
   "execution_count": null,
   "metadata": {},
   "outputs": [],
   "source": []
  },
  {
   "cell_type": "code",
   "execution_count": null,
   "metadata": {},
   "outputs": [],
   "source": []
  },
  {
   "cell_type": "code",
   "execution_count": null,
   "metadata": {},
   "outputs": [],
   "source": []
  },
  {
   "cell_type": "code",
   "execution_count": null,
   "metadata": {},
   "outputs": [],
   "source": []
  },
  {
   "cell_type": "code",
   "execution_count": null,
   "metadata": {},
   "outputs": [],
   "source": []
  },
  {
   "cell_type": "code",
   "execution_count": null,
   "metadata": {},
   "outputs": [],
   "source": []
  },
  {
   "cell_type": "code",
   "execution_count": null,
   "metadata": {},
   "outputs": [],
   "source": []
  },
  {
   "cell_type": "code",
   "execution_count": null,
   "metadata": {},
   "outputs": [],
   "source": []
  },
  {
   "cell_type": "code",
   "execution_count": null,
   "metadata": {},
   "outputs": [],
   "source": []
  },
  {
   "cell_type": "code",
   "execution_count": null,
   "metadata": {},
   "outputs": [],
   "source": []
  },
  {
   "cell_type": "code",
   "execution_count": null,
   "metadata": {},
   "outputs": [],
   "source": []
  },
  {
   "cell_type": "code",
   "execution_count": null,
   "metadata": {},
   "outputs": [],
   "source": []
  },
  {
   "cell_type": "code",
   "execution_count": null,
   "metadata": {},
   "outputs": [],
   "source": []
  },
  {
   "cell_type": "code",
   "execution_count": null,
   "metadata": {},
   "outputs": [],
   "source": []
  },
  {
   "cell_type": "markdown",
   "metadata": {},
   "source": [
    "### Number of granted patents over the past 10 years"
   ]
  },
  {
   "cell_type": "markdown",
   "metadata": {},
   "source": [
    "This section aims to display the evolution of granted patent from January 2007 to January 2017\n",
    "\n",
    "The API cannot return more than 100000 patents in one request. Thus, we need to collect the number of patents by months first and then aggregate the results to obtain the number of patents over a year."
   ]
  },
  {
   "cell_type": "markdown",
   "metadata": {},
   "source": [
    "Let's display the number of granted patents in a table. We use **get_nb_patents_year** to get the number of granted patent for a given year (12 months)."
   ]
  },
  {
   "cell_type": "code",
   "execution_count": null,
   "metadata": {},
   "outputs": [],
   "source": [
    "years = list(range(2007,2017))\n",
    "list_nb_patent=[get_nb_patents_year(str(year)) for year in years]\n",
    "df_nb_patent=pd.DataFrame(index=years)\n",
    "df_nb_patent['nb_patents']=list_nb_patent\n",
    "df_nb_patent"
   ]
  },
  {
   "cell_type": "markdown",
   "metadata": {},
   "source": [
    "We can plot the numbers to have a better visualization of the number of granted patent."
   ]
  },
  {
   "cell_type": "code",
   "execution_count": null,
   "metadata": {},
   "outputs": [],
   "source": [
    "plot(years, df_nb_patent['nb_patents']/1000, 'r', marker= '.')\n",
    "plt.ylabel('Granted patents in thousands')\n",
    "plt.grid(True, 'major', 'y', ls='--', lw=.5, c='k', alpha=.3)\n",
    "plt.title(\"Evolution of number of granted patents over the last decade\")\n",
    "plt.show()"
   ]
  },
  {
   "cell_type": "markdown",
   "metadata": {},
   "source": [
    "### Number of granted patent delivered by countries"
   ]
  },
  {
   "cell_type": "markdown",
   "metadata": {},
   "source": [
    "This section aims to display which countries are the top patent providers. In a given patent, multiple inventors might be cited. Those inventors can be located in different countries. In that case, +1 will be counted for a country if at least one of the inventor is in the given country. The number of patents between January 2016 and January 2017 was chosen for this study."
   ]
  },
  {
   "cell_type": "markdown",
   "metadata": {},
   "source": [
    "First, we read the excel file **location.xlsx** given by the USPTO website which contains all the countries which have delivered patents in the past. The country names are coded according to the Alpha-2 ISO norm (\"US\",\"GE\",\"FR\",\"CH\",...)"
   ]
  },
  {
   "cell_type": "code",
   "execution_count": null,
   "metadata": {},
   "outputs": [],
   "source": [
    "dfLocation=pd.read_excel(os.getcwd()+'/data/location.xlsx').fillna('')"
   ]
  },
  {
   "cell_type": "markdown",
   "metadata": {},
   "source": [
    "We clean the countries list and keep the Alpha-2 ISO codes only "
   ]
  },
  {
   "cell_type": "code",
   "execution_count": null,
   "metadata": {},
   "outputs": [],
   "source": [
    "countries=list(set(list(dfLocation['country'])))\n",
    "countries = [countries[i] for i in range(len(countries)) if (len(countries[i]) == 2 and countries[i]!='a\"')]"
   ]
  },
  {
   "cell_type": "markdown",
   "metadata": {},
   "source": [
    "The **get_nb_patent_country** function below returns the number of granted patents for a given country. It might be possible that some countries issue a large number of patents that exceeds 100'000 in the year which overwhelms the API capacity. In that case the API request is splited between the 6 first and 6 last months of the year, and the number of patents are summed up together. "
   ]
  },
  {
   "cell_type": "code",
   "execution_count": null,
   "metadata": {},
   "outputs": [],
   "source": [
    "dfNbPatents=pd.DataFrame(columns=['country','nb_patents'])\n",
    "dfNbPatents['country']=countries\n",
    "dfNbPatents['nb_patents']=list(map(lambda x: get_nb_patent_country(x),dfNbPatents['country']))"
   ]
  },
  {
   "cell_type": "markdown",
   "metadata": {},
   "source": [
    "We just created the dataframe containing the patents data grouped by countries.\n",
    "\n",
    "The number of patents are sorted by country and the barplot is displayed. We chose to plot the 15 top countries"
   ]
  },
  {
   "cell_type": "code",
   "execution_count": null,
   "metadata": {},
   "outputs": [],
   "source": [
    "dfNbPatents.sort_values(by='nb_patents',inplace=True, ascending=False)\n",
    "dfNbPatents.head(15).plot.bar(x='country', y='nb_patents', figsize=(17,5), grid=True)"
   ]
  },
  {
   "cell_type": "markdown",
   "metadata": {},
   "source": [
    "Display the exact number for the 10 top patent delivered countries"
   ]
  },
  {
   "cell_type": "code",
   "execution_count": null,
   "metadata": {},
   "outputs": [],
   "source": [
    "dfNbPatents.set_index(pd.Series(list(range(1,len(dfNbPatents) + 1))), inplace=True)\n",
    "dfNbPatents.head(10)"
   ]
  },
  {
   "cell_type": "markdown",
   "metadata": {},
   "source": [
    "### Choropleth map map of the granted patent distribution around the world\n"
   ]
  },
  {
   "cell_type": "markdown",
   "metadata": {},
   "source": [
    "This section aims to display a vizual world map that highlights the granted patent dispersion across the countries. "
   ]
  },
  {
   "cell_type": "markdown",
   "metadata": {},
   "source": [
    "As there is a very large gap between the number of patents throughout the different countries, we opted for a **logarithmic scale** for a better vizualisation. Without loss of generality, we shall still be able to vizualize accurate relative differences between numbers.   "
   ]
  },
  {
   "cell_type": "code",
   "execution_count": null,
   "metadata": {},
   "outputs": [],
   "source": [
    "# max_n is the maximum number of patents holder, which is the US\n",
    "max_n = dfNbPatents['nb_patents'].max()\n",
    "#Here, we set up a Colormap using the logarithmic scale as shades of Blue colors that will be used to color the map\n",
    "colormap = cm.linear.PuBu.scale(0, round(math.log(max_n))).to_step(100)"
   ]
  },
  {
   "cell_type": "code",
   "execution_count": null,
   "metadata": {
    "scrolled": false
   },
   "outputs": [],
   "source": [
    "patents = dfNbPatents.copy()\n",
    "#Take the log of the number of granted patents to match the logarithmic scale\n",
    "log_nb = list(map(lambda x: math.log(x) if (x > 0) else 0 , patents['nb_patents']))\n",
    "#In the below DataFrame, each country has now its 'logarithmic color code'\n",
    "patents['log_color_code'] = log_nb\n",
    "patents.head()"
   ]
  },
  {
   "cell_type": "code",
   "execution_count": null,
   "metadata": {},
   "outputs": [],
   "source": [
    "#We need also to convert the table into a dictionnary, in order to map a feature to its number of patents.\n",
    "patents_dict = patents.set_index('country')['log_color_code']\n",
    "\n",
    "#Here we map each country to a color according to the \"logarithmic\" number of patents\n",
    "color_dict = {key: colormap(patents_dict[key]) for key in patents_dict.keys()}"
   ]
  },
  {
   "cell_type": "markdown",
   "metadata": {},
   "source": [
    "The function **ret_color** below, applies colors to the countries that were previously stored in **color_dict**.\n",
    "In case a country does not appear in the list of patents, we assign the white color by default.\n",
    "\n",
    "The JSON file **custom.geo.json** contains informations about the world countries. It is used to draw a Choropleth below.\n",
    "\n",
    "We can now draw a chloropleth map that shows the number of patents around the world."
   ]
  },
  {
   "cell_type": "code",
   "execution_count": null,
   "metadata": {
    "scrolled": false
   },
   "outputs": [],
   "source": [
    "m = folium.Map(location= [46.484, 8.1336],tiles='cartodbpositron',zoom_start=2)  \n",
    "\n",
    "#Load the world map\n",
    "countries_geo_path = 'data/custom.geo.json'\n",
    "geo_json_data = json.load(open(countries_geo_path))\n",
    "\n",
    "#Apply the colors using our defined function ret_color, desribed above\n",
    "folium.GeoJson(geo_json_data,\n",
    "               style_function=lambda feature: {\n",
    "              'fillColor': ret_color(feature, color_dict),\n",
    "              'weight': .5,\n",
    "              'fillOpacity': 0.8\n",
    "               }).add_to(m)\n",
    "\n",
    "#Setting up the scale \n",
    "colormap = cm.linear.PuBu.scale(0, 170000).to_step(50)\n",
    "colormap.caption = 'Number of patents'\n",
    "m.add_child(colormap)\n",
    "\n",
    "m.save('world.html')"
   ]
  },
  {
   "cell_type": "markdown",
   "metadata": {},
   "source": [
    "Here is an overview of the distribution of granted patents over the world \n",
    "\n",
    "**The interactive map can be accessed [here](https://skagankose.github.io/ada_fall_2017/world.html).**\n",
    "\n",
    "![Image](data/world_patent.png)"
   ]
  },
  {
   "cell_type": "markdown",
   "metadata": {},
   "source": [
    "### GRANTED VS PENDING"
   ]
  },
  {
   "cell_type": "markdown",
   "metadata": {},
   "source": [
    "Upon our initial milestone 2 objective, we wanted to compare how many patents application are granted. After digging deeper in the DataBase we found out that we can only obtain the granted patents. Therefore it will not be possible to carry out this comparison."
   ]
  },
  {
   "cell_type": "markdown",
   "metadata": {},
   "source": [
    "### TOP COMPANIES\n"
   ]
  },
  {
   "cell_type": "markdown",
   "metadata": {},
   "source": [
    "This section aims to display the top companies patent publishers in the world. The function **get_company** below returns a dictionnary containing the companies as keys and their related number of patent application. \n",
    "\n",
    "To have a recent and significant number of patents we chose to analyse the patent applications over a recent period, namely here from the 1st of january 2017 to the 1st of may 2017. "
   ]
  },
  {
   "cell_type": "code",
   "execution_count": null,
   "metadata": {},
   "outputs": [],
   "source": [
    "# DataFrame containing patent counts by companies\n",
    "company_patent_df = pd.DataFrame(list(get_company(2017, 1, 2017, 5).items()))\n",
    "# Cleaning NaNs\n",
    "company_patent_df.dropna(inplace=True)\n",
    "# Changing columns names\n",
    "company_patent_df.columns = ['company', 'total_patent']\n",
    "# Converting to integers\n",
    "company_patent_df.total_patent = company_patent_df.total_patent.astype('int64', copy=False)\n",
    "# Descending sort by number of granted patents\n",
    "top_companies_df = company_patent_df.sort_values(by='total_patent', ascending=False)"
   ]
  },
  {
   "cell_type": "markdown",
   "metadata": {},
   "source": [
    "Here is the list of the TOP15 world patent issuers companies, in terms of number of granted patents:"
   ]
  },
  {
   "cell_type": "code",
   "execution_count": null,
   "metadata": {
    "scrolled": false
   },
   "outputs": [],
   "source": [
    "top_companies_df.head(15)"
   ]
  },
  {
   "cell_type": "code",
   "execution_count": null,
   "metadata": {},
   "outputs": [],
   "source": [
    "top_companies_df.head(25).plot.barh(x='company', y='total_patent', figsize=(17,17), fontsize=20).invert_yaxis()"
   ]
  },
  {
   "cell_type": "markdown",
   "metadata": {},
   "source": [
    "As we can see **International Business Machines Corporation (IBM)** is the leader in terms of the number of granted patents by holding more than 120'000 patents, followed by Samsung Electronics (roughly 75'000) and Canon (75'000)."
   ]
  },
  {
   "cell_type": "markdown",
   "metadata": {},
   "source": [
    "### Patents by countries and sectors"
   ]
  },
  {
   "cell_type": "markdown",
   "metadata": {},
   "source": [
    "The Cooperative Patent Classification (CPC) is a patent classification system, which has been jointly developed by the European Patent Office (EPO) and the United States Patent and Trademark Office (USPTO).\n",
    "\n",
    "Patent categories according to CPC are indicated in the following table. We've used these categories for our initial analysis. We assigned a code to every categories for a paractical purpose."
   ]
  },
  {
   "cell_type": "markdown",
   "metadata": {},
   "source": [
    "| **CODE** | **DESCRIPTION**   |\n",
    "|------|------|\n",
    "|   **A**  | **Human Necessities**|\n",
    "|   **B**  | **Operations and Transport**|\n",
    "|   **C**  | **Chemistry and Metallurgy**|\n",
    "|   **D**  | **Textiles**|\n",
    "|   **E**  | **Fixed Constructions**|\n",
    "|   **F**  | **Mechanical Engineering**|\n",
    "|   **G**  | **Physics**|\n",
    "|   **H**  | **Electricity**|\n",
    "|   **Y**  | **Emerging Cross-Sectional Technologies**|"
   ]
  },
  {
   "cell_type": "markdown",
   "metadata": {},
   "source": [
    "First we obtain the Alpha-2 codes for each country by reading **countries.csv**, which is provided by the **USPTO website** and initialise a dictionnary. The latter countains every countries and the number of patents by categories"
   ]
  },
  {
   "cell_type": "code",
   "execution_count": null,
   "metadata": {},
   "outputs": [],
   "source": [
    "# # The following DataFrame contains the Alpha-2 ISO names of the world countries \n",
    "country_abbrev = list(pd.read_csv('data/countries.csv')['alpha-2'])\n",
    "country_total_patent_category = dict()\n",
    "for abbrev in country_abbrev:\n",
    "    country_total_patent_category[abbrev] = {\"A\":0,\"B\":0,\"C\":0,\"D\":0,\"E\":0,\"F\":0,\"G\":0,\"H\":0,\"Y\":0,}"
   ]
  },
  {
   "cell_type": "markdown",
   "metadata": {},
   "source": [
    "The function **get_countries_by_sectors** send requests to get the number of patents delivered by company sorted by sector. We chose 2016 to illustrate our study."
   ]
  },
  {
   "cell_type": "code",
   "execution_count": null,
   "metadata": {},
   "outputs": [],
   "source": [
    "country_total_patent_category = get_countries_by_sectors()"
   ]
  },
  {
   "cell_type": "markdown",
   "metadata": {},
   "source": [
    "Create a dataframe containing every countries with their number of patents by sectors"
   ]
  },
  {
   "cell_type": "code",
   "execution_count": null,
   "metadata": {},
   "outputs": [],
   "source": [
    "patent_category_df = pd.DataFrame(country_total_patent_category).transpose()"
   ]
  },
  {
   "cell_type": "markdown",
   "metadata": {},
   "source": [
    "The function defined below, **figure_by_sector**, plots the TOP10 leading countries for a given sector (as the category label ('A','B','C',...), in terms of granted patents. The tuple containing the index indicates the location of the plot.\n",
    "\n",
    "Then, we plot the top 10 countries for each sectors"
   ]
  },
  {
   "cell_type": "code",
   "execution_count": null,
   "metadata": {
    "scrolled": false
   },
   "outputs": [],
   "source": [
    "#This function plot one country, it takes as parameter the category ('A','B','C',...),\n",
    "#the label (Operations and Transport) and a tuple containing the index which indicate where is the\n",
    "#plot located\n",
    "\n",
    "#Label mapping\n",
    "category_label = [('A', 'Human Necessities'),('B', 'Operations and Transport'),\\\n",
    "                  ('C', 'Chemistry and Metallurgys'),('D', 'Textiles'), ('E', 'Fixed Constructions'),\\\n",
    "                  ('F', 'Mechanical Engineering'),('G', 'Physics'),('H', 'Electricity'),\\\n",
    "                  ('Y', 'Emerging Cross-Sectional Technologies'),]\n",
    "    \n",
    "fix, axes = plt.subplots(5, 2, figsize=(20, 35))\n",
    "for index, (category, label) in enumerate(category_label):\n",
    "    fıgure_by_sector(category, label, (int(index/2), index%2), axes, patent_category_df)"
   ]
  },
  {
   "cell_type": "markdown",
   "metadata": {},
   "source": [
    "An other way of visualizasing can be performed by plotting the number of patents by country and sector a a stacked bar chart."
   ]
  },
  {
   "cell_type": "code",
   "execution_count": null,
   "metadata": {
    "scrolled": false
   },
   "outputs": [],
   "source": [
    "# Plot the TOP10 countries in terms of granted patents in a stacked bar chart\n",
    "patent_category_df['total'] = patent_category_df.apply(sum, axis=1)\n",
    "clean_df = patent_category_df.sort_values(by='total', ascending=False).drop('total',axis=1).head(10)\n",
    "clean_df.plot.bar(stacked=True, fontsize=20, figsize=(20,10));"
   ]
  },
  {
   "cell_type": "markdown",
   "metadata": {},
   "source": [
    "As we can see, the United States is the leader country in all sectors. Japan also has also a significant number of patents in terms of sectors G and H. Other countries as Germany (DE), South Korea (KR), Taiwan (TW), France (FR), Netherlands (NL), Switzerland (CH), China (CN) and United Kingdom (GB) comes next with less significant number of patents."
   ]
  },
  {
   "cell_type": "markdown",
   "metadata": {},
   "source": [
    "### Spider charts modeling the different patent sectors in different countries"
   ]
  },
  {
   "cell_type": "markdown",
   "metadata": {},
   "source": [
    "This function sorts the DataFrame containing the categorized patents for each country, by the given column passed as a parameter."
   ]
  },
  {
   "cell_type": "code",
   "execution_count": null,
   "metadata": {},
   "outputs": [],
   "source": [
    "def sortby(col):\n",
    "    return cat_patent.sort_values(by=col, ascending=False)"
   ]
  },
  {
   "cell_type": "markdown",
   "metadata": {},
   "source": [
    "As an example, this DataFrame represents the TOP5 countries in europe in terms of sector A, which is Human Necessities."
   ]
  },
  {
   "cell_type": "code",
   "execution_count": null,
   "metadata": {
    "scrolled": true
   },
   "outputs": [],
   "source": [
    "cat_patent = pd.DataFrame(country_total_patent_category).transpose()\n",
    "sortby('A').head()"
   ]
  },
  {
   "cell_type": "markdown",
   "metadata": {},
   "source": [
    "After some examining different countries around the world, we decided to choose 9 of them, which are quite different between one another in terms of granted patents distribution across the sectors. For this task, we considered the *United States, Japan, Germany, Canada, Switzerland, France, the Netherlands, Great Britain* and *Korea*.\n",
    "\n",
    "We will now display a spider chart for each one of them. The function **spider_chart** takes care of this task. It shows the involvment level of a given country in all the 7 sectors in CPC (Cooperative Patent Classification) by modeling the relative number of granted patents for each sector, country-wise."
   ]
  },
  {
   "cell_type": "code",
   "execution_count": null,
   "metadata": {
    "scrolled": false
   },
   "outputs": [],
   "source": [
    "model_countries = [('US', 'United States'),('JP', 'Japan'), ('DE','Germany'), ('CA','Canada'),\\\n",
    "                   ('CH', 'Switzerland'), ('FR','France'), ('NL','Netherlands'), \\\n",
    "                   ('GB','Great Britain'), ('KR', 'Korea'), ('CN', 'China')]\n",
    "    \n",
    "model = sortby('A').head(15)\n",
    "model = model.apply(lambda x: x/sum(x), axis=1) # Normalizing the number of patents per sector to extract percentage rates(%)\n",
    "\n",
    "for i in range(len(model_countries)):\n",
    "    spider_chart(model, model_countries[i][0], title= model_countries[i][1])"
   ]
  },
  {
   "cell_type": "markdown",
   "metadata": {},
   "source": [
    "We can see that Japan, Korea, China, Great Britain France and the United States hold most of their patents in the Electricity and the Physics sectors. Switzerland's patents are more concentrated on Chemistry, Humans Necessities and Physics. Germany, Switzerland and Great Britain hold significant number of patents in Transport. \n",
    "\n",
    "In overall, Germany, Switzerland and Great Britain are the most polyvalent countries in terms of granted patent classifications, as we can see that they have the most diversified patents across the different sectors."
   ]
  },
  {
   "cell_type": "markdown",
   "metadata": {},
   "source": [
    "### Evolution of granted patents for a given sector"
   ]
  },
  {
   "cell_type": "markdown",
   "metadata": {},
   "source": [
    "This last part aims to study the evolution of granted patents per sector of interest. This section will be done mostly for milestone 3."
   ]
  },
  {
   "cell_type": "markdown",
   "metadata": {},
   "source": [
    "As a brief overview, the evolution of patents in solar energy was carried out. At the end, this evolution will be compared with the aggregated evolution of patents (in every sector). This study will be useful for comparisons between different technologies in energy. "
   ]
  },
  {
   "cell_type": "markdown",
   "metadata": {},
   "source": [
    "The keywords used are given in the *paper* **\"Patent-based Technology report - Alternative Energy Technology\"** made by the **\"World Intellectual Property Organization\"**, which gives a fairly accurate result for energy technologies. The keywords are used to search for a match in the patent titles.  "
   ]
  },
  {
   "cell_type": "code",
   "execution_count": null,
   "metadata": {},
   "outputs": [],
   "source": [
    "Keywords_Solar_Power= [\"solar cell\", \"solar-cell\",\"photovoltaic\", \"solar photo\", \"PV sun\", \"light cell\",\n",
    "\"panel module\"] "
   ]
  },
  {
   "cell_type": "markdown",
   "metadata": {},
   "source": [
    "The function **get_patents_keywords** returns the number of patents in a given year according to a list of key words at a given year.\n",
    "\n",
    "This function also returns a dataframe containing 25 samples maximum of every patent related to a keyword (for checking sake)"
   ]
  },
  {
   "cell_type": "code",
   "execution_count": null,
   "metadata": {},
   "outputs": [],
   "source": [
    "list_patent_nb_solar=[]\n",
    "years= range(2007,2017)\n",
    "for i in years:\n",
    "    [dfPatent, nb_patent]=get_patents_keywords(Keywords_Solar_Power,str(i))\n",
    "    list_patent_nb_solar+=[nb_patent]"
   ]
  },
  {
   "cell_type": "markdown",
   "metadata": {},
   "source": [
    "Plot the evolution of number of patent between year 2007 and 2017"
   ]
  },
  {
   "cell_type": "code",
   "execution_count": null,
   "metadata": {
    "scrolled": false
   },
   "outputs": [],
   "source": [
    "plt.plot(years,list_patent_nb_solar)\n",
    "plt.ylabel('Number of patents')\n",
    "plt.title('Evolution of patents related to solar technologies')\n",
    "plt.grid(True, 'major', 'y', ls='--', lw=.5, c='k', alpha=.3)"
   ]
  },
  {
   "cell_type": "markdown",
   "metadata": {},
   "source": [
    "The evolution of granted patent in solar energy can be compared with the aggregated evolution of granted patent for the past 10 years. In order to achieve this pupose, we can compute the growth of patents per year according to the folowing formula :\n",
    "\n",
    "\\begin{equation*}\n",
    "Growth  = \\frac{nb\\ patents\\ year\\ i+1\\ -\\ nb\\ patents\\ year\\ i}{nb\\ patent\\ year\\ i}\n",
    "\\end{equation*}\n",
    "\n",
    "\n"
   ]
  },
  {
   "cell_type": "code",
   "execution_count": null,
   "metadata": {},
   "outputs": [],
   "source": [
    "growth_solar=[]\n",
    "growth=[]\n",
    "list_nb_patent=list(df_nb_patent['nb_patents'])\n",
    "for i in range(len(years)-1):\n",
    "    growth_solar+=[(list_patent_nb_solar[i+1]-list_patent_nb_solar[i])/list_patent_nb_solar[i]*100]\n",
    "    growth+=[(list_nb_patent[i+1]-list_nb_patent[i])/list_nb_patent[i]*100]"
   ]
  },
  {
   "cell_type": "markdown",
   "metadata": {},
   "source": [
    "We plot the growth rate of the solar technology patents, compared to the average growth of patents across all sectors."
   ]
  },
  {
   "cell_type": "code",
   "execution_count": null,
   "metadata": {},
   "outputs": [],
   "source": [
    "plt.plot(range(2008,2017),growth_solar,range(2008,2017),growth)\n",
    "plt.grid(True, 'major', 'y', ls='--', lw=.5, c='k', alpha=.3)\n",
    "plt.title(\"Relative growth of patents\")\n",
    "plt.legend(\"solar energy patents\",\"general patents\")\n",
    "plt.ylabel('Growth rate %')\n",
    "plt.show()"
   ]
  },
  {
   "cell_type": "markdown",
   "metadata": {},
   "source": [
    "**The blue graph represents the growth of the solar technology related patents, and in orange the growth of patents in general**"
   ]
  },
  {
   "cell_type": "markdown",
   "metadata": {},
   "source": [
    "It can be observed that the patents granted in solar technology had a significant growth between 2008 and 2013 compared to the other technologies."
   ]
  }
 ],
 "metadata": {
  "kernelspec": {
   "display_name": "Python 3",
   "language": "python",
   "name": "python3"
  },
  "language_info": {
   "codemirror_mode": {
    "name": "ipython",
    "version": 3
   },
   "file_extension": ".py",
   "mimetype": "text/x-python",
   "name": "python",
   "nbconvert_exporter": "python",
   "pygments_lexer": "ipython3",
   "version": "3.6.3"
  }
 },
 "nbformat": 4,
 "nbformat_minor": 2
}
