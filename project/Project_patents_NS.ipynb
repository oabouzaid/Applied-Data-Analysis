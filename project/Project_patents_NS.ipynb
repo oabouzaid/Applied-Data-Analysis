{
 "cells": [
  {
   "cell_type": "code",
   "execution_count": 223,
   "metadata": {},
   "outputs": [
    {
     "name": "stdout",
     "output_type": "stream",
     "text": [
      "Populating the interactive namespace from numpy and matplotlib\n"
     ]
    }
   ],
   "source": [
    "%pylab inline\n",
    "%matplotlib inline\n",
    "import numpy as np\n",
    "import pandas as pd \n",
    "import matplotlib.pyplot as plt\n",
    "import os\n",
    "import seaborn as sns \n",
    "pd.options.mode.chained_assignment = None  # default='warn', Mutes warnings when copying a slice from a DataFrame.\n",
    "import requests\n",
    "from bs4 import BeautifulSoup\n",
    "import folium\n",
    "import json"
   ]
  },
  {
   "cell_type": "code",
   "execution_count": 56,
   "metadata": {
    "collapsed": true
   },
   "outputs": [],
   "source": [
    "URL = 'http://www.patentsview.org/api/patents/query?'"
   ]
  },
  {
   "cell_type": "markdown",
   "metadata": {},
   "source": [
    "The API cannot give more than 10000 patents at a time, we need to get the number of patents for every month and add them together"
   ]
  },
  {
   "cell_type": "code",
   "execution_count": 57,
   "metadata": {
    "collapsed": true
   },
   "outputs": [],
   "source": [
    "def get_nb_patents_month(month, year):\n",
    "    #patent_date=date patent was granted\n",
    "    if(month!='12'):\n",
    "        query='q={\"_and\":[{\"_gte\":{\"patent_date\":\"'+year+'-'+month+'-01\"}},{\"_lt\":{\"patent_date\":\"'+year+'-'+str(int(month)+1)+'-01\"}}]}' \n",
    "    else:\n",
    "        query='q={\"_and\":[{\"_gte\":{\"patent_date\":\"'+year+'-'+month+'-01\"}},{\"_lt\":{\"patent_date\":\"'+str(int(year)+1)+'-01-01\"}}]}'  \n",
    "    r = requests.get(URL+query).json()\n",
    "    return pd.DataFrame(r).total_patent_count[0]\n",
    "\n",
    "    "
   ]
  },
  {
   "cell_type": "code",
   "execution_count": 58,
   "metadata": {
    "collapsed": true
   },
   "outputs": [],
   "source": [
    "def get_nb_patents_year(year):\n",
    "    nb_patent=0\n",
    "    for i in range(12):\n",
    "        if i<10:\n",
    "            nb_patent+=get_nb_patents_month('0'+str(i), year)\n",
    "        else:\n",
    "            nb_patent+=get_nb_patents_month(str(i), year)\n",
    "    return nb_patent"
   ]
  },
  {
   "cell_type": "code",
   "execution_count": 59,
   "metadata": {},
   "outputs": [
    {
     "data": {
      "text/html": [
       "<div>\n",
       "<style>\n",
       "    .dataframe thead tr:only-child th {\n",
       "        text-align: right;\n",
       "    }\n",
       "\n",
       "    .dataframe thead th {\n",
       "        text-align: left;\n",
       "    }\n",
       "\n",
       "    .dataframe tbody tr th {\n",
       "        vertical-align: top;\n",
       "    }\n",
       "</style>\n",
       "<table border=\"1\" class=\"dataframe\">\n",
       "  <thead>\n",
       "    <tr style=\"text-align: right;\">\n",
       "      <th></th>\n",
       "      <th>nb_patents</th>\n",
       "    </tr>\n",
       "  </thead>\n",
       "  <tbody>\n",
       "    <tr>\n",
       "      <th>2007</th>\n",
       "      <td>183496</td>\n",
       "    </tr>\n",
       "    <tr>\n",
       "      <th>2008</th>\n",
       "      <td>181694</td>\n",
       "    </tr>\n",
       "    <tr>\n",
       "      <th>2009</th>\n",
       "      <td>190319</td>\n",
       "    </tr>\n",
       "    <tr>\n",
       "      <th>2010</th>\n",
       "      <td>245132</td>\n",
       "    </tr>\n",
       "    <tr>\n",
       "      <th>2011</th>\n",
       "      <td>246696</td>\n",
       "    </tr>\n",
       "    <tr>\n",
       "      <th>2012</th>\n",
       "      <td>275227</td>\n",
       "    </tr>\n",
       "    <tr>\n",
       "      <th>2013</th>\n",
       "      <td>296921</td>\n",
       "    </tr>\n",
       "    <tr>\n",
       "      <th>2014</th>\n",
       "      <td>326920</td>\n",
       "    </tr>\n",
       "    <tr>\n",
       "      <th>2015</th>\n",
       "      <td>324822</td>\n",
       "    </tr>\n",
       "    <tr>\n",
       "      <th>2016</th>\n",
       "      <td>340823</td>\n",
       "    </tr>\n",
       "  </tbody>\n",
       "</table>\n",
       "</div>"
      ],
      "text/plain": [
       "      nb_patents\n",
       "2007      183496\n",
       "2008      181694\n",
       "2009      190319\n",
       "2010      245132\n",
       "2011      246696\n",
       "2012      275227\n",
       "2013      296921\n",
       "2014      326920\n",
       "2015      324822\n",
       "2016      340823"
      ]
     },
     "execution_count": 59,
     "metadata": {},
     "output_type": "execute_result"
    }
   ],
   "source": [
    "year = list(range(2007,2017))\n",
    "list_nb_patent=[get_nb_patents_year(str(i)) for i in year]\n",
    "df_nb_patent=pd.DataFrame(index=year)\n",
    "df_nb_patent['nb_patents']=list_nb_patent\n",
    "df_nb_patent"
   ]
  },
  {
   "cell_type": "code",
   "execution_count": 60,
   "metadata": {},
   "outputs": [
    {
     "data": {
      "image/png": "[encoded data removed]",
      "text/plain": [
       "<matplotlib.figure.Figure at 0xcd8210>"
      ]
     },
     "metadata": {},
     "output_type": "display_data"
    }
   ],
   "source": [
    "plot(year, df_nb_patent['nb_patents'])\n",
    "plt.xlabel('years')\n",
    "plt.ylabel('number of granted patents')\n",
    "plt.show()"
   ]
  },
  {
   "cell_type": "code",
   "execution_count": 52,
   "metadata": {
    "collapsed": true
   },
   "outputs": [],
   "source": [
    "##NOT USEFUL ANYMORE\n",
    "def get_countries():\n",
    "    #patent_date=date patent was granted\n",
    "    query='q={\"_and\":[{\"_gte\":{\"patent_date\":\"2016-10-01\"}},{\"_lt\":{\"patent_date\":\"2017-01-01\"}}]}' \n",
    "    output='&f=[\"inventor_country\"]'\n",
    "    option='&o={\"page\":1,\"per_page\":10}'\n",
    "    r = requests.get(URL+query+output).json()  \n",
    "    nb_patents= pd.DataFrame(r).total_patent_count[0]\n",
    "    list_country_final=[]\n",
    "    for i in range(int(nb_patents/50000)):\n",
    "        option='&o={\"page\":'+str(i)+',\"per_page\":10000}'\n",
    "        r = requests.get(URL+query+output).json()  \n",
    "        df1=pd.DataFrame(r)\n",
    "        list_inventors = list(map(lambda x: x['inventors'][0], df1.patents))\n",
    "        list_inventors1  = list(set(map(lambda x: x['inventor_country'], list_inventors)))\n",
    "        list_country_final = list(set(list_country_final + list_inventors1))       \n",
    "    return list_country_final"
   ]
  },
  {
   "cell_type": "code",
   "execution_count": 180,
   "metadata": {
    "collapsed": true
   },
   "outputs": [],
   "source": [
    "dfLocation=pd.read_excel(os.getcwd()+'\\\\location.xlsx')"
   ]
  },
  {
   "cell_type": "code",
   "execution_count": 191,
   "metadata": {
    "collapsed": true
   },
   "outputs": [],
   "source": [
    "dfLocation.fillna(value='',inplace=True)\n",
    "countries=list(set(list(dfLocation['country'])))\n",
    "#just keep ISO country codes (remove error in the database)\n",
    "countries = [countries[i] for i in range(len(countries)) if (len(countries[i]) == 2 and countries[i]!='a\"')]"
   ]
  },
  {
   "cell_type": "markdown",
   "metadata": {},
   "source": [
    "The function get_nb_patent_country return a number of patents for a given country. There are usually multiple inventor in a patent which can be in a different country. In that case, count +1 for a country if at least one of the inventor is in the given country. The function give a number of patent between january 2016 and january 2017"
   ]
  },
  {
   "cell_type": "code",
   "execution_count": 219,
   "metadata": {
    "collapsed": true
   },
   "outputs": [],
   "source": [
    "def get_nb_patent_country(country):\n",
    "    query='q={\"_and\":[{\"_gte\":{\"patent_date\":\"2016-01-01\"}},{\"_lt\":{\"patent_date\":\"2017-01-01\"}},{\"_eq\":{\"inventor_country\":\"'+country+'\"}}]}' \n",
    "    output='&f=[\"inventor_country\"]'\n",
    "    option='&o={\"matched_subentities_only\":True}'\n",
    "    r = requests.get(URL+query+output).json() \n",
    "    #print(r)\n",
    "    try:\n",
    "        nb_patents= pd.DataFrame(r).total_patent_count[0] \n",
    "    except ValueError:\n",
    "        nb_patents=0\n",
    "    \n",
    "    return int(nb_patents)"
   ]
  },
  {
   "cell_type": "code",
   "execution_count": 220,
   "metadata": {
    "collapsed": true
   },
   "outputs": [],
   "source": [
    "dfNbPatents=pd.DataFrame(columns=['country','nb patents'])\n",
    "dfNbPatents['country']=countries\n",
    "dfNbPatents['nb patents']=list(map(lambda x: get_nb_patent_country(x),dfNbPatents['country']))"
   ]
  },
  {
   "cell_type": "code",
   "execution_count": 221,
   "metadata": {},
   "outputs": [
    {
     "data": {
      "text/plain": [
       "<matplotlib.axes._subplots.AxesSubplot at 0xeba64f0>"
      ]
     },
     "execution_count": 221,
     "metadata": {},
     "output_type": "execute_result"
    },
    {
     "data": {
      "image/png": "[encoded data removed]",
      "text/plain": [
       "<matplotlib.figure.Figure at 0x1047e5b0>"
      ]
     },
     "metadata": {},
     "output_type": "display_data"
    }
   ],
   "source": [
    "dfNbPatents.sort_values(by='nb patents',inplace=True, ascending=False)\n",
    "dfNbPatents.head(30).plot.bar(x='country', y='nb patents')"
   ]
  },
  {
   "cell_type": "code",
   "execution_count": 231,
   "metadata": {},
   "outputs": [
    {
     "name": "stderr",
     "output_type": "stream",
     "text": [
      "IOPub data rate exceeded.\n",
      "The notebook server will temporarily stop sending output\n",
      "to the client in order to avoid crashing it.\n",
      "To change this limit, set the config variable\n",
      "`--NotebookApp.iopub_data_rate_limit`.\n"
     ]
    }
   ],
   "source": [
    "\n",
    "m = folium.Map(location= [46.484, 8.1336],tiles='cartodbpositron',zoom_start=7)  \n",
    "countries_geo_path = r'countries.json'\n",
    "geo_json_data = json.load(open(countries_geo_path))\n",
    "\n",
    "folium.GeoJson(geo_json_data).add_to(m)\n",
    "\n",
    "#m.choropleth(geo_data=geo_json_data, data=dfNbPatents,\n",
    "#             columns=['country', 'nb patents'],\n",
    "#             key_on='feature.properties.ISO_A2',\n",
    "#             fill_color='BuPu', fill_opacity=0.7, line_opacity=0.2,\n",
    "#             legend_name='Number of patents granted')\n",
    "m\n"
   ]
  },
  {
   "cell_type": "code",
   "execution_count": 229,
   "metadata": {},
   "outputs": [
    {
     "name": "stdout",
     "output_type": "stream",
     "text": [
      "3.6.1 |Anaconda custom (32-bit)| (default, May 11 2017, 14:16:49) [MSC v.1900 32 bit (Intel)]\n"
     ]
    }
   ],
   "source": []
  },
  {
   "cell_type": "code",
   "execution_count": 230,
   "metadata": {},
   "outputs": [
    {
     "data": {
      "text/plain": [
       "True"
      ]
     },
     "execution_count": 230,
     "metadata": {},
     "output_type": "execute_result"
    }
   ],
   "source": []
  },
  {
   "cell_type": "code",
   "execution_count": null,
   "metadata": {
    "collapsed": true
   },
   "outputs": [],
   "source": []
  }
 ],
 "metadata": {
  "kernelspec": {
   "display_name": "Python 3",
   "language": "python",
   "name": "python3"
  },
  "language_info": {
   "codemirror_mode": {
    "name": "ipython",
    "version": 3
   },
   "file_extension": ".py",
   "mimetype": "text/x-python",
   "name": "python",
   "nbconvert_exporter": "python",
   "pygments_lexer": "ipython3",
   "version": "3.6.1"
  }
 },
 "nbformat": 4,
 "nbformat_minor": 2
}
