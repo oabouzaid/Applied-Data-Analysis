{
 "cells": [
  {
   "cell_type": "markdown",
   "metadata": {},
   "source": [
    "# Table of Contents\n",
    " <p><div class=\"lev1\"><a href=\"#Task-1.-Compiling-Ebola-Data\"><span class=\"toc-item-num\">Task 1.&nbsp;&nbsp;</span>Compiling Ebola Data</a></div>\n",
    " <div class=\"lev1\"><a href=\"#Task-2.-RNA-Sequences\"><span class=\"toc-item-num\">Task 2.&nbsp;&nbsp;</span>RNA Sequences</a></div>\n",
    " <div class=\"lev1\"><a href=\"#Task-3.-Class-War-in-Titanic\"><span class=\"toc-item-num\">Task 3.&nbsp;&nbsp;</span>Class War in Titanic</a></div></p>"
   ]
  },
  {
   "cell_type": "code",
   "execution_count": 519,
   "metadata": {
    "collapsed": true
   },
   "outputs": [],
   "source": [
    "DATA_FOLDER = '/Users/abouzaid/Desktop/MA1/ADA/Tutos (2nd done)/02 - Intro to Pandas/Data' # Use the data folder provided in Tutorial 02 - Intro to Pandas."
   ]
  },
  {
   "cell_type": "markdown",
   "metadata": {},
   "source": [
    "## Task 1. Compiling Ebola Data\n",
    "\n",
    "The `DATA_FOLDER/ebola` folder contains summarized reports of Ebola cases from three countries (Guinea, Liberia and Sierra Leone) during the recent outbreak of the disease in West Africa. For each country, there are daily reports that contain various information about the outbreak in several cities in each country.\n",
    "\n",
    "Use pandas to import these data files into a single `Dataframe`.\n",
    "Using this `DataFrame`, calculate for *each country*, the *daily average per month* of *new cases* and *deaths*.\n",
    "Make sure you handle all the different expressions for *new cases* and *deaths* that are used in the reports."
   ]
  },
  {
   "cell_type": "markdown",
   "metadata": {},
   "source": [
    "#### First of all, let us explain our conventions and assumptions for this exercise. \n",
    "For both new cases and deaths, we only took the values from the total column.\n",
    "\n",
    "1. By new cases, we included probable new cases, suspected new cases and confirmed new cases for the 3 countries.\n",
    "2. By deaths, we included the 'newly reported deaths' for Liberia, 'etc_new_deaths' for Sierra Leone and 'Total new cases registered so far' for Guinea, since the difference between the first and the last cumulative values will allow us to know how many deaths occured between the whole period.\n",
    "\n",
    "So for each country, we extract these informations, along with the month and the day. We then sum up the new cases and the deaths, seperately, for each month.\n",
    " <bn>*Not all the 3 countries have the reports for the same months (i.e. some months are NOT shared in common between the 3 report files) In theses cases we skip those months and mark 'not provied' for the corresponding month AND country in the resulting Dataframe. We will see this further below.\n",
    "\n",
    "#### N.B: For Guinea and Liberia, there is some corrupted files that don't contain at least one of the the rows mentionned in 1. or 2. We decided to skip those files.  \n"
   ]
  },
  {
   "cell_type": "code",
   "execution_count": 520,
   "metadata": {
    "collapsed": true
   },
   "outputs": [],
   "source": [
    "#Import required libraries\n",
    "import glob\n",
    "import math\n",
    "import numpy as np\n",
    "import pandas as pd "
   ]
  },
  {
   "cell_type": "code",
   "execution_count": 521,
   "metadata": {
    "collapsed": true
   },
   "outputs": [],
   "source": [
    "def getFiles(countryData):\n",
    "    return glob.glob(DATA_FOLDER + '/ebola/' + countryData + '/*.csv')\n",
    "\n",
    "def createDF(countryData, dateField, corruptedFiles):\n",
    "    files = getFiles(countryData)\n",
    "    list_ = []\n",
    "    for file_ in files:\n",
    "        # since certain file are corrupted and\n",
    "        # there is no way for us to exactly match columns of\n",
    "        # these to other files, we excluded them\n",
    "        if file_.split(\"/\")[-1] not in corruptedFiles:\n",
    "            df_ = pd.read_csv(file_, parse_dates=[dateField,])                \n",
    "            list_.append(df_)\n",
    "\n",
    "    # fill NAN values with 0 for ease of calculation\n",
    "    dfDummy = pd.concat(list_).fillna(0.)\n",
    "    \n",
    "    # standartize column names\n",
    "    dfDummy = dfDummy.rename(columns={'Variable': 'description','Date': 'date',\\\n",
    "                          'variable': 'description','National': 'total',\\\n",
    "                          'Description': 'description', 'Total':'total',\\\n",
    "                          'Totals':'total'})\n",
    "\n",
    "    # create new column called month\n",
    "    dfDummy['month'] = dfDummy.apply(lambda x: x['date'].month, axis=1)\n",
    "    dfDummy['day'] = dfDummy.apply(lambda x: x['date'].day, axis=1)\n",
    "    return dfDummy"
   ]
  },
  {
   "cell_type": "markdown",
   "metadata": {},
   "source": [
    "# Liberia"
   ]
  },
  {
   "cell_type": "markdown",
   "metadata": {},
   "source": [
    "##### List of corrupted files for Liberia"
   ]
  },
  {
   "cell_type": "code",
   "execution_count": 522,
   "metadata": {
    "collapsed": true
   },
   "outputs": [],
   "source": [
    "corruptedLiberia = [\"2014-12-09.csv\",\"2014-12-08.csv\",\"2014-12-07.csv\",\"2014-12-06.csv\",\n",
    "                    \"2014-12-05.csv\",\"2014-12-04.csv\",\"2014-12-03.csv\"]"
   ]
  },
  {
   "cell_type": "markdown",
   "metadata": {},
   "source": [
    "## New cases"
   ]
  },
  {
   "cell_type": "code",
   "execution_count": 523,
   "metadata": {},
   "outputs": [],
   "source": [
    "# Average new cases per month for Liberia\n",
    "# We've used the total of following three rows:\n",
    "# New case/s (confirmed)\n",
    "# New Case/s (Probable)\n",
    "# New Case/s (Suspected)in order to calculate daily average\n",
    "# since this rows gives the overall information of how many new cases occured each day\n",
    "dfLiberia = createDF('liberia_data', 'Date', corruptedLiberia)\n",
    "dfLiberia = dfLiberia[(dfLiberia.description == 'New Case/s (Suspected)')\\\n",
    "          | (dfLiberia.description == 'New Case/s (Probable)')\\\n",
    "          | (dfLiberia.description == 'New case/s (confirmed)')]\n",
    "dfLiberia = dfLiberia.set_index(['month', 'day', 'description'])\n",
    "dfLiberia['total'] = dfLiberia.total.astype('float64')\n",
    "liberiaNC = dfLiberia.groupby(level=['month','day']).sum().groupby(level=['month']).mean()[['total']]\n",
    "liberiaNC.columns=['Liberia-New Case']"
   ]
  },
  {
   "cell_type": "markdown",
   "metadata": {},
   "source": [
    "## Deaths"
   ]
  },
  {
   "cell_type": "code",
   "execution_count": 524,
   "metadata": {},
   "outputs": [],
   "source": [
    "# Average deaths per months for Liberia\n",
    "# We've used etc_new_deaths in order to calculate daily average\n",
    "# since this row gives the overall information of how many death occured each day\n",
    "dfLiberia = createDF('liberia_data', 'Date', corruptedLiberia)\n",
    "dfLiberia = dfLiberia[(dfLiberia.description == \"Newly reported deaths\")][['total','month']]\n",
    "dfLiberia['total'] = dfLiberia.total.astype('float64')\n",
    "liberiaD = dfLiberia.groupby('month').mean()[['total']]\n",
    "liberiaD.columns=['Liberia-Death']"
   ]
  },
  {
   "cell_type": "code",
   "execution_count": 525,
   "metadata": {},
   "outputs": [],
   "source": [
    "liberiaTwo = pd.concat([liberiaNC,liberiaD]).groupby('month').sum()"
   ]
  },
  {
   "cell_type": "markdown",
   "metadata": {},
   "source": [
    "# Sierra Leone"
   ]
  },
  {
   "cell_type": "markdown",
   "metadata": {},
   "source": [
    "### New cases"
   ]
  },
  {
   "cell_type": "code",
   "execution_count": 526,
   "metadata": {},
   "outputs": [],
   "source": [
    "# Average new cases per months for Sierra\n",
    "# We've used the total of following four rows:\n",
    "# new_noncase\n",
    "# new_suspected\n",
    "# new_probable\n",
    "# new_confirmed in order to calculate daily average\n",
    "# since this rows gives the overall information of how many new cases occured each day\n",
    "dfSierra = createDF('sl_data', 'date', [])\n",
    "dfSierra = dfSierra[(dfSierra.description == 'new_noncase')\\\n",
    "          | (dfSierra.description == 'new_suspected')\\\n",
    "          | (dfSierra.description == 'new_confirmed')\\\n",
    "          | (dfSierra.description == 'new_probable')]\n",
    "dfSierra = dfSierra.set_index(['month', 'day', 'description'])\n",
    "dfSierra['total'] = dfSierra.total.astype('float64')\n",
    "sierraNC = dfSierra.groupby(level=['month','day']).sum().groupby(level=['month']).mean()[['total']]\n",
    "sierraNC.columns=['Sierra-New Case']"
   ]
  },
  {
   "cell_type": "markdown",
   "metadata": {},
   "source": [
    "### Deaths"
   ]
  },
  {
   "cell_type": "code",
   "execution_count": 527,
   "metadata": {},
   "outputs": [],
   "source": [
    "# Average deaths per months for Sierra\n",
    "# We've used \"Total new cases registered\" so far in order to calculate daily average\n",
    "# since this row gives the overall information of how many new cases occured each day\n",
    "dfSierra = createDF('sl_data', 'date', [])\n",
    "dfSierra = dfSierra[(dfSierra.description == \"etc_new_deaths\")][['total','month']]\n",
    "dfSierra['total'] = dfSierra.total.astype('float64')\n",
    "sierraD = dfSierra.groupby('month').mean()[['total']]\n",
    "sierraD.columns=['Sierra-Death']"
   ]
  },
  {
   "cell_type": "code",
   "execution_count": 528,
   "metadata": {
    "collapsed": true
   },
   "outputs": [],
   "source": [
    "sierraTwo = pd.concat([sierraNC,sierraD]).groupby('month').sum()"
   ]
  },
  {
   "cell_type": "markdown",
   "metadata": {},
   "source": [
    "# Guinea"
   ]
  },
  {
   "cell_type": "markdown",
   "metadata": {},
   "source": [
    "##### List of corrupted files for Guinea"
   ]
  },
  {
   "cell_type": "code",
   "execution_count": 529,
   "metadata": {
    "collapsed": true
   },
   "outputs": [],
   "source": [
    "# List of corrupted files for Guinea\n",
    "corruptedGuinea = [\"2014-08-04.csv\"]"
   ]
  },
  {
   "cell_type": "markdown",
   "metadata": {},
   "source": [
    "### New cases"
   ]
  },
  {
   "cell_type": "code",
   "execution_count": 530,
   "metadata": {
    "collapsed": true
   },
   "outputs": [],
   "source": [
    "# Average new cases per months for Guinea\n",
    "# We've used \"Total new cases registered\" so far in order to calculate daily average\n",
    "# since this row gives the overall information of how many new cases occured each day\n",
    "dfGuinea = createDF('guinea_data', 'Date',corruptedGuinea)\n",
    "dfGuinea = dfGuinea[(dfGuinea.description == \"Total new cases registered so far\")]\\\n",
    "    [['total','month']]\n",
    "dfGuinea['total'] = dfGuinea.total.astype('float64')\n",
    "guineaNC = dfGuinea.groupby('month').mean()[['total']]\n",
    "guineaNC.columns=['Guinea-New Case']"
   ]
  },
  {
   "cell_type": "markdown",
   "metadata": {},
   "source": [
    "### Deaths"
   ]
  },
  {
   "cell_type": "code",
   "execution_count": 531,
   "metadata": {
    "collapsed": true
   },
   "outputs": [],
   "source": [
    "# Average deaths per months for Guinea\n",
    "# We've used \"New deaths registered\" so far in order to calculate daily average\n",
    "# since this row gives the overall information of how many new deaths occured each day\n",
    "dfGuinea = createDF('guinea_data', 'Date',corruptedGuinea)\n",
    "dfGuinea = dfGuinea[(dfGuinea.description == \"New deaths registered\")]\\\n",
    "    [['total','month']]\n",
    "dfGuinea['total'] = dfGuinea.total.astype('float64')\n",
    "guineaD = dfGuinea.groupby('month').mean()[['total']]\n",
    "guineaD.columns=['Guinea-Death']"
   ]
  },
  {
   "cell_type": "markdown",
   "metadata": {},
   "source": [
    "# Merging the 3 together"
   ]
  },
  {
   "cell_type": "markdown",
   "metadata": {},
   "source": [
    "After merging the 3, we group by month and calculate the sum for each month"
   ]
  },
  {
   "cell_type": "code",
   "execution_count": 532,
   "metadata": {
    "collapsed": true
   },
   "outputs": [],
   "source": [
    "guineaTwo = pd.concat([guineaNC,guineaD]).groupby('month').sum()"
   ]
  },
  {
   "cell_type": "code",
   "execution_count": 533,
   "metadata": {},
   "outputs": [
    {
     "data": {
      "text/html": [
       "<div>\n",
       "<style>\n",
       "    .dataframe thead tr:only-child th {\n",
       "        text-align: right;\n",
       "    }\n",
       "\n",
       "    .dataframe thead th {\n",
       "        text-align: left;\n",
       "    }\n",
       "\n",
       "    .dataframe tbody tr th {\n",
       "        vertical-align: top;\n",
       "    }\n",
       "</style>\n",
       "<table border=\"1\" class=\"dataframe\">\n",
       "  <thead>\n",
       "    <tr style=\"text-align: right;\">\n",
       "      <th></th>\n",
       "      <th>Guinea-Death</th>\n",
       "      <th>Guinea-New Case</th>\n",
       "      <th>Liberia-Death</th>\n",
       "      <th>Liberia-New Case</th>\n",
       "      <th>Sierra-Death</th>\n",
       "      <th>Sierra-New Case</th>\n",
       "    </tr>\n",
       "    <tr>\n",
       "      <th>month</th>\n",
       "      <th></th>\n",
       "      <th></th>\n",
       "      <th></th>\n",
       "      <th></th>\n",
       "      <th></th>\n",
       "      <th></th>\n",
       "    </tr>\n",
       "  </thead>\n",
       "  <tbody>\n",
       "    <tr>\n",
       "      <th>6</th>\n",
       "      <td>non provided</td>\n",
       "      <td>non provided</td>\n",
       "      <td>2.000000</td>\n",
       "      <td>5.714286</td>\n",
       "      <td>non provided</td>\n",
       "      <td>non provided</td>\n",
       "    </tr>\n",
       "    <tr>\n",
       "      <th>7</th>\n",
       "      <td>non provided</td>\n",
       "      <td>non provided</td>\n",
       "      <td>4.272727</td>\n",
       "      <td>8.545455</td>\n",
       "      <td>non provided</td>\n",
       "      <td>non provided</td>\n",
       "    </tr>\n",
       "    <tr>\n",
       "      <th>8</th>\n",
       "      <td>3.75</td>\n",
       "      <td>30</td>\n",
       "      <td>23.222222</td>\n",
       "      <td>37.222222</td>\n",
       "      <td>0</td>\n",
       "      <td>34.85</td>\n",
       "    </tr>\n",
       "    <tr>\n",
       "      <th>9</th>\n",
       "      <td>3.5625</td>\n",
       "      <td>19.625</td>\n",
       "      <td>36.041667</td>\n",
       "      <td>63.833333</td>\n",
       "      <td>0.275862</td>\n",
       "      <td>67.931</td>\n",
       "    </tr>\n",
       "    <tr>\n",
       "      <th>10</th>\n",
       "      <td>15</td>\n",
       "      <td>34</td>\n",
       "      <td>28.040000</td>\n",
       "      <td>45.560000</td>\n",
       "      <td>3.53571</td>\n",
       "      <td>124.214</td>\n",
       "    </tr>\n",
       "    <tr>\n",
       "      <th>11</th>\n",
       "      <td>non provided</td>\n",
       "      <td>non provided</td>\n",
       "      <td>13.466667</td>\n",
       "      <td>26.466667</td>\n",
       "      <td>0.571429</td>\n",
       "      <td>156.143</td>\n",
       "    </tr>\n",
       "    <tr>\n",
       "      <th>12</th>\n",
       "      <td>non provided</td>\n",
       "      <td>non provided</td>\n",
       "      <td>0.000000</td>\n",
       "      <td>36.000000</td>\n",
       "      <td>2.2</td>\n",
       "      <td>135.8</td>\n",
       "    </tr>\n",
       "  </tbody>\n",
       "</table>\n",
       "</div>"
      ],
      "text/plain": [
       "       Guinea-Death Guinea-New Case  Liberia-Death  Liberia-New Case  \\\n",
       "month                                                                  \n",
       "6      non provided    non provided       2.000000          5.714286   \n",
       "7      non provided    non provided       4.272727          8.545455   \n",
       "8              3.75              30      23.222222         37.222222   \n",
       "9            3.5625          19.625      36.041667         63.833333   \n",
       "10               15              34      28.040000         45.560000   \n",
       "11     non provided    non provided      13.466667         26.466667   \n",
       "12     non provided    non provided       0.000000         36.000000   \n",
       "\n",
       "       Sierra-Death Sierra-New Case  \n",
       "month                                \n",
       "6      non provided    non provided  \n",
       "7      non provided    non provided  \n",
       "8                 0           34.85  \n",
       "9          0.275862          67.931  \n",
       "10          3.53571         124.214  \n",
       "11         0.571429         156.143  \n",
       "12              2.2           135.8  "
      ]
     },
     "execution_count": 533,
     "metadata": {},
     "output_type": "execute_result"
    }
   ],
   "source": [
    "# All findings in a table\n",
    "a = pd.concat([liberiaTwo,sierraTwo,guineaTwo]).groupby('month').sum()\n",
    "a.fillna('non provided')"
   ]
  },
  {
   "cell_type": "markdown",
   "metadata": {},
   "source": [
    "### Single Dataframe representing the average deaths and new cases, per month, for each country.\n",
    "#### N.B: We marked 'non provided' for the missing informations."
   ]
  },
  {
   "cell_type": "markdown",
   "metadata": {},
   "source": [
    "## Task 2. RNA Sequences\n",
    "\n",
    "In the `DATA_FOLDER/microbiome` subdirectory, there are 9 spreadsheets of microbiome data that was acquired from high-throughput RNA sequencing procedures, along with a 10<sup>th</sup> file that describes the content of each. \n",
    "\n",
    "Use pandas to import the first 9 spreadsheets into a single `DataFrame`.\n",
    "Then, add the metadata information from the 10<sup>th</sup> spreadsheet as columns in the combined `DataFrame`.\n",
    "Make sure that the final `DataFrame` has a unique index and all the `NaN` values have been replaced by the tag `unknown`."
   ]
  },
  {
   "cell_type": "markdown",
   "metadata": {},
   "source": [
    "#### We import here all the MID files, and assign each one of them the corresponding barcode (Which contains the same of base name). Once this is done, for all the databases, we concatenate them to a single dataframe, which is df2:"
   ]
  },
  {
   "cell_type": "code",
   "execution_count": 534,
   "metadata": {
    "collapsed": true
   },
   "outputs": [],
   "source": [
    "import os\n",
    "files = glob.glob(DATA_FOLDER+'/microbiome/MID*.xls') \n",
    "df2 = pd.concat(pd.read_excel(filename, header=None).assign(BARCODE=os.path.basename(filename).strip(\".xls\")) for filename in files)"
   ]
  },
  {
   "cell_type": "code",
   "execution_count": 535,
   "metadata": {
    "scrolled": false
   },
   "outputs": [
    {
     "data": {
      "text/html": [
       "<div>\n",
       "<style>\n",
       "    .dataframe thead tr:only-child th {\n",
       "        text-align: right;\n",
       "    }\n",
       "\n",
       "    .dataframe thead th {\n",
       "        text-align: left;\n",
       "    }\n",
       "\n",
       "    .dataframe tbody tr th {\n",
       "        vertical-align: top;\n",
       "    }\n",
       "</style>\n",
       "<table border=\"1\" class=\"dataframe\">\n",
       "  <thead>\n",
       "    <tr style=\"text-align: right;\">\n",
       "      <th></th>\n",
       "      <th>0</th>\n",
       "      <th>1</th>\n",
       "      <th>BARCODE</th>\n",
       "    </tr>\n",
       "  </thead>\n",
       "  <tbody>\n",
       "    <tr>\n",
       "      <th>0</th>\n",
       "      <td>Archaea \"Crenarchaeota\" Thermoprotei Desulfuro...</td>\n",
       "      <td>7</td>\n",
       "      <td>MID1</td>\n",
       "    </tr>\n",
       "    <tr>\n",
       "      <th>1</th>\n",
       "      <td>Archaea \"Crenarchaeota\" Thermoprotei Desulfuro...</td>\n",
       "      <td>2</td>\n",
       "      <td>MID1</td>\n",
       "    </tr>\n",
       "    <tr>\n",
       "      <th>2</th>\n",
       "      <td>Archaea \"Crenarchaeota\" Thermoprotei Sulfoloba...</td>\n",
       "      <td>3</td>\n",
       "      <td>MID1</td>\n",
       "    </tr>\n",
       "    <tr>\n",
       "      <th>3</th>\n",
       "      <td>Archaea \"Crenarchaeota\" Thermoprotei Thermopro...</td>\n",
       "      <td>3</td>\n",
       "      <td>MID1</td>\n",
       "    </tr>\n",
       "    <tr>\n",
       "      <th>4</th>\n",
       "      <td>Archaea \"Euryarchaeota\" \"Methanomicrobia\" Meth...</td>\n",
       "      <td>7</td>\n",
       "      <td>MID1</td>\n",
       "    </tr>\n",
       "    <tr>\n",
       "      <th>5</th>\n",
       "      <td>Archaea \"Euryarchaeota\" \"Methanomicrobia\" Meth...</td>\n",
       "      <td>1</td>\n",
       "      <td>MID1</td>\n",
       "    </tr>\n",
       "    <tr>\n",
       "      <th>6</th>\n",
       "      <td>Archaea \"Euryarchaeota\" \"Methanomicrobia\" Meth...</td>\n",
       "      <td>1</td>\n",
       "      <td>MID1</td>\n",
       "    </tr>\n",
       "    <tr>\n",
       "      <th>7</th>\n",
       "      <td>Archaea \"Euryarchaeota\" Archaeoglobi Archaeogl...</td>\n",
       "      <td>1</td>\n",
       "      <td>MID1</td>\n",
       "    </tr>\n",
       "    <tr>\n",
       "      <th>8</th>\n",
       "      <td>Archaea \"Euryarchaeota\" Archaeoglobi Archaeogl...</td>\n",
       "      <td>1</td>\n",
       "      <td>MID1</td>\n",
       "    </tr>\n",
       "    <tr>\n",
       "      <th>9</th>\n",
       "      <td>Archaea \"Euryarchaeota\" Halobacteria Halobacte...</td>\n",
       "      <td>1</td>\n",
       "      <td>MID1</td>\n",
       "    </tr>\n",
       "    <tr>\n",
       "      <th>10</th>\n",
       "      <td>Archaea \"Euryarchaeota\" Halobacteria Halobacte...</td>\n",
       "      <td>4</td>\n",
       "      <td>MID1</td>\n",
       "    </tr>\n",
       "    <tr>\n",
       "      <th>11</th>\n",
       "      <td>Archaea \"Euryarchaeota\" Halobacteria Halobacte...</td>\n",
       "      <td>1</td>\n",
       "      <td>MID1</td>\n",
       "    </tr>\n",
       "    <tr>\n",
       "      <th>12</th>\n",
       "      <td>Archaea \"Euryarchaeota\" Halobacteria Halobacte...</td>\n",
       "      <td>2</td>\n",
       "      <td>MID1</td>\n",
       "    </tr>\n",
       "    <tr>\n",
       "      <th>13</th>\n",
       "      <td>Archaea \"Euryarchaeota\" Halobacteria Halobacte...</td>\n",
       "      <td>4</td>\n",
       "      <td>MID1</td>\n",
       "    </tr>\n",
       "    <tr>\n",
       "      <th>14</th>\n",
       "      <td>Archaea \"Euryarchaeota\" Methanococci Methanoco...</td>\n",
       "      <td>1</td>\n",
       "      <td>MID1</td>\n",
       "    </tr>\n",
       "    <tr>\n",
       "      <th>15</th>\n",
       "      <td>Archaea \"Euryarchaeota\" Methanopyri Methanopyr...</td>\n",
       "      <td>12</td>\n",
       "      <td>MID1</td>\n",
       "    </tr>\n",
       "    <tr>\n",
       "      <th>16</th>\n",
       "      <td>Archaea \"Euryarchaeota\" Thermoplasmata Thermop...</td>\n",
       "      <td>2</td>\n",
       "      <td>MID1</td>\n",
       "    </tr>\n",
       "    <tr>\n",
       "      <th>17</th>\n",
       "      <td>Bacteria \"Actinobacteria\" Actinobacteria Actin...</td>\n",
       "      <td>2</td>\n",
       "      <td>MID1</td>\n",
       "    </tr>\n",
       "    <tr>\n",
       "      <th>18</th>\n",
       "      <td>Bacteria \"Actinobacteria\" Actinobacteria Actin...</td>\n",
       "      <td>1</td>\n",
       "      <td>MID1</td>\n",
       "    </tr>\n",
       "    <tr>\n",
       "      <th>19</th>\n",
       "      <td>Bacteria \"Actinobacteria\" Actinobacteria Actin...</td>\n",
       "      <td>1</td>\n",
       "      <td>MID1</td>\n",
       "    </tr>\n",
       "    <tr>\n",
       "      <th>20</th>\n",
       "      <td>Bacteria \"Actinobacteria\" Actinobacteria Actin...</td>\n",
       "      <td>1</td>\n",
       "      <td>MID1</td>\n",
       "    </tr>\n",
       "    <tr>\n",
       "      <th>21</th>\n",
       "      <td>Bacteria \"Actinobacteria\" Actinobacteria Actin...</td>\n",
       "      <td>2</td>\n",
       "      <td>MID1</td>\n",
       "    </tr>\n",
       "    <tr>\n",
       "      <th>22</th>\n",
       "      <td>Bacteria \"Actinobacteria\" Actinobacteria Actin...</td>\n",
       "      <td>53</td>\n",
       "      <td>MID1</td>\n",
       "    </tr>\n",
       "    <tr>\n",
       "      <th>23</th>\n",
       "      <td>Bacteria \"Actinobacteria\" Actinobacteria Actin...</td>\n",
       "      <td>1</td>\n",
       "      <td>MID1</td>\n",
       "    </tr>\n",
       "    <tr>\n",
       "      <th>24</th>\n",
       "      <td>Bacteria \"Actinobacteria\" Actinobacteria Actin...</td>\n",
       "      <td>2</td>\n",
       "      <td>MID1</td>\n",
       "    </tr>\n",
       "    <tr>\n",
       "      <th>25</th>\n",
       "      <td>Bacteria \"Actinobacteria\" Actinobacteria Actin...</td>\n",
       "      <td>3</td>\n",
       "      <td>MID1</td>\n",
       "    </tr>\n",
       "    <tr>\n",
       "      <th>26</th>\n",
       "      <td>Bacteria \"Actinobacteria\" Actinobacteria Actin...</td>\n",
       "      <td>1</td>\n",
       "      <td>MID1</td>\n",
       "    </tr>\n",
       "    <tr>\n",
       "      <th>27</th>\n",
       "      <td>Bacteria \"Actinobacteria\" Actinobacteria Actin...</td>\n",
       "      <td>99</td>\n",
       "      <td>MID1</td>\n",
       "    </tr>\n",
       "    <tr>\n",
       "      <th>28</th>\n",
       "      <td>Bacteria \"Actinobacteria\" Actinobacteria Actin...</td>\n",
       "      <td>17</td>\n",
       "      <td>MID1</td>\n",
       "    </tr>\n",
       "    <tr>\n",
       "      <th>29</th>\n",
       "      <td>Bacteria \"Actinobacteria\" Actinobacteria Actin...</td>\n",
       "      <td>2</td>\n",
       "      <td>MID1</td>\n",
       "    </tr>\n",
       "    <tr>\n",
       "      <th>...</th>\n",
       "      <td>...</td>\n",
       "      <td>...</td>\n",
       "      <td>...</td>\n",
       "    </tr>\n",
       "    <tr>\n",
       "      <th>251</th>\n",
       "      <td>Bacteria \"Proteobacteria\" Gammaproteobacteria ...</td>\n",
       "      <td>10</td>\n",
       "      <td>MID9</td>\n",
       "    </tr>\n",
       "    <tr>\n",
       "      <th>252</th>\n",
       "      <td>Bacteria \"Proteobacteria\" Gammaproteobacteria ...</td>\n",
       "      <td>1</td>\n",
       "      <td>MID9</td>\n",
       "    </tr>\n",
       "    <tr>\n",
       "      <th>253</th>\n",
       "      <td>Bacteria \"Proteobacteria\" Gammaproteobacteria ...</td>\n",
       "      <td>1</td>\n",
       "      <td>MID9</td>\n",
       "    </tr>\n",
       "    <tr>\n",
       "      <th>254</th>\n",
       "      <td>Bacteria \"Proteobacteria\" Gammaproteobacteria ...</td>\n",
       "      <td>1</td>\n",
       "      <td>MID9</td>\n",
       "    </tr>\n",
       "    <tr>\n",
       "      <th>255</th>\n",
       "      <td>Bacteria \"Proteobacteria\" Gammaproteobacteria ...</td>\n",
       "      <td>12</td>\n",
       "      <td>MID9</td>\n",
       "    </tr>\n",
       "    <tr>\n",
       "      <th>256</th>\n",
       "      <td>Bacteria \"Proteobacteria\" Gammaproteobacteria ...</td>\n",
       "      <td>4</td>\n",
       "      <td>MID9</td>\n",
       "    </tr>\n",
       "    <tr>\n",
       "      <th>257</th>\n",
       "      <td>Bacteria \"Proteobacteria\" Gammaproteobacteria ...</td>\n",
       "      <td>805</td>\n",
       "      <td>MID9</td>\n",
       "    </tr>\n",
       "    <tr>\n",
       "      <th>258</th>\n",
       "      <td>Bacteria \"Proteobacteria\" Gammaproteobacteria ...</td>\n",
       "      <td>862</td>\n",
       "      <td>MID9</td>\n",
       "    </tr>\n",
       "    <tr>\n",
       "      <th>259</th>\n",
       "      <td>Bacteria \"Proteobacteria\" Gammaproteobacteria ...</td>\n",
       "      <td>12</td>\n",
       "      <td>MID9</td>\n",
       "    </tr>\n",
       "    <tr>\n",
       "      <th>260</th>\n",
       "      <td>Bacteria \"Proteobacteria\" Gammaproteobacteria ...</td>\n",
       "      <td>3534</td>\n",
       "      <td>MID9</td>\n",
       "    </tr>\n",
       "    <tr>\n",
       "      <th>261</th>\n",
       "      <td>Bacteria \"Proteobacteria\" Gammaproteobacteria ...</td>\n",
       "      <td>4</td>\n",
       "      <td>MID9</td>\n",
       "    </tr>\n",
       "    <tr>\n",
       "      <th>262</th>\n",
       "      <td>Bacteria \"Proteobacteria\" Gammaproteobacteria ...</td>\n",
       "      <td>1</td>\n",
       "      <td>MID9</td>\n",
       "    </tr>\n",
       "    <tr>\n",
       "      <th>263</th>\n",
       "      <td>Bacteria \"Proteobacteria\" Gammaproteobacteria ...</td>\n",
       "      <td>25</td>\n",
       "      <td>MID9</td>\n",
       "    </tr>\n",
       "    <tr>\n",
       "      <th>264</th>\n",
       "      <td>Bacteria \"Proteobacteria\" Gammaproteobacteria ...</td>\n",
       "      <td>2</td>\n",
       "      <td>MID9</td>\n",
       "    </tr>\n",
       "    <tr>\n",
       "      <th>265</th>\n",
       "      <td>Bacteria \"Proteobacteria\" Gammaproteobacteria ...</td>\n",
       "      <td>3</td>\n",
       "      <td>MID9</td>\n",
       "    </tr>\n",
       "    <tr>\n",
       "      <th>266</th>\n",
       "      <td>Bacteria \"Proteobacteria\" Gammaproteobacteria ...</td>\n",
       "      <td>2</td>\n",
       "      <td>MID9</td>\n",
       "    </tr>\n",
       "    <tr>\n",
       "      <th>267</th>\n",
       "      <td>Bacteria \"Proteobacteria\" Gammaproteobacteria ...</td>\n",
       "      <td>1</td>\n",
       "      <td>MID9</td>\n",
       "    </tr>\n",
       "    <tr>\n",
       "      <th>268</th>\n",
       "      <td>Bacteria \"Proteobacteria\" Gammaproteobacteria ...</td>\n",
       "      <td>3</td>\n",
       "      <td>MID9</td>\n",
       "    </tr>\n",
       "    <tr>\n",
       "      <th>269</th>\n",
       "      <td>Bacteria \"Proteobacteria\" Gammaproteobacteria ...</td>\n",
       "      <td>2</td>\n",
       "      <td>MID9</td>\n",
       "    </tr>\n",
       "    <tr>\n",
       "      <th>270</th>\n",
       "      <td>Bacteria \"Proteobacteria\" Gammaproteobacteria ...</td>\n",
       "      <td>1</td>\n",
       "      <td>MID9</td>\n",
       "    </tr>\n",
       "    <tr>\n",
       "      <th>271</th>\n",
       "      <td>Bacteria \"Synergistetes\" Synergistia Synergist...</td>\n",
       "      <td>3</td>\n",
       "      <td>MID9</td>\n",
       "    </tr>\n",
       "    <tr>\n",
       "      <th>272</th>\n",
       "      <td>Bacteria \"Tenericutes\" Mollicutes Anaeroplasma...</td>\n",
       "      <td>1</td>\n",
       "      <td>MID9</td>\n",
       "    </tr>\n",
       "    <tr>\n",
       "      <th>273</th>\n",
       "      <td>Bacteria \"Tenericutes\" Mollicutes Haloplasmata...</td>\n",
       "      <td>11</td>\n",
       "      <td>MID9</td>\n",
       "    </tr>\n",
       "    <tr>\n",
       "      <th>274</th>\n",
       "      <td>Bacteria \"Thermodesulfobacteria\" Thermodesulfo...</td>\n",
       "      <td>1</td>\n",
       "      <td>MID9</td>\n",
       "    </tr>\n",
       "    <tr>\n",
       "      <th>275</th>\n",
       "      <td>Bacteria \"Thermodesulfobacteria\" Thermodesulfo...</td>\n",
       "      <td>1</td>\n",
       "      <td>MID9</td>\n",
       "    </tr>\n",
       "    <tr>\n",
       "      <th>276</th>\n",
       "      <td>Bacteria \"Thermotogae\" Thermotogae Thermotogal...</td>\n",
       "      <td>43</td>\n",
       "      <td>MID9</td>\n",
       "    </tr>\n",
       "    <tr>\n",
       "      <th>277</th>\n",
       "      <td>Bacteria \"Thermotogae\" Thermotogae Thermotogal...</td>\n",
       "      <td>16</td>\n",
       "      <td>MID9</td>\n",
       "    </tr>\n",
       "    <tr>\n",
       "      <th>278</th>\n",
       "      <td>Bacteria \"Verrucomicrobia\" Opitutae Opitutales...</td>\n",
       "      <td>1</td>\n",
       "      <td>MID9</td>\n",
       "    </tr>\n",
       "    <tr>\n",
       "      <th>279</th>\n",
       "      <td>Bacteria Cyanobacteria Cyanobacteria  Chloropl...</td>\n",
       "      <td>1</td>\n",
       "      <td>MID9</td>\n",
       "    </tr>\n",
       "    <tr>\n",
       "      <th>280</th>\n",
       "      <td>Bacteria Cyanobacteria Cyanobacteria  Chloropl...</td>\n",
       "      <td>10</td>\n",
       "      <td>MID9</td>\n",
       "    </tr>\n",
       "  </tbody>\n",
       "</table>\n",
       "<p>2396 rows × 3 columns</p>\n",
       "</div>"
      ],
      "text/plain": [
       "                                                     0     1 BARCODE\n",
       "0    Archaea \"Crenarchaeota\" Thermoprotei Desulfuro...     7    MID1\n",
       "1    Archaea \"Crenarchaeota\" Thermoprotei Desulfuro...     2    MID1\n",
       "2    Archaea \"Crenarchaeota\" Thermoprotei Sulfoloba...     3    MID1\n",
       "3    Archaea \"Crenarchaeota\" Thermoprotei Thermopro...     3    MID1\n",
       "4    Archaea \"Euryarchaeota\" \"Methanomicrobia\" Meth...     7    MID1\n",
       "5    Archaea \"Euryarchaeota\" \"Methanomicrobia\" Meth...     1    MID1\n",
       "6    Archaea \"Euryarchaeota\" \"Methanomicrobia\" Meth...     1    MID1\n",
       "7    Archaea \"Euryarchaeota\" Archaeoglobi Archaeogl...     1    MID1\n",
       "8    Archaea \"Euryarchaeota\" Archaeoglobi Archaeogl...     1    MID1\n",
       "9    Archaea \"Euryarchaeota\" Halobacteria Halobacte...     1    MID1\n",
       "10   Archaea \"Euryarchaeota\" Halobacteria Halobacte...     4    MID1\n",
       "11   Archaea \"Euryarchaeota\" Halobacteria Halobacte...     1    MID1\n",
       "12   Archaea \"Euryarchaeota\" Halobacteria Halobacte...     2    MID1\n",
       "13   Archaea \"Euryarchaeota\" Halobacteria Halobacte...     4    MID1\n",
       "14   Archaea \"Euryarchaeota\" Methanococci Methanoco...     1    MID1\n",
       "15   Archaea \"Euryarchaeota\" Methanopyri Methanopyr...    12    MID1\n",
       "16   Archaea \"Euryarchaeota\" Thermoplasmata Thermop...     2    MID1\n",
       "17   Bacteria \"Actinobacteria\" Actinobacteria Actin...     2    MID1\n",
       "18   Bacteria \"Actinobacteria\" Actinobacteria Actin...     1    MID1\n",
       "19   Bacteria \"Actinobacteria\" Actinobacteria Actin...     1    MID1\n",
       "20   Bacteria \"Actinobacteria\" Actinobacteria Actin...     1    MID1\n",
       "21   Bacteria \"Actinobacteria\" Actinobacteria Actin...     2    MID1\n",
       "22   Bacteria \"Actinobacteria\" Actinobacteria Actin...    53    MID1\n",
       "23   Bacteria \"Actinobacteria\" Actinobacteria Actin...     1    MID1\n",
       "24   Bacteria \"Actinobacteria\" Actinobacteria Actin...     2    MID1\n",
       "25   Bacteria \"Actinobacteria\" Actinobacteria Actin...     3    MID1\n",
       "26   Bacteria \"Actinobacteria\" Actinobacteria Actin...     1    MID1\n",
       "27   Bacteria \"Actinobacteria\" Actinobacteria Actin...    99    MID1\n",
       "28   Bacteria \"Actinobacteria\" Actinobacteria Actin...    17    MID1\n",
       "29   Bacteria \"Actinobacteria\" Actinobacteria Actin...     2    MID1\n",
       "..                                                 ...   ...     ...\n",
       "251  Bacteria \"Proteobacteria\" Gammaproteobacteria ...    10    MID9\n",
       "252  Bacteria \"Proteobacteria\" Gammaproteobacteria ...     1    MID9\n",
       "253  Bacteria \"Proteobacteria\" Gammaproteobacteria ...     1    MID9\n",
       "254  Bacteria \"Proteobacteria\" Gammaproteobacteria ...     1    MID9\n",
       "255  Bacteria \"Proteobacteria\" Gammaproteobacteria ...    12    MID9\n",
       "256  Bacteria \"Proteobacteria\" Gammaproteobacteria ...     4    MID9\n",
       "257  Bacteria \"Proteobacteria\" Gammaproteobacteria ...   805    MID9\n",
       "258  Bacteria \"Proteobacteria\" Gammaproteobacteria ...   862    MID9\n",
       "259  Bacteria \"Proteobacteria\" Gammaproteobacteria ...    12    MID9\n",
       "260  Bacteria \"Proteobacteria\" Gammaproteobacteria ...  3534    MID9\n",
       "261  Bacteria \"Proteobacteria\" Gammaproteobacteria ...     4    MID9\n",
       "262  Bacteria \"Proteobacteria\" Gammaproteobacteria ...     1    MID9\n",
       "263  Bacteria \"Proteobacteria\" Gammaproteobacteria ...    25    MID9\n",
       "264  Bacteria \"Proteobacteria\" Gammaproteobacteria ...     2    MID9\n",
       "265  Bacteria \"Proteobacteria\" Gammaproteobacteria ...     3    MID9\n",
       "266  Bacteria \"Proteobacteria\" Gammaproteobacteria ...     2    MID9\n",
       "267  Bacteria \"Proteobacteria\" Gammaproteobacteria ...     1    MID9\n",
       "268  Bacteria \"Proteobacteria\" Gammaproteobacteria ...     3    MID9\n",
       "269  Bacteria \"Proteobacteria\" Gammaproteobacteria ...     2    MID9\n",
       "270  Bacteria \"Proteobacteria\" Gammaproteobacteria ...     1    MID9\n",
       "271  Bacteria \"Synergistetes\" Synergistia Synergist...     3    MID9\n",
       "272  Bacteria \"Tenericutes\" Mollicutes Anaeroplasma...     1    MID9\n",
       "273  Bacteria \"Tenericutes\" Mollicutes Haloplasmata...    11    MID9\n",
       "274  Bacteria \"Thermodesulfobacteria\" Thermodesulfo...     1    MID9\n",
       "275  Bacteria \"Thermodesulfobacteria\" Thermodesulfo...     1    MID9\n",
       "276  Bacteria \"Thermotogae\" Thermotogae Thermotogal...    43    MID9\n",
       "277  Bacteria \"Thermotogae\" Thermotogae Thermotogal...    16    MID9\n",
       "278  Bacteria \"Verrucomicrobia\" Opitutae Opitutales...     1    MID9\n",
       "279  Bacteria Cyanobacteria Cyanobacteria  Chloropl...     1    MID9\n",
       "280  Bacteria Cyanobacteria Cyanobacteria  Chloropl...    10    MID9\n",
       "\n",
       "[2396 rows x 3 columns]"
      ]
     },
     "execution_count": 535,
     "metadata": {},
     "output_type": "execute_result"
    }
   ],
   "source": [
    "df2"
   ]
  },
  {
   "cell_type": "markdown",
   "metadata": {},
   "source": [
    "We now read the metadata file"
   ]
  },
  {
   "cell_type": "code",
   "execution_count": 536,
   "metadata": {},
   "outputs": [],
   "source": [
    "md = pd.read_excel(DATA_FOLDER+'/microbiome/metadata.xls')"
   ]
  },
  {
   "cell_type": "markdown",
   "metadata": {},
   "source": [
    "We now do an outer merge (union) of our dataframe with the one containing the metadata, based on the BARCODE column. "
   ]
  },
  {
   "cell_type": "code",
   "execution_count": 537,
   "metadata": {
    "collapsed": true
   },
   "outputs": [],
   "source": [
    "df3 = pd.merge(df2, md, on='BARCODE', how='outer')"
   ]
  },
  {
   "cell_type": "markdown",
   "metadata": {},
   "source": [
    "#### Now, we change the indexes of the microbiome descriptions, by adding appending the name of the file they belong to, in order to have a unique index, because a microbiome may be present on more than one file (and then dataframe), and in which case the indexes would not be unique. "
   ]
  },
  {
   "cell_type": "code",
   "execution_count": 538,
   "metadata": {
    "collapsed": true
   },
   "outputs": [],
   "source": [
    "df3.index = df3[0] + \"-\" + df3['BARCODE']"
   ]
  },
  {
   "cell_type": "markdown",
   "metadata": {},
   "source": [
    "We fill all the NaNs with unknown, as a convention"
   ]
  },
  {
   "cell_type": "code",
   "execution_count": 539,
   "metadata": {
    "collapsed": true
   },
   "outputs": [],
   "source": [
    "df3 = df3.fillna('unknown')"
   ]
  },
  {
   "cell_type": "markdown",
   "metadata": {},
   "source": [
    "We rename all the columns to give our dataframe more 'sense'"
   ]
  },
  {
   "cell_type": "code",
   "execution_count": 540,
   "metadata": {
    "collapsed": true
   },
   "outputs": [],
   "source": [
    "df3.columns = ['DESCRIPTION','AMOUNT','BARCODE','GROUP','SAMPLE']"
   ]
  },
  {
   "cell_type": "markdown",
   "metadata": {},
   "source": [
    "And here is what it looks like:"
   ]
  },
  {
   "cell_type": "code",
   "execution_count": 541,
   "metadata": {},
   "outputs": [
    {
     "data": {
      "text/html": [
       "<div>\n",
       "<style>\n",
       "    .dataframe thead tr:only-child th {\n",
       "        text-align: right;\n",
       "    }\n",
       "\n",
       "    .dataframe thead th {\n",
       "        text-align: left;\n",
       "    }\n",
       "\n",
       "    .dataframe tbody tr th {\n",
       "        vertical-align: top;\n",
       "    }\n",
       "</style>\n",
       "<table border=\"1\" class=\"dataframe\">\n",
       "  <thead>\n",
       "    <tr style=\"text-align: right;\">\n",
       "      <th></th>\n",
       "      <th>DESCRIPTION</th>\n",
       "      <th>AMOUNT</th>\n",
       "      <th>BARCODE</th>\n",
       "      <th>GROUP</th>\n",
       "      <th>SAMPLE</th>\n",
       "    </tr>\n",
       "  </thead>\n",
       "  <tbody>\n",
       "    <tr>\n",
       "      <th>Archaea \"Crenarchaeota\" Thermoprotei Desulfurococcales Desulfurococcaceae Ignisphaera-MID1</th>\n",
       "      <td>Archaea \"Crenarchaeota\" Thermoprotei Desulfuro...</td>\n",
       "      <td>7</td>\n",
       "      <td>MID1</td>\n",
       "      <td>EXTRACTION CONTROL</td>\n",
       "      <td>unknown</td>\n",
       "    </tr>\n",
       "    <tr>\n",
       "      <th>Archaea \"Crenarchaeota\" Thermoprotei Desulfurococcales Pyrodictiaceae Pyrolobus-MID1</th>\n",
       "      <td>Archaea \"Crenarchaeota\" Thermoprotei Desulfuro...</td>\n",
       "      <td>2</td>\n",
       "      <td>MID1</td>\n",
       "      <td>EXTRACTION CONTROL</td>\n",
       "      <td>unknown</td>\n",
       "    </tr>\n",
       "    <tr>\n",
       "      <th>Archaea \"Crenarchaeota\" Thermoprotei Sulfolobales Sulfolobaceae Stygiolobus-MID1</th>\n",
       "      <td>Archaea \"Crenarchaeota\" Thermoprotei Sulfoloba...</td>\n",
       "      <td>3</td>\n",
       "      <td>MID1</td>\n",
       "      <td>EXTRACTION CONTROL</td>\n",
       "      <td>unknown</td>\n",
       "    </tr>\n",
       "    <tr>\n",
       "      <th>Archaea \"Crenarchaeota\" Thermoprotei Thermoproteales Thermofilaceae Thermofilum-MID1</th>\n",
       "      <td>Archaea \"Crenarchaeota\" Thermoprotei Thermopro...</td>\n",
       "      <td>3</td>\n",
       "      <td>MID1</td>\n",
       "      <td>EXTRACTION CONTROL</td>\n",
       "      <td>unknown</td>\n",
       "    </tr>\n",
       "    <tr>\n",
       "      <th>Archaea \"Euryarchaeota\" \"Methanomicrobia\" Methanocellales Methanocellaceae Methanocella-MID1</th>\n",
       "      <td>Archaea \"Euryarchaeota\" \"Methanomicrobia\" Meth...</td>\n",
       "      <td>7</td>\n",
       "      <td>MID1</td>\n",
       "      <td>EXTRACTION CONTROL</td>\n",
       "      <td>unknown</td>\n",
       "    </tr>\n",
       "    <tr>\n",
       "      <th>Archaea \"Euryarchaeota\" \"Methanomicrobia\" Methanosarcinales Methanosarcinaceae Methanimicrococcus-MID1</th>\n",
       "      <td>Archaea \"Euryarchaeota\" \"Methanomicrobia\" Meth...</td>\n",
       "      <td>1</td>\n",
       "      <td>MID1</td>\n",
       "      <td>EXTRACTION CONTROL</td>\n",
       "      <td>unknown</td>\n",
       "    </tr>\n",
       "    <tr>\n",
       "      <th>Archaea \"Euryarchaeota\" \"Methanomicrobia\" Methanosarcinales Methermicoccaceae Methermicoccus-MID1</th>\n",
       "      <td>Archaea \"Euryarchaeota\" \"Methanomicrobia\" Meth...</td>\n",
       "      <td>1</td>\n",
       "      <td>MID1</td>\n",
       "      <td>EXTRACTION CONTROL</td>\n",
       "      <td>unknown</td>\n",
       "    </tr>\n",
       "    <tr>\n",
       "      <th>Archaea \"Euryarchaeota\" Archaeoglobi Archaeoglobales Archaeoglobaceae Ferroglobus-MID1</th>\n",
       "      <td>Archaea \"Euryarchaeota\" Archaeoglobi Archaeogl...</td>\n",
       "      <td>1</td>\n",
       "      <td>MID1</td>\n",
       "      <td>EXTRACTION CONTROL</td>\n",
       "      <td>unknown</td>\n",
       "    </tr>\n",
       "    <tr>\n",
       "      <th>Archaea \"Euryarchaeota\" Archaeoglobi Archaeoglobales Archaeoglobaceae Geoglobus-MID1</th>\n",
       "      <td>Archaea \"Euryarchaeota\" Archaeoglobi Archaeogl...</td>\n",
       "      <td>1</td>\n",
       "      <td>MID1</td>\n",
       "      <td>EXTRACTION CONTROL</td>\n",
       "      <td>unknown</td>\n",
       "    </tr>\n",
       "    <tr>\n",
       "      <th>Archaea \"Euryarchaeota\" Halobacteria Halobacteriales Halobacteriaceae Haloplanus-MID1</th>\n",
       "      <td>Archaea \"Euryarchaeota\" Halobacteria Halobacte...</td>\n",
       "      <td>1</td>\n",
       "      <td>MID1</td>\n",
       "      <td>EXTRACTION CONTROL</td>\n",
       "      <td>unknown</td>\n",
       "    </tr>\n",
       "    <tr>\n",
       "      <th>Archaea \"Euryarchaeota\" Halobacteria Halobacteriales Halobacteriaceae Haloquadratum-MID1</th>\n",
       "      <td>Archaea \"Euryarchaeota\" Halobacteria Halobacte...</td>\n",
       "      <td>4</td>\n",
       "      <td>MID1</td>\n",
       "      <td>EXTRACTION CONTROL</td>\n",
       "      <td>unknown</td>\n",
       "    </tr>\n",
       "    <tr>\n",
       "      <th>Archaea \"Euryarchaeota\" Halobacteria Halobacteriales Halobacteriaceae Halosimplex-MID1</th>\n",
       "      <td>Archaea \"Euryarchaeota\" Halobacteria Halobacte...</td>\n",
       "      <td>1</td>\n",
       "      <td>MID1</td>\n",
       "      <td>EXTRACTION CONTROL</td>\n",
       "      <td>unknown</td>\n",
       "    </tr>\n",
       "    <tr>\n",
       "      <th>Archaea \"Euryarchaeota\" Halobacteria Halobacteriales Halobacteriaceae Natronobacterium-MID1</th>\n",
       "      <td>Archaea \"Euryarchaeota\" Halobacteria Halobacte...</td>\n",
       "      <td>2</td>\n",
       "      <td>MID1</td>\n",
       "      <td>EXTRACTION CONTROL</td>\n",
       "      <td>unknown</td>\n",
       "    </tr>\n",
       "    <tr>\n",
       "      <th>Archaea \"Euryarchaeota\" Halobacteria Halobacteriales Halobacteriaceae Natronomonas-MID1</th>\n",
       "      <td>Archaea \"Euryarchaeota\" Halobacteria Halobacte...</td>\n",
       "      <td>4</td>\n",
       "      <td>MID1</td>\n",
       "      <td>EXTRACTION CONTROL</td>\n",
       "      <td>unknown</td>\n",
       "    </tr>\n",
       "    <tr>\n",
       "      <th>Archaea \"Euryarchaeota\" Methanococci Methanococcales Methanocaldococcaceae Methanotorris-MID1</th>\n",
       "      <td>Archaea \"Euryarchaeota\" Methanococci Methanoco...</td>\n",
       "      <td>1</td>\n",
       "      <td>MID1</td>\n",
       "      <td>EXTRACTION CONTROL</td>\n",
       "      <td>unknown</td>\n",
       "    </tr>\n",
       "    <tr>\n",
       "      <th>Archaea \"Euryarchaeota\" Methanopyri Methanopyrales Methanopyraceae Methanopyrus-MID1</th>\n",
       "      <td>Archaea \"Euryarchaeota\" Methanopyri Methanopyr...</td>\n",
       "      <td>12</td>\n",
       "      <td>MID1</td>\n",
       "      <td>EXTRACTION CONTROL</td>\n",
       "      <td>unknown</td>\n",
       "    </tr>\n",
       "    <tr>\n",
       "      <th>Archaea \"Euryarchaeota\" Thermoplasmata Thermoplasmatales Thermoplasmatales_incertae_sedis Thermogymnomonas-MID1</th>\n",
       "      <td>Archaea \"Euryarchaeota\" Thermoplasmata Thermop...</td>\n",
       "      <td>2</td>\n",
       "      <td>MID1</td>\n",
       "      <td>EXTRACTION CONTROL</td>\n",
       "      <td>unknown</td>\n",
       "    </tr>\n",
       "    <tr>\n",
       "      <th>Bacteria \"Actinobacteria\" Actinobacteria Actinomycetales Acidothermaceae Acidothermus-MID1</th>\n",
       "      <td>Bacteria \"Actinobacteria\" Actinobacteria Actin...</td>\n",
       "      <td>2</td>\n",
       "      <td>MID1</td>\n",
       "      <td>EXTRACTION CONTROL</td>\n",
       "      <td>unknown</td>\n",
       "    </tr>\n",
       "    <tr>\n",
       "      <th>Bacteria \"Actinobacteria\" Actinobacteria Actinomycetales Beutenbergiaceae Salana-MID1</th>\n",
       "      <td>Bacteria \"Actinobacteria\" Actinobacteria Actin...</td>\n",
       "      <td>1</td>\n",
       "      <td>MID1</td>\n",
       "      <td>EXTRACTION CONTROL</td>\n",
       "      <td>unknown</td>\n",
       "    </tr>\n",
       "    <tr>\n",
       "      <th>Bacteria \"Actinobacteria\" Actinobacteria Actinomycetales Bogoriellaceae Bogoriella-MID1</th>\n",
       "      <td>Bacteria \"Actinobacteria\" Actinobacteria Actin...</td>\n",
       "      <td>1</td>\n",
       "      <td>MID1</td>\n",
       "      <td>EXTRACTION CONTROL</td>\n",
       "      <td>unknown</td>\n",
       "    </tr>\n",
       "    <tr>\n",
       "      <th>Bacteria \"Actinobacteria\" Actinobacteria Actinomycetales Cellulomonadaceae Tropheryma-MID1</th>\n",
       "      <td>Bacteria \"Actinobacteria\" Actinobacteria Actin...</td>\n",
       "      <td>1</td>\n",
       "      <td>MID1</td>\n",
       "      <td>EXTRACTION CONTROL</td>\n",
       "      <td>unknown</td>\n",
       "    </tr>\n",
       "    <tr>\n",
       "      <th>Bacteria \"Actinobacteria\" Actinobacteria Actinomycetales Corynebacteriaceae Turicella-MID1</th>\n",
       "      <td>Bacteria \"Actinobacteria\" Actinobacteria Actin...</td>\n",
       "      <td>2</td>\n",
       "      <td>MID1</td>\n",
       "      <td>EXTRACTION CONTROL</td>\n",
       "      <td>unknown</td>\n",
       "    </tr>\n",
       "    <tr>\n",
       "      <th>Bacteria \"Actinobacteria\" Actinobacteria Actinomycetales Cryptosporangiaceae Cryptosporangium-MID1</th>\n",
       "      <td>Bacteria \"Actinobacteria\" Actinobacteria Actin...</td>\n",
       "      <td>53</td>\n",
       "      <td>MID1</td>\n",
       "      <td>EXTRACTION CONTROL</td>\n",
       "      <td>unknown</td>\n",
       "    </tr>\n",
       "    <tr>\n",
       "      <th>Bacteria \"Actinobacteria\" Actinobacteria Actinomycetales Dermabacteraceae Dermabacter-MID1</th>\n",
       "      <td>Bacteria \"Actinobacteria\" Actinobacteria Actin...</td>\n",
       "      <td>1</td>\n",
       "      <td>MID1</td>\n",
       "      <td>EXTRACTION CONTROL</td>\n",
       "      <td>unknown</td>\n",
       "    </tr>\n",
       "    <tr>\n",
       "      <th>Bacteria \"Actinobacteria\" Actinobacteria Actinomycetales Dermabacteraceae Devriesea-MID1</th>\n",
       "      <td>Bacteria \"Actinobacteria\" Actinobacteria Actin...</td>\n",
       "      <td>2</td>\n",
       "      <td>MID1</td>\n",
       "      <td>EXTRACTION CONTROL</td>\n",
       "      <td>unknown</td>\n",
       "    </tr>\n",
       "    <tr>\n",
       "      <th>Bacteria \"Actinobacteria\" Actinobacteria Actinomycetales Dermatophilaceae Kineosphaera-MID1</th>\n",
       "      <td>Bacteria \"Actinobacteria\" Actinobacteria Actin...</td>\n",
       "      <td>3</td>\n",
       "      <td>MID1</td>\n",
       "      <td>EXTRACTION CONTROL</td>\n",
       "      <td>unknown</td>\n",
       "    </tr>\n",
       "    <tr>\n",
       "      <th>Bacteria \"Actinobacteria\" Actinobacteria Actinomycetales Frankineae_incertae_sedis Fodinicola-MID1</th>\n",
       "      <td>Bacteria \"Actinobacteria\" Actinobacteria Actin...</td>\n",
       "      <td>1</td>\n",
       "      <td>MID1</td>\n",
       "      <td>EXTRACTION CONTROL</td>\n",
       "      <td>unknown</td>\n",
       "    </tr>\n",
       "    <tr>\n",
       "      <th>Bacteria \"Actinobacteria\" Actinobacteria Actinomycetales Geodermatophilaceae Blastococcus-MID1</th>\n",
       "      <td>Bacteria \"Actinobacteria\" Actinobacteria Actin...</td>\n",
       "      <td>99</td>\n",
       "      <td>MID1</td>\n",
       "      <td>EXTRACTION CONTROL</td>\n",
       "      <td>unknown</td>\n",
       "    </tr>\n",
       "    <tr>\n",
       "      <th>Bacteria \"Actinobacteria\" Actinobacteria Actinomycetales Geodermatophilaceae Geodermatophilus-MID1</th>\n",
       "      <td>Bacteria \"Actinobacteria\" Actinobacteria Actin...</td>\n",
       "      <td>17</td>\n",
       "      <td>MID1</td>\n",
       "      <td>EXTRACTION CONTROL</td>\n",
       "      <td>unknown</td>\n",
       "    </tr>\n",
       "    <tr>\n",
       "      <th>Bacteria \"Actinobacteria\" Actinobacteria Actinomycetales Intrasporangiaceae Kribbia-MID1</th>\n",
       "      <td>Bacteria \"Actinobacteria\" Actinobacteria Actin...</td>\n",
       "      <td>2</td>\n",
       "      <td>MID1</td>\n",
       "      <td>EXTRACTION CONTROL</td>\n",
       "      <td>unknown</td>\n",
       "    </tr>\n",
       "    <tr>\n",
       "      <th>...</th>\n",
       "      <td>...</td>\n",
       "      <td>...</td>\n",
       "      <td>...</td>\n",
       "      <td>...</td>\n",
       "      <td>...</td>\n",
       "    </tr>\n",
       "    <tr>\n",
       "      <th>Bacteria \"Proteobacteria\" Gammaproteobacteria Oceanospirillales Oceanospirillaceae Neptuniibacter-MID9</th>\n",
       "      <td>Bacteria \"Proteobacteria\" Gammaproteobacteria ...</td>\n",
       "      <td>10</td>\n",
       "      <td>MID9</td>\n",
       "      <td>Control 2</td>\n",
       "      <td>stool</td>\n",
       "    </tr>\n",
       "    <tr>\n",
       "      <th>Bacteria \"Proteobacteria\" Gammaproteobacteria Oceanospirillales Oceanospirillales_incertae_sedis Spongiispira-MID9</th>\n",
       "      <td>Bacteria \"Proteobacteria\" Gammaproteobacteria ...</td>\n",
       "      <td>1</td>\n",
       "      <td>MID9</td>\n",
       "      <td>Control 2</td>\n",
       "      <td>stool</td>\n",
       "    </tr>\n",
       "    <tr>\n",
       "      <th>Bacteria \"Proteobacteria\" Gammaproteobacteria Oceanospirillales Oleiphilaceae Oleiphilus-MID9</th>\n",
       "      <td>Bacteria \"Proteobacteria\" Gammaproteobacteria ...</td>\n",
       "      <td>1</td>\n",
       "      <td>MID9</td>\n",
       "      <td>Control 2</td>\n",
       "      <td>stool</td>\n",
       "    </tr>\n",
       "    <tr>\n",
       "      <th>Bacteria \"Proteobacteria\" Gammaproteobacteria Pasteurellales Pasteurellaceae Haemophilus-MID9</th>\n",
       "      <td>Bacteria \"Proteobacteria\" Gammaproteobacteria ...</td>\n",
       "      <td>1</td>\n",
       "      <td>MID9</td>\n",
       "      <td>Control 2</td>\n",
       "      <td>stool</td>\n",
       "    </tr>\n",
       "    <tr>\n",
       "      <th>Bacteria \"Proteobacteria\" Gammaproteobacteria Pseudomonadales Moraxellaceae Alkanindiges-MID9</th>\n",
       "      <td>Bacteria \"Proteobacteria\" Gammaproteobacteria ...</td>\n",
       "      <td>12</td>\n",
       "      <td>MID9</td>\n",
       "      <td>Control 2</td>\n",
       "      <td>stool</td>\n",
       "    </tr>\n",
       "    <tr>\n",
       "      <th>Bacteria \"Proteobacteria\" Gammaproteobacteria Pseudomonadales Moraxellaceae Perlucidibaca-MID9</th>\n",
       "      <td>Bacteria \"Proteobacteria\" Gammaproteobacteria ...</td>\n",
       "      <td>4</td>\n",
       "      <td>MID9</td>\n",
       "      <td>Control 2</td>\n",
       "      <td>stool</td>\n",
       "    </tr>\n",
       "    <tr>\n",
       "      <th>Bacteria \"Proteobacteria\" Gammaproteobacteria Pseudomonadales Pseudomonadaceae Azomonas-MID9</th>\n",
       "      <td>Bacteria \"Proteobacteria\" Gammaproteobacteria ...</td>\n",
       "      <td>805</td>\n",
       "      <td>MID9</td>\n",
       "      <td>Control 2</td>\n",
       "      <td>stool</td>\n",
       "    </tr>\n",
       "    <tr>\n",
       "      <th>Bacteria \"Proteobacteria\" Gammaproteobacteria Pseudomonadales Pseudomonadaceae Azorhizophilus-MID9</th>\n",
       "      <td>Bacteria \"Proteobacteria\" Gammaproteobacteria ...</td>\n",
       "      <td>862</td>\n",
       "      <td>MID9</td>\n",
       "      <td>Control 2</td>\n",
       "      <td>stool</td>\n",
       "    </tr>\n",
       "    <tr>\n",
       "      <th>Bacteria \"Proteobacteria\" Gammaproteobacteria Pseudomonadales Pseudomonadaceae Azotobacter-MID9</th>\n",
       "      <td>Bacteria \"Proteobacteria\" Gammaproteobacteria ...</td>\n",
       "      <td>12</td>\n",
       "      <td>MID9</td>\n",
       "      <td>Control 2</td>\n",
       "      <td>stool</td>\n",
       "    </tr>\n",
       "    <tr>\n",
       "      <th>Bacteria \"Proteobacteria\" Gammaproteobacteria Pseudomonadales Pseudomonadaceae Pseudomonas-MID9</th>\n",
       "      <td>Bacteria \"Proteobacteria\" Gammaproteobacteria ...</td>\n",
       "      <td>3534</td>\n",
       "      <td>MID9</td>\n",
       "      <td>Control 2</td>\n",
       "      <td>stool</td>\n",
       "    </tr>\n",
       "    <tr>\n",
       "      <th>Bacteria \"Proteobacteria\" Gammaproteobacteria Thiotrichales Piscirickettsiaceae Cycloclasticus-MID9</th>\n",
       "      <td>Bacteria \"Proteobacteria\" Gammaproteobacteria ...</td>\n",
       "      <td>4</td>\n",
       "      <td>MID9</td>\n",
       "      <td>Control 2</td>\n",
       "      <td>stool</td>\n",
       "    </tr>\n",
       "    <tr>\n",
       "      <th>Bacteria \"Proteobacteria\" Gammaproteobacteria Thiotrichales Piscirickettsiaceae Sulfurivirga-MID9</th>\n",
       "      <td>Bacteria \"Proteobacteria\" Gammaproteobacteria ...</td>\n",
       "      <td>1</td>\n",
       "      <td>MID9</td>\n",
       "      <td>Control 2</td>\n",
       "      <td>stool</td>\n",
       "    </tr>\n",
       "    <tr>\n",
       "      <th>Bacteria \"Proteobacteria\" Gammaproteobacteria Thiotrichales Thiotrichaceae Beggiatoa-MID9</th>\n",
       "      <td>Bacteria \"Proteobacteria\" Gammaproteobacteria ...</td>\n",
       "      <td>25</td>\n",
       "      <td>MID9</td>\n",
       "      <td>Control 2</td>\n",
       "      <td>stool</td>\n",
       "    </tr>\n",
       "    <tr>\n",
       "      <th>Bacteria \"Proteobacteria\" Gammaproteobacteria Thiotrichales Thiotrichales_incertae_sedis Fangia-MID9</th>\n",
       "      <td>Bacteria \"Proteobacteria\" Gammaproteobacteria ...</td>\n",
       "      <td>2</td>\n",
       "      <td>MID9</td>\n",
       "      <td>Control 2</td>\n",
       "      <td>stool</td>\n",
       "    </tr>\n",
       "    <tr>\n",
       "      <th>Bacteria \"Proteobacteria\" Gammaproteobacteria Xanthomonadales Sinobacteraceae Alkanibacter-MID9</th>\n",
       "      <td>Bacteria \"Proteobacteria\" Gammaproteobacteria ...</td>\n",
       "      <td>3</td>\n",
       "      <td>MID9</td>\n",
       "      <td>Control 2</td>\n",
       "      <td>stool</td>\n",
       "    </tr>\n",
       "    <tr>\n",
       "      <th>Bacteria \"Proteobacteria\" Gammaproteobacteria Xanthomonadales Sinobacteraceae Sinobacter-MID9</th>\n",
       "      <td>Bacteria \"Proteobacteria\" Gammaproteobacteria ...</td>\n",
       "      <td>2</td>\n",
       "      <td>MID9</td>\n",
       "      <td>Control 2</td>\n",
       "      <td>stool</td>\n",
       "    </tr>\n",
       "    <tr>\n",
       "      <th>Bacteria \"Proteobacteria\" Gammaproteobacteria Xanthomonadales Xanthomonadaceae Aquimonas-MID9</th>\n",
       "      <td>Bacteria \"Proteobacteria\" Gammaproteobacteria ...</td>\n",
       "      <td>1</td>\n",
       "      <td>MID9</td>\n",
       "      <td>Control 2</td>\n",
       "      <td>stool</td>\n",
       "    </tr>\n",
       "    <tr>\n",
       "      <th>Bacteria \"Proteobacteria\" Gammaproteobacteria Xanthomonadales Xanthomonadaceae Frateuria-MID9</th>\n",
       "      <td>Bacteria \"Proteobacteria\" Gammaproteobacteria ...</td>\n",
       "      <td>3</td>\n",
       "      <td>MID9</td>\n",
       "      <td>Control 2</td>\n",
       "      <td>stool</td>\n",
       "    </tr>\n",
       "    <tr>\n",
       "      <th>Bacteria \"Proteobacteria\" Gammaproteobacteria Xanthomonadales Xanthomonadaceae Ignatzschineria-MID9</th>\n",
       "      <td>Bacteria \"Proteobacteria\" Gammaproteobacteria ...</td>\n",
       "      <td>2</td>\n",
       "      <td>MID9</td>\n",
       "      <td>Control 2</td>\n",
       "      <td>stool</td>\n",
       "    </tr>\n",
       "    <tr>\n",
       "      <th>Bacteria \"Proteobacteria\" Gammaproteobacteria Xanthomonadales Xanthomonadaceae Luteibacter-MID9</th>\n",
       "      <td>Bacteria \"Proteobacteria\" Gammaproteobacteria ...</td>\n",
       "      <td>1</td>\n",
       "      <td>MID9</td>\n",
       "      <td>Control 2</td>\n",
       "      <td>stool</td>\n",
       "    </tr>\n",
       "    <tr>\n",
       "      <th>Bacteria \"Synergistetes\" Synergistia Synergistales Synergistaceae Aminomonas-MID9</th>\n",
       "      <td>Bacteria \"Synergistetes\" Synergistia Synergist...</td>\n",
       "      <td>3</td>\n",
       "      <td>MID9</td>\n",
       "      <td>Control 2</td>\n",
       "      <td>stool</td>\n",
       "    </tr>\n",
       "    <tr>\n",
       "      <th>Bacteria \"Tenericutes\" Mollicutes Anaeroplasmatales Anaeroplasmataceae Asteroleplasma-MID9</th>\n",
       "      <td>Bacteria \"Tenericutes\" Mollicutes Anaeroplasma...</td>\n",
       "      <td>1</td>\n",
       "      <td>MID9</td>\n",
       "      <td>Control 2</td>\n",
       "      <td>stool</td>\n",
       "    </tr>\n",
       "    <tr>\n",
       "      <th>Bacteria \"Tenericutes\" Mollicutes Haloplasmatales Haloplasmataceae Haloplasma-MID9</th>\n",
       "      <td>Bacteria \"Tenericutes\" Mollicutes Haloplasmata...</td>\n",
       "      <td>11</td>\n",
       "      <td>MID9</td>\n",
       "      <td>Control 2</td>\n",
       "      <td>stool</td>\n",
       "    </tr>\n",
       "    <tr>\n",
       "      <th>Bacteria \"Thermodesulfobacteria\" Thermodesulfobacteria Thermodesulfobacteriales Thermodesulfobacteriaceae Caldimicrobium-MID9</th>\n",
       "      <td>Bacteria \"Thermodesulfobacteria\" Thermodesulfo...</td>\n",
       "      <td>1</td>\n",
       "      <td>MID9</td>\n",
       "      <td>Control 2</td>\n",
       "      <td>stool</td>\n",
       "    </tr>\n",
       "    <tr>\n",
       "      <th>Bacteria \"Thermodesulfobacteria\" Thermodesulfobacteria Thermodesulfobacteriales Thermodesulfobacteriaceae Thermodesulfatator-MID9</th>\n",
       "      <td>Bacteria \"Thermodesulfobacteria\" Thermodesulfo...</td>\n",
       "      <td>1</td>\n",
       "      <td>MID9</td>\n",
       "      <td>Control 2</td>\n",
       "      <td>stool</td>\n",
       "    </tr>\n",
       "    <tr>\n",
       "      <th>Bacteria \"Thermotogae\" Thermotogae Thermotogales Thermotogaceae Geotoga-MID9</th>\n",
       "      <td>Bacteria \"Thermotogae\" Thermotogae Thermotogal...</td>\n",
       "      <td>43</td>\n",
       "      <td>MID9</td>\n",
       "      <td>Control 2</td>\n",
       "      <td>stool</td>\n",
       "    </tr>\n",
       "    <tr>\n",
       "      <th>Bacteria \"Thermotogae\" Thermotogae Thermotogales Thermotogaceae Kosmotoga-MID9</th>\n",
       "      <td>Bacteria \"Thermotogae\" Thermotogae Thermotogal...</td>\n",
       "      <td>16</td>\n",
       "      <td>MID9</td>\n",
       "      <td>Control 2</td>\n",
       "      <td>stool</td>\n",
       "    </tr>\n",
       "    <tr>\n",
       "      <th>Bacteria \"Verrucomicrobia\" Opitutae Opitutales Opitutaceae Opitutus-MID9</th>\n",
       "      <td>Bacteria \"Verrucomicrobia\" Opitutae Opitutales...</td>\n",
       "      <td>1</td>\n",
       "      <td>MID9</td>\n",
       "      <td>Control 2</td>\n",
       "      <td>stool</td>\n",
       "    </tr>\n",
       "    <tr>\n",
       "      <th>Bacteria Cyanobacteria Cyanobacteria  Chloroplast Chlorarachniophyceae-MID9</th>\n",
       "      <td>Bacteria Cyanobacteria Cyanobacteria  Chloropl...</td>\n",
       "      <td>1</td>\n",
       "      <td>MID9</td>\n",
       "      <td>Control 2</td>\n",
       "      <td>stool</td>\n",
       "    </tr>\n",
       "    <tr>\n",
       "      <th>Bacteria Cyanobacteria Cyanobacteria  Chloroplast Streptophyta-MID9</th>\n",
       "      <td>Bacteria Cyanobacteria Cyanobacteria  Chloropl...</td>\n",
       "      <td>10</td>\n",
       "      <td>MID9</td>\n",
       "      <td>Control 2</td>\n",
       "      <td>stool</td>\n",
       "    </tr>\n",
       "  </tbody>\n",
       "</table>\n",
       "<p>2396 rows × 5 columns</p>\n",
       "</div>"
      ],
      "text/plain": [
       "                                                                                          DESCRIPTION  \\\n",
       "Archaea \"Crenarchaeota\" Thermoprotei Desulfuroc...  Archaea \"Crenarchaeota\" Thermoprotei Desulfuro...   \n",
       "Archaea \"Crenarchaeota\" Thermoprotei Desulfuroc...  Archaea \"Crenarchaeota\" Thermoprotei Desulfuro...   \n",
       "Archaea \"Crenarchaeota\" Thermoprotei Sulfolobal...  Archaea \"Crenarchaeota\" Thermoprotei Sulfoloba...   \n",
       "Archaea \"Crenarchaeota\" Thermoprotei Thermoprot...  Archaea \"Crenarchaeota\" Thermoprotei Thermopro...   \n",
       "Archaea \"Euryarchaeota\" \"Methanomicrobia\" Metha...  Archaea \"Euryarchaeota\" \"Methanomicrobia\" Meth...   \n",
       "Archaea \"Euryarchaeota\" \"Methanomicrobia\" Metha...  Archaea \"Euryarchaeota\" \"Methanomicrobia\" Meth...   \n",
       "Archaea \"Euryarchaeota\" \"Methanomicrobia\" Metha...  Archaea \"Euryarchaeota\" \"Methanomicrobia\" Meth...   \n",
       "Archaea \"Euryarchaeota\" Archaeoglobi Archaeoglo...  Archaea \"Euryarchaeota\" Archaeoglobi Archaeogl...   \n",
       "Archaea \"Euryarchaeota\" Archaeoglobi Archaeoglo...  Archaea \"Euryarchaeota\" Archaeoglobi Archaeogl...   \n",
       "Archaea \"Euryarchaeota\" Halobacteria Halobacter...  Archaea \"Euryarchaeota\" Halobacteria Halobacte...   \n",
       "Archaea \"Euryarchaeota\" Halobacteria Halobacter...  Archaea \"Euryarchaeota\" Halobacteria Halobacte...   \n",
       "Archaea \"Euryarchaeota\" Halobacteria Halobacter...  Archaea \"Euryarchaeota\" Halobacteria Halobacte...   \n",
       "Archaea \"Euryarchaeota\" Halobacteria Halobacter...  Archaea \"Euryarchaeota\" Halobacteria Halobacte...   \n",
       "Archaea \"Euryarchaeota\" Halobacteria Halobacter...  Archaea \"Euryarchaeota\" Halobacteria Halobacte...   \n",
       "Archaea \"Euryarchaeota\" Methanococci Methanococ...  Archaea \"Euryarchaeota\" Methanococci Methanoco...   \n",
       "Archaea \"Euryarchaeota\" Methanopyri Methanopyra...  Archaea \"Euryarchaeota\" Methanopyri Methanopyr...   \n",
       "Archaea \"Euryarchaeota\" Thermoplasmata Thermopl...  Archaea \"Euryarchaeota\" Thermoplasmata Thermop...   \n",
       "Bacteria \"Actinobacteria\" Actinobacteria Actino...  Bacteria \"Actinobacteria\" Actinobacteria Actin...   \n",
       "Bacteria \"Actinobacteria\" Actinobacteria Actino...  Bacteria \"Actinobacteria\" Actinobacteria Actin...   \n",
       "Bacteria \"Actinobacteria\" Actinobacteria Actino...  Bacteria \"Actinobacteria\" Actinobacteria Actin...   \n",
       "Bacteria \"Actinobacteria\" Actinobacteria Actino...  Bacteria \"Actinobacteria\" Actinobacteria Actin...   \n",
       "Bacteria \"Actinobacteria\" Actinobacteria Actino...  Bacteria \"Actinobacteria\" Actinobacteria Actin...   \n",
       "Bacteria \"Actinobacteria\" Actinobacteria Actino...  Bacteria \"Actinobacteria\" Actinobacteria Actin...   \n",
       "Bacteria \"Actinobacteria\" Actinobacteria Actino...  Bacteria \"Actinobacteria\" Actinobacteria Actin...   \n",
       "Bacteria \"Actinobacteria\" Actinobacteria Actino...  Bacteria \"Actinobacteria\" Actinobacteria Actin...   \n",
       "Bacteria \"Actinobacteria\" Actinobacteria Actino...  Bacteria \"Actinobacteria\" Actinobacteria Actin...   \n",
       "Bacteria \"Actinobacteria\" Actinobacteria Actino...  Bacteria \"Actinobacteria\" Actinobacteria Actin...   \n",
       "Bacteria \"Actinobacteria\" Actinobacteria Actino...  Bacteria \"Actinobacteria\" Actinobacteria Actin...   \n",
       "Bacteria \"Actinobacteria\" Actinobacteria Actino...  Bacteria \"Actinobacteria\" Actinobacteria Actin...   \n",
       "Bacteria \"Actinobacteria\" Actinobacteria Actino...  Bacteria \"Actinobacteria\" Actinobacteria Actin...   \n",
       "...                                                                                               ...   \n",
       "Bacteria \"Proteobacteria\" Gammaproteobacteria O...  Bacteria \"Proteobacteria\" Gammaproteobacteria ...   \n",
       "Bacteria \"Proteobacteria\" Gammaproteobacteria O...  Bacteria \"Proteobacteria\" Gammaproteobacteria ...   \n",
       "Bacteria \"Proteobacteria\" Gammaproteobacteria O...  Bacteria \"Proteobacteria\" Gammaproteobacteria ...   \n",
       "Bacteria \"Proteobacteria\" Gammaproteobacteria P...  Bacteria \"Proteobacteria\" Gammaproteobacteria ...   \n",
       "Bacteria \"Proteobacteria\" Gammaproteobacteria P...  Bacteria \"Proteobacteria\" Gammaproteobacteria ...   \n",
       "Bacteria \"Proteobacteria\" Gammaproteobacteria P...  Bacteria \"Proteobacteria\" Gammaproteobacteria ...   \n",
       "Bacteria \"Proteobacteria\" Gammaproteobacteria P...  Bacteria \"Proteobacteria\" Gammaproteobacteria ...   \n",
       "Bacteria \"Proteobacteria\" Gammaproteobacteria P...  Bacteria \"Proteobacteria\" Gammaproteobacteria ...   \n",
       "Bacteria \"Proteobacteria\" Gammaproteobacteria P...  Bacteria \"Proteobacteria\" Gammaproteobacteria ...   \n",
       "Bacteria \"Proteobacteria\" Gammaproteobacteria P...  Bacteria \"Proteobacteria\" Gammaproteobacteria ...   \n",
       "Bacteria \"Proteobacteria\" Gammaproteobacteria T...  Bacteria \"Proteobacteria\" Gammaproteobacteria ...   \n",
       "Bacteria \"Proteobacteria\" Gammaproteobacteria T...  Bacteria \"Proteobacteria\" Gammaproteobacteria ...   \n",
       "Bacteria \"Proteobacteria\" Gammaproteobacteria T...  Bacteria \"Proteobacteria\" Gammaproteobacteria ...   \n",
       "Bacteria \"Proteobacteria\" Gammaproteobacteria T...  Bacteria \"Proteobacteria\" Gammaproteobacteria ...   \n",
       "Bacteria \"Proteobacteria\" Gammaproteobacteria X...  Bacteria \"Proteobacteria\" Gammaproteobacteria ...   \n",
       "Bacteria \"Proteobacteria\" Gammaproteobacteria X...  Bacteria \"Proteobacteria\" Gammaproteobacteria ...   \n",
       "Bacteria \"Proteobacteria\" Gammaproteobacteria X...  Bacteria \"Proteobacteria\" Gammaproteobacteria ...   \n",
       "Bacteria \"Proteobacteria\" Gammaproteobacteria X...  Bacteria \"Proteobacteria\" Gammaproteobacteria ...   \n",
       "Bacteria \"Proteobacteria\" Gammaproteobacteria X...  Bacteria \"Proteobacteria\" Gammaproteobacteria ...   \n",
       "Bacteria \"Proteobacteria\" Gammaproteobacteria X...  Bacteria \"Proteobacteria\" Gammaproteobacteria ...   \n",
       "Bacteria \"Synergistetes\" Synergistia Synergista...  Bacteria \"Synergistetes\" Synergistia Synergist...   \n",
       "Bacteria \"Tenericutes\" Mollicutes Anaeroplasmat...  Bacteria \"Tenericutes\" Mollicutes Anaeroplasma...   \n",
       "Bacteria \"Tenericutes\" Mollicutes Haloplasmatal...  Bacteria \"Tenericutes\" Mollicutes Haloplasmata...   \n",
       "Bacteria \"Thermodesulfobacteria\" Thermodesulfob...  Bacteria \"Thermodesulfobacteria\" Thermodesulfo...   \n",
       "Bacteria \"Thermodesulfobacteria\" Thermodesulfob...  Bacteria \"Thermodesulfobacteria\" Thermodesulfo...   \n",
       "Bacteria \"Thermotogae\" Thermotogae Thermotogale...  Bacteria \"Thermotogae\" Thermotogae Thermotogal...   \n",
       "Bacteria \"Thermotogae\" Thermotogae Thermotogale...  Bacteria \"Thermotogae\" Thermotogae Thermotogal...   \n",
       "Bacteria \"Verrucomicrobia\" Opitutae Opitutales ...  Bacteria \"Verrucomicrobia\" Opitutae Opitutales...   \n",
       "Bacteria Cyanobacteria Cyanobacteria  Chloropla...  Bacteria Cyanobacteria Cyanobacteria  Chloropl...   \n",
       "Bacteria Cyanobacteria Cyanobacteria  Chloropla...  Bacteria Cyanobacteria Cyanobacteria  Chloropl...   \n",
       "\n",
       "                                                    AMOUNT BARCODE  \\\n",
       "Archaea \"Crenarchaeota\" Thermoprotei Desulfuroc...       7    MID1   \n",
       "Archaea \"Crenarchaeota\" Thermoprotei Desulfuroc...       2    MID1   \n",
       "Archaea \"Crenarchaeota\" Thermoprotei Sulfolobal...       3    MID1   \n",
       "Archaea \"Crenarchaeota\" Thermoprotei Thermoprot...       3    MID1   \n",
       "Archaea \"Euryarchaeota\" \"Methanomicrobia\" Metha...       7    MID1   \n",
       "Archaea \"Euryarchaeota\" \"Methanomicrobia\" Metha...       1    MID1   \n",
       "Archaea \"Euryarchaeota\" \"Methanomicrobia\" Metha...       1    MID1   \n",
       "Archaea \"Euryarchaeota\" Archaeoglobi Archaeoglo...       1    MID1   \n",
       "Archaea \"Euryarchaeota\" Archaeoglobi Archaeoglo...       1    MID1   \n",
       "Archaea \"Euryarchaeota\" Halobacteria Halobacter...       1    MID1   \n",
       "Archaea \"Euryarchaeota\" Halobacteria Halobacter...       4    MID1   \n",
       "Archaea \"Euryarchaeota\" Halobacteria Halobacter...       1    MID1   \n",
       "Archaea \"Euryarchaeota\" Halobacteria Halobacter...       2    MID1   \n",
       "Archaea \"Euryarchaeota\" Halobacteria Halobacter...       4    MID1   \n",
       "Archaea \"Euryarchaeota\" Methanococci Methanococ...       1    MID1   \n",
       "Archaea \"Euryarchaeota\" Methanopyri Methanopyra...      12    MID1   \n",
       "Archaea \"Euryarchaeota\" Thermoplasmata Thermopl...       2    MID1   \n",
       "Bacteria \"Actinobacteria\" Actinobacteria Actino...       2    MID1   \n",
       "Bacteria \"Actinobacteria\" Actinobacteria Actino...       1    MID1   \n",
       "Bacteria \"Actinobacteria\" Actinobacteria Actino...       1    MID1   \n",
       "Bacteria \"Actinobacteria\" Actinobacteria Actino...       1    MID1   \n",
       "Bacteria \"Actinobacteria\" Actinobacteria Actino...       2    MID1   \n",
       "Bacteria \"Actinobacteria\" Actinobacteria Actino...      53    MID1   \n",
       "Bacteria \"Actinobacteria\" Actinobacteria Actino...       1    MID1   \n",
       "Bacteria \"Actinobacteria\" Actinobacteria Actino...       2    MID1   \n",
       "Bacteria \"Actinobacteria\" Actinobacteria Actino...       3    MID1   \n",
       "Bacteria \"Actinobacteria\" Actinobacteria Actino...       1    MID1   \n",
       "Bacteria \"Actinobacteria\" Actinobacteria Actino...      99    MID1   \n",
       "Bacteria \"Actinobacteria\" Actinobacteria Actino...      17    MID1   \n",
       "Bacteria \"Actinobacteria\" Actinobacteria Actino...       2    MID1   \n",
       "...                                                    ...     ...   \n",
       "Bacteria \"Proteobacteria\" Gammaproteobacteria O...      10    MID9   \n",
       "Bacteria \"Proteobacteria\" Gammaproteobacteria O...       1    MID9   \n",
       "Bacteria \"Proteobacteria\" Gammaproteobacteria O...       1    MID9   \n",
       "Bacteria \"Proteobacteria\" Gammaproteobacteria P...       1    MID9   \n",
       "Bacteria \"Proteobacteria\" Gammaproteobacteria P...      12    MID9   \n",
       "Bacteria \"Proteobacteria\" Gammaproteobacteria P...       4    MID9   \n",
       "Bacteria \"Proteobacteria\" Gammaproteobacteria P...     805    MID9   \n",
       "Bacteria \"Proteobacteria\" Gammaproteobacteria P...     862    MID9   \n",
       "Bacteria \"Proteobacteria\" Gammaproteobacteria P...      12    MID9   \n",
       "Bacteria \"Proteobacteria\" Gammaproteobacteria P...    3534    MID9   \n",
       "Bacteria \"Proteobacteria\" Gammaproteobacteria T...       4    MID9   \n",
       "Bacteria \"Proteobacteria\" Gammaproteobacteria T...       1    MID9   \n",
       "Bacteria \"Proteobacteria\" Gammaproteobacteria T...      25    MID9   \n",
       "Bacteria \"Proteobacteria\" Gammaproteobacteria T...       2    MID9   \n",
       "Bacteria \"Proteobacteria\" Gammaproteobacteria X...       3    MID9   \n",
       "Bacteria \"Proteobacteria\" Gammaproteobacteria X...       2    MID9   \n",
       "Bacteria \"Proteobacteria\" Gammaproteobacteria X...       1    MID9   \n",
       "Bacteria \"Proteobacteria\" Gammaproteobacteria X...       3    MID9   \n",
       "Bacteria \"Proteobacteria\" Gammaproteobacteria X...       2    MID9   \n",
       "Bacteria \"Proteobacteria\" Gammaproteobacteria X...       1    MID9   \n",
       "Bacteria \"Synergistetes\" Synergistia Synergista...       3    MID9   \n",
       "Bacteria \"Tenericutes\" Mollicutes Anaeroplasmat...       1    MID9   \n",
       "Bacteria \"Tenericutes\" Mollicutes Haloplasmatal...      11    MID9   \n",
       "Bacteria \"Thermodesulfobacteria\" Thermodesulfob...       1    MID9   \n",
       "Bacteria \"Thermodesulfobacteria\" Thermodesulfob...       1    MID9   \n",
       "Bacteria \"Thermotogae\" Thermotogae Thermotogale...      43    MID9   \n",
       "Bacteria \"Thermotogae\" Thermotogae Thermotogale...      16    MID9   \n",
       "Bacteria \"Verrucomicrobia\" Opitutae Opitutales ...       1    MID9   \n",
       "Bacteria Cyanobacteria Cyanobacteria  Chloropla...       1    MID9   \n",
       "Bacteria Cyanobacteria Cyanobacteria  Chloropla...      10    MID9   \n",
       "\n",
       "                                                                 GROUP  \\\n",
       "Archaea \"Crenarchaeota\" Thermoprotei Desulfuroc...  EXTRACTION CONTROL   \n",
       "Archaea \"Crenarchaeota\" Thermoprotei Desulfuroc...  EXTRACTION CONTROL   \n",
       "Archaea \"Crenarchaeota\" Thermoprotei Sulfolobal...  EXTRACTION CONTROL   \n",
       "Archaea \"Crenarchaeota\" Thermoprotei Thermoprot...  EXTRACTION CONTROL   \n",
       "Archaea \"Euryarchaeota\" \"Methanomicrobia\" Metha...  EXTRACTION CONTROL   \n",
       "Archaea \"Euryarchaeota\" \"Methanomicrobia\" Metha...  EXTRACTION CONTROL   \n",
       "Archaea \"Euryarchaeota\" \"Methanomicrobia\" Metha...  EXTRACTION CONTROL   \n",
       "Archaea \"Euryarchaeota\" Archaeoglobi Archaeoglo...  EXTRACTION CONTROL   \n",
       "Archaea \"Euryarchaeota\" Archaeoglobi Archaeoglo...  EXTRACTION CONTROL   \n",
       "Archaea \"Euryarchaeota\" Halobacteria Halobacter...  EXTRACTION CONTROL   \n",
       "Archaea \"Euryarchaeota\" Halobacteria Halobacter...  EXTRACTION CONTROL   \n",
       "Archaea \"Euryarchaeota\" Halobacteria Halobacter...  EXTRACTION CONTROL   \n",
       "Archaea \"Euryarchaeota\" Halobacteria Halobacter...  EXTRACTION CONTROL   \n",
       "Archaea \"Euryarchaeota\" Halobacteria Halobacter...  EXTRACTION CONTROL   \n",
       "Archaea \"Euryarchaeota\" Methanococci Methanococ...  EXTRACTION CONTROL   \n",
       "Archaea \"Euryarchaeota\" Methanopyri Methanopyra...  EXTRACTION CONTROL   \n",
       "Archaea \"Euryarchaeota\" Thermoplasmata Thermopl...  EXTRACTION CONTROL   \n",
       "Bacteria \"Actinobacteria\" Actinobacteria Actino...  EXTRACTION CONTROL   \n",
       "Bacteria \"Actinobacteria\" Actinobacteria Actino...  EXTRACTION CONTROL   \n",
       "Bacteria \"Actinobacteria\" Actinobacteria Actino...  EXTRACTION CONTROL   \n",
       "Bacteria \"Actinobacteria\" Actinobacteria Actino...  EXTRACTION CONTROL   \n",
       "Bacteria \"Actinobacteria\" Actinobacteria Actino...  EXTRACTION CONTROL   \n",
       "Bacteria \"Actinobacteria\" Actinobacteria Actino...  EXTRACTION CONTROL   \n",
       "Bacteria \"Actinobacteria\" Actinobacteria Actino...  EXTRACTION CONTROL   \n",
       "Bacteria \"Actinobacteria\" Actinobacteria Actino...  EXTRACTION CONTROL   \n",
       "Bacteria \"Actinobacteria\" Actinobacteria Actino...  EXTRACTION CONTROL   \n",
       "Bacteria \"Actinobacteria\" Actinobacteria Actino...  EXTRACTION CONTROL   \n",
       "Bacteria \"Actinobacteria\" Actinobacteria Actino...  EXTRACTION CONTROL   \n",
       "Bacteria \"Actinobacteria\" Actinobacteria Actino...  EXTRACTION CONTROL   \n",
       "Bacteria \"Actinobacteria\" Actinobacteria Actino...  EXTRACTION CONTROL   \n",
       "...                                                                ...   \n",
       "Bacteria \"Proteobacteria\" Gammaproteobacteria O...           Control 2   \n",
       "Bacteria \"Proteobacteria\" Gammaproteobacteria O...           Control 2   \n",
       "Bacteria \"Proteobacteria\" Gammaproteobacteria O...           Control 2   \n",
       "Bacteria \"Proteobacteria\" Gammaproteobacteria P...           Control 2   \n",
       "Bacteria \"Proteobacteria\" Gammaproteobacteria P...           Control 2   \n",
       "Bacteria \"Proteobacteria\" Gammaproteobacteria P...           Control 2   \n",
       "Bacteria \"Proteobacteria\" Gammaproteobacteria P...           Control 2   \n",
       "Bacteria \"Proteobacteria\" Gammaproteobacteria P...           Control 2   \n",
       "Bacteria \"Proteobacteria\" Gammaproteobacteria P...           Control 2   \n",
       "Bacteria \"Proteobacteria\" Gammaproteobacteria P...           Control 2   \n",
       "Bacteria \"Proteobacteria\" Gammaproteobacteria T...           Control 2   \n",
       "Bacteria \"Proteobacteria\" Gammaproteobacteria T...           Control 2   \n",
       "Bacteria \"Proteobacteria\" Gammaproteobacteria T...           Control 2   \n",
       "Bacteria \"Proteobacteria\" Gammaproteobacteria T...           Control 2   \n",
       "Bacteria \"Proteobacteria\" Gammaproteobacteria X...           Control 2   \n",
       "Bacteria \"Proteobacteria\" Gammaproteobacteria X...           Control 2   \n",
       "Bacteria \"Proteobacteria\" Gammaproteobacteria X...           Control 2   \n",
       "Bacteria \"Proteobacteria\" Gammaproteobacteria X...           Control 2   \n",
       "Bacteria \"Proteobacteria\" Gammaproteobacteria X...           Control 2   \n",
       "Bacteria \"Proteobacteria\" Gammaproteobacteria X...           Control 2   \n",
       "Bacteria \"Synergistetes\" Synergistia Synergista...           Control 2   \n",
       "Bacteria \"Tenericutes\" Mollicutes Anaeroplasmat...           Control 2   \n",
       "Bacteria \"Tenericutes\" Mollicutes Haloplasmatal...           Control 2   \n",
       "Bacteria \"Thermodesulfobacteria\" Thermodesulfob...           Control 2   \n",
       "Bacteria \"Thermodesulfobacteria\" Thermodesulfob...           Control 2   \n",
       "Bacteria \"Thermotogae\" Thermotogae Thermotogale...           Control 2   \n",
       "Bacteria \"Thermotogae\" Thermotogae Thermotogale...           Control 2   \n",
       "Bacteria \"Verrucomicrobia\" Opitutae Opitutales ...           Control 2   \n",
       "Bacteria Cyanobacteria Cyanobacteria  Chloropla...           Control 2   \n",
       "Bacteria Cyanobacteria Cyanobacteria  Chloropla...           Control 2   \n",
       "\n",
       "                                                     SAMPLE  \n",
       "Archaea \"Crenarchaeota\" Thermoprotei Desulfuroc...  unknown  \n",
       "Archaea \"Crenarchaeota\" Thermoprotei Desulfuroc...  unknown  \n",
       "Archaea \"Crenarchaeota\" Thermoprotei Sulfolobal...  unknown  \n",
       "Archaea \"Crenarchaeota\" Thermoprotei Thermoprot...  unknown  \n",
       "Archaea \"Euryarchaeota\" \"Methanomicrobia\" Metha...  unknown  \n",
       "Archaea \"Euryarchaeota\" \"Methanomicrobia\" Metha...  unknown  \n",
       "Archaea \"Euryarchaeota\" \"Methanomicrobia\" Metha...  unknown  \n",
       "Archaea \"Euryarchaeota\" Archaeoglobi Archaeoglo...  unknown  \n",
       "Archaea \"Euryarchaeota\" Archaeoglobi Archaeoglo...  unknown  \n",
       "Archaea \"Euryarchaeota\" Halobacteria Halobacter...  unknown  \n",
       "Archaea \"Euryarchaeota\" Halobacteria Halobacter...  unknown  \n",
       "Archaea \"Euryarchaeota\" Halobacteria Halobacter...  unknown  \n",
       "Archaea \"Euryarchaeota\" Halobacteria Halobacter...  unknown  \n",
       "Archaea \"Euryarchaeota\" Halobacteria Halobacter...  unknown  \n",
       "Archaea \"Euryarchaeota\" Methanococci Methanococ...  unknown  \n",
       "Archaea \"Euryarchaeota\" Methanopyri Methanopyra...  unknown  \n",
       "Archaea \"Euryarchaeota\" Thermoplasmata Thermopl...  unknown  \n",
       "Bacteria \"Actinobacteria\" Actinobacteria Actino...  unknown  \n",
       "Bacteria \"Actinobacteria\" Actinobacteria Actino...  unknown  \n",
       "Bacteria \"Actinobacteria\" Actinobacteria Actino...  unknown  \n",
       "Bacteria \"Actinobacteria\" Actinobacteria Actino...  unknown  \n",
       "Bacteria \"Actinobacteria\" Actinobacteria Actino...  unknown  \n",
       "Bacteria \"Actinobacteria\" Actinobacteria Actino...  unknown  \n",
       "Bacteria \"Actinobacteria\" Actinobacteria Actino...  unknown  \n",
       "Bacteria \"Actinobacteria\" Actinobacteria Actino...  unknown  \n",
       "Bacteria \"Actinobacteria\" Actinobacteria Actino...  unknown  \n",
       "Bacteria \"Actinobacteria\" Actinobacteria Actino...  unknown  \n",
       "Bacteria \"Actinobacteria\" Actinobacteria Actino...  unknown  \n",
       "Bacteria \"Actinobacteria\" Actinobacteria Actino...  unknown  \n",
       "Bacteria \"Actinobacteria\" Actinobacteria Actino...  unknown  \n",
       "...                                                     ...  \n",
       "Bacteria \"Proteobacteria\" Gammaproteobacteria O...    stool  \n",
       "Bacteria \"Proteobacteria\" Gammaproteobacteria O...    stool  \n",
       "Bacteria \"Proteobacteria\" Gammaproteobacteria O...    stool  \n",
       "Bacteria \"Proteobacteria\" Gammaproteobacteria P...    stool  \n",
       "Bacteria \"Proteobacteria\" Gammaproteobacteria P...    stool  \n",
       "Bacteria \"Proteobacteria\" Gammaproteobacteria P...    stool  \n",
       "Bacteria \"Proteobacteria\" Gammaproteobacteria P...    stool  \n",
       "Bacteria \"Proteobacteria\" Gammaproteobacteria P...    stool  \n",
       "Bacteria \"Proteobacteria\" Gammaproteobacteria P...    stool  \n",
       "Bacteria \"Proteobacteria\" Gammaproteobacteria P...    stool  \n",
       "Bacteria \"Proteobacteria\" Gammaproteobacteria T...    stool  \n",
       "Bacteria \"Proteobacteria\" Gammaproteobacteria T...    stool  \n",
       "Bacteria \"Proteobacteria\" Gammaproteobacteria T...    stool  \n",
       "Bacteria \"Proteobacteria\" Gammaproteobacteria T...    stool  \n",
       "Bacteria \"Proteobacteria\" Gammaproteobacteria X...    stool  \n",
       "Bacteria \"Proteobacteria\" Gammaproteobacteria X...    stool  \n",
       "Bacteria \"Proteobacteria\" Gammaproteobacteria X...    stool  \n",
       "Bacteria \"Proteobacteria\" Gammaproteobacteria X...    stool  \n",
       "Bacteria \"Proteobacteria\" Gammaproteobacteria X...    stool  \n",
       "Bacteria \"Proteobacteria\" Gammaproteobacteria X...    stool  \n",
       "Bacteria \"Synergistetes\" Synergistia Synergista...    stool  \n",
       "Bacteria \"Tenericutes\" Mollicutes Anaeroplasmat...    stool  \n",
       "Bacteria \"Tenericutes\" Mollicutes Haloplasmatal...    stool  \n",
       "Bacteria \"Thermodesulfobacteria\" Thermodesulfob...    stool  \n",
       "Bacteria \"Thermodesulfobacteria\" Thermodesulfob...    stool  \n",
       "Bacteria \"Thermotogae\" Thermotogae Thermotogale...    stool  \n",
       "Bacteria \"Thermotogae\" Thermotogae Thermotogale...    stool  \n",
       "Bacteria \"Verrucomicrobia\" Opitutae Opitutales ...    stool  \n",
       "Bacteria Cyanobacteria Cyanobacteria  Chloropla...    stool  \n",
       "Bacteria Cyanobacteria Cyanobacteria  Chloropla...    stool  \n",
       "\n",
       "[2396 rows x 5 columns]"
      ]
     },
     "execution_count": 541,
     "metadata": {},
     "output_type": "execute_result"
    }
   ],
   "source": [
    "df3"
   ]
  },
  {
   "cell_type": "markdown",
   "metadata": {},
   "source": [
    "## Task 3. Class War in Titanic\n",
    "\n",
    "Use pandas to import the data file `Data/titanic.xls`. It contains data on all the passengers that travelled on the Titanic."
   ]
  },
  {
   "cell_type": "code",
   "execution_count": 542,
   "metadata": {
    "scrolled": false
   },
   "outputs": [
    {
     "data": {
      "text/html": [
       "<hr><h2>Data frame:titanic3</h2>1309 observations and 14 variables, maximum # NAs:1188<hr>\n",
       "<TABLE BORDER>\n",
       "<tr><td>Name</td><td>Labels</td><td>Units</td><td>Levels</td><td>Storage</td><td>NAs</td></tr>\n",
       "<tr><td>pclass</td><td></td><td></td><td><a href=\"#pclass\"><div align=right>  3</div></a></td><td>integer</td><td><div align=right>   0</div></td></tr>\n",
       "<tr><td>survived</td><td>Survived</td><td></td><td><div align=right></div></td><td>double</td><td><div align=right>   0</div></td></tr>\n",
       "<tr><td>name</td><td>Name</td><td></td><td><div align=right></div></td><td>character</td><td><div align=right>   0</div></td></tr>\n",
       "<tr><td>sex</td><td></td><td></td><td><a href=\"#sex\"><div align=right>  2</div></a></td><td>integer</td><td><div align=right>   0</div></td></tr>\n",
       "<tr><td>age</td><td>Age</td><td>Year</td><td><div align=right></div></td><td>double</td><td><div align=right> 263</div></td></tr>\n",
       "<tr><td>sibsp</td><td>Number of Siblings/Spouses Aboard</td><td></td><td><div align=right></div></td><td>double</td><td><div align=right>   0</div></td></tr>\n",
       "<tr><td>parch</td><td>Number of Parents/Children Aboard</td><td></td><td><div align=right></div></td><td>double</td><td><div align=right>   0</div></td></tr>\n",
       "<tr><td>ticket</td><td>Ticket Number</td><td></td><td><div align=right></div></td><td>character</td><td><div align=right>   0</div></td></tr>\n",
       "<tr><td>fare</td><td>Passenger Fare</td><td>British Pound (\\243)</td><td><div align=right></div></td><td>double</td><td><div align=right>   1</div></td></tr>\n",
       "<tr><td>cabin</td><td></td><td></td><td><a href=\"#cabin\"><div align=right>187</div></a></td><td>integer</td><td><div align=right>   0</div></td></tr>\n",
       "<tr><td>embarked</td><td></td><td></td><td><a href=\"#embarked\"><div align=right>  3</div></a></td><td>integer</td><td><div align=right>   2</div></td></tr>\n",
       "<tr><td>boat</td><td></td><td></td><td><a href=\"#boat\"><div align=right> 28</div></a></td><td>integer</td><td><div align=right>   0</div></td></tr>\n",
       "<tr><td>body</td><td>Body Identification Number</td><td></td><td><div align=right></div></td><td>double</td><td><div align=right>1188</div></td></tr>\n",
       "<tr><td>home.dest</td><td>Home/Destination</td><td></td><td><div align=right></div></td><td>character</td><td><div align=right>   0</div></td></tr>\n",
       "</TABLE>\n",
       "<hr>\n",
       "<TABLE BORDER>\n",
       "<tr><td>Variable</td><td>Levels</td></tr>\n",
       "<tr><td><a name=\"pclass\">pclass</a></td><td>1st</td></tr>\n",
       "<tr><td></td><td>2nd</td></tr>\n",
       "<tr><td></td><td>3rd</td></tr>\n",
       "<tr><td><a name=\"sex\">sex</a></td><td>female</td></tr>\n",
       "<tr><td></td><td>male</td></tr>\n",
       "<tr><td><a name=\"cabin\">cabin</a></td><td></td></tr>\n",
       "<tr><td></td><td>A10</td></tr>\n",
       "<tr><td></td><td>A11</td></tr>\n",
       "<tr><td></td><td>A14</td></tr>\n",
       "<tr><td></td><td>A16</td></tr>\n",
       "<tr><td></td><td>A18</td></tr>\n",
       "<tr><td></td><td>A19</td></tr>\n",
       "<tr><td></td><td>A20</td></tr>\n",
       "<tr><td></td><td>A21</td></tr>\n",
       "<tr><td></td><td>A23</td></tr>\n",
       "<tr><td></td><td>A24</td></tr>\n",
       "<tr><td></td><td>A26</td></tr>\n",
       "<tr><td></td><td>A29</td></tr>\n",
       "<tr><td></td><td>A31</td></tr>\n",
       "<tr><td></td><td>A32</td></tr>\n",
       "<tr><td></td><td>A34</td></tr>\n",
       "<tr><td></td><td>A36</td></tr>\n",
       "<tr><td></td><td>A5</td></tr>\n",
       "<tr><td></td><td>A6</td></tr>\n",
       "<tr><td></td><td>A7</td></tr>\n",
       "<tr><td></td><td>A9</td></tr>\n",
       "<tr><td></td><td>B10</td></tr>\n",
       "<tr><td></td><td>B101</td></tr>\n",
       "<tr><td></td><td>B102</td></tr>\n",
       "<tr><td></td><td>B11</td></tr>\n",
       "<tr><td></td><td>B18</td></tr>\n",
       "<tr><td></td><td>B19</td></tr>\n",
       "<tr><td></td><td>B20</td></tr>\n",
       "<tr><td></td><td>B22</td></tr>\n",
       "<tr><td></td><td>B24</td></tr>\n",
       "<tr><td></td><td>B26</td></tr>\n",
       "<tr><td></td><td>B28</td></tr>\n",
       "<tr><td></td><td>B3</td></tr>\n",
       "<tr><td></td><td>B30</td></tr>\n",
       "<tr><td></td><td>B35</td></tr>\n",
       "<tr><td></td><td>B36</td></tr>\n",
       "<tr><td></td><td>B37</td></tr>\n",
       "<tr><td></td><td>B38</td></tr>\n",
       "<tr><td></td><td>B39</td></tr>\n",
       "<tr><td></td><td>B4</td></tr>\n",
       "<tr><td></td><td>B41</td></tr>\n",
       "<tr><td></td><td>B42</td></tr>\n",
       "<tr><td></td><td>B45</td></tr>\n",
       "<tr><td></td><td>B49</td></tr>\n",
       "<tr><td></td><td>B5</td></tr>\n",
       "<tr><td></td><td>B50</td></tr>\n",
       "<tr><td></td><td>B51 B53 B55</td></tr>\n",
       "<tr><td></td><td>B52 B54 B56</td></tr>\n",
       "<tr><td></td><td>B57 B59 B63 B66</td></tr>\n",
       "<tr><td></td><td>B58 B60</td></tr>\n",
       "<tr><td></td><td>B61</td></tr>\n",
       "<tr><td></td><td>B69</td></tr>\n",
       "<tr><td></td><td>B71</td></tr>\n",
       "<tr><td></td><td>B73</td></tr>\n",
       "<tr><td></td><td>B77</td></tr>\n",
       "<tr><td></td><td>B78</td></tr>\n",
       "<tr><td></td><td>B79</td></tr>\n",
       "<tr><td></td><td>B80</td></tr>\n",
       "<tr><td></td><td>B82 B84</td></tr>\n",
       "<tr><td></td><td>B86</td></tr>\n",
       "<tr><td></td><td>B94</td></tr>\n",
       "<tr><td></td><td>B96 B98</td></tr>\n",
       "<tr><td></td><td>C101</td></tr>\n",
       "<tr><td></td><td>C103</td></tr>\n",
       "<tr><td></td><td>C104</td></tr>\n",
       "<tr><td></td><td>C105</td></tr>\n",
       "<tr><td></td><td>C106</td></tr>\n",
       "<tr><td></td><td>C110</td></tr>\n",
       "<tr><td></td><td>C111</td></tr>\n",
       "<tr><td></td><td>C116</td></tr>\n",
       "<tr><td></td><td>C118</td></tr>\n",
       "<tr><td></td><td>C123</td></tr>\n",
       "<tr><td></td><td>C124</td></tr>\n",
       "<tr><td></td><td>C125</td></tr>\n",
       "<tr><td></td><td>C126</td></tr>\n",
       "<tr><td></td><td>C128</td></tr>\n",
       "<tr><td></td><td>C130</td></tr>\n",
       "<tr><td></td><td>C132</td></tr>\n",
       "<tr><td></td><td>C148</td></tr>\n",
       "<tr><td></td><td>C2</td></tr>\n",
       "<tr><td></td><td>C22 C26</td></tr>\n",
       "<tr><td></td><td>C23 C25 C27</td></tr>\n",
       "<tr><td></td><td>C28</td></tr>\n",
       "<tr><td></td><td>C30</td></tr>\n",
       "<tr><td></td><td>C31</td></tr>\n",
       "<tr><td></td><td>C32</td></tr>\n",
       "<tr><td></td><td>C39</td></tr>\n",
       "<tr><td></td><td>C45</td></tr>\n",
       "<tr><td></td><td>C46</td></tr>\n",
       "<tr><td></td><td>C47</td></tr>\n",
       "<tr><td></td><td>C49</td></tr>\n",
       "<tr><td></td><td>C50</td></tr>\n",
       "<tr><td></td><td>C51</td></tr>\n",
       "<tr><td></td><td>C52</td></tr>\n",
       "<tr><td></td><td>C53</td></tr>\n",
       "<tr><td></td><td>C54</td></tr>\n",
       "<tr><td></td><td>C55 C57</td></tr>\n",
       "<tr><td></td><td>C6</td></tr>\n",
       "<tr><td></td><td>C62 C64</td></tr>\n",
       "<tr><td></td><td>C65</td></tr>\n",
       "<tr><td></td><td>C68</td></tr>\n",
       "<tr><td></td><td>C7</td></tr>\n",
       "<tr><td></td><td>C70</td></tr>\n",
       "<tr><td></td><td>C78</td></tr>\n",
       "<tr><td></td><td>C80</td></tr>\n",
       "<tr><td></td><td>C82</td></tr>\n",
       "<tr><td></td><td>C83</td></tr>\n",
       "<tr><td></td><td>C85</td></tr>\n",
       "<tr><td></td><td>C86</td></tr>\n",
       "<tr><td></td><td>C87</td></tr>\n",
       "<tr><td></td><td>C89</td></tr>\n",
       "<tr><td></td><td>C90</td></tr>\n",
       "<tr><td></td><td>C91</td></tr>\n",
       "<tr><td></td><td>C92</td></tr>\n",
       "<tr><td></td><td>C93</td></tr>\n",
       "<tr><td></td><td>C95</td></tr>\n",
       "<tr><td></td><td>C97</td></tr>\n",
       "<tr><td></td><td>C99</td></tr>\n",
       "<tr><td></td><td>D</td></tr>\n",
       "<tr><td></td><td>D10 D12</td></tr>\n",
       "<tr><td></td><td>D11</td></tr>\n",
       "<tr><td></td><td>D15</td></tr>\n",
       "<tr><td></td><td>D17</td></tr>\n",
       "<tr><td></td><td>D19</td></tr>\n",
       "<tr><td></td><td>D20</td></tr>\n",
       "<tr><td></td><td>D21</td></tr>\n",
       "<tr><td></td><td>D22</td></tr>\n",
       "<tr><td></td><td>D26</td></tr>\n",
       "<tr><td></td><td>D28</td></tr>\n",
       "<tr><td></td><td>D30</td></tr>\n",
       "<tr><td></td><td>D33</td></tr>\n",
       "<tr><td></td><td>D34</td></tr>\n",
       "<tr><td></td><td>D35</td></tr>\n",
       "<tr><td></td><td>D36</td></tr>\n",
       "<tr><td></td><td>D37</td></tr>\n",
       "<tr><td></td><td>D38</td></tr>\n",
       "<tr><td></td><td>D40</td></tr>\n",
       "<tr><td></td><td>D43</td></tr>\n",
       "<tr><td></td><td>D45</td></tr>\n",
       "<tr><td></td><td>D46</td></tr>\n",
       "<tr><td></td><td>D47</td></tr>\n",
       "<tr><td></td><td>D48</td></tr>\n",
       "<tr><td></td><td>D49</td></tr>\n",
       "<tr><td></td><td>D50</td></tr>\n",
       "<tr><td></td><td>D56</td></tr>\n",
       "<tr><td></td><td>D6</td></tr>\n",
       "<tr><td></td><td>D7</td></tr>\n",
       "<tr><td></td><td>D9</td></tr>\n",
       "<tr><td></td><td>E10</td></tr>\n",
       "<tr><td></td><td>E101</td></tr>\n",
       "<tr><td></td><td>E12</td></tr>\n",
       "<tr><td></td><td>E121</td></tr>\n",
       "<tr><td></td><td>E17</td></tr>\n",
       "<tr><td></td><td>E24</td></tr>\n",
       "<tr><td></td><td>E25</td></tr>\n",
       "<tr><td></td><td>E31</td></tr>\n",
       "<tr><td></td><td>E33</td></tr>\n",
       "<tr><td></td><td>E34</td></tr>\n",
       "<tr><td></td><td>E36</td></tr>\n",
       "<tr><td></td><td>E38</td></tr>\n",
       "<tr><td></td><td>E39 E41</td></tr>\n",
       "<tr><td></td><td>E40</td></tr>\n",
       "<tr><td></td><td>E44</td></tr>\n",
       "<tr><td></td><td>E45</td></tr>\n",
       "<tr><td></td><td>E46</td></tr>\n",
       "<tr><td></td><td>E49</td></tr>\n",
       "<tr><td></td><td>E50</td></tr>\n",
       "<tr><td></td><td>E52</td></tr>\n",
       "<tr><td></td><td>E58</td></tr>\n",
       "<tr><td></td><td>E60</td></tr>\n",
       "<tr><td></td><td>E63</td></tr>\n",
       "<tr><td></td><td>E67</td></tr>\n",
       "<tr><td></td><td>E68</td></tr>\n",
       "<tr><td></td><td>E77</td></tr>\n",
       "<tr><td></td><td>E8</td></tr>\n",
       "<tr><td></td><td>F</td></tr>\n",
       "<tr><td></td><td>F E46</td></tr>\n",
       "<tr><td></td><td>F E57</td></tr>\n",
       "<tr><td></td><td>F E69</td></tr>\n",
       "<tr><td></td><td>F G63</td></tr>\n",
       "<tr><td></td><td>F G73</td></tr>\n",
       "<tr><td></td><td>F2</td></tr>\n",
       "<tr><td></td><td>F33</td></tr>\n",
       "<tr><td></td><td>F38</td></tr>\n",
       "<tr><td></td><td>F4</td></tr>\n",
       "<tr><td></td><td>G6</td></tr>\n",
       "<tr><td></td><td>T</td></tr>\n",
       "<tr><td><a name=\"embarked\">embarked</a></td><td>Cherbourg</td></tr>\n",
       "<tr><td></td><td>Queenstown</td></tr>\n",
       "<tr><td></td><td>Southampton</td></tr>\n",
       "<tr><td><a name=\"boat\">boat</a></td><td></td></tr>\n",
       "<tr><td></td><td>1</td></tr>\n",
       "<tr><td></td><td>10</td></tr>\n",
       "<tr><td></td><td>11</td></tr>\n",
       "<tr><td></td><td>12</td></tr>\n",
       "<tr><td></td><td>13</td></tr>\n",
       "<tr><td></td><td>13 15</td></tr>\n",
       "<tr><td></td><td>13 15 B</td></tr>\n",
       "<tr><td></td><td>14</td></tr>\n",
       "<tr><td></td><td>15</td></tr>\n",
       "<tr><td></td><td>15 16</td></tr>\n",
       "<tr><td></td><td>16</td></tr>\n",
       "<tr><td></td><td>2</td></tr>\n",
       "<tr><td></td><td>3</td></tr>\n",
       "<tr><td></td><td>4</td></tr>\n",
       "<tr><td></td><td>5</td></tr>\n",
       "<tr><td></td><td>5 7</td></tr>\n",
       "<tr><td></td><td>5 9</td></tr>\n",
       "<tr><td></td><td>6</td></tr>\n",
       "<tr><td></td><td>7</td></tr>\n",
       "<tr><td></td><td>8</td></tr>\n",
       "<tr><td></td><td>8 10</td></tr>\n",
       "<tr><td></td><td>9</td></tr>\n",
       "<tr><td></td><td>A</td></tr>\n",
       "<tr><td></td><td>B</td></tr>\n",
       "<tr><td></td><td>C</td></tr>\n",
       "<tr><td></td><td>C D</td></tr>\n",
       "<tr><td></td><td>D</td></tr>\n",
       "</TABLE>\n",
       "<hr>\n"
      ],
      "text/plain": [
       "<IPython.core.display.HTML object>"
      ]
     },
     "execution_count": 542,
     "metadata": {},
     "output_type": "execute_result"
    }
   ],
   "source": [
    "from IPython.core.display import HTML\n",
    "HTML(filename=DATA_FOLDER+'/titanic.html')"
   ]
  },
  {
   "cell_type": "markdown",
   "metadata": {},
   "source": [
    "For each of the following questions state clearly your assumptions and discuss your findings:\n",
    "1. Describe the *type* and the *value range* of each attribute. Indicate and transform the attributes that can be `Categorical`. \n",
    "2. Plot histograms for the *travel class*, *embarkation port*, *sex* and *age* attributes. For the latter one, use *discrete decade intervals*. \n",
    "3. Calculate the proportion of passengers by *cabin floor*. Present your results in a *pie chart*.\n",
    "4. For each *travel class*, calculate the proportion of the passengers that survived. Present your results in *pie charts*.\n",
    "5. Calculate the proportion of the passengers that survived by *travel class* and *sex*. Present your results in *a single histogram*.\n",
    "6. Create 2 equally populated *age categories* and calculate survival proportions by *age category*, *travel class* and *sex*. Present your results in a `DataFrame` with unique index."
   ]
  },
  {
   "cell_type": "code",
   "execution_count": 543,
   "metadata": {
    "collapsed": true
   },
   "outputs": [],
   "source": [
    "%matplotlib inline\n",
    "import pandas as pd\n",
    "import matplotlib.pyplot as plt\n",
    "import seaborn as sns\n",
    "sns.set_context('notebook')"
   ]
  },
  {
   "cell_type": "code",
   "execution_count": 544,
   "metadata": {
    "collapsed": true
   },
   "outputs": [],
   "source": [
    "df4 = pd.read_excel('Data/titanic.xls')"
   ]
  },
  {
   "cell_type": "markdown",
   "metadata": {},
   "source": [
    "### 1. The types  and the ranges of each attribute are shown by df4.dtypes and df4.describe()\n",
    "The variables that we find Categorial and therefore need be transformed are:<br>\n",
    "—pclass<br> (We will not transform this one because it already contains 3 values: 1,2,3 corresponding to the repective passenger classes)\n",
    "—sex<br>\n",
    "—embarked<br>\n",
    "—cabin<br>\n",
    "—boat<br>"
   ]
  },
  {
   "cell_type": "code",
   "execution_count": 545,
   "metadata": {},
   "outputs": [
    {
     "data": {
      "text/html": [
       "<div>\n",
       "<style>\n",
       "    .dataframe thead tr:only-child th {\n",
       "        text-align: right;\n",
       "    }\n",
       "\n",
       "    .dataframe thead th {\n",
       "        text-align: left;\n",
       "    }\n",
       "\n",
       "    .dataframe tbody tr th {\n",
       "        vertical-align: top;\n",
       "    }\n",
       "</style>\n",
       "<table border=\"1\" class=\"dataframe\">\n",
       "  <thead>\n",
       "    <tr style=\"text-align: right;\">\n",
       "      <th></th>\n",
       "      <th>pclass</th>\n",
       "      <th>survived</th>\n",
       "      <th>age</th>\n",
       "      <th>sibsp</th>\n",
       "      <th>parch</th>\n",
       "      <th>fare</th>\n",
       "      <th>body</th>\n",
       "    </tr>\n",
       "  </thead>\n",
       "  <tbody>\n",
       "    <tr>\n",
       "      <th>count</th>\n",
       "      <td>1309.000000</td>\n",
       "      <td>1309.000000</td>\n",
       "      <td>1046.000000</td>\n",
       "      <td>1309.000000</td>\n",
       "      <td>1309.000000</td>\n",
       "      <td>1308.000000</td>\n",
       "      <td>121.000000</td>\n",
       "    </tr>\n",
       "    <tr>\n",
       "      <th>mean</th>\n",
       "      <td>2.294882</td>\n",
       "      <td>0.381971</td>\n",
       "      <td>29.881135</td>\n",
       "      <td>0.498854</td>\n",
       "      <td>0.385027</td>\n",
       "      <td>33.295479</td>\n",
       "      <td>160.809917</td>\n",
       "    </tr>\n",
       "    <tr>\n",
       "      <th>std</th>\n",
       "      <td>0.837836</td>\n",
       "      <td>0.486055</td>\n",
       "      <td>14.413500</td>\n",
       "      <td>1.041658</td>\n",
       "      <td>0.865560</td>\n",
       "      <td>51.758668</td>\n",
       "      <td>97.696922</td>\n",
       "    </tr>\n",
       "    <tr>\n",
       "      <th>min</th>\n",
       "      <td>1.000000</td>\n",
       "      <td>0.000000</td>\n",
       "      <td>0.166700</td>\n",
       "      <td>0.000000</td>\n",
       "      <td>0.000000</td>\n",
       "      <td>0.000000</td>\n",
       "      <td>1.000000</td>\n",
       "    </tr>\n",
       "    <tr>\n",
       "      <th>25%</th>\n",
       "      <td>2.000000</td>\n",
       "      <td>0.000000</td>\n",
       "      <td>21.000000</td>\n",
       "      <td>0.000000</td>\n",
       "      <td>0.000000</td>\n",
       "      <td>7.895800</td>\n",
       "      <td>72.000000</td>\n",
       "    </tr>\n",
       "    <tr>\n",
       "      <th>50%</th>\n",
       "      <td>3.000000</td>\n",
       "      <td>0.000000</td>\n",
       "      <td>28.000000</td>\n",
       "      <td>0.000000</td>\n",
       "      <td>0.000000</td>\n",
       "      <td>14.454200</td>\n",
       "      <td>155.000000</td>\n",
       "    </tr>\n",
       "    <tr>\n",
       "      <th>75%</th>\n",
       "      <td>3.000000</td>\n",
       "      <td>1.000000</td>\n",
       "      <td>39.000000</td>\n",
       "      <td>1.000000</td>\n",
       "      <td>0.000000</td>\n",
       "      <td>31.275000</td>\n",
       "      <td>256.000000</td>\n",
       "    </tr>\n",
       "    <tr>\n",
       "      <th>max</th>\n",
       "      <td>3.000000</td>\n",
       "      <td>1.000000</td>\n",
       "      <td>80.000000</td>\n",
       "      <td>8.000000</td>\n",
       "      <td>9.000000</td>\n",
       "      <td>512.329200</td>\n",
       "      <td>328.000000</td>\n",
       "    </tr>\n",
       "  </tbody>\n",
       "</table>\n",
       "</div>"
      ],
      "text/plain": [
       "            pclass     survived          age        sibsp        parch  \\\n",
       "count  1309.000000  1309.000000  1046.000000  1309.000000  1309.000000   \n",
       "mean      2.294882     0.381971    29.881135     0.498854     0.385027   \n",
       "std       0.837836     0.486055    14.413500     1.041658     0.865560   \n",
       "min       1.000000     0.000000     0.166700     0.000000     0.000000   \n",
       "25%       2.000000     0.000000    21.000000     0.000000     0.000000   \n",
       "50%       3.000000     0.000000    28.000000     0.000000     0.000000   \n",
       "75%       3.000000     1.000000    39.000000     1.000000     0.000000   \n",
       "max       3.000000     1.000000    80.000000     8.000000     9.000000   \n",
       "\n",
       "              fare        body  \n",
       "count  1308.000000  121.000000  \n",
       "mean     33.295479  160.809917  \n",
       "std      51.758668   97.696922  \n",
       "min       0.000000    1.000000  \n",
       "25%       7.895800   72.000000  \n",
       "50%      14.454200  155.000000  \n",
       "75%      31.275000  256.000000  \n",
       "max     512.329200  328.000000  "
      ]
     },
     "execution_count": 545,
     "metadata": {},
     "output_type": "execute_result"
    }
   ],
   "source": [
    "df4.describe()"
   ]
  },
  {
   "cell_type": "code",
   "execution_count": 546,
   "metadata": {},
   "outputs": [
    {
     "data": {
      "text/plain": [
       "3    709\n",
       "1    323\n",
       "2    277\n",
       "Name: pclass, dtype: int64"
      ]
     },
     "execution_count": 546,
     "metadata": {},
     "output_type": "execute_result"
    }
   ],
   "source": [
    "df4.dtypes\n",
    "df4.pclass.value_counts()"
   ]
  },
  {
   "cell_type": "markdown",
   "metadata": {},
   "source": [
    "#### We convert the Categorical variables to categories, they are assigned to unique integers, following the range given in the .html file."
   ]
  },
  {
   "cell_type": "code",
   "execution_count": 547,
   "metadata": {
    "collapsed": true
   },
   "outputs": [],
   "source": [
    "# convert variables that can be categorical to categories\n",
    "# here we change variable type then convert them to integers\n",
    "\n",
    "df4['sex'] = df4.sex.astype('category').cat.codes\n",
    "df4['embarked'] = df4.embarked.astype('category').cat.codes\n",
    "df4['cabin'] = df4.cabin.astype('category').cat.codes\n",
    "df4['boat'] = df4.boat.astype('category').cat.codes"
   ]
  },
  {
   "cell_type": "code",
   "execution_count": 548,
   "metadata": {},
   "outputs": [
    {
     "data": {
      "text/html": [
       "<div>\n",
       "<style>\n",
       "    .dataframe thead tr:only-child th {\n",
       "        text-align: right;\n",
       "    }\n",
       "\n",
       "    .dataframe thead th {\n",
       "        text-align: left;\n",
       "    }\n",
       "\n",
       "    .dataframe tbody tr th {\n",
       "        vertical-align: top;\n",
       "    }\n",
       "</style>\n",
       "<table border=\"1\" class=\"dataframe\">\n",
       "  <thead>\n",
       "    <tr style=\"text-align: right;\">\n",
       "      <th></th>\n",
       "      <th>pclass</th>\n",
       "      <th>survived</th>\n",
       "      <th>name</th>\n",
       "      <th>sex</th>\n",
       "      <th>age</th>\n",
       "      <th>sibsp</th>\n",
       "      <th>parch</th>\n",
       "      <th>ticket</th>\n",
       "      <th>fare</th>\n",
       "      <th>cabin</th>\n",
       "      <th>embarked</th>\n",
       "      <th>boat</th>\n",
       "      <th>body</th>\n",
       "      <th>home.dest</th>\n",
       "    </tr>\n",
       "  </thead>\n",
       "  <tbody>\n",
       "    <tr>\n",
       "      <th>0</th>\n",
       "      <td>1</td>\n",
       "      <td>1</td>\n",
       "      <td>Allen, Miss. Elisabeth Walton</td>\n",
       "      <td>0</td>\n",
       "      <td>29.0000</td>\n",
       "      <td>0</td>\n",
       "      <td>0</td>\n",
       "      <td>24160</td>\n",
       "      <td>211.3375</td>\n",
       "      <td>43</td>\n",
       "      <td>2</td>\n",
       "      <td>0</td>\n",
       "      <td>NaN</td>\n",
       "      <td>St Louis, MO</td>\n",
       "    </tr>\n",
       "    <tr>\n",
       "      <th>1</th>\n",
       "      <td>1</td>\n",
       "      <td>1</td>\n",
       "      <td>Allison, Master. Hudson Trevor</td>\n",
       "      <td>1</td>\n",
       "      <td>0.9167</td>\n",
       "      <td>1</td>\n",
       "      <td>2</td>\n",
       "      <td>113781</td>\n",
       "      <td>151.5500</td>\n",
       "      <td>79</td>\n",
       "      <td>2</td>\n",
       "      <td>3</td>\n",
       "      <td>NaN</td>\n",
       "      <td>Montreal, PQ / Chesterville, ON</td>\n",
       "    </tr>\n",
       "    <tr>\n",
       "      <th>2</th>\n",
       "      <td>1</td>\n",
       "      <td>0</td>\n",
       "      <td>Allison, Miss. Helen Loraine</td>\n",
       "      <td>0</td>\n",
       "      <td>2.0000</td>\n",
       "      <td>1</td>\n",
       "      <td>2</td>\n",
       "      <td>113781</td>\n",
       "      <td>151.5500</td>\n",
       "      <td>79</td>\n",
       "      <td>2</td>\n",
       "      <td>-1</td>\n",
       "      <td>NaN</td>\n",
       "      <td>Montreal, PQ / Chesterville, ON</td>\n",
       "    </tr>\n",
       "    <tr>\n",
       "      <th>3</th>\n",
       "      <td>1</td>\n",
       "      <td>0</td>\n",
       "      <td>Allison, Mr. Hudson Joshua Creighton</td>\n",
       "      <td>1</td>\n",
       "      <td>30.0000</td>\n",
       "      <td>1</td>\n",
       "      <td>2</td>\n",
       "      <td>113781</td>\n",
       "      <td>151.5500</td>\n",
       "      <td>79</td>\n",
       "      <td>2</td>\n",
       "      <td>-1</td>\n",
       "      <td>135.0</td>\n",
       "      <td>Montreal, PQ / Chesterville, ON</td>\n",
       "    </tr>\n",
       "    <tr>\n",
       "      <th>4</th>\n",
       "      <td>1</td>\n",
       "      <td>0</td>\n",
       "      <td>Allison, Mrs. Hudson J C (Bessie Waldo Daniels)</td>\n",
       "      <td>0</td>\n",
       "      <td>25.0000</td>\n",
       "      <td>1</td>\n",
       "      <td>2</td>\n",
       "      <td>113781</td>\n",
       "      <td>151.5500</td>\n",
       "      <td>79</td>\n",
       "      <td>2</td>\n",
       "      <td>-1</td>\n",
       "      <td>NaN</td>\n",
       "      <td>Montreal, PQ / Chesterville, ON</td>\n",
       "    </tr>\n",
       "    <tr>\n",
       "      <th>5</th>\n",
       "      <td>1</td>\n",
       "      <td>1</td>\n",
       "      <td>Anderson, Mr. Harry</td>\n",
       "      <td>1</td>\n",
       "      <td>48.0000</td>\n",
       "      <td>0</td>\n",
       "      <td>0</td>\n",
       "      <td>19952</td>\n",
       "      <td>26.5500</td>\n",
       "      <td>149</td>\n",
       "      <td>2</td>\n",
       "      <td>13</td>\n",
       "      <td>NaN</td>\n",
       "      <td>New York, NY</td>\n",
       "    </tr>\n",
       "    <tr>\n",
       "      <th>6</th>\n",
       "      <td>1</td>\n",
       "      <td>1</td>\n",
       "      <td>Andrews, Miss. Kornelia Theodosia</td>\n",
       "      <td>0</td>\n",
       "      <td>63.0000</td>\n",
       "      <td>1</td>\n",
       "      <td>0</td>\n",
       "      <td>13502</td>\n",
       "      <td>77.9583</td>\n",
       "      <td>145</td>\n",
       "      <td>2</td>\n",
       "      <td>2</td>\n",
       "      <td>NaN</td>\n",
       "      <td>Hudson, NY</td>\n",
       "    </tr>\n",
       "    <tr>\n",
       "      <th>7</th>\n",
       "      <td>1</td>\n",
       "      <td>0</td>\n",
       "      <td>Andrews, Mr. Thomas Jr</td>\n",
       "      <td>1</td>\n",
       "      <td>39.0000</td>\n",
       "      <td>0</td>\n",
       "      <td>0</td>\n",
       "      <td>112050</td>\n",
       "      <td>0.0000</td>\n",
       "      <td>15</td>\n",
       "      <td>2</td>\n",
       "      <td>-1</td>\n",
       "      <td>NaN</td>\n",
       "      <td>Belfast, NI</td>\n",
       "    </tr>\n",
       "    <tr>\n",
       "      <th>8</th>\n",
       "      <td>1</td>\n",
       "      <td>1</td>\n",
       "      <td>Appleton, Mrs. Edward Dale (Charlotte Lamson)</td>\n",
       "      <td>0</td>\n",
       "      <td>53.0000</td>\n",
       "      <td>2</td>\n",
       "      <td>0</td>\n",
       "      <td>11769</td>\n",
       "      <td>51.4792</td>\n",
       "      <td>61</td>\n",
       "      <td>2</td>\n",
       "      <td>27</td>\n",
       "      <td>NaN</td>\n",
       "      <td>Bayside, Queens, NY</td>\n",
       "    </tr>\n",
       "    <tr>\n",
       "      <th>9</th>\n",
       "      <td>1</td>\n",
       "      <td>0</td>\n",
       "      <td>Artagaveytia, Mr. Ramon</td>\n",
       "      <td>1</td>\n",
       "      <td>71.0000</td>\n",
       "      <td>0</td>\n",
       "      <td>0</td>\n",
       "      <td>PC 17609</td>\n",
       "      <td>49.5042</td>\n",
       "      <td>-1</td>\n",
       "      <td>0</td>\n",
       "      <td>-1</td>\n",
       "      <td>22.0</td>\n",
       "      <td>Montevideo, Uruguay</td>\n",
       "    </tr>\n",
       "  </tbody>\n",
       "</table>\n",
       "</div>"
      ],
      "text/plain": [
       "   pclass  survived                                             name  sex  \\\n",
       "0       1         1                    Allen, Miss. Elisabeth Walton    0   \n",
       "1       1         1                   Allison, Master. Hudson Trevor    1   \n",
       "2       1         0                     Allison, Miss. Helen Loraine    0   \n",
       "3       1         0             Allison, Mr. Hudson Joshua Creighton    1   \n",
       "4       1         0  Allison, Mrs. Hudson J C (Bessie Waldo Daniels)    0   \n",
       "5       1         1                              Anderson, Mr. Harry    1   \n",
       "6       1         1                Andrews, Miss. Kornelia Theodosia    0   \n",
       "7       1         0                           Andrews, Mr. Thomas Jr    1   \n",
       "8       1         1    Appleton, Mrs. Edward Dale (Charlotte Lamson)    0   \n",
       "9       1         0                          Artagaveytia, Mr. Ramon    1   \n",
       "\n",
       "       age  sibsp  parch    ticket      fare  cabin  embarked  boat   body  \\\n",
       "0  29.0000      0      0     24160  211.3375     43         2     0    NaN   \n",
       "1   0.9167      1      2    113781  151.5500     79         2     3    NaN   \n",
       "2   2.0000      1      2    113781  151.5500     79         2    -1    NaN   \n",
       "3  30.0000      1      2    113781  151.5500     79         2    -1  135.0   \n",
       "4  25.0000      1      2    113781  151.5500     79         2    -1    NaN   \n",
       "5  48.0000      0      0     19952   26.5500    149         2    13    NaN   \n",
       "6  63.0000      1      0     13502   77.9583    145         2     2    NaN   \n",
       "7  39.0000      0      0    112050    0.0000     15         2    -1    NaN   \n",
       "8  53.0000      2      0     11769   51.4792     61         2    27    NaN   \n",
       "9  71.0000      0      0  PC 17609   49.5042     -1         0    -1   22.0   \n",
       "\n",
       "                         home.dest  \n",
       "0                     St Louis, MO  \n",
       "1  Montreal, PQ / Chesterville, ON  \n",
       "2  Montreal, PQ / Chesterville, ON  \n",
       "3  Montreal, PQ / Chesterville, ON  \n",
       "4  Montreal, PQ / Chesterville, ON  \n",
       "5                     New York, NY  \n",
       "6                       Hudson, NY  \n",
       "7                      Belfast, NI  \n",
       "8              Bayside, Queens, NY  \n",
       "9              Montevideo, Uruguay  "
      ]
     },
     "execution_count": 548,
     "metadata": {},
     "output_type": "execute_result"
    }
   ],
   "source": [
    "df4.head(10)"
   ]
  },
  {
   "cell_type": "markdown",
   "metadata": {},
   "source": [
    "### 2. When drawing histograms, we used value_counts() method beforehand (before the convertion into cat.codes) to know which histogram \"stick\" corresponds to which label for a given attribute. "
   ]
  },
  {
   "cell_type": "code",
   "execution_count": 549,
   "metadata": {
    "collapsed": true
   },
   "outputs": [],
   "source": [
    "import matplotlib\n",
    "# Function to draw bar_plots\n",
    "def nice_bar_plot(title, data, n):\n",
    "    fig, ax = plt.subplots()\n",
    "    ax.set_title(title, fontsize=15, fontweight='bold')\n",
    "    sns.barplot(data[:n].keys(), data[:n], ax=ax)\n",
    "    locs, labels = plt.xticks()\n",
    "    plt.setp(labels, rotation=90)"
   ]
  },
  {
   "cell_type": "code",
   "execution_count": 550,
   "metadata": {},
   "outputs": [
    {
     "data": {
      "image/png": "[encoded data removed]",
      "text/plain": [
       "<matplotlib.figure.Figure at 0x1168cfc50>"
      ]
     },
     "metadata": {},
     "output_type": "display_data"
    }
   ],
   "source": [
    "pclassProp = df4.pclass.value_counts()#/df4.pclass.value_counts().sum() \n",
    "#We divide above over the total number of passengers to get the proportion\n",
    "nice_bar_plot(\"Histogram for travel class\", pclassProp, 3)"
   ]
  },
  {
   "cell_type": "markdown",
   "metadata": {},
   "source": [
    "We can see that the 3rd class is dominant"
   ]
  },
  {
   "cell_type": "markdown",
   "metadata": {},
   "source": [
    "#### Here we take the non null values (there were assigned to -1) after we applied the cat.codes"
   ]
  },
  {
   "cell_type": "code",
   "execution_count": 551,
   "metadata": {},
   "outputs": [],
   "source": [
    "# histogram for embarkation port\n",
    "emb = [x for x in df4.embarked.values if (x >= 0)] \n",
    "S_emb = pd.Series(emb)                             \n",
    "embProp = S_emb.value_counts()#/labeled_emb.value_counts().sum()\n",
    "embProp = embProp.rename({2:'Southampton', 1:'Queenstown', 0:'Cherbourg'})\n",
    "#We divide above over the total number of passengers to get the proportion"
   ]
  },
  {
   "cell_type": "code",
   "execution_count": 552,
   "metadata": {},
   "outputs": [
    {
     "data": {
      "image/png": "[encoded data removed]",
      "text/plain": [
       "<matplotlib.figure.Figure at 0x11608f048>"
      ]
     },
     "metadata": {},
     "output_type": "display_data"
    }
   ],
   "source": [
    "nice_bar_plot(\"Histogram for embarkation port proportion\", embProp, 3)"
   ]
  },
  {
   "cell_type": "markdown",
   "metadata": {},
   "source": [
    "Most people embarked from Southampton, which makes sense since that's where the Titanic embarked from."
   ]
  },
  {
   "cell_type": "code",
   "execution_count": 553,
   "metadata": {
    "collapsed": true
   },
   "outputs": [],
   "source": [
    "# histogram for gender\n",
    "sex_df = df4.sex.value_counts()\n",
    "sex_df = sexProp.rename({1: 'Male',0: 'Female'})"
   ]
  },
  {
   "cell_type": "code",
   "execution_count": 554,
   "metadata": {},
   "outputs": [
    {
     "data": {
      "text/plain": [
       "1    64.400306\n",
       "0    35.599694\n",
       "Name: sex, dtype: float64"
      ]
     },
     "execution_count": 554,
     "metadata": {},
     "output_type": "execute_result"
    }
   ],
   "source": [
    "(df4.sex.value_counts()/df4.sex.value_counts().sum())*100"
   ]
  },
  {
   "cell_type": "code",
   "execution_count": 555,
   "metadata": {},
   "outputs": [
    {
     "data": {
      "image/png": "[encoded data removed]",
      "text/plain": [
       "<matplotlib.figure.Figure at 0x116654400>"
      ]
     },
     "metadata": {},
     "output_type": "display_data"
    }
   ],
   "source": [
    "nice_bar_plot(\"Histogram for sex proportion\", sex_df, 3)"
   ]
  },
  {
   "cell_type": "markdown",
   "metadata": {},
   "source": [
    "The male represent 64.4%, against 35.6% for the female"
   ]
  },
  {
   "cell_type": "code",
   "execution_count": 556,
   "metadata": {},
   "outputs": [
    {
     "data": {
      "text/plain": [
       "(1309, 14)"
      ]
     },
     "execution_count": 556,
     "metadata": {},
     "output_type": "execute_result"
    }
   ],
   "source": [
    "df4.shape"
   ]
  },
  {
   "cell_type": "markdown",
   "metadata": {},
   "source": [
    "Now for the ages, we only take the non-null ages to draw the histogram"
   ]
  },
  {
   "cell_type": "code",
   "execution_count": 557,
   "metadata": {},
   "outputs": [
    {
     "data": {
      "text/plain": [
       "(1046, 14)"
      ]
     },
     "execution_count": 557,
     "metadata": {},
     "output_type": "execute_result"
    }
   ],
   "source": [
    "df4 = df4[df4.age.notnull()]\n",
    "df4.shape"
   ]
  },
  {
   "cell_type": "markdown",
   "metadata": {},
   "source": [
    "Here, we split ages into discrete decade intervals\n"
   ]
  },
  {
   "cell_type": "code",
   "execution_count": 558,
   "metadata": {},
   "outputs": [
    {
     "data": {
      "text/plain": [
       "(20, 30]    361\n",
       "(30, 40]    210\n",
       "(10, 20]    162\n",
       "(40, 50]    132\n",
       "(0, 10]      86\n",
       "(50, 60]     62\n",
       "(60, 70]     27\n",
       "(70, 80]      6\n",
       "Name: age, dtype: int64"
      ]
     },
     "execution_count": 558,
     "metadata": {},
     "output_type": "execute_result"
    }
   ],
   "source": [
    "age_cut = pd.cut(df4.age, (0,10,20,30,40,50,60,70,80)).value_counts()\n",
    "age_cut"
   ]
  },
  {
   "cell_type": "markdown",
   "metadata": {},
   "source": [
    "We represent the histogram by intervals as follows:"
   ]
  },
  {
   "cell_type": "code",
   "execution_count": 559,
   "metadata": {},
   "outputs": [
    {
     "data": {
      "image/png": "[encoded data removed]",
      "text/plain": [
       "<matplotlib.figure.Figure at 0x1163d4208>"
      ]
     },
     "metadata": {},
     "output_type": "display_data"
    }
   ],
   "source": [
    "nice_bar_plot(\"Histogram for age proportion by decade intervals\", age_cut, age_cut.sum())"
   ]
  },
  {
   "cell_type": "markdown",
   "metadata": {},
   "source": [
    "#### 3. Proportion of passengers by cabin floor:\n",
    "Here, we extract the 'cabin' column from our dataframe, and take only the non-null values. After that, we made an assumption that each floor is represented by the first letter of the cabin name. And also, if a person takes more than a cabin, those cabins are all on the same floor (we actually verified by going through the exhaustive list manually). In this case we map these cabins to the correspondong floor letter (as they are taken by 1 person)\n",
    "This allows us to do our mapping so we count how many passengers are in each floor."
   ]
  },
  {
   "cell_type": "code",
   "execution_count": 560,
   "metadata": {},
   "outputs": [
    {
     "name": "stdout",
     "output_type": "stream",
     "text": [
      "The number of non null values for the cabins are:  295\n"
     ]
    }
   ],
   "source": [
    "df5 = pd.read_excel('Data/titanic.xls')\n",
    "cabin = list(df5['cabin'])\n",
    "cabin = [x for x in cabin if str(x)!='nan']\n",
    "floor = list(map(lambda x : x[0], cabin)) #We assume that if someone takes 2 or more cabines they are on the same floor\n",
    "mapFloor = {'A':1, 'B':2, 'C':3, 'D':4, 'E':5, 'F':6, 'G':7, 'T':8}\n",
    "floor = pd.Series(floor).map(mapFloor).value_counts().sort_index()\n",
    "print(\"The number of non null values for the cabins are: \", len(cabin))"
   ]
  },
  {
   "cell_type": "markdown",
   "metadata": {},
   "source": [
    "##### We notice that there is only 295 non null values for the cabins, and the majority of the information is missing.\n",
    "##### This pie chart represent only the 'known' cabins, which correspond to 295 people. They are distributed by percentage as follows with the mapping {'A':1, 'B':2, 'C':3, 'D':4, 'E':5, 'F':6, 'G':7, 'T':8}:"
   ]
  },
  {
   "cell_type": "code",
   "execution_count": 561,
   "metadata": {},
   "outputs": [
    {
     "data": {
      "text/plain": [
       "1     7.457627\n",
       "2    22.033898\n",
       "3    31.864407\n",
       "4    15.593220\n",
       "5    13.898305\n",
       "6     7.118644\n",
       "7     1.694915\n",
       "8     0.338983\n",
       "dtype: float64"
      ]
     },
     "execution_count": 561,
     "metadata": {},
     "output_type": "execute_result"
    }
   ],
   "source": [
    "floor/floor.sum()*100"
   ]
  },
  {
   "cell_type": "code",
   "execution_count": 562,
   "metadata": {},
   "outputs": [
    {
     "data": {
      "image/png": "[encoded data removed]",
      "text/plain": [
       "<matplotlib.figure.Figure at 0x116642f98>"
      ]
     },
     "metadata": {},
     "output_type": "display_data"
    }
   ],
   "source": [
    "plt.pie(floor, labels=['A','B','C','D','E','F','G','T']);"
   ]
  },
  {
   "cell_type": "markdown",
   "metadata": {},
   "source": [
    "#### 4. Proportion of survivors for each travel class:"
   ]
  },
  {
   "cell_type": "code",
   "execution_count": 563,
   "metadata": {
    "collapsed": true
   },
   "outputs": [],
   "source": [
    "df6 = pd.read_excel('Data/titanic.xls')"
   ]
  },
  {
   "cell_type": "code",
   "execution_count": 564,
   "metadata": {},
   "outputs": [
    {
     "data": {
      "text/plain": [
       "pclass\n",
       "1    61.919505\n",
       "2    42.960289\n",
       "3    25.528914\n",
       "Name: survived, dtype: float64"
      ]
     },
     "execution_count": 564,
     "metadata": {},
     "output_type": "execute_result"
    }
   ],
   "source": [
    "classSurvivor = df6.groupby('pclass').mean()['survived']\n",
    "classSurvivor*100"
   ]
  },
  {
   "cell_type": "markdown",
   "metadata": {},
   "source": [
    "These are the percentages of survivors for the first, second and third class, respectively.\n",
    "#### Proportion of first class survivors\n"
   ]
  },
  {
   "cell_type": "code",
   "execution_count": 565,
   "metadata": {},
   "outputs": [
    {
     "data": {
      "text/plain": [
       "pclass\n",
       "1    61.919505\n",
       "2    38.080495\n",
       "Name: survived, dtype: float64"
      ]
     },
     "execution_count": 565,
     "metadata": {},
     "output_type": "execute_result"
    }
   ],
   "source": [
    "firstClass = classSurvivor[classSurvivor.index==1]\n",
    "firstClass.loc[2] = 1 - firstClass.loc[1]\n",
    "firstClass*100"
   ]
  },
  {
   "cell_type": "markdown",
   "metadata": {},
   "source": [
    "We can see that 61.92% of 1st class passengers survived "
   ]
  },
  {
   "cell_type": "code",
   "execution_count": 566,
   "metadata": {},
   "outputs": [
    {
     "data": {
      "text/plain": [
       "<matplotlib.axes._subplots.AxesSubplot at 0x11659ac88>"
      ]
     },
     "execution_count": 566,
     "metadata": {},
     "output_type": "execute_result"
    },
    {
     "data": {
      "image/png": "[encoded data removed]",
      "text/plain": [
       "<matplotlib.figure.Figure at 0x11655df98>"
      ]
     },
     "metadata": {},
     "output_type": "display_data"
    }
   ],
   "source": [
    "firstClass.plot.pie(labels=['Survived','Not Survived'])\n"
   ]
  },
  {
   "cell_type": "markdown",
   "metadata": {},
   "source": [
    "#### Proportion of second class survivors\n"
   ]
  },
  {
   "cell_type": "code",
   "execution_count": 567,
   "metadata": {},
   "outputs": [
    {
     "data": {
      "text/plain": [
       "pclass\n",
       "2    42.960289\n",
       "1    57.039711\n",
       "Name: survived, dtype: float64"
      ]
     },
     "execution_count": 567,
     "metadata": {},
     "output_type": "execute_result"
    }
   ],
   "source": [
    "secondClass = classSurvivor[classSurvivor.index==2]\n",
    "secondClass.loc[1] = 1 - secondClass.loc[2]\n",
    "secondClass*100"
   ]
  },
  {
   "cell_type": "markdown",
   "metadata": {},
   "source": [
    "We can see that 42.96% of the second class survived, which is less compared to the first class."
   ]
  },
  {
   "cell_type": "code",
   "execution_count": 568,
   "metadata": {},
   "outputs": [
    {
     "data": {
      "text/plain": [
       "<matplotlib.axes._subplots.AxesSubplot at 0x1163cfdd8>"
      ]
     },
     "execution_count": 568,
     "metadata": {},
     "output_type": "execute_result"
    },
    {
     "data": {
      "image/png": "[encoded data removed]",
      "text/plain": [
       "<matplotlib.figure.Figure at 0x11655dc88>"
      ]
     },
     "metadata": {},
     "output_type": "display_data"
    }
   ],
   "source": [
    "secondClass.plot.pie(labels=['Survived','Not Survived'])"
   ]
  },
  {
   "cell_type": "markdown",
   "metadata": {},
   "source": [
    "#### Proportion of third class survivors"
   ]
  },
  {
   "cell_type": "code",
   "execution_count": 569,
   "metadata": {},
   "outputs": [
    {
     "data": {
      "text/plain": [
       "pclass\n",
       "3    25.528914\n",
       "1    74.471086\n",
       "Name: survived, dtype: float64"
      ]
     },
     "execution_count": 569,
     "metadata": {},
     "output_type": "execute_result"
    }
   ],
   "source": [
    "thirdClass = classSurvivor[classSurvivor.index==3]\n",
    "thirdClass.loc[1] = 1 - thirdClass.loc[3]\n",
    "thirdClass*100"
   ]
  },
  {
   "cell_type": "markdown",
   "metadata": {},
   "source": [
    "We can see that for the third class, there is only 25.53% of survivors, which is considerably less than than the first and the second one, which makes sense too, because the first two classes  were given the priority to embark on lifeboats."
   ]
  },
  {
   "cell_type": "code",
   "execution_count": 570,
   "metadata": {},
   "outputs": [
    {
     "data": {
      "text/plain": [
       "<matplotlib.axes._subplots.AxesSubplot at 0x1169f4da0>"
      ]
     },
     "execution_count": 570,
     "metadata": {},
     "output_type": "execute_result"
    },
    {
     "data": {
      "image/png": "[encoded data removed]",
      "text/plain": [
       "<matplotlib.figure.Figure at 0x11659ad30>"
      ]
     },
     "metadata": {},
     "output_type": "display_data"
    }
   ],
   "source": [
    "thirdClass.plot.pie(labels=['Survived','Not Survived'])"
   ]
  },
  {
   "cell_type": "markdown",
   "metadata": {},
   "source": [
    "#### 3. Proportion of passengers that survived by travel class and sex: "
   ]
  },
  {
   "cell_type": "code",
   "execution_count": 571,
   "metadata": {},
   "outputs": [],
   "source": [
    "class_count=df6.groupby('pclass').size() #count the number of passenger per class\n",
    "class_count.name=\"count\" #rename the serie\n",
    "sex_count=df6.groupby('sex').size() #count the number of passenger per sex\n",
    "sex_count.name=\"count\" #rename the serie\n",
    "class_survive=df6.groupby('pclass')['survived'].sum() #count the number of survivor per class\n",
    "sex_survive=df6.groupby('sex')['survived'].sum() #count the number of suvivor per sex\n",
    "\n",
    "dfClass=pd.DataFrame([class_survive, class_count]) #create a dataframe for the class\n",
    "dfSex=pd.DataFrame([sex_survive, sex_count]) #create a dataframe for the sex\n",
    "\n",
    "proportion_survived_sex=dfSex.loc['survived']/dfSex.loc['count'] #calculate the proportion of survivor per sex\n",
    "proportion_survived_class=dfClass.loc['survived']/dfClass.loc['count'] #calculate the proportion of survivor per class"
   ]
  },
  {
   "cell_type": "code",
   "execution_count": 572,
   "metadata": {
    "collapsed": true
   },
   "outputs": [],
   "source": [
    "#Helper function to draw the bar plot\n",
    "def nice_bar_plot(data):  \n",
    "    \"\"\"\n",
    "    create a bar plot with the data (a serie)\n",
    "    x-axis = data index\n",
    "    y-axis = data value\n",
    "    \"\"\"\n",
    "    sns.barplot(data.keys(), data)\n",
    "    locs, labels = plt.xticks()\n",
    "    plt.setp(labels, rotation=90)"
   ]
  },
  {
   "cell_type": "code",
   "execution_count": 573,
   "metadata": {},
   "outputs": [
    {
     "data": {
      "image/png": "[encoded data removed]",
      "text/plain": [
       "<matplotlib.figure.Figure at 0x116a14940>"
      ]
     },
     "metadata": {},
     "output_type": "display_data"
    }
   ],
   "source": [
    "nice_bar_plot(proportion_survived_sex.append(proportion_survived_class))\n"
   ]
  },
  {
   "cell_type": "markdown",
   "metadata": {},
   "source": [
    "#### 6. We create  2 equally populated age categories and calculate survival proportions by age category"
   ]
  },
  {
   "cell_type": "code",
   "execution_count": 574,
   "metadata": {
    "collapsed": true
   },
   "outputs": [],
   "source": [
    "df36 = pd.read_excel('Data/titanic.xls')"
   ]
  },
  {
   "cell_type": "code",
   "execution_count": 575,
   "metadata": {},
   "outputs": [
    {
     "data": {
      "text/plain": [
       "(1309, 14)"
      ]
     },
     "execution_count": 575,
     "metadata": {},
     "output_type": "execute_result"
    }
   ],
   "source": [
    "df36.shape"
   ]
  },
  {
   "cell_type": "code",
   "execution_count": 576,
   "metadata": {},
   "outputs": [
    {
     "data": {
      "text/plain": [
       "(1046, 14)"
      ]
     },
     "execution_count": 576,
     "metadata": {},
     "output_type": "execute_result"
    }
   ],
   "source": [
    "# drop related null values rows\n",
    "df36 = df36[df36.age.notnull()]\n",
    "df36 = df36[df36.pclass.notnull()]\n",
    "df36 = df36[df36.sex.notnull()]\n",
    "df36.shape"
   ]
  },
  {
   "cell_type": "markdown",
   "metadata": {},
   "source": [
    "So we will work on a sample of 1046"
   ]
  },
  {
   "cell_type": "markdown",
   "metadata": {},
   "source": [
    "#### We create 2 equally age categories split in the q = 0.5 quantile (median):"
   ]
  },
  {
   "cell_type": "code",
   "execution_count": 577,
   "metadata": {},
   "outputs": [],
   "source": [
    "# equally populated age categories \n",
    "df36 = pd.read_excel('Data/titanic.xls')\n",
    "df36.age = pd.qcut(df36.age, [0, 0.5, 1])"
   ]
  },
  {
   "cell_type": "code",
   "execution_count": 578,
   "metadata": {
    "scrolled": false
   },
   "outputs": [
    {
     "data": {
      "text/plain": [
       "536"
      ]
     },
     "execution_count": 578,
     "metadata": {},
     "output_type": "execute_result"
    }
   ],
   "source": [
    "df36[df36.age.cat.codes==0].shape[0] #Cardinal of the first cut, represent 51.2% of the sample"
   ]
  },
  {
   "cell_type": "code",
   "execution_count": 579,
   "metadata": {},
   "outputs": [
    {
     "data": {
      "text/plain": [
       "510"
      ]
     },
     "execution_count": 579,
     "metadata": {},
     "output_type": "execute_result"
    }
   ],
   "source": [
    "df36[df36.age.cat.codes==1].shape[0] #Cardinal of the second cut, represent 48.8% of the sample"
   ]
  },
  {
   "cell_type": "markdown",
   "metadata": {},
   "source": [
    "##### NB: The 2 cuts does not exactly have the same cardinality, and this is due to the fact that when cutting at the median age 28, people whose age is 28 are included in both categories. But since the difference is small compared to the total of samples, we will not worry about that.\n"
   ]
  },
  {
   "cell_type": "code",
   "execution_count": 580,
   "metadata": {},
   "outputs": [],
   "source": [
    "# convert pclass to category\n",
    "df36['pclass'] = df36.pclass.astype('category')\n",
    "\n",
    "# convert sex to category\n",
    "df36['sex'] = df36.sex.astype('category')"
   ]
  },
  {
   "cell_type": "markdown",
   "metadata": {},
   "source": [
    "#### Resulting dataframe\n"
   ]
  },
  {
   "cell_type": "code",
   "execution_count": 581,
   "metadata": {},
   "outputs": [
    {
     "data": {
      "text/plain": [
       "age            pclass  sex   \n",
       "(0.166, 28.0]  1       female    0.951220\n",
       "                       male      0.531250\n",
       "               2       female    0.910714\n",
       "                       male      0.216216\n",
       "               3       female    0.513761\n",
       "                       male      0.183036\n",
       "(28.0, 80.0]   1       female    0.967391\n",
       "                       male      0.302521\n",
       "               2       female    0.872340\n",
       "                       male      0.083333\n",
       "               3       female    0.372093\n",
       "                       male      0.144000\n",
       "Name: survived, dtype: float64"
      ]
     },
     "execution_count": 581,
     "metadata": {},
     "output_type": "execute_result"
    }
   ],
   "source": [
    "dfResult = df36.groupby(['age', 'pclass', 'sex']).mean()['survived']\n",
    "dfResult"
   ]
  },
  {
   "cell_type": "code",
   "execution_count": 582,
   "metadata": {},
   "outputs": [
    {
     "data": {
      "text/plain": [
       "True"
      ]
     },
     "execution_count": 582,
     "metadata": {},
     "output_type": "execute_result"
    }
   ],
   "source": [
    "#Check if indexes are unique\n",
    "dfResult.is_unique"
   ]
  },
  {
   "cell_type": "markdown",
   "metadata": {},
   "source": [
    "Indeed, the indexes are unique"
   ]
  }
 ],
 "metadata": {
  "kernelspec": {
   "display_name": "Python [default]",
   "language": "python",
   "name": "python3"
  },
  "language_info": {
   "codemirror_mode": {
    "name": "ipython",
    "version": 3
   },
   "file_extension": ".py",
   "mimetype": "text/x-python",
   "name": "python",
   "nbconvert_exporter": "python",
   "pygments_lexer": "ipython3",
   "version": "3.6.1"
  }
 },
 "nbformat": 4,
 "nbformat_minor": 2
}
