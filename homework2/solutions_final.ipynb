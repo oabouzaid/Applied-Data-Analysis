{
 "cells": [
  {
   "cell_type": "code",
   "execution_count": 1,
   "metadata": {
    "collapsed": false
   },
   "outputs": [],
   "source": [
    "import requests\n",
    "import pandas as pd\n",
    "import numpy as np\n",
    "import sys\n",
    "import matplotlib.pyplot as plt\n",
    "from bs4 import BeautifulSoup\n",
    "from pycountry_convert import convert_country_alpha2_to_continent, convert_country_name_to_country_alpha2\n",
    "pd.options.mode.chained_assignment = None"
   ]
  },
  {
   "cell_type": "markdown",
   "metadata": {},
   "source": [
    "## `Question #1`"
   ]
  },
  {
   "cell_type": "code",
   "execution_count": 2,
   "metadata": {
    "collapsed": true
   },
   "outputs": [],
   "source": [
    "URL = 'https://www.topuniversities.com/sites/default/files/qs-rankings-data/357051.txt'\n",
    "r = requests.get(URL).json()['data']\n",
    "df = pd.DataFrame(r)"
   ]
  },
  {
   "cell_type": "markdown",
   "metadata": {},
   "source": [
    "`For each university, we found the number of faculty members, students and international students.\n",
    "We've used need the URLs of the respective universities.`"
   ]
  },
  {
   "cell_type": "code",
   "execution_count": 3,
   "metadata": {
    "collapsed": false
   },
   "outputs": [
    {
     "data": {
      "text/html": [
       "<div>\n",
       "<table border=\"1\" class=\"dataframe\">\n",
       "  <thead>\n",
       "    <tr style=\"text-align: right;\">\n",
       "      <th></th>\n",
       "      <th>country</th>\n",
       "      <th>rank_display</th>\n",
       "      <th>region</th>\n",
       "      <th>title</th>\n",
       "      <th>students</th>\n",
       "      <th>inter_students</th>\n",
       "      <th>staff</th>\n",
       "      <th>inter_staff</th>\n",
       "      <th>student_staff_ratio</th>\n",
       "      <th>international_students_ratio</th>\n",
       "    </tr>\n",
       "  </thead>\n",
       "  <tbody>\n",
       "    <tr>\n",
       "      <th>0</th>\n",
       "      <td>United States</td>\n",
       "      <td>1</td>\n",
       "      <td>North America</td>\n",
       "      <td>Massachusetts Institute of Technology (MIT)</td>\n",
       "      <td>11067</td>\n",
       "      <td>3717</td>\n",
       "      <td>2982</td>\n",
       "      <td>1679</td>\n",
       "      <td>3.711</td>\n",
       "      <td>33.6</td>\n",
       "    </tr>\n",
       "    <tr>\n",
       "      <th>1</th>\n",
       "      <td>United States</td>\n",
       "      <td>2</td>\n",
       "      <td>North America</td>\n",
       "      <td>Stanford University</td>\n",
       "      <td>15878</td>\n",
       "      <td>3611</td>\n",
       "      <td>4285</td>\n",
       "      <td>2042</td>\n",
       "      <td>3.705</td>\n",
       "      <td>22.7</td>\n",
       "    </tr>\n",
       "    <tr>\n",
       "      <th>2</th>\n",
       "      <td>United States</td>\n",
       "      <td>3</td>\n",
       "      <td>North America</td>\n",
       "      <td>Harvard University</td>\n",
       "      <td>22429</td>\n",
       "      <td>5266</td>\n",
       "      <td>4350</td>\n",
       "      <td>1311</td>\n",
       "      <td>5.156</td>\n",
       "      <td>23.5</td>\n",
       "    </tr>\n",
       "    <tr>\n",
       "      <th>3</th>\n",
       "      <td>United States</td>\n",
       "      <td>4</td>\n",
       "      <td>North America</td>\n",
       "      <td>California Institute of Technology (Caltech)</td>\n",
       "      <td>2255</td>\n",
       "      <td>647</td>\n",
       "      <td>953</td>\n",
       "      <td>350</td>\n",
       "      <td>2.366</td>\n",
       "      <td>28.7</td>\n",
       "    </tr>\n",
       "    <tr>\n",
       "      <th>4</th>\n",
       "      <td>United Kingdom</td>\n",
       "      <td>5</td>\n",
       "      <td>Europe</td>\n",
       "      <td>University of Cambridge</td>\n",
       "      <td>18770</td>\n",
       "      <td>6699</td>\n",
       "      <td>5490</td>\n",
       "      <td>2278</td>\n",
       "      <td>3.419</td>\n",
       "      <td>35.7</td>\n",
       "    </tr>\n",
       "  </tbody>\n",
       "</table>\n",
       "</div>"
      ],
      "text/plain": [
       "          country rank_display         region  \\\n",
       "0   United States            1  North America   \n",
       "1   United States            2  North America   \n",
       "2   United States            3  North America   \n",
       "3   United States            4  North America   \n",
       "4  United Kingdom            5         Europe   \n",
       "\n",
       "                                          title  students  inter_students  \\\n",
       "0   Massachusetts Institute of Technology (MIT)     11067            3717   \n",
       "1                           Stanford University     15878            3611   \n",
       "2                            Harvard University     22429            5266   \n",
       "3  California Institute of Technology (Caltech)      2255             647   \n",
       "4                       University of Cambridge     18770            6699   \n",
       "\n",
       "   staff  inter_staff  student_staff_ratio  international_students_ratio  \n",
       "0   2982         1679                3.711                          33.6  \n",
       "1   4285         2042                3.705                          22.7  \n",
       "2   4350         1311                5.156                          23.5  \n",
       "3    953          350                2.366                          28.7  \n",
       "4   5490         2278                3.419                          35.7  "
      ]
     },
     "execution_count": 3,
     "metadata": {},
     "output_type": "execute_result"
    }
   ],
   "source": [
    "df_top_universities = df[['country','rank_display', 'region','title']][:200]\n",
    "\n",
    "suffixes = np.array(df['url'])\n",
    "urls = []\n",
    "for suffix in suffixes:\n",
    "    urls.append('https://www.topuniversities.com' + suffix + '#wurs')\n",
    "\n",
    "def find_number(soup, tag, my_class):\n",
    "    try:\n",
    "        soup.find(tag, class_= my_class).find(tag, class_='number') \n",
    "    except: \n",
    "        return 0\n",
    "\n",
    "    return int(soup.find(tag, class_= my_class).find(tag, class_='number')\\\n",
    "               .text.strip('\\n').replace(',','').strip(' '))\n",
    "\n",
    "staff = []\n",
    "int_staff = []\n",
    "students = []\n",
    "intl_students = []\n",
    "i = 1\n",
    "\n",
    "for url in urls[:200]:\n",
    "    r = requests.get(url)\n",
    "    soup = BeautifulSoup(r.text, 'html.parser')\n",
    "   \n",
    "    faculty_staff = find_number(soup,'div','faculty-main wrapper col-md-4')\n",
    "    intl_faculty_staff = find_number(soup, 'div', 'inter faculty')\n",
    "    students_ = find_number(soup, 'div', 'students-main wrapper col-md-4')\n",
    "    int_students = find_number(soup, 'div','int-students-main wrapper col-md-4')\n",
    "    \n",
    "    staff.append(faculty_staff)\n",
    "    int_staff.append(intl_faculty_staff)\n",
    "    students.append(students_)\n",
    "    intl_students.append(int_students)\n",
    "    \n",
    "df_top_universities['students'] = pd.Series(students)\n",
    "df_top_universities['inter_students'] = pd.Series(intl_students)\n",
    "df_top_universities['staff'] = pd.Series(staff)\n",
    "df_top_universities['inter_staff'] = pd.Series(int_staff)\n",
    "\n",
    "df_top_universities['student_staff_ratio'] = df_top_universities.students\\\n",
    "                                             .divide(df_top_universities.staff).round(3)\n",
    "df_top_universities['international_students_ratio'] = df_top_universities.inter_students\\\n",
    "                                                      .divide(df_top_universities.students).round(3)*100\n",
    "\n",
    "df_top_universities.head()"
   ]
  },
  {
   "cell_type": "markdown",
   "metadata": {},
   "source": [
    "### `(a) Ratio between faculty members and students`"
   ]
  },
  {
   "cell_type": "code",
   "execution_count": 4,
   "metadata": {
    "collapsed": false
   },
   "outputs": [
    {
     "data": {
      "text/html": [
       "<div>\n",
       "<table border=\"1\" class=\"dataframe\">\n",
       "  <thead>\n",
       "    <tr style=\"text-align: right;\">\n",
       "      <th></th>\n",
       "      <th>title</th>\n",
       "      <th>student_staff_ratio</th>\n",
       "    </tr>\n",
       "  </thead>\n",
       "  <tbody>\n",
       "    <tr>\n",
       "      <th>3</th>\n",
       "      <td>California Institute of Technology (Caltech)</td>\n",
       "      <td>2.366</td>\n",
       "    </tr>\n",
       "    <tr>\n",
       "      <th>15</th>\n",
       "      <td>Yale University</td>\n",
       "      <td>2.511</td>\n",
       "    </tr>\n",
       "    <tr>\n",
       "      <th>5</th>\n",
       "      <td>University of Oxford</td>\n",
       "      <td>2.921</td>\n",
       "    </tr>\n",
       "    <tr>\n",
       "      <th>4</th>\n",
       "      <td>University of Cambridge</td>\n",
       "      <td>3.419</td>\n",
       "    </tr>\n",
       "    <tr>\n",
       "      <th>16</th>\n",
       "      <td>Johns Hopkins University</td>\n",
       "      <td>3.619</td>\n",
       "    </tr>\n",
       "  </tbody>\n",
       "</table>\n",
       "</div>"
      ],
      "text/plain": [
       "                                           title  student_staff_ratio\n",
       "3   California Institute of Technology (Caltech)                2.366\n",
       "15                               Yale University                2.511\n",
       "5                           University of Oxford                2.921\n",
       "4                        University of Cambridge                3.419\n",
       "16                      Johns Hopkins University                3.619"
      ]
     },
     "execution_count": 4,
     "metadata": {},
     "output_type": "execute_result"
    }
   ],
   "source": [
    "df_top_universities = df_top_universities.sort_values(['student_staff_ratio'], ascending = True)\n",
    "df_top_universities[['title','student_staff_ratio']].head()"
   ]
  },
  {
   "cell_type": "markdown",
   "metadata": {},
   "source": [
    "### `(b) Ratio of international students`"
   ]
  },
  {
   "cell_type": "code",
   "execution_count": 5,
   "metadata": {
    "collapsed": false
   },
   "outputs": [
    {
     "data": {
      "text/html": [
       "<div>\n",
       "<table border=\"1\" class=\"dataframe\">\n",
       "  <thead>\n",
       "    <tr style=\"text-align: right;\">\n",
       "      <th></th>\n",
       "      <th>title</th>\n",
       "      <th>international_students_ratio</th>\n",
       "    </tr>\n",
       "  </thead>\n",
       "  <tbody>\n",
       "    <tr>\n",
       "      <th>34</th>\n",
       "      <td>London School of Economics and Political Scien...</td>\n",
       "      <td>69.1</td>\n",
       "    </tr>\n",
       "    <tr>\n",
       "      <th>11</th>\n",
       "      <td>Ecole Polytechnique Fédérale de Lausanne (EPFL)</td>\n",
       "      <td>57.0</td>\n",
       "    </tr>\n",
       "    <tr>\n",
       "      <th>7</th>\n",
       "      <td>Imperial College London</td>\n",
       "      <td>54.4</td>\n",
       "    </tr>\n",
       "    <tr>\n",
       "      <th>198</th>\n",
       "      <td>Maastricht University</td>\n",
       "      <td>50.3</td>\n",
       "    </tr>\n",
       "    <tr>\n",
       "      <th>47</th>\n",
       "      <td>Carnegie Mellon University</td>\n",
       "      <td>47.8</td>\n",
       "    </tr>\n",
       "  </tbody>\n",
       "</table>\n",
       "</div>"
      ],
      "text/plain": [
       "                                                 title  \\\n",
       "34   London School of Economics and Political Scien...   \n",
       "11     Ecole Polytechnique Fédérale de Lausanne (EPFL)   \n",
       "7                              Imperial College London   \n",
       "198                              Maastricht University   \n",
       "47                          Carnegie Mellon University   \n",
       "\n",
       "     international_students_ratio  \n",
       "34                           69.1  \n",
       "11                           57.0  \n",
       "7                            54.4  \n",
       "198                          50.3  \n",
       "47                           47.8  "
      ]
     },
     "execution_count": 5,
     "metadata": {},
     "output_type": "execute_result"
    }
   ],
   "source": [
    "df_top_universities = df_top_universities.sort_values(['international_students_ratio'], ascending=False)\n",
    "df_top_universities[['title','international_students_ratio']].head()"
   ]
  },
  {
   "cell_type": "markdown",
   "metadata": {},
   "source": [
    "### `(c)(1) Ratio between faculty members and students by country`"
   ]
  },
  {
   "cell_type": "code",
   "execution_count": 6,
   "metadata": {
    "collapsed": false
   },
   "outputs": [
    {
     "data": {
      "text/html": [
       "<div>\n",
       "<table border=\"1\" class=\"dataframe\">\n",
       "  <thead>\n",
       "    <tr style=\"text-align: right;\">\n",
       "      <th></th>\n",
       "      <th>student_staff_ratio</th>\n",
       "    </tr>\n",
       "    <tr>\n",
       "      <th>country</th>\n",
       "      <th></th>\n",
       "    </tr>\n",
       "  </thead>\n",
       "  <tbody>\n",
       "    <tr>\n",
       "      <th>Russia</th>\n",
       "      <td>4.506</td>\n",
       "    </tr>\n",
       "    <tr>\n",
       "      <th>Saudi Arabia</th>\n",
       "      <td>5.687</td>\n",
       "    </tr>\n",
       "    <tr>\n",
       "      <th>Singapore</th>\n",
       "      <td>6.172</td>\n",
       "    </tr>\n",
       "    <tr>\n",
       "      <th>Malaysia</th>\n",
       "      <td>6.498</td>\n",
       "    </tr>\n",
       "    <tr>\n",
       "      <th>Japan</th>\n",
       "      <td>6.566</td>\n",
       "    </tr>\n",
       "  </tbody>\n",
       "</table>\n",
       "</div>"
      ],
      "text/plain": [
       "              student_staff_ratio\n",
       "country                          \n",
       "Russia                      4.506\n",
       "Saudi Arabia                5.687\n",
       "Singapore                   6.172\n",
       "Malaysia                    6.498\n",
       "Japan                       6.566"
      ]
     },
     "execution_count": 6,
     "metadata": {},
     "output_type": "execute_result"
    }
   ],
   "source": [
    "df_staff = df_top_universities.copy()\n",
    "df_staff = df_staff.groupby('country').mean()\n",
    "df_staff = df_staff.sort_values(['student_staff_ratio'])\n",
    "df_staff[['student_staff_ratio']].round(3).head()"
   ]
  },
  {
   "cell_type": "markdown",
   "metadata": {},
   "source": [
    "### `(c)(2) Ratio of international students by country`"
   ]
  },
  {
   "cell_type": "code",
   "execution_count": 7,
   "metadata": {
    "collapsed": false
   },
   "outputs": [
    {
     "data": {
      "text/html": [
       "<div>\n",
       "<table border=\"1\" class=\"dataframe\">\n",
       "  <thead>\n",
       "    <tr style=\"text-align: right;\">\n",
       "      <th></th>\n",
       "      <th>international_students_ratio</th>\n",
       "    </tr>\n",
       "    <tr>\n",
       "      <th>country</th>\n",
       "      <th></th>\n",
       "    </tr>\n",
       "  </thead>\n",
       "  <tbody>\n",
       "    <tr>\n",
       "      <th>United Kingdom</th>\n",
       "      <td>35.132</td>\n",
       "    </tr>\n",
       "    <tr>\n",
       "      <th>Australia</th>\n",
       "      <td>34.678</td>\n",
       "    </tr>\n",
       "    <tr>\n",
       "      <th>Switzerland</th>\n",
       "      <td>31.371</td>\n",
       "    </tr>\n",
       "    <tr>\n",
       "      <th>Hong Kong</th>\n",
       "      <td>31.200</td>\n",
       "    </tr>\n",
       "    <tr>\n",
       "      <th>Austria</th>\n",
       "      <td>30.600</td>\n",
       "    </tr>\n",
       "  </tbody>\n",
       "</table>\n",
       "</div>"
      ],
      "text/plain": [
       "                international_students_ratio\n",
       "country                                     \n",
       "United Kingdom                        35.132\n",
       "Australia                             34.678\n",
       "Switzerland                           31.371\n",
       "Hong Kong                             31.200\n",
       "Austria                               30.600"
      ]
     },
     "execution_count": 7,
     "metadata": {},
     "output_type": "execute_result"
    }
   ],
   "source": [
    "df_inter = df_top_universities.copy()\n",
    "df_inter = df_inter.groupby('country').mean()\n",
    "df_inter = df_inter.sort_values(['international_students_ratio'], ascending=False)\n",
    "df_inter[['international_students_ratio']].round(3).head()"
   ]
  },
  {
   "cell_type": "code",
   "execution_count": 8,
   "metadata": {
    "collapsed": false
   },
   "outputs": [
    {
     "data": {
      "image/png": "[encoded data removed]",
      "text/plain": [
       "<matplotlib.figure.Figure at 0x111965f28>"
      ]
     },
     "metadata": {},
     "output_type": "display_data"
    }
   ],
   "source": [
    "df_plot = df_top_universities.copy()\n",
    "df_plot = df_plot.groupby('country').sum()\n",
    "df_plot[['students','staff']]\\\n",
    "    .plot.bar(figsize=(10,6),title ='Ratio b/w Students and Faculty Members by Country')\n",
    "plt.xlabel('Countries')\n",
    "plt.ylabel('Number of Students')\n",
    "plt.show()"
   ]
  },
  {
   "cell_type": "code",
   "execution_count": 9,
   "metadata": {
    "collapsed": false
   },
   "outputs": [
    {
     "data": {
      "image/png": "[encoded data removed]",
      "text/plain": [
       "<matplotlib.figure.Figure at 0x1116bb358>"
      ]
     },
     "metadata": {},
     "output_type": "display_data"
    }
   ],
   "source": [
    "df_plot = df_top_universities.copy()\n",
    "df_plot = df_plot.groupby('country').sum()\n",
    "df_plot[['students','inter_students']]\\\n",
    "    .plot.bar(figsize=(10,6),title ='Ratio of International Students by Country')\n",
    "plt.xlabel('Countries')\n",
    "plt.ylabel('Number of Students')\n",
    "plt.show()"
   ]
  },
  {
   "cell_type": "markdown",
   "metadata": {},
   "source": [
    "### `(d)(1) Ratio between faculty members and students by region`"
   ]
  },
  {
   "cell_type": "code",
   "execution_count": 10,
   "metadata": {
    "collapsed": false
   },
   "outputs": [
    {
     "data": {
      "text/html": [
       "<div>\n",
       "<table border=\"1\" class=\"dataframe\">\n",
       "  <thead>\n",
       "    <tr style=\"text-align: right;\">\n",
       "      <th></th>\n",
       "      <th>student_staff_ratio</th>\n",
       "    </tr>\n",
       "    <tr>\n",
       "      <th>region</th>\n",
       "      <th></th>\n",
       "    </tr>\n",
       "  </thead>\n",
       "  <tbody>\n",
       "    <tr>\n",
       "      <th>Asia</th>\n",
       "      <td>7.978</td>\n",
       "    </tr>\n",
       "    <tr>\n",
       "      <th>North America</th>\n",
       "      <td>9.214</td>\n",
       "    </tr>\n",
       "    <tr>\n",
       "      <th>Europe</th>\n",
       "      <td>9.874</td>\n",
       "    </tr>\n",
       "    <tr>\n",
       "      <th>Latin America</th>\n",
       "      <td>11.235</td>\n",
       "    </tr>\n",
       "    <tr>\n",
       "      <th>Africa</th>\n",
       "      <td>11.306</td>\n",
       "    </tr>\n",
       "    <tr>\n",
       "      <th>Oceania</th>\n",
       "      <td>13.795</td>\n",
       "    </tr>\n",
       "  </tbody>\n",
       "</table>\n",
       "</div>"
      ],
      "text/plain": [
       "               student_staff_ratio\n",
       "region                            \n",
       "Asia                         7.978\n",
       "North America                9.214\n",
       "Europe                       9.874\n",
       "Latin America               11.235\n",
       "Africa                      11.306\n",
       "Oceania                     13.795"
      ]
     },
     "execution_count": 10,
     "metadata": {},
     "output_type": "execute_result"
    }
   ],
   "source": [
    "df_staff = df_top_universities.copy()\n",
    "df_staff = df_staff.groupby('region').mean()\n",
    "df_staff = df_staff.sort_values(['student_staff_ratio'])\n",
    "df_staff[['student_staff_ratio']].round(3)"
   ]
  },
  {
   "cell_type": "markdown",
   "metadata": {},
   "source": [
    "### `(d)(2) Ratio of international students by region`"
   ]
  },
  {
   "cell_type": "code",
   "execution_count": 11,
   "metadata": {
    "collapsed": false
   },
   "outputs": [
    {
     "data": {
      "text/html": [
       "<div>\n",
       "<table border=\"1\" class=\"dataframe\">\n",
       "  <thead>\n",
       "    <tr style=\"text-align: right;\">\n",
       "      <th></th>\n",
       "      <th>international_students_ratio</th>\n",
       "    </tr>\n",
       "    <tr>\n",
       "      <th>region</th>\n",
       "      <th></th>\n",
       "    </tr>\n",
       "  </thead>\n",
       "  <tbody>\n",
       "    <tr>\n",
       "      <th>Oceania</th>\n",
       "      <td>32.900</td>\n",
       "    </tr>\n",
       "    <tr>\n",
       "      <th>Europe</th>\n",
       "      <td>24.592</td>\n",
       "    </tr>\n",
       "    <tr>\n",
       "      <th>North America</th>\n",
       "      <td>20.242</td>\n",
       "    </tr>\n",
       "    <tr>\n",
       "      <th>Africa</th>\n",
       "      <td>17.000</td>\n",
       "    </tr>\n",
       "    <tr>\n",
       "      <th>Asia</th>\n",
       "      <td>13.239</td>\n",
       "    </tr>\n",
       "    <tr>\n",
       "      <th>Latin America</th>\n",
       "      <td>7.186</td>\n",
       "    </tr>\n",
       "  </tbody>\n",
       "</table>\n",
       "</div>"
      ],
      "text/plain": [
       "               international_students_ratio\n",
       "region                                     \n",
       "Oceania                              32.900\n",
       "Europe                               24.592\n",
       "North America                        20.242\n",
       "Africa                               17.000\n",
       "Asia                                 13.239\n",
       "Latin America                         7.186"
      ]
     },
     "execution_count": 11,
     "metadata": {},
     "output_type": "execute_result"
    }
   ],
   "source": [
    "df_inter = df_top_universities.copy()\n",
    "df_inter = df_inter.groupby('region').mean()\n",
    "df_inter = df_inter.sort_values(['international_students_ratio'], ascending=False)\n",
    "df_inter[['international_students_ratio']].round(3)"
   ]
  },
  {
   "cell_type": "markdown",
   "metadata": {},
   "source": [
    "`Plots & Analysis`"
   ]
  },
  {
   "cell_type": "code",
   "execution_count": 12,
   "metadata": {
    "collapsed": false
   },
   "outputs": [
    {
     "data": {
      "image/png": "[encoded data removed]",
      "text/plain": [
       "<matplotlib.figure.Figure at 0x1112ca860>"
      ]
     },
     "metadata": {},
     "output_type": "display_data"
    }
   ],
   "source": [
    "df_plot = df_top_universities.copy()\n",
    "df_plot = df_plot.groupby('region').sum()\n",
    "df_plot[['students','staff']]\\\n",
    "    .plot.bar(figsize=(10,6),title ='Ratio b/w Students and Faculty Members by Region')\n",
    "plt.xlabel('Regions')\n",
    "plt.ylabel('Number of Students')\n",
    "plt.show()"
   ]
  },
  {
   "cell_type": "code",
   "execution_count": 13,
   "metadata": {
    "collapsed": false
   },
   "outputs": [
    {
     "data": {
      "image/png": "[encoded data removed]",
      "text/plain": [
       "<matplotlib.figure.Figure at 0x1112f9128>"
      ]
     },
     "metadata": {},
     "output_type": "display_data"
    }
   ],
   "source": [
    "df_plot = df_top_universities.copy()\n",
    "df_plot = df_plot.groupby('region').sum()\n",
    "df_plot[['students','inter_students']]\\\n",
    "    .plot.bar(figsize=(10,6),title ='Ratio of International Students by Region')\n",
    "plt.xlabel('Regions')\n",
    "plt.ylabel('Number of Students')\n",
    "plt.show()"
   ]
  },
  {
   "cell_type": "markdown",
   "metadata": {},
   "source": [
    "## `Question #2`"
   ]
  },
  {
   "cell_type": "code",
   "execution_count": 14,
   "metadata": {
    "collapsed": false
   },
   "outputs": [],
   "source": [
    "URL = 'https://www.timeshighereducation.com/sites/default/files/the_data_rankings/world_university_rankings_2018_limit0_369a9045a203e176392b9fb8f8c1cb2a.json'\n",
    "r = requests.get(URL).json()['data']\n",
    "df = pd.DataFrame(r)"
   ]
  },
  {
   "cell_type": "markdown",
   "metadata": {},
   "source": [
    "`Regions are not provided in timeshighereducation.com.\n",
    "We converted countries to continents using an external library.`"
   ]
  },
  {
   "cell_type": "code",
   "execution_count": 15,
   "metadata": {
    "collapsed": false
   },
   "outputs": [
    {
     "data": {
      "text/html": [
       "<div>\n",
       "<table border=\"1\" class=\"dataframe\">\n",
       "  <thead>\n",
       "    <tr style=\"text-align: right;\">\n",
       "      <th></th>\n",
       "      <th>location</th>\n",
       "      <th>rank_order</th>\n",
       "      <th>name</th>\n",
       "      <th>stats_number_students</th>\n",
       "      <th>stats_pc_intl_students</th>\n",
       "      <th>stats_student_staff_ratio</th>\n",
       "      <th>continent</th>\n",
       "    </tr>\n",
       "  </thead>\n",
       "  <tbody>\n",
       "    <tr>\n",
       "      <th>0</th>\n",
       "      <td>United Kingdom</td>\n",
       "      <td>10</td>\n",
       "      <td>University of Oxford</td>\n",
       "      <td>20,409</td>\n",
       "      <td>38%</td>\n",
       "      <td>11.2</td>\n",
       "      <td>Europe</td>\n",
       "    </tr>\n",
       "    <tr>\n",
       "      <th>1</th>\n",
       "      <td>United Kingdom</td>\n",
       "      <td>20</td>\n",
       "      <td>University of Cambridge</td>\n",
       "      <td>18,389</td>\n",
       "      <td>35%</td>\n",
       "      <td>10.9</td>\n",
       "      <td>Europe</td>\n",
       "    </tr>\n",
       "    <tr>\n",
       "      <th>2</th>\n",
       "      <td>United States</td>\n",
       "      <td>30</td>\n",
       "      <td>California Institute of Technology</td>\n",
       "      <td>2,209</td>\n",
       "      <td>27%</td>\n",
       "      <td>6.5</td>\n",
       "      <td>North America</td>\n",
       "    </tr>\n",
       "    <tr>\n",
       "      <th>3</th>\n",
       "      <td>United States</td>\n",
       "      <td>40</td>\n",
       "      <td>Stanford University</td>\n",
       "      <td>15,845</td>\n",
       "      <td>22%</td>\n",
       "      <td>7.5</td>\n",
       "      <td>North America</td>\n",
       "    </tr>\n",
       "    <tr>\n",
       "      <th>4</th>\n",
       "      <td>United States</td>\n",
       "      <td>50</td>\n",
       "      <td>Massachusetts Institute of Technology</td>\n",
       "      <td>11,177</td>\n",
       "      <td>34%</td>\n",
       "      <td>8.7</td>\n",
       "      <td>North America</td>\n",
       "    </tr>\n",
       "  </tbody>\n",
       "</table>\n",
       "</div>"
      ],
      "text/plain": [
       "         location rank_order                                   name  \\\n",
       "0  United Kingdom         10                   University of Oxford   \n",
       "1  United Kingdom         20                University of Cambridge   \n",
       "2   United States         30     California Institute of Technology   \n",
       "3   United States         40                    Stanford University   \n",
       "4   United States         50  Massachusetts Institute of Technology   \n",
       "\n",
       "  stats_number_students stats_pc_intl_students stats_student_staff_ratio  \\\n",
       "0                20,409                    38%                      11.2   \n",
       "1                18,389                    35%                      10.9   \n",
       "2                 2,209                    27%                       6.5   \n",
       "3                15,845                    22%                       7.5   \n",
       "4                11,177                    34%                       8.7   \n",
       "\n",
       "       continent  \n",
       "0         Europe  \n",
       "1         Europe  \n",
       "2  North America  \n",
       "3  North America  \n",
       "4  North America  "
      ]
     },
     "execution_count": 15,
     "metadata": {},
     "output_type": "execute_result"
    }
   ],
   "source": [
    "df_times_higher = df[['location','rank_order','name', 'stats_number_students', 'stats_pc_intl_students',\n",
    "             'stats_student_staff_ratio']][:200]\n",
    "\n",
    "def convert_country_name_to_continent(name):    \n",
    "    alpha2 = convert_country_name_to_country_alpha2(name)\n",
    "    return convert_country_alpha2_to_continent(alpha2)\n",
    "\n",
    "df_times_higher = df_times_higher.copy()\n",
    "df_times_higher['continent'] = df_times_higher\\\n",
    "                                .apply(lambda x: convert_country_name_to_continent(x['location']), axis=1)\n",
    "\n",
    "df_times_higher.head()"
   ]
  },
  {
   "cell_type": "markdown",
   "metadata": {},
   "source": [
    "`Derive missing fields from existing ones:\n",
    "inter_students = stats_number_students * stats_pc_intl_students / 100\n",
    "staff = stats_number_students / stats_student_staff_ratio\n",
    "`"
   ]
  },
  {
   "cell_type": "code",
   "execution_count": 16,
   "metadata": {
    "collapsed": true
   },
   "outputs": [],
   "source": [
    "df_times_higher['stats_student_staff_ratio'] = df_times_higher.stats_student_staff_ratio.astype('float')\n",
    "\n",
    "df_times_higher['stats_number_students'] = df_times_higher['stats_number_students']\\\n",
    "    .replace(',', '',regex=True).astype('float')\n",
    "    \n",
    "df_times_higher['stats_pc_intl_students'] = df_times_higher['stats_pc_intl_students']\\\n",
    "    .replace('%','',regex=True).astype('float')\n",
    "\n",
    "df_times_higher['inter_students'] = df_times_higher\\\n",
    "    .apply(lambda x: int(x['stats_number_students']*x['stats_pc_intl_students']/100), axis=1)\n",
    "\n",
    "df_times_higher['staff'] = df_times_higher\\\n",
    "    .apply(lambda x: int(x['stats_number_students']/x['stats_student_staff_ratio']), axis=1)"
   ]
  },
  {
   "cell_type": "code",
   "execution_count": 17,
   "metadata": {
    "collapsed": false
   },
   "outputs": [
    {
     "data": {
      "text/html": [
       "<div>\n",
       "<table border=\"1\" class=\"dataframe\">\n",
       "  <thead>\n",
       "    <tr style=\"text-align: right;\">\n",
       "      <th></th>\n",
       "      <th>location</th>\n",
       "      <th>rank_order</th>\n",
       "      <th>name</th>\n",
       "      <th>stats_number_students</th>\n",
       "      <th>stats_pc_intl_students</th>\n",
       "      <th>stats_student_staff_ratio</th>\n",
       "      <th>continent</th>\n",
       "      <th>inter_students</th>\n",
       "      <th>staff</th>\n",
       "    </tr>\n",
       "  </thead>\n",
       "  <tbody>\n",
       "    <tr>\n",
       "      <th>0</th>\n",
       "      <td>United Kingdom</td>\n",
       "      <td>10</td>\n",
       "      <td>University of Oxford</td>\n",
       "      <td>20409.0</td>\n",
       "      <td>38.0</td>\n",
       "      <td>11.2</td>\n",
       "      <td>Europe</td>\n",
       "      <td>7755</td>\n",
       "      <td>1822</td>\n",
       "    </tr>\n",
       "    <tr>\n",
       "      <th>1</th>\n",
       "      <td>United Kingdom</td>\n",
       "      <td>20</td>\n",
       "      <td>University of Cambridge</td>\n",
       "      <td>18389.0</td>\n",
       "      <td>35.0</td>\n",
       "      <td>10.9</td>\n",
       "      <td>Europe</td>\n",
       "      <td>6436</td>\n",
       "      <td>1687</td>\n",
       "    </tr>\n",
       "    <tr>\n",
       "      <th>2</th>\n",
       "      <td>United States</td>\n",
       "      <td>30</td>\n",
       "      <td>California Institute of Technology</td>\n",
       "      <td>2209.0</td>\n",
       "      <td>27.0</td>\n",
       "      <td>6.5</td>\n",
       "      <td>North America</td>\n",
       "      <td>596</td>\n",
       "      <td>339</td>\n",
       "    </tr>\n",
       "    <tr>\n",
       "      <th>3</th>\n",
       "      <td>United States</td>\n",
       "      <td>40</td>\n",
       "      <td>Stanford University</td>\n",
       "      <td>15845.0</td>\n",
       "      <td>22.0</td>\n",
       "      <td>7.5</td>\n",
       "      <td>North America</td>\n",
       "      <td>3485</td>\n",
       "      <td>2112</td>\n",
       "    </tr>\n",
       "    <tr>\n",
       "      <th>4</th>\n",
       "      <td>United States</td>\n",
       "      <td>50</td>\n",
       "      <td>Massachusetts Institute of Technology</td>\n",
       "      <td>11177.0</td>\n",
       "      <td>34.0</td>\n",
       "      <td>8.7</td>\n",
       "      <td>North America</td>\n",
       "      <td>3800</td>\n",
       "      <td>1284</td>\n",
       "    </tr>\n",
       "  </tbody>\n",
       "</table>\n",
       "</div>"
      ],
      "text/plain": [
       "         location rank_order                                   name  \\\n",
       "0  United Kingdom         10                   University of Oxford   \n",
       "1  United Kingdom         20                University of Cambridge   \n",
       "2   United States         30     California Institute of Technology   \n",
       "3   United States         40                    Stanford University   \n",
       "4   United States         50  Massachusetts Institute of Technology   \n",
       "\n",
       "   stats_number_students  stats_pc_intl_students  stats_student_staff_ratio  \\\n",
       "0                20409.0                    38.0                       11.2   \n",
       "1                18389.0                    35.0                       10.9   \n",
       "2                 2209.0                    27.0                        6.5   \n",
       "3                15845.0                    22.0                        7.5   \n",
       "4                11177.0                    34.0                        8.7   \n",
       "\n",
       "       continent  inter_students  staff  \n",
       "0         Europe            7755   1822  \n",
       "1         Europe            6436   1687  \n",
       "2  North America             596    339  \n",
       "3  North America            3485   2112  \n",
       "4  North America            3800   1284  "
      ]
     },
     "execution_count": 17,
     "metadata": {},
     "output_type": "execute_result"
    }
   ],
   "source": [
    "df_times_higher.head()"
   ]
  },
  {
   "cell_type": "markdown",
   "metadata": {},
   "source": [
    "### `(a) Ratio between faculty members and students`"
   ]
  },
  {
   "cell_type": "code",
   "execution_count": 18,
   "metadata": {
    "collapsed": false
   },
   "outputs": [
    {
     "data": {
      "text/html": [
       "<div>\n",
       "<table border=\"1\" class=\"dataframe\">\n",
       "  <thead>\n",
       "    <tr style=\"text-align: right;\">\n",
       "      <th></th>\n",
       "      <th>name</th>\n",
       "      <th>stats_student_staff_ratio</th>\n",
       "    </tr>\n",
       "  </thead>\n",
       "  <tbody>\n",
       "    <tr>\n",
       "      <th>105</th>\n",
       "      <td>Vanderbilt University</td>\n",
       "      <td>3.3</td>\n",
       "    </tr>\n",
       "    <tr>\n",
       "      <th>109</th>\n",
       "      <td>University of Copenhagen</td>\n",
       "      <td>4.1</td>\n",
       "    </tr>\n",
       "    <tr>\n",
       "      <th>12</th>\n",
       "      <td>Johns Hopkins University</td>\n",
       "      <td>4.3</td>\n",
       "    </tr>\n",
       "    <tr>\n",
       "      <th>11</th>\n",
       "      <td>Yale University</td>\n",
       "      <td>4.3</td>\n",
       "    </tr>\n",
       "    <tr>\n",
       "      <th>153</th>\n",
       "      <td>University of Rochester</td>\n",
       "      <td>4.3</td>\n",
       "    </tr>\n",
       "  </tbody>\n",
       "</table>\n",
       "</div>"
      ],
      "text/plain": [
       "                         name  stats_student_staff_ratio\n",
       "105     Vanderbilt University                        3.3\n",
       "109  University of Copenhagen                        4.1\n",
       "12   Johns Hopkins University                        4.3\n",
       "11            Yale University                        4.3\n",
       "153   University of Rochester                        4.3"
      ]
     },
     "execution_count": 18,
     "metadata": {},
     "output_type": "execute_result"
    }
   ],
   "source": [
    "df_times_higher = df_times_higher.sort_values(['stats_student_staff_ratio'], ascending = True)\n",
    "df_times_higher[['name', 'stats_student_staff_ratio']].head()"
   ]
  },
  {
   "cell_type": "markdown",
   "metadata": {},
   "source": [
    "### `(b) Ratio of international students`"
   ]
  },
  {
   "cell_type": "code",
   "execution_count": 19,
   "metadata": {
    "collapsed": false
   },
   "outputs": [
    {
     "data": {
      "text/html": [
       "<div>\n",
       "<table border=\"1\" class=\"dataframe\">\n",
       "  <thead>\n",
       "    <tr style=\"text-align: right;\">\n",
       "      <th></th>\n",
       "      <th>name</th>\n",
       "      <th>stats_pc_intl_students</th>\n",
       "    </tr>\n",
       "  </thead>\n",
       "  <tbody>\n",
       "    <tr>\n",
       "      <th>24</th>\n",
       "      <td>London School of Economics and Political Science</td>\n",
       "      <td>71.0</td>\n",
       "    </tr>\n",
       "    <tr>\n",
       "      <th>178</th>\n",
       "      <td>University of Luxembourg</td>\n",
       "      <td>57.0</td>\n",
       "    </tr>\n",
       "    <tr>\n",
       "      <th>37</th>\n",
       "      <td>École Polytechnique Fédérale de Lausanne</td>\n",
       "      <td>55.0</td>\n",
       "    </tr>\n",
       "    <tr>\n",
       "      <th>7</th>\n",
       "      <td>Imperial College London</td>\n",
       "      <td>55.0</td>\n",
       "    </tr>\n",
       "    <tr>\n",
       "      <th>102</th>\n",
       "      <td>Maastricht University</td>\n",
       "      <td>50.0</td>\n",
       "    </tr>\n",
       "  </tbody>\n",
       "</table>\n",
       "</div>"
      ],
      "text/plain": [
       "                                                 name  stats_pc_intl_students\n",
       "24   London School of Economics and Political Science                    71.0\n",
       "178                          University of Luxembourg                    57.0\n",
       "37           École Polytechnique Fédérale de Lausanne                    55.0\n",
       "7                             Imperial College London                    55.0\n",
       "102                             Maastricht University                    50.0"
      ]
     },
     "execution_count": 19,
     "metadata": {},
     "output_type": "execute_result"
    }
   ],
   "source": [
    "df_times_higher.sort_values(['stats_pc_intl_students'], ascending=False, inplace=True)\n",
    "df_times_higher[['name', 'stats_pc_intl_students']].head()"
   ]
  },
  {
   "cell_type": "markdown",
   "metadata": {},
   "source": [
    "`Some universities such as University of Luxembourg that are in the top 200 list in topuniversities.com are not in the list according to topuniversities.com and that is why ordering is different.`"
   ]
  },
  {
   "cell_type": "markdown",
   "metadata": {},
   "source": [
    "### `(c)(1) Ratio between faculty members and students by country`"
   ]
  },
  {
   "cell_type": "code",
   "execution_count": 20,
   "metadata": {
    "collapsed": false
   },
   "outputs": [
    {
     "data": {
      "text/html": [
       "<div>\n",
       "<table border=\"1\" class=\"dataframe\">\n",
       "  <thead>\n",
       "    <tr style=\"text-align: right;\">\n",
       "      <th></th>\n",
       "      <th>stats_student_staff_ratio</th>\n",
       "    </tr>\n",
       "    <tr>\n",
       "      <th>location</th>\n",
       "      <th></th>\n",
       "    </tr>\n",
       "  </thead>\n",
       "  <tbody>\n",
       "    <tr>\n",
       "      <th>Russian Federation</th>\n",
       "      <td>7.30</td>\n",
       "    </tr>\n",
       "    <tr>\n",
       "      <th>Japan</th>\n",
       "      <td>7.70</td>\n",
       "    </tr>\n",
       "    <tr>\n",
       "      <th>Denmark</th>\n",
       "      <td>8.13</td>\n",
       "    </tr>\n",
       "    <tr>\n",
       "      <th>Italy</th>\n",
       "      <td>8.45</td>\n",
       "    </tr>\n",
       "    <tr>\n",
       "      <th>Taiwan</th>\n",
       "      <td>11.50</td>\n",
       "    </tr>\n",
       "  </tbody>\n",
       "</table>\n",
       "</div>"
      ],
      "text/plain": [
       "                    stats_student_staff_ratio\n",
       "location                                     \n",
       "Russian Federation                       7.30\n",
       "Japan                                    7.70\n",
       "Denmark                                  8.13\n",
       "Italy                                    8.45\n",
       "Taiwan                                  11.50"
      ]
     },
     "execution_count": 20,
     "metadata": {},
     "output_type": "execute_result"
    }
   ],
   "source": [
    "df_staff = df_times_higher.copy()\n",
    "df_staff = df_staff.groupby('location').mean()\n",
    "df_staff = df_staff.sort_values(['stats_student_staff_ratio'])\n",
    "df_staff[['stats_student_staff_ratio']].round(2).head()"
   ]
  },
  {
   "cell_type": "markdown",
   "metadata": {},
   "source": [
    "### `(c)(2) Ratio of international students by country`"
   ]
  },
  {
   "cell_type": "code",
   "execution_count": 21,
   "metadata": {
    "collapsed": false
   },
   "outputs": [
    {
     "data": {
      "text/html": [
       "<div>\n",
       "<table border=\"1\" class=\"dataframe\">\n",
       "  <thead>\n",
       "    <tr style=\"text-align: right;\">\n",
       "      <th></th>\n",
       "      <th>stats_pc_intl_students</th>\n",
       "    </tr>\n",
       "    <tr>\n",
       "      <th>location</th>\n",
       "      <th></th>\n",
       "    </tr>\n",
       "  </thead>\n",
       "  <tbody>\n",
       "    <tr>\n",
       "      <th>Luxembourg</th>\n",
       "      <td>57.000</td>\n",
       "    </tr>\n",
       "    <tr>\n",
       "      <th>United Kingdom</th>\n",
       "      <td>36.548</td>\n",
       "    </tr>\n",
       "    <tr>\n",
       "      <th>Hong Kong</th>\n",
       "      <td>32.800</td>\n",
       "    </tr>\n",
       "    <tr>\n",
       "      <th>Switzerland</th>\n",
       "      <td>31.429</td>\n",
       "    </tr>\n",
       "    <tr>\n",
       "      <th>Australia</th>\n",
       "      <td>30.750</td>\n",
       "    </tr>\n",
       "  </tbody>\n",
       "</table>\n",
       "</div>"
      ],
      "text/plain": [
       "                stats_pc_intl_students\n",
       "location                              \n",
       "Luxembourg                      57.000\n",
       "United Kingdom                  36.548\n",
       "Hong Kong                       32.800\n",
       "Switzerland                     31.429\n",
       "Australia                       30.750"
      ]
     },
     "execution_count": 21,
     "metadata": {},
     "output_type": "execute_result"
    }
   ],
   "source": [
    "df_inter = df_times_higher.copy()\n",
    "df_inter = df_inter.groupby('location').mean()\n",
    "df_inter = df_inter.sort_values(['stats_pc_intl_students'], ascending=False)\n",
    "df_inter[['stats_pc_intl_students']].round(3).head()"
   ]
  },
  {
   "cell_type": "code",
   "execution_count": 22,
   "metadata": {
    "collapsed": false
   },
   "outputs": [
    {
     "data": {
      "image/png": "[encoded data removed]",
      "text/plain": [
       "<matplotlib.figure.Figure at 0x111db6208>"
      ]
     },
     "metadata": {},
     "output_type": "display_data"
    }
   ],
   "source": [
    "df_plot = df_times_higher.copy()\n",
    "df_plot = df_plot.groupby('location').sum()\n",
    "df_plot[['stats_number_students','staff']]\\\n",
    "    .plot.bar(figsize=(10,6),title ='Ratio b/w Students and Faculty Members by Country')\n",
    "plt.xlabel('Countries')\n",
    "plt.ylabel('Number of Students')\n",
    "plt.show()"
   ]
  },
  {
   "cell_type": "code",
   "execution_count": 23,
   "metadata": {
    "collapsed": false
   },
   "outputs": [
    {
     "data": {
      "image/png": "[encoded data removed]",
      "text/plain": [
       "<matplotlib.figure.Figure at 0x112001eb8>"
      ]
     },
     "metadata": {},
     "output_type": "display_data"
    }
   ],
   "source": [
    "df_plot = df_times_higher.copy()\n",
    "df_plot = df_plot.groupby('location').sum()\n",
    "df_plot[['stats_number_students','inter_students']]\\\n",
    "    .plot.bar(figsize=(10,6),title ='Ratio of International Students by Country')\n",
    "plt.xlabel('Countries')\n",
    "plt.ylabel('Number of Students')\n",
    "plt.show()"
   ]
  },
  {
   "cell_type": "markdown",
   "metadata": {},
   "source": [
    "### `(d)(1) Ratio between faculty members and students by region`"
   ]
  },
  {
   "cell_type": "code",
   "execution_count": 24,
   "metadata": {
    "collapsed": false
   },
   "outputs": [
    {
     "data": {
      "text/html": [
       "<div>\n",
       "<table border=\"1\" class=\"dataframe\">\n",
       "  <thead>\n",
       "    <tr style=\"text-align: right;\">\n",
       "      <th></th>\n",
       "      <th>stats_student_staff_ratio</th>\n",
       "    </tr>\n",
       "    <tr>\n",
       "      <th>continent</th>\n",
       "      <th></th>\n",
       "    </tr>\n",
       "  </thead>\n",
       "  <tbody>\n",
       "    <tr>\n",
       "      <th>Africa</th>\n",
       "      <td>11.700</td>\n",
       "    </tr>\n",
       "    <tr>\n",
       "      <th>North America</th>\n",
       "      <td>12.594</td>\n",
       "    </tr>\n",
       "    <tr>\n",
       "      <th>Asia</th>\n",
       "      <td>13.976</td>\n",
       "    </tr>\n",
       "    <tr>\n",
       "      <th>Europe</th>\n",
       "      <td>21.371</td>\n",
       "    </tr>\n",
       "    <tr>\n",
       "      <th>Oceania</th>\n",
       "      <td>26.500</td>\n",
       "    </tr>\n",
       "  </tbody>\n",
       "</table>\n",
       "</div>"
      ],
      "text/plain": [
       "               stats_student_staff_ratio\n",
       "continent                               \n",
       "Africa                            11.700\n",
       "North America                     12.594\n",
       "Asia                              13.976\n",
       "Europe                            21.371\n",
       "Oceania                           26.500"
      ]
     },
     "execution_count": 24,
     "metadata": {},
     "output_type": "execute_result"
    }
   ],
   "source": [
    "df_copy = df_times_higher.groupby('continent').mean()\n",
    "df_copy = df_copy.sort_values(['stats_student_staff_ratio'])\n",
    "df_copy[['stats_student_staff_ratio']].round(3).head()"
   ]
  },
  {
   "cell_type": "markdown",
   "metadata": {},
   "source": [
    "`[Comment Required]`"
   ]
  },
  {
   "cell_type": "markdown",
   "metadata": {},
   "source": [
    "### `(d)(2) Ratio of international students by region`"
   ]
  },
  {
   "cell_type": "code",
   "execution_count": 25,
   "metadata": {
    "collapsed": false
   },
   "outputs": [
    {
     "data": {
      "text/html": [
       "<div>\n",
       "<table border=\"1\" class=\"dataframe\">\n",
       "  <thead>\n",
       "    <tr style=\"text-align: right;\">\n",
       "      <th></th>\n",
       "      <th>stats_pc_intl_students</th>\n",
       "    </tr>\n",
       "    <tr>\n",
       "      <th>continent</th>\n",
       "      <th></th>\n",
       "    </tr>\n",
       "  </thead>\n",
       "  <tbody>\n",
       "    <tr>\n",
       "      <th>Oceania</th>\n",
       "      <td>30.556</td>\n",
       "    </tr>\n",
       "    <tr>\n",
       "      <th>Europe</th>\n",
       "      <td>24.465</td>\n",
       "    </tr>\n",
       "    <tr>\n",
       "      <th>North America</th>\n",
       "      <td>18.559</td>\n",
       "    </tr>\n",
       "    <tr>\n",
       "      <th>Africa</th>\n",
       "      <td>18.000</td>\n",
       "    </tr>\n",
       "    <tr>\n",
       "      <th>Asia</th>\n",
       "      <td>16.524</td>\n",
       "    </tr>\n",
       "  </tbody>\n",
       "</table>\n",
       "</div>"
      ],
      "text/plain": [
       "               stats_pc_intl_students\n",
       "continent                            \n",
       "Oceania                        30.556\n",
       "Europe                         24.465\n",
       "North America                  18.559\n",
       "Africa                         18.000\n",
       "Asia                           16.524"
      ]
     },
     "execution_count": 25,
     "metadata": {},
     "output_type": "execute_result"
    }
   ],
   "source": [
    "df_copy = df_times_higher.groupby('continent').mean()\n",
    "df_copy = df_copy.sort_values(['stats_pc_intl_students'], ascending=False)\n",
    "df_copy['stats_pc_intl_students'] = df_copy['stats_pc_intl_students'].round(3)\n",
    "df_copy[['stats_pc_intl_students']]"
   ]
  },
  {
   "cell_type": "markdown",
   "metadata": {},
   "source": [
    "`This ordering is similar to what've found earlier.\n",
    "Only difference is that there is no university from Latin America at top 200 accordig to timeshighereducation.com.`"
   ]
  },
  {
   "cell_type": "code",
   "execution_count": 26,
   "metadata": {
    "collapsed": false
   },
   "outputs": [
    {
     "data": {
      "image/png": "[encoded data removed]",
      "text/plain": [
       "<matplotlib.figure.Figure at 0x1119a8390>"
      ]
     },
     "metadata": {},
     "output_type": "display_data"
    }
   ],
   "source": [
    "df_plot = df_times_higher.copy()\n",
    "df_plot = df_plot.groupby('continent').sum()\n",
    "df_plot[['stats_number_students','staff']]\\\n",
    "    .plot.bar(figsize=(10,6),title ='Ratio b/w Students and Faculty Members by Region')\n",
    "plt.xlabel('Regions')\n",
    "plt.ylabel('Number of Students')\n",
    "plt.show()"
   ]
  },
  {
   "cell_type": "code",
   "execution_count": 27,
   "metadata": {
    "collapsed": false
   },
   "outputs": [
    {
     "data": {
      "image/png": "[encoded data removed]",
      "text/plain": [
       "<matplotlib.figure.Figure at 0x111f42cf8>"
      ]
     },
     "metadata": {},
     "output_type": "display_data"
    }
   ],
   "source": [
    "df_plot = df_times_higher.copy()\n",
    "df_plot = df_plot.groupby('continent').sum()\n",
    "df_plot[['stats_number_students','inter_students']]\\\n",
    "    .plot.bar(figsize=(10,6),title ='Ratio of International Students by Region')\n",
    "plt.xlabel('Regions')\n",
    "plt.ylabel('Number of Students')\n",
    "plt.show()"
   ]
  },
  {
   "cell_type": "markdown",
   "metadata": {},
   "source": [
    "## `Question #3`"
   ]
  },
  {
   "cell_type": "markdown",
   "metadata": {},
   "source": [
    "`The goal of this exercise is to merge the 2 dataframe on the university names.\n",
    "The issue is that many university don't have the exact same name in both ranking.\n",
    "The strategy of this algorithm is to have at least 2 common key words in the 2 universities to match them.\n",
    "An other issue with that strategy is that a lot of university that does not correspond would match.\n",
    "A basic exemple of that would be 'Hong Kong University of Science and Technology' and 'Massachusset Institute of Technology'\n",
    "Have both 2 common words : 'of' and 'Technology'\n",
    "To fix this problem, some special words like 'of', 'College', 'de', etc. are removed from the university name.\n",
    "Finally every university of the first ranking is compared to each university of the second. \n",
    "If a match is found, the university name of the first ranking is overwritten with the name of the second ranking.\n",
    "At the end the university are merged by name.\n",
    "There are a few special case that have to be treated manually with this strategy.\n",
    "The flaw of this strategy is that we loose the exact university names. \n",
    "(ex: Massachusset Institute of Technology becomes Massachusset Technology)\n",
    "`"
   ]
  },
  {
   "cell_type": "code",
   "execution_count": 28,
   "metadata": {
    "collapsed": false
   },
   "outputs": [],
   "source": [
    "# just cleaning up column names and types\n",
    "df_top_universities.columns = ['country', 'rank', 'region', 'title', 'students', 'inter_students', 'staff',\\\n",
    "                                   'inter_staff', 'student_staff_ratio', 'international_student_ratio']\n",
    "\n",
    "df_times_higher.columns = ['country', 'rank', 'title', 'students', 'international_student_ratio',\\\n",
    "                               'student_staff_ratio','region', 'inter_students', 'staff']\n",
    "\n",
    "df_times_higher['rank'] = df_times_higher.apply(lambda x: int(x['rank'])/10., axis=1)\n",
    "df_top_universities['rank'] = df_top_universities['rank'].replace('=','',regex=True).astype('int')\n",
    "df_times_higher['international_student_ratio'] = df_times_higher.international_student_ratio.astype(\"int\")\n",
    "\n",
    "# Copy dataframes for convenience and obtain relevant columns for analysis\n",
    "df_TU = df_top_universities[['rank', 'title', 'students', 'inter_students', 'staff',\\\n",
    "                                   'student_staff_ratio', 'international_student_ratio']].copy()\n",
    "df_THE = df_times_higher[['rank', 'title', 'students', 'inter_students', 'staff',\\\n",
    "                                   'student_staff_ratio', 'international_student_ratio']].copy()"
   ]
  },
  {
   "cell_type": "code",
   "execution_count": 29,
   "metadata": {
    "collapsed": true
   },
   "outputs": [],
   "source": [
    "# function to return the number of common words in the 2 strings\n",
    "def nb_common_string(string1, string2):  \n",
    "    list1=string1.split()\n",
    "    list2=string2.split()\n",
    "    return len(set(list1).intersection(list2))\n",
    "\n",
    "# treat university names to have 2 unique word for each corresponding university in each ranking\n",
    "def treat_university(uni):\n",
    "    \n",
    "    # avoid confustion like 'University of Pennsylvania' and 'Pensilvania state University'\n",
    "    if('State' in uni.split()):\n",
    "        uni=uni.replace('University', '')   \n",
    "    uni=uni.replace('- ','')\n",
    "    uni=uni.replace(',','')\n",
    "    uni=uni.replace('(','')\n",
    "    uni=uni.replace(')','')\n",
    "    uni=uni.replace('of ','')\n",
    "    uni=uni.replace('Swiss ','')\n",
    "    uni=uni.replace('Hong Kong','Hong_Kong') # Count Hong Kong as 1 word\n",
    "    uni=uni.replace('The ','')\n",
    "    uni=uni.replace('Federal ','')\n",
    "    uni=uni.replace('\\'','')\n",
    "    uni=uni.replace('’','')\n",
    "    uni=uni.replace('and ','')\n",
    "    uni=uni.replace('&','')\n",
    "    uni=uni.replace('École', 'Ecole')\n",
    "    uni=uni.replace('Ludwig-Maximilians-Universität München', 'LMU Munich')\n",
    "    uni=uni.replace('Ruprecht-Karls-Universität Heidelberg', 'Heidelberg University')   \n",
    "    \n",
    "    # don't remove University for case of type \"University of ...\" and \"University ... College ...\"\n",
    "    if len(uni.split())>2 and ('College' not in uni.split()): \n",
    "       uni=uni.replace('University','')\n",
    "    \n",
    "    # allow to have 2 words in common in second ranking (Massachusset Institute of Technology)\n",
    "    if('Institute' not in uni.split()): \n",
    "        uni=uni.replace('Technology','')\n",
    "    uni=uni.replace('Institute ','')\n",
    "    if('Hong_Kong' in uni.split()): \n",
    "        uni=uni.replace('University','')       \n",
    "    uni=uni.replace('College ','')\n",
    "    uni=uni.replace('de ','')\n",
    "    \n",
    "    # special case of \"Ecole Polytechnique\" to not confuse with \"Ecole Polytechnique Federal de Lausanne\"\n",
    "    if(uni==\"Ecole Polytechnique\"): \n",
    "        uni=\"École Polytechnique Paris\"\n",
    "        \n",
    "    return uni\n",
    "\n",
    "# return list1 that contain the exact same university names as list2\n",
    "def rename_list1_as_list2(list1, list2, nb_common_str):   \n",
    "    for elem1 in list1:\n",
    "        for elem2 in list2:\n",
    "            if nb_common_string(elem1, elem2) >= nb_common_str:\n",
    "                list1[list1.index(elem1)]=list2[list2.index(elem2)]\n",
    "                break\n",
    "    return list1"
   ]
  },
  {
   "cell_type": "code",
   "execution_count": 31,
   "metadata": {
    "collapsed": false
   },
   "outputs": [
    {
     "data": {
      "text/html": [
       "<div>\n",
       "<table border=\"1\" class=\"dataframe\">\n",
       "  <thead>\n",
       "    <tr style=\"text-align: right;\">\n",
       "      <th></th>\n",
       "      <th>rank_x</th>\n",
       "      <th>title</th>\n",
       "      <th>students_x</th>\n",
       "      <th>inter_students_x</th>\n",
       "      <th>staff_x</th>\n",
       "      <th>student_staff_ratio_x</th>\n",
       "      <th>international_student_ratio_x</th>\n",
       "      <th>rank_y</th>\n",
       "      <th>students_y</th>\n",
       "      <th>inter_students_y</th>\n",
       "      <th>staff_y</th>\n",
       "      <th>student_staff_ratio_y</th>\n",
       "      <th>international_student_ratio_y</th>\n",
       "    </tr>\n",
       "  </thead>\n",
       "  <tbody>\n",
       "    <tr>\n",
       "      <th>0</th>\n",
       "      <td>35.0</td>\n",
       "      <td>Kyoto University</td>\n",
       "      <td>9760.0</td>\n",
       "      <td>6748.0</td>\n",
       "      <td>1088.0</td>\n",
       "      <td>8.971</td>\n",
       "      <td>69.1</td>\n",
       "      <td>189.0</td>\n",
       "      <td>37288.0</td>\n",
       "      <td>2237.0</td>\n",
       "      <td>3007.0</td>\n",
       "      <td>12.4</td>\n",
       "      <td>6.0</td>\n",
       "    </tr>\n",
       "    <tr>\n",
       "      <th>1</th>\n",
       "      <td>12.0</td>\n",
       "      <td>Cape Town</td>\n",
       "      <td>10343.0</td>\n",
       "      <td>5896.0</td>\n",
       "      <td>1695.0</td>\n",
       "      <td>6.102</td>\n",
       "      <td>57.0</td>\n",
       "      <td>108.0</td>\n",
       "      <td>41017.0</td>\n",
       "      <td>9023.0</td>\n",
       "      <td>1872.0</td>\n",
       "      <td>21.9</td>\n",
       "      <td>22.0</td>\n",
       "    </tr>\n",
       "    <tr>\n",
       "      <th>2</th>\n",
       "      <td>8.0</td>\n",
       "      <td>CentraleSupélec</td>\n",
       "      <td>16090.0</td>\n",
       "      <td>8746.0</td>\n",
       "      <td>3930.0</td>\n",
       "      <td>4.094</td>\n",
       "      <td>54.4</td>\n",
       "      <td>NaN</td>\n",
       "      <td>NaN</td>\n",
       "      <td>NaN</td>\n",
       "      <td>NaN</td>\n",
       "      <td>NaN</td>\n",
       "      <td>NaN</td>\n",
       "    </tr>\n",
       "    <tr>\n",
       "      <th>3</th>\n",
       "      <td>200.0</td>\n",
       "      <td>Seoul National</td>\n",
       "      <td>16385.0</td>\n",
       "      <td>8234.0</td>\n",
       "      <td>1277.0</td>\n",
       "      <td>12.831</td>\n",
       "      <td>50.3</td>\n",
       "      <td>168.0</td>\n",
       "      <td>15703.0</td>\n",
       "      <td>942.0</td>\n",
       "      <td>1033.0</td>\n",
       "      <td>15.2</td>\n",
       "      <td>6.0</td>\n",
       "    </tr>\n",
       "    <tr>\n",
       "      <th>4</th>\n",
       "      <td>47.0</td>\n",
       "      <td>Kings London</td>\n",
       "      <td>13356.0</td>\n",
       "      <td>6385.0</td>\n",
       "      <td>1342.0</td>\n",
       "      <td>9.952</td>\n",
       "      <td>47.8</td>\n",
       "      <td>11.0</td>\n",
       "      <td>20361.0</td>\n",
       "      <td>4072.0</td>\n",
       "      <td>3132.0</td>\n",
       "      <td>6.5</td>\n",
       "      <td>20.0</td>\n",
       "    </tr>\n",
       "  </tbody>\n",
       "</table>\n",
       "</div>"
      ],
      "text/plain": [
       "   rank_x             title  students_x  inter_students_x  staff_x  \\\n",
       "0    35.0  Kyoto University      9760.0            6748.0   1088.0   \n",
       "1    12.0         Cape Town     10343.0            5896.0   1695.0   \n",
       "2     8.0   CentraleSupélec     16090.0            8746.0   3930.0   \n",
       "3   200.0   Seoul National      16385.0            8234.0   1277.0   \n",
       "4    47.0      Kings London     13356.0            6385.0   1342.0   \n",
       "\n",
       "   student_staff_ratio_x  international_student_ratio_x  rank_y  students_y  \\\n",
       "0                  8.971                           69.1   189.0     37288.0   \n",
       "1                  6.102                           57.0   108.0     41017.0   \n",
       "2                  4.094                           54.4     NaN         NaN   \n",
       "3                 12.831                           50.3   168.0     15703.0   \n",
       "4                  9.952                           47.8    11.0     20361.0   \n",
       "\n",
       "   inter_students_y  staff_y  student_staff_ratio_y  \\\n",
       "0            2237.0   3007.0                   12.4   \n",
       "1            9023.0   1872.0                   21.9   \n",
       "2               NaN      NaN                    NaN   \n",
       "3             942.0   1033.0                   15.2   \n",
       "4            4072.0   3132.0                    6.5   \n",
       "\n",
       "   international_student_ratio_y  \n",
       "0                            6.0  \n",
       "1                           22.0  \n",
       "2                            NaN  \n",
       "3                            6.0  \n",
       "4                           20.0  "
      ]
     },
     "execution_count": 31,
     "metadata": {},
     "output_type": "execute_result"
    }
   ],
   "source": [
    "# treat university names in the ranking to match them\n",
    "df_TU['title'] = pd.Series(list(map(lambda x: treat_university(x), df_TU['title'].tolist())))\n",
    "df_THE['title'] = pd.Series(list(map(lambda x: treat_university(x), df_THE['title'].tolist())))\n",
    "\n",
    "# modify the university names of rank one to make them correspond to rank 2\n",
    "df_TU['title'] = pd.Series(rename_list1_as_list2(df_TU['title'].tolist(), df_THE['title'].tolist(), 2))\n",
    "\n",
    "# merge dataframes\n",
    "mergedRanking = pd.merge(df_TU, df_THE, on='title', how='outer') \n",
    "mergedRanking.head()"
   ]
  },
  {
   "cell_type": "markdown",
   "metadata": {},
   "source": [
    "## `Question #4`"
   ]
  },
  {
   "cell_type": "code",
   "execution_count": 32,
   "metadata": {
    "collapsed": false
   },
   "outputs": [
    {
     "data": {
      "text/html": [
       "<div>\n",
       "<table border=\"1\" class=\"dataframe\">\n",
       "  <thead>\n",
       "    <tr style=\"text-align: right;\">\n",
       "      <th></th>\n",
       "      <th>rank_x</th>\n",
       "      <th>students_x</th>\n",
       "      <th>inter_students_x</th>\n",
       "      <th>staff_x</th>\n",
       "      <th>student_staff_ratio_x</th>\n",
       "      <th>international_student_ratio_x</th>\n",
       "      <th>rank_y</th>\n",
       "      <th>students_y</th>\n",
       "      <th>inter_students_y</th>\n",
       "      <th>staff_y</th>\n",
       "      <th>student_staff_ratio_y</th>\n",
       "      <th>international_student_ratio_y</th>\n",
       "    </tr>\n",
       "  </thead>\n",
       "  <tbody>\n",
       "    <tr>\n",
       "      <th>rank_x</th>\n",
       "      <td>1.000000</td>\n",
       "      <td>-0.033233</td>\n",
       "      <td>-0.302350</td>\n",
       "      <td>-0.308171</td>\n",
       "      <td>0.373101</td>\n",
       "      <td>-0.369101</td>\n",
       "      <td>0.321273</td>\n",
       "      <td>-0.028267</td>\n",
       "      <td>-0.116382</td>\n",
       "      <td>-0.079513</td>\n",
       "      <td>0.037739</td>\n",
       "      <td>-0.111126</td>\n",
       "    </tr>\n",
       "    <tr>\n",
       "      <th>students_x</th>\n",
       "      <td>-0.033233</td>\n",
       "      <td>1.000000</td>\n",
       "      <td>0.562818</td>\n",
       "      <td>0.767160</td>\n",
       "      <td>0.331211</td>\n",
       "      <td>-0.171074</td>\n",
       "      <td>-0.071117</td>\n",
       "      <td>0.037667</td>\n",
       "      <td>0.085875</td>\n",
       "      <td>0.027355</td>\n",
       "      <td>-0.067884</td>\n",
       "      <td>0.126649</td>\n",
       "    </tr>\n",
       "    <tr>\n",
       "      <th>inter_students_x</th>\n",
       "      <td>-0.302350</td>\n",
       "      <td>0.562818</td>\n",
       "      <td>1.000000</td>\n",
       "      <td>0.476709</td>\n",
       "      <td>0.196063</td>\n",
       "      <td>0.539893</td>\n",
       "      <td>-0.102327</td>\n",
       "      <td>-0.009141</td>\n",
       "      <td>0.082262</td>\n",
       "      <td>0.034204</td>\n",
       "      <td>-0.081105</td>\n",
       "      <td>0.065693</td>\n",
       "    </tr>\n",
       "    <tr>\n",
       "      <th>staff_x</th>\n",
       "      <td>-0.308171</td>\n",
       "      <td>0.767160</td>\n",
       "      <td>0.476709</td>\n",
       "      <td>1.000000</td>\n",
       "      <td>-0.266907</td>\n",
       "      <td>-0.069602</td>\n",
       "      <td>-0.177571</td>\n",
       "      <td>0.051831</td>\n",
       "      <td>0.152626</td>\n",
       "      <td>0.031371</td>\n",
       "      <td>-0.055092</td>\n",
       "      <td>0.152059</td>\n",
       "    </tr>\n",
       "    <tr>\n",
       "      <th>student_staff_ratio_x</th>\n",
       "      <td>0.373101</td>\n",
       "      <td>0.331211</td>\n",
       "      <td>0.196063</td>\n",
       "      <td>-0.266907</td>\n",
       "      <td>1.000000</td>\n",
       "      <td>-0.103964</td>\n",
       "      <td>0.146472</td>\n",
       "      <td>-0.098274</td>\n",
       "      <td>-0.148306</td>\n",
       "      <td>-0.032666</td>\n",
       "      <td>-0.070005</td>\n",
       "      <td>-0.036778</td>\n",
       "    </tr>\n",
       "    <tr>\n",
       "      <th>international_student_ratio_x</th>\n",
       "      <td>-0.369101</td>\n",
       "      <td>-0.171074</td>\n",
       "      <td>0.539893</td>\n",
       "      <td>-0.069602</td>\n",
       "      <td>-0.103964</td>\n",
       "      <td>1.000000</td>\n",
       "      <td>-0.059700</td>\n",
       "      <td>0.096938</td>\n",
       "      <td>0.069093</td>\n",
       "      <td>0.107120</td>\n",
       "      <td>-0.077321</td>\n",
       "      <td>-0.068713</td>\n",
       "    </tr>\n",
       "    <tr>\n",
       "      <th>rank_y</th>\n",
       "      <td>0.321273</td>\n",
       "      <td>-0.071117</td>\n",
       "      <td>-0.102327</td>\n",
       "      <td>-0.177571</td>\n",
       "      <td>0.146472</td>\n",
       "      <td>-0.059700</td>\n",
       "      <td>1.000000</td>\n",
       "      <td>-0.154816</td>\n",
       "      <td>-0.328920</td>\n",
       "      <td>-0.249715</td>\n",
       "      <td>0.105237</td>\n",
       "      <td>-0.203950</td>\n",
       "    </tr>\n",
       "    <tr>\n",
       "      <th>students_y</th>\n",
       "      <td>-0.028267</td>\n",
       "      <td>0.037667</td>\n",
       "      <td>-0.009141</td>\n",
       "      <td>0.051831</td>\n",
       "      <td>-0.098274</td>\n",
       "      <td>0.096938</td>\n",
       "      <td>-0.154816</td>\n",
       "      <td>1.000000</td>\n",
       "      <td>0.577516</td>\n",
       "      <td>0.570483</td>\n",
       "      <td>0.258414</td>\n",
       "      <td>-0.298455</td>\n",
       "    </tr>\n",
       "    <tr>\n",
       "      <th>inter_students_y</th>\n",
       "      <td>-0.116382</td>\n",
       "      <td>0.085875</td>\n",
       "      <td>0.082262</td>\n",
       "      <td>0.152626</td>\n",
       "      <td>-0.148306</td>\n",
       "      <td>0.069093</td>\n",
       "      <td>-0.328920</td>\n",
       "      <td>0.577516</td>\n",
       "      <td>1.000000</td>\n",
       "      <td>0.275928</td>\n",
       "      <td>0.138398</td>\n",
       "      <td>0.489935</td>\n",
       "    </tr>\n",
       "    <tr>\n",
       "      <th>staff_y</th>\n",
       "      <td>-0.079513</td>\n",
       "      <td>0.027355</td>\n",
       "      <td>0.034204</td>\n",
       "      <td>0.031371</td>\n",
       "      <td>-0.032666</td>\n",
       "      <td>0.107120</td>\n",
       "      <td>-0.249715</td>\n",
       "      <td>0.570483</td>\n",
       "      <td>0.275928</td>\n",
       "      <td>1.000000</td>\n",
       "      <td>-0.428915</td>\n",
       "      <td>-0.223396</td>\n",
       "    </tr>\n",
       "    <tr>\n",
       "      <th>student_staff_ratio_y</th>\n",
       "      <td>0.037739</td>\n",
       "      <td>-0.067884</td>\n",
       "      <td>-0.081105</td>\n",
       "      <td>-0.055092</td>\n",
       "      <td>-0.070005</td>\n",
       "      <td>-0.077321</td>\n",
       "      <td>0.105237</td>\n",
       "      <td>0.258414</td>\n",
       "      <td>0.138398</td>\n",
       "      <td>-0.428915</td>\n",
       "      <td>1.000000</td>\n",
       "      <td>-0.123189</td>\n",
       "    </tr>\n",
       "    <tr>\n",
       "      <th>international_student_ratio_y</th>\n",
       "      <td>-0.111126</td>\n",
       "      <td>0.126649</td>\n",
       "      <td>0.065693</td>\n",
       "      <td>0.152059</td>\n",
       "      <td>-0.036778</td>\n",
       "      <td>-0.068713</td>\n",
       "      <td>-0.203950</td>\n",
       "      <td>-0.298455</td>\n",
       "      <td>0.489935</td>\n",
       "      <td>-0.223396</td>\n",
       "      <td>-0.123189</td>\n",
       "      <td>1.000000</td>\n",
       "    </tr>\n",
       "  </tbody>\n",
       "</table>\n",
       "</div>"
      ],
      "text/plain": [
       "                                 rank_x  students_x  inter_students_x  \\\n",
       "rank_x                         1.000000   -0.033233         -0.302350   \n",
       "students_x                    -0.033233    1.000000          0.562818   \n",
       "inter_students_x              -0.302350    0.562818          1.000000   \n",
       "staff_x                       -0.308171    0.767160          0.476709   \n",
       "student_staff_ratio_x          0.373101    0.331211          0.196063   \n",
       "international_student_ratio_x -0.369101   -0.171074          0.539893   \n",
       "rank_y                         0.321273   -0.071117         -0.102327   \n",
       "students_y                    -0.028267    0.037667         -0.009141   \n",
       "inter_students_y              -0.116382    0.085875          0.082262   \n",
       "staff_y                       -0.079513    0.027355          0.034204   \n",
       "student_staff_ratio_y          0.037739   -0.067884         -0.081105   \n",
       "international_student_ratio_y -0.111126    0.126649          0.065693   \n",
       "\n",
       "                                staff_x  student_staff_ratio_x  \\\n",
       "rank_x                        -0.308171               0.373101   \n",
       "students_x                     0.767160               0.331211   \n",
       "inter_students_x               0.476709               0.196063   \n",
       "staff_x                        1.000000              -0.266907   \n",
       "student_staff_ratio_x         -0.266907               1.000000   \n",
       "international_student_ratio_x -0.069602              -0.103964   \n",
       "rank_y                        -0.177571               0.146472   \n",
       "students_y                     0.051831              -0.098274   \n",
       "inter_students_y               0.152626              -0.148306   \n",
       "staff_y                        0.031371              -0.032666   \n",
       "student_staff_ratio_y         -0.055092              -0.070005   \n",
       "international_student_ratio_y  0.152059              -0.036778   \n",
       "\n",
       "                               international_student_ratio_x    rank_y  \\\n",
       "rank_x                                             -0.369101  0.321273   \n",
       "students_x                                         -0.171074 -0.071117   \n",
       "inter_students_x                                    0.539893 -0.102327   \n",
       "staff_x                                            -0.069602 -0.177571   \n",
       "student_staff_ratio_x                              -0.103964  0.146472   \n",
       "international_student_ratio_x                       1.000000 -0.059700   \n",
       "rank_y                                             -0.059700  1.000000   \n",
       "students_y                                          0.096938 -0.154816   \n",
       "inter_students_y                                    0.069093 -0.328920   \n",
       "staff_y                                             0.107120 -0.249715   \n",
       "student_staff_ratio_y                              -0.077321  0.105237   \n",
       "international_student_ratio_y                      -0.068713 -0.203950   \n",
       "\n",
       "                               students_y  inter_students_y   staff_y  \\\n",
       "rank_x                          -0.028267         -0.116382 -0.079513   \n",
       "students_x                       0.037667          0.085875  0.027355   \n",
       "inter_students_x                -0.009141          0.082262  0.034204   \n",
       "staff_x                          0.051831          0.152626  0.031371   \n",
       "student_staff_ratio_x           -0.098274         -0.148306 -0.032666   \n",
       "international_student_ratio_x    0.096938          0.069093  0.107120   \n",
       "rank_y                          -0.154816         -0.328920 -0.249715   \n",
       "students_y                       1.000000          0.577516  0.570483   \n",
       "inter_students_y                 0.577516          1.000000  0.275928   \n",
       "staff_y                          0.570483          0.275928  1.000000   \n",
       "student_staff_ratio_y            0.258414          0.138398 -0.428915   \n",
       "international_student_ratio_y   -0.298455          0.489935 -0.223396   \n",
       "\n",
       "                               student_staff_ratio_y  \\\n",
       "rank_x                                      0.037739   \n",
       "students_x                                 -0.067884   \n",
       "inter_students_x                           -0.081105   \n",
       "staff_x                                    -0.055092   \n",
       "student_staff_ratio_x                      -0.070005   \n",
       "international_student_ratio_x              -0.077321   \n",
       "rank_y                                      0.105237   \n",
       "students_y                                  0.258414   \n",
       "inter_students_y                            0.138398   \n",
       "staff_y                                    -0.428915   \n",
       "student_staff_ratio_y                       1.000000   \n",
       "international_student_ratio_y              -0.123189   \n",
       "\n",
       "                               international_student_ratio_y  \n",
       "rank_x                                             -0.111126  \n",
       "students_x                                          0.126649  \n",
       "inter_students_x                                    0.065693  \n",
       "staff_x                                             0.152059  \n",
       "student_staff_ratio_x                              -0.036778  \n",
       "international_student_ratio_x                      -0.068713  \n",
       "rank_y                                             -0.203950  \n",
       "students_y                                         -0.298455  \n",
       "inter_students_y                                    0.489935  \n",
       "staff_y                                            -0.223396  \n",
       "student_staff_ratio_y                              -0.123189  \n",
       "international_student_ratio_y                       1.000000  "
      ]
     },
     "execution_count": 32,
     "metadata": {},
     "output_type": "execute_result"
    }
   ],
   "source": [
    "mergedRanking.corr(method='pearson', min_periods=1)"
   ]
  },
  {
   "cell_type": "markdown",
   "metadata": {},
   "source": [
    "`[Comment Required]`"
   ]
  },
  {
   "cell_type": "markdown",
   "metadata": {},
   "source": [
    "## `Question #5`"
   ]
  },
  {
   "cell_type": "markdown",
   "metadata": {},
   "source": [
    "`First, we change column names and types for two dataframes to allign before joining.`"
   ]
  },
  {
   "cell_type": "code",
   "execution_count": 33,
   "metadata": {
    "collapsed": false
   },
   "outputs": [
    {
     "data": {
      "text/html": [
       "<div>\n",
       "<table border=\"1\" class=\"dataframe\">\n",
       "  <thead>\n",
       "    <tr style=\"text-align: right;\">\n",
       "      <th></th>\n",
       "      <th>country</th>\n",
       "      <th>region</th>\n",
       "      <th>rank</th>\n",
       "      <th>title</th>\n",
       "      <th>student_staff_ratio</th>\n",
       "      <th>international_student_ratio</th>\n",
       "    </tr>\n",
       "  </thead>\n",
       "  <tbody>\n",
       "    <tr>\n",
       "      <th>24</th>\n",
       "      <td>United Kingdom</td>\n",
       "      <td>Europe</td>\n",
       "      <td>25.0</td>\n",
       "      <td>London School of Economics and Political Science</td>\n",
       "      <td>12.2</td>\n",
       "      <td>71</td>\n",
       "    </tr>\n",
       "    <tr>\n",
       "      <th>178</th>\n",
       "      <td>Luxembourg</td>\n",
       "      <td>Europe</td>\n",
       "      <td>179.0</td>\n",
       "      <td>University of Luxembourg</td>\n",
       "      <td>14.6</td>\n",
       "      <td>57</td>\n",
       "    </tr>\n",
       "    <tr>\n",
       "      <th>37</th>\n",
       "      <td>Switzerland</td>\n",
       "      <td>Europe</td>\n",
       "      <td>38.0</td>\n",
       "      <td>École Polytechnique Fédérale de Lausanne</td>\n",
       "      <td>11.2</td>\n",
       "      <td>55</td>\n",
       "    </tr>\n",
       "    <tr>\n",
       "      <th>7</th>\n",
       "      <td>United Kingdom</td>\n",
       "      <td>Europe</td>\n",
       "      <td>8.0</td>\n",
       "      <td>Imperial College London</td>\n",
       "      <td>11.4</td>\n",
       "      <td>55</td>\n",
       "    </tr>\n",
       "    <tr>\n",
       "      <th>102</th>\n",
       "      <td>Netherlands</td>\n",
       "      <td>Europe</td>\n",
       "      <td>103.0</td>\n",
       "      <td>Maastricht University</td>\n",
       "      <td>18.0</td>\n",
       "      <td>50</td>\n",
       "    </tr>\n",
       "  </tbody>\n",
       "</table>\n",
       "</div>"
      ],
      "text/plain": [
       "            country  region   rank  \\\n",
       "24   United Kingdom  Europe   25.0   \n",
       "178      Luxembourg  Europe  179.0   \n",
       "37      Switzerland  Europe   38.0   \n",
       "7    United Kingdom  Europe    8.0   \n",
       "102     Netherlands  Europe  103.0   \n",
       "\n",
       "                                                title  student_staff_ratio  \\\n",
       "24   London School of Economics and Political Science                 12.2   \n",
       "178                          University of Luxembourg                 14.6   \n",
       "37           École Polytechnique Fédérale de Lausanne                 11.2   \n",
       "7                             Imperial College London                 11.4   \n",
       "102                             Maastricht University                 18.0   \n",
       "\n",
       "     international_student_ratio  \n",
       "24                            71  \n",
       "178                           57  \n",
       "37                            55  \n",
       "7                             55  \n",
       "102                           50  "
      ]
     },
     "execution_count": 33,
     "metadata": {},
     "output_type": "execute_result"
    }
   ],
   "source": [
    "df_THE =\\\n",
    "df_times_higher[['country', 'region', 'rank', 'title', 'student_staff_ratio', 'international_student_ratio']]\n",
    "\n",
    "df_THE.head()"
   ]
  },
  {
   "cell_type": "code",
   "execution_count": 34,
   "metadata": {
    "collapsed": false
   },
   "outputs": [
    {
     "data": {
      "text/html": [
       "<div>\n",
       "<table border=\"1\" class=\"dataframe\">\n",
       "  <thead>\n",
       "    <tr style=\"text-align: right;\">\n",
       "      <th></th>\n",
       "      <th>country</th>\n",
       "      <th>region</th>\n",
       "      <th>rank</th>\n",
       "      <th>title</th>\n",
       "      <th>student_staff_ratio</th>\n",
       "      <th>international_student_ratio</th>\n",
       "    </tr>\n",
       "  </thead>\n",
       "  <tbody>\n",
       "    <tr>\n",
       "      <th>34</th>\n",
       "      <td>United Kingdom</td>\n",
       "      <td>Europe</td>\n",
       "      <td>35</td>\n",
       "      <td>London School of Economics and Political Scien...</td>\n",
       "      <td>8.971</td>\n",
       "      <td>69.1</td>\n",
       "    </tr>\n",
       "    <tr>\n",
       "      <th>11</th>\n",
       "      <td>Switzerland</td>\n",
       "      <td>Europe</td>\n",
       "      <td>12</td>\n",
       "      <td>Ecole Polytechnique Fédérale de Lausanne (EPFL)</td>\n",
       "      <td>6.102</td>\n",
       "      <td>57.0</td>\n",
       "    </tr>\n",
       "    <tr>\n",
       "      <th>7</th>\n",
       "      <td>United Kingdom</td>\n",
       "      <td>Europe</td>\n",
       "      <td>8</td>\n",
       "      <td>Imperial College London</td>\n",
       "      <td>4.094</td>\n",
       "      <td>54.4</td>\n",
       "    </tr>\n",
       "    <tr>\n",
       "      <th>198</th>\n",
       "      <td>Netherlands</td>\n",
       "      <td>Europe</td>\n",
       "      <td>200</td>\n",
       "      <td>Maastricht University</td>\n",
       "      <td>12.831</td>\n",
       "      <td>50.3</td>\n",
       "    </tr>\n",
       "    <tr>\n",
       "      <th>47</th>\n",
       "      <td>United States</td>\n",
       "      <td>North America</td>\n",
       "      <td>47</td>\n",
       "      <td>Carnegie Mellon University</td>\n",
       "      <td>9.952</td>\n",
       "      <td>47.8</td>\n",
       "    </tr>\n",
       "  </tbody>\n",
       "</table>\n",
       "</div>"
      ],
      "text/plain": [
       "            country         region  rank  \\\n",
       "34   United Kingdom         Europe    35   \n",
       "11      Switzerland         Europe    12   \n",
       "7    United Kingdom         Europe     8   \n",
       "198     Netherlands         Europe   200   \n",
       "47    United States  North America    47   \n",
       "\n",
       "                                                 title  student_staff_ratio  \\\n",
       "34   London School of Economics and Political Scien...                8.971   \n",
       "11     Ecole Polytechnique Fédérale de Lausanne (EPFL)                6.102   \n",
       "7                              Imperial College London                4.094   \n",
       "198                              Maastricht University               12.831   \n",
       "47                          Carnegie Mellon University                9.952   \n",
       "\n",
       "     international_student_ratio  \n",
       "34                          69.1  \n",
       "11                          57.0  \n",
       "7                           54.4  \n",
       "198                         50.3  \n",
       "47                          47.8  "
      ]
     },
     "execution_count": 34,
     "metadata": {},
     "output_type": "execute_result"
    }
   ],
   "source": [
    "df_TU =\\\n",
    "df_top_universities[['country', 'region', 'rank', 'title', 'student_staff_ratio', 'international_student_ratio']]\n",
    "\n",
    "df_TU.head()"
   ]
  },
  {
   "cell_type": "markdown",
   "metadata": {},
   "source": [
    "`We've used edit distance to detect same university names.`"
   ]
  },
  {
   "cell_type": "code",
   "execution_count": 35,
   "metadata": {
    "collapsed": true
   },
   "outputs": [],
   "source": [
    "def edit_distance_difference(s1, s2):\n",
    "    if len(s1) > len(s2):\n",
    "        s1, s2 = s2, s1\n",
    "\n",
    "    distances = range(len(s1) + 1)\n",
    "    for i2, c2 in enumerate(s2):\n",
    "        distances_ = [i2+1]\n",
    "        for i1, c1 in enumerate(s1):\n",
    "            if c1 == c2:\n",
    "                distances_.append(distances[i1])\n",
    "            else:\n",
    "                distances_.append(1 + min((distances[i1], distances[i1 + 1], distances_[-1])))\n",
    "        distances = distances_\n",
    "    return (distances[-1] / float(len(s2)))*100"
   ]
  },
  {
   "cell_type": "markdown",
   "metadata": {},
   "source": [
    "`By emprical analysis, we found there might be difference between the name of the same university as much as %25.\n",
    "Which means that if \"edit_distance_difference\" value is smaller than %25, meaning that names are more than %75 similar to each other, there is a good chance that these two names are the same.\n",
    "Consequently, we match university names whose \"edit_distance_difference\" is the smallest among the names whose \"edit_distance_difference\" is also smaller than %25.`"
   ]
  },
  {
   "cell_type": "markdown",
   "metadata": {},
   "source": [
    "##### `Create refrence dictionary to convert names to each other`"
   ]
  },
  {
   "cell_type": "code",
   "execution_count": 41,
   "metadata": {
    "collapsed": false
   },
   "outputs": [],
   "source": [
    "names_TU = list(df_TU.title)\n",
    "names_THE = list(df_THE.title)\n",
    "\n",
    "name_reference = dict()\n",
    "for name_first in names_TU:\n",
    "    \n",
    "    curr_diff = 25\n",
    "    for name_second in names_THE:\n",
    "        diff = edit_distance_difference(name_first, name_second)\n",
    "        if diff < curr_diff and diff < 25:\n",
    "            name_reference[name_first] = name_second\n",
    "            curr_diff = diff"
   ]
  },
  {
   "cell_type": "markdown",
   "metadata": {},
   "source": [
    "`There are 162 intersection out of 200 universities.`"
   ]
  },
  {
   "cell_type": "markdown",
   "metadata": {},
   "source": [
    "##### `Convert university names in \"df_TU\"  using \"name_reference\" dictionary`"
   ]
  },
  {
   "cell_type": "code",
   "execution_count": 42,
   "metadata": {
    "collapsed": false
   },
   "outputs": [],
   "source": [
    "def convert_name(name, reference_dict):\n",
    "    try:\n",
    "        return reference_dict[name]\n",
    "    except:\n",
    "        return name\n",
    "    \n",
    "df_TU['title'] = df_TU.apply(lambda x: convert_name(x['title'], name_reference), axis=1)"
   ]
  },
  {
   "cell_type": "markdown",
   "metadata": {},
   "source": [
    "##### `Join the tables by \"name\"`"
   ]
  },
  {
   "cell_type": "code",
   "execution_count": 43,
   "metadata": {
    "collapsed": false
   },
   "outputs": [],
   "source": [
    "df_merged = pd.merge(df_THE.iloc[:,2:], df_TU.iloc[:,2:], how='outer', on=['title']).fillna(0.)"
   ]
  },
  {
   "cell_type": "markdown",
   "metadata": {},
   "source": [
    "`SSR: Student Staff Ratio\n",
    "ISR: International Student Ratio`"
   ]
  },
  {
   "cell_type": "markdown",
   "metadata": {},
   "source": [
    "`\n",
    "The method we've used to create custom ranking is as follows.\n",
    "I. Convert SSR values into corresponding descending values by using the following formula:\n",
    "`\n",
    "\n",
    "`\n",
    "max = mean + 2 * standart_deviation\n",
    "descending_ssr = ((max - ascending_ssr) / max) * 100\n",
    "` \n",
    "\n",
    "`\n",
    "Taking (mean + 2 * standart_deviation) as the max value seems more consistent than taking the real max value.\n",
    "`\n",
    "\n",
    "`\n",
    "II. Avarage SSR and ISR values that are coming from two tables\n",
    "III. Avarage SSR and ISR values together\n",
    "`\n",
    "\n",
    "`\n",
    " They are both out of 100 so, this calculation makes sense. \n",
    "`"
   ]
  },
  {
   "cell_type": "code",
   "execution_count": 44,
   "metadata": {
    "collapsed": false
   },
   "outputs": [],
   "source": [
    "max_ssr_x = df_merged['student_staff_ratio_x'].mean() + 2 * df_merged['student_staff_ratio_x'].std()\n",
    "max_ssr_y = df_merged['student_staff_ratio_y'].mean() + 2 * df_merged['student_staff_ratio_y'].std()\n",
    "def custom_score(ssr_x, isr_x, ssr_y, isr_y, max_ssr_x, max_ssr_y): \n",
    "    \n",
    "    descending_ssr_x = ((max_ssr_x - ssr_x) / max_ssr_x) * 100\n",
    "    descending_ssr_y = ((max_ssr_y - ssr_y) / max_ssr_y) * 100\n",
    "    \n",
    "    descending_ssr_mean = (descending_ssr_x + descending_ssr_y) / 2.\n",
    "    isr_mean = (isr_x + isr_y) / 2.\n",
    "    \n",
    "    if not ssr_x:\n",
    "        return (descending_ssr_y + isr_y) / 2\n",
    "    elif not ssr_y:\n",
    "        return (descending_ssr_x + isr_x) / 2\n",
    "    else:\n",
    "        return (descending_ssr_mean + isr_mean) / 2\n",
    "\n",
    "df_merged['custom_score'] = df_merged\\\n",
    "    .apply(lambda x: custom_score(x['student_staff_ratio_x'], x['international_student_ratio_x'],x['student_staff_ratio_y'], x['international_student_ratio_y'],max_ssr_x,max_ssr_y).round(1), axis=1)\n",
    "    "
   ]
  },
  {
   "cell_type": "code",
   "execution_count": 45,
   "metadata": {
    "collapsed": false
   },
   "outputs": [
    {
     "data": {
      "text/html": [
       "<div>\n",
       "<table border=\"1\" class=\"dataframe\">\n",
       "  <thead>\n",
       "    <tr style=\"text-align: right;\">\n",
       "      <th></th>\n",
       "      <th>title</th>\n",
       "      <th>custom_score</th>\n",
       "    </tr>\n",
       "  </thead>\n",
       "  <tbody>\n",
       "    <tr>\n",
       "      <th>1</th>\n",
       "      <td>London School of Economics and Political Science</td>\n",
       "      <td>65.4</td>\n",
       "    </tr>\n",
       "    <tr>\n",
       "      <th>2</th>\n",
       "      <td>Imperial College London</td>\n",
       "      <td>64.8</td>\n",
       "    </tr>\n",
       "    <tr>\n",
       "      <th>3</th>\n",
       "      <td>École Polytechnique Fédérale de Lausanne</td>\n",
       "      <td>62.8</td>\n",
       "    </tr>\n",
       "    <tr>\n",
       "      <th>4</th>\n",
       "      <td>University College London</td>\n",
       "      <td>61.1</td>\n",
       "    </tr>\n",
       "    <tr>\n",
       "      <th>5</th>\n",
       "      <td>University of Luxembourg</td>\n",
       "      <td>60.5</td>\n",
       "    </tr>\n",
       "  </tbody>\n",
       "</table>\n",
       "</div>"
      ],
      "text/plain": [
       "                                              title  custom_score\n",
       "1  London School of Economics and Political Science          65.4\n",
       "2                           Imperial College London          64.8\n",
       "3          École Polytechnique Fédérale de Lausanne          62.8\n",
       "4                         University College London          61.1\n",
       "5                          University of Luxembourg          60.5"
      ]
     },
     "execution_count": 45,
     "metadata": {},
     "output_type": "execute_result"
    }
   ],
   "source": [
    "df_merged.sort_values(['custom_score'], ascending=False)\\\n",
    "    .set_index(pd.Series(list(range(1,df_merged.shape[0]+1))))[['title', 'custom_score']].head()"
   ]
  },
  {
   "cell_type": "markdown",
   "metadata": {},
   "source": [
    "`The trivial approach of finding the best university by taking in consideration both rankings can be just avaraging rankings from both websites.`"
   ]
  },
  {
   "cell_type": "code",
   "execution_count": 47,
   "metadata": {
    "collapsed": false
   },
   "outputs": [],
   "source": [
    "def avarage_score(rank_overall_x, rank_overall_y): \n",
    "    \n",
    "    if not rank_overall_x:\n",
    "        return rank_overall_y\n",
    "    elif not rank_overall_y:\n",
    "        return rank_overall_x\n",
    "    else:\n",
    "        return (rank_overall_x + rank_overall_y) / 2.\n",
    "\n",
    "df_merged['avarage_score'] = df_merged\\\n",
    "    .apply(lambda x: avarage_score(x['rank_x'], x['rank_y']), axis=1)"
   ]
  },
  {
   "cell_type": "code",
   "execution_count": 48,
   "metadata": {
    "collapsed": false
   },
   "outputs": [
    {
     "data": {
      "text/html": [
       "<div>\n",
       "<table border=\"1\" class=\"dataframe\">\n",
       "  <thead>\n",
       "    <tr style=\"text-align: right;\">\n",
       "      <th></th>\n",
       "      <th>title</th>\n",
       "      <th>avarage_score</th>\n",
       "    </tr>\n",
       "  </thead>\n",
       "  <tbody>\n",
       "    <tr>\n",
       "      <th>1</th>\n",
       "      <td>Stanford University</td>\n",
       "      <td>3.0</td>\n",
       "    </tr>\n",
       "    <tr>\n",
       "      <th>2</th>\n",
       "      <td>Massachusetts Institute of Technology</td>\n",
       "      <td>3.0</td>\n",
       "    </tr>\n",
       "    <tr>\n",
       "      <th>3</th>\n",
       "      <td>University of Oxford</td>\n",
       "      <td>3.5</td>\n",
       "    </tr>\n",
       "    <tr>\n",
       "      <th>4</th>\n",
       "      <td>California Institute of Technology</td>\n",
       "      <td>3.5</td>\n",
       "    </tr>\n",
       "    <tr>\n",
       "      <th>5</th>\n",
       "      <td>University of Cambridge</td>\n",
       "      <td>3.5</td>\n",
       "    </tr>\n",
       "  </tbody>\n",
       "</table>\n",
       "</div>"
      ],
      "text/plain": [
       "                                   title  avarage_score\n",
       "1                    Stanford University            3.0\n",
       "2  Massachusetts Institute of Technology            3.0\n",
       "3                   University of Oxford            3.5\n",
       "4     California Institute of Technology            3.5\n",
       "5                University of Cambridge            3.5"
      ]
     },
     "execution_count": 48,
     "metadata": {},
     "output_type": "execute_result"
    }
   ],
   "source": [
    "df_merged.sort_values(['avarage_score'])\\\n",
    "    .set_index(pd.Series(list(range(1,df_merged.shape[0]+1))))[['title', 'avarage_score']].head()"
   ]
  }
 ],
 "metadata": {
  "kernelspec": {
   "display_name": "Python 3",
   "language": "python",
   "name": "python3"
  },
  "language_info": {
   "codemirror_mode": {
    "name": "ipython",
    "version": 3
   },
   "file_extension": ".py",
   "mimetype": "text/x-python",
   "name": "python",
   "nbconvert_exporter": "python",
   "pygments_lexer": "ipython3",
   "version": "3.5.2"
  }
 },
 "nbformat": 4,
 "nbformat_minor": 1
}
