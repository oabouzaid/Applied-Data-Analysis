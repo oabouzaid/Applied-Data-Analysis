{
 "cells": [
  {
   "cell_type": "code",
   "execution_count": 1,
   "metadata": {
    "collapsed": true
   },
   "outputs": [],
   "source": [
    "import requests\n",
    "import pandas as pd\n",
    "import numpy as np\n",
    "import sys\n",
    "import matplotlib.pyplot as plt\n",
    "from scipy import stats\n",
    "from bs4 import BeautifulSoup\n",
    "from IPython.display import display\n",
    "pd.options.mode.chained_assignment = None"
   ]
  },
  {
   "cell_type": "markdown",
   "metadata": {},
   "source": [
    "`The following is a library to convert country names to continent that the country is in.\n",
    "In order to run the cells, it is required to installl this library. It can be done via pip like following.`\n",
    "\n",
    "***`pip install pycountry-convert`***\n",
    "\n"
   ]
  },
  {
   "cell_type": "code",
   "execution_count": 2,
   "metadata": {
    "collapsed": true
   },
   "outputs": [],
   "source": [
    "from pycountry_convert import convert_country_alpha2_to_continent, convert_country_name_to_country_alpha2"
   ]
  },
  {
   "cell_type": "markdown",
   "metadata": {},
   "source": [
    "## `Question #1`"
   ]
  },
  {
   "cell_type": "code",
   "execution_count": 3,
   "metadata": {
    "collapsed": true
   },
   "outputs": [],
   "source": [
    "URL = 'https://www.topuniversities.com/sites/default/files/qs-rankings-data/357051.txt'\n",
    "r = requests.get(URL).json()['data']\n",
    "df = pd.DataFrame(r)"
   ]
  },
  {
   "cell_type": "markdown",
   "metadata": {},
   "source": [
    "`For each university, we found the number of faculty members, students and international students.\n",
    "We've used need the URLs of the respective universities.`"
   ]
  },
  {
   "cell_type": "code",
   "execution_count": 4,
   "metadata": {
    "collapsed": false
   },
   "outputs": [
    {
     "data": {
      "text/html": [
       "<div>\n",
       "<table border=\"1\" class=\"dataframe\">\n",
       "  <thead>\n",
       "    <tr style=\"text-align: right;\">\n",
       "      <th></th>\n",
       "      <th>country</th>\n",
       "      <th>rank_display</th>\n",
       "      <th>region</th>\n",
       "      <th>title</th>\n",
       "      <th>students</th>\n",
       "      <th>inter_students</th>\n",
       "      <th>staff</th>\n",
       "      <th>inter_staff</th>\n",
       "      <th>student_staff_ratio</th>\n",
       "      <th>international_students_ratio</th>\n",
       "    </tr>\n",
       "  </thead>\n",
       "  <tbody>\n",
       "    <tr>\n",
       "      <th>0</th>\n",
       "      <td>United States</td>\n",
       "      <td>1</td>\n",
       "      <td>North America</td>\n",
       "      <td>Massachusetts Institute of Technology (MIT)</td>\n",
       "      <td>11067</td>\n",
       "      <td>3717</td>\n",
       "      <td>2982</td>\n",
       "      <td>1679</td>\n",
       "      <td>3.711</td>\n",
       "      <td>33.6</td>\n",
       "    </tr>\n",
       "    <tr>\n",
       "      <th>1</th>\n",
       "      <td>United States</td>\n",
       "      <td>2</td>\n",
       "      <td>North America</td>\n",
       "      <td>Stanford University</td>\n",
       "      <td>15878</td>\n",
       "      <td>3611</td>\n",
       "      <td>4285</td>\n",
       "      <td>2042</td>\n",
       "      <td>3.705</td>\n",
       "      <td>22.7</td>\n",
       "    </tr>\n",
       "    <tr>\n",
       "      <th>2</th>\n",
       "      <td>United States</td>\n",
       "      <td>3</td>\n",
       "      <td>North America</td>\n",
       "      <td>Harvard University</td>\n",
       "      <td>22429</td>\n",
       "      <td>5266</td>\n",
       "      <td>4350</td>\n",
       "      <td>1311</td>\n",
       "      <td>5.156</td>\n",
       "      <td>23.5</td>\n",
       "    </tr>\n",
       "    <tr>\n",
       "      <th>3</th>\n",
       "      <td>United States</td>\n",
       "      <td>4</td>\n",
       "      <td>North America</td>\n",
       "      <td>California Institute of Technology (Caltech)</td>\n",
       "      <td>2255</td>\n",
       "      <td>647</td>\n",
       "      <td>953</td>\n",
       "      <td>350</td>\n",
       "      <td>2.366</td>\n",
       "      <td>28.7</td>\n",
       "    </tr>\n",
       "    <tr>\n",
       "      <th>4</th>\n",
       "      <td>United Kingdom</td>\n",
       "      <td>5</td>\n",
       "      <td>Europe</td>\n",
       "      <td>University of Cambridge</td>\n",
       "      <td>18770</td>\n",
       "      <td>6699</td>\n",
       "      <td>5490</td>\n",
       "      <td>2278</td>\n",
       "      <td>3.419</td>\n",
       "      <td>35.7</td>\n",
       "    </tr>\n",
       "  </tbody>\n",
       "</table>\n",
       "</div>"
      ],
      "text/plain": [
       "          country rank_display         region  \\\n",
       "0   United States            1  North America   \n",
       "1   United States            2  North America   \n",
       "2   United States            3  North America   \n",
       "3   United States            4  North America   \n",
       "4  United Kingdom            5         Europe   \n",
       "\n",
       "                                          title  students  inter_students  \\\n",
       "0   Massachusetts Institute of Technology (MIT)     11067            3717   \n",
       "1                           Stanford University     15878            3611   \n",
       "2                            Harvard University     22429            5266   \n",
       "3  California Institute of Technology (Caltech)      2255             647   \n",
       "4                       University of Cambridge     18770            6699   \n",
       "\n",
       "   staff  inter_staff  student_staff_ratio  international_students_ratio  \n",
       "0   2982         1679                3.711                          33.6  \n",
       "1   4285         2042                3.705                          22.7  \n",
       "2   4350         1311                5.156                          23.5  \n",
       "3    953          350                2.366                          28.7  \n",
       "4   5490         2278                3.419                          35.7  "
      ]
     },
     "execution_count": 4,
     "metadata": {},
     "output_type": "execute_result"
    }
   ],
   "source": [
    "df_top_universities = df[['country','rank_display', 'region','title']][:200]\n",
    "\n",
    "suffixes = np.array(df['url'])\n",
    "urls = []\n",
    "for suffix in suffixes:\n",
    "    urls.append('https://www.topuniversities.com' + suffix + '#wurs')\n",
    "\n",
    "def find_number(soup, tag, my_class):\n",
    "    try:\n",
    "        soup.find(tag, class_= my_class).find(tag, class_='number') \n",
    "    except: \n",
    "        return 0\n",
    "\n",
    "    return int(soup.find(tag, class_= my_class).find(tag, class_='number')\\\n",
    "               .text.strip('\\n').replace(',','').strip(' '))\n",
    "\n",
    "staff = []\n",
    "int_staff = []\n",
    "students = []\n",
    "intl_students = []\n",
    "i = 1\n",
    "\n",
    "for url in urls[:200]:\n",
    "    r = requests.get(url)\n",
    "    soup = BeautifulSoup(r.text, 'html.parser')\n",
    "   \n",
    "    faculty_staff = find_number(soup,'div','faculty-main wrapper col-md-4')\n",
    "    intl_faculty_staff = find_number(soup, 'div', 'inter faculty')\n",
    "    students_ = find_number(soup, 'div', 'students-main wrapper col-md-4')\n",
    "    int_students = find_number(soup, 'div','int-students-main wrapper col-md-4')\n",
    "    \n",
    "    staff.append(faculty_staff)\n",
    "    int_staff.append(intl_faculty_staff)\n",
    "    students.append(students_)\n",
    "    intl_students.append(int_students)\n",
    "    \n",
    "df_top_universities['students'] = pd.Series(students)\n",
    "df_top_universities['inter_students'] = pd.Series(intl_students)\n",
    "df_top_universities['staff'] = pd.Series(staff)\n",
    "df_top_universities['inter_staff'] = pd.Series(int_staff)\n",
    "\n",
    "df_top_universities['student_staff_ratio'] = df_top_universities.students\\\n",
    "                                             .divide(df_top_universities.staff).round(3)\n",
    "df_top_universities['international_students_ratio'] = df_top_universities.inter_students\\\n",
    "                                                      .divide(df_top_universities.students).round(3)*100\n",
    "\n",
    "df_top_universities.head()"
   ]
  },
  {
   "cell_type": "markdown",
   "metadata": {},
   "source": [
    "### `(a) Ratio between faculty members and students`"
   ]
  },
  {
   "cell_type": "code",
   "execution_count": 5,
   "metadata": {
    "collapsed": false
   },
   "outputs": [
    {
     "data": {
      "text/html": [
       "<div>\n",
       "<table border=\"1\" class=\"dataframe\">\n",
       "  <thead>\n",
       "    <tr style=\"text-align: right;\">\n",
       "      <th></th>\n",
       "      <th>title</th>\n",
       "      <th>student_staff_ratio</th>\n",
       "    </tr>\n",
       "  </thead>\n",
       "  <tbody>\n",
       "    <tr>\n",
       "      <th>3</th>\n",
       "      <td>California Institute of Technology (Caltech)</td>\n",
       "      <td>2.366</td>\n",
       "    </tr>\n",
       "    <tr>\n",
       "      <th>15</th>\n",
       "      <td>Yale University</td>\n",
       "      <td>2.511</td>\n",
       "    </tr>\n",
       "    <tr>\n",
       "      <th>5</th>\n",
       "      <td>University of Oxford</td>\n",
       "      <td>2.921</td>\n",
       "    </tr>\n",
       "    <tr>\n",
       "      <th>4</th>\n",
       "      <td>University of Cambridge</td>\n",
       "      <td>3.419</td>\n",
       "    </tr>\n",
       "    <tr>\n",
       "      <th>16</th>\n",
       "      <td>Johns Hopkins University</td>\n",
       "      <td>3.619</td>\n",
       "    </tr>\n",
       "  </tbody>\n",
       "</table>\n",
       "</div>"
      ],
      "text/plain": [
       "                                           title  student_staff_ratio\n",
       "3   California Institute of Technology (Caltech)                2.366\n",
       "15                               Yale University                2.511\n",
       "5                           University of Oxford                2.921\n",
       "4                        University of Cambridge                3.419\n",
       "16                      Johns Hopkins University                3.619"
      ]
     },
     "execution_count": 5,
     "metadata": {},
     "output_type": "execute_result"
    }
   ],
   "source": [
    "df_top_universities = df_top_universities.sort_values(['student_staff_ratio'], ascending = True)\n",
    "df_top_universities[['title','student_staff_ratio']].head()"
   ]
  },
  {
   "cell_type": "markdown",
   "metadata": {},
   "source": [
    "### `(b) Ratio of international students`"
   ]
  },
  {
   "cell_type": "code",
   "execution_count": 6,
   "metadata": {
    "collapsed": false
   },
   "outputs": [
    {
     "data": {
      "text/html": [
       "<div>\n",
       "<table border=\"1\" class=\"dataframe\">\n",
       "  <thead>\n",
       "    <tr style=\"text-align: right;\">\n",
       "      <th></th>\n",
       "      <th>title</th>\n",
       "      <th>international_students_ratio</th>\n",
       "    </tr>\n",
       "  </thead>\n",
       "  <tbody>\n",
       "    <tr>\n",
       "      <th>34</th>\n",
       "      <td>London School of Economics and Political Scien...</td>\n",
       "      <td>69.1</td>\n",
       "    </tr>\n",
       "    <tr>\n",
       "      <th>11</th>\n",
       "      <td>Ecole Polytechnique Fédérale de Lausanne (EPFL)</td>\n",
       "      <td>57.0</td>\n",
       "    </tr>\n",
       "    <tr>\n",
       "      <th>7</th>\n",
       "      <td>Imperial College London</td>\n",
       "      <td>54.4</td>\n",
       "    </tr>\n",
       "    <tr>\n",
       "      <th>198</th>\n",
       "      <td>Maastricht University</td>\n",
       "      <td>50.3</td>\n",
       "    </tr>\n",
       "    <tr>\n",
       "      <th>47</th>\n",
       "      <td>Carnegie Mellon University</td>\n",
       "      <td>47.8</td>\n",
       "    </tr>\n",
       "  </tbody>\n",
       "</table>\n",
       "</div>"
      ],
      "text/plain": [
       "                                                 title  \\\n",
       "34   London School of Economics and Political Scien...   \n",
       "11     Ecole Polytechnique Fédérale de Lausanne (EPFL)   \n",
       "7                              Imperial College London   \n",
       "198                              Maastricht University   \n",
       "47                          Carnegie Mellon University   \n",
       "\n",
       "     international_students_ratio  \n",
       "34                           69.1  \n",
       "11                           57.0  \n",
       "7                            54.4  \n",
       "198                          50.3  \n",
       "47                           47.8  "
      ]
     },
     "execution_count": 6,
     "metadata": {},
     "output_type": "execute_result"
    }
   ],
   "source": [
    "df_top_universities = df_top_universities.sort_values(['international_students_ratio'], ascending=False)\n",
    "df_top_universities[['title','international_students_ratio']].head()"
   ]
  },
  {
   "cell_type": "markdown",
   "metadata": {},
   "source": [
    "### `(c)(1) Ratio between faculty members and students by country`"
   ]
  },
  {
   "cell_type": "code",
   "execution_count": 7,
   "metadata": {
    "collapsed": false
   },
   "outputs": [
    {
     "data": {
      "text/html": [
       "<div>\n",
       "<table border=\"1\" class=\"dataframe\">\n",
       "  <thead>\n",
       "    <tr style=\"text-align: right;\">\n",
       "      <th></th>\n",
       "      <th>student_staff_ratio</th>\n",
       "    </tr>\n",
       "    <tr>\n",
       "      <th>country</th>\n",
       "      <th></th>\n",
       "    </tr>\n",
       "  </thead>\n",
       "  <tbody>\n",
       "    <tr>\n",
       "      <th>Russia</th>\n",
       "      <td>4.506</td>\n",
       "    </tr>\n",
       "    <tr>\n",
       "      <th>Denmark</th>\n",
       "      <td>5.641</td>\n",
       "    </tr>\n",
       "    <tr>\n",
       "      <th>Saudi Arabia</th>\n",
       "      <td>5.687</td>\n",
       "    </tr>\n",
       "    <tr>\n",
       "      <th>Singapore</th>\n",
       "      <td>6.191</td>\n",
       "    </tr>\n",
       "    <tr>\n",
       "      <th>Malaysia</th>\n",
       "      <td>6.498</td>\n",
       "    </tr>\n",
       "  </tbody>\n",
       "</table>\n",
       "</div>"
      ],
      "text/plain": [
       "              student_staff_ratio\n",
       "country                          \n",
       "Russia                      4.506\n",
       "Denmark                     5.641\n",
       "Saudi Arabia                5.687\n",
       "Singapore                   6.191\n",
       "Malaysia                    6.498"
      ]
     },
     "execution_count": 7,
     "metadata": {},
     "output_type": "execute_result"
    }
   ],
   "source": [
    "df_staff = df_top_universities.copy()\n",
    "df_staff = df_staff.groupby('country').sum()\n",
    "df_staff['student_staff_ratio'] = df_staff['students'].divide(df_staff['staff'])\n",
    "df_staff = df_staff.sort_values(['student_staff_ratio'])\n",
    "df_staff[['student_staff_ratio']].round(3).head()"
   ]
  },
  {
   "cell_type": "code",
   "execution_count": 8,
   "metadata": {
    "collapsed": false
   },
   "outputs": [
    {
     "data": {
      "image/png": "[encoded data removed]",
      "text/plain": [
       "<matplotlib.figure.Figure at 0x110328048>"
      ]
     },
     "metadata": {},
     "output_type": "display_data"
    }
   ],
   "source": [
    "df_plot = df_staff.copy().sort_values(['students'], ascending = True)\n",
    "df_plot[['students','staff']]\\\n",
    "    .plot.bar(figsize=(10,6),title ='Ratio b/w Students and Faculty Members by Country')\n",
    "plt.xlabel('Countries')\n",
    "plt.ylabel('Number of Students')\n",
    "plt.show()"
   ]
  },
  {
   "cell_type": "code",
   "execution_count": 9,
   "metadata": {
    "collapsed": false
   },
   "outputs": [
    {
     "data": {
      "image/png": "[encoded data removed]",
      "text/plain": [
       "<matplotlib.figure.Figure at 0x110c524a8>"
      ]
     },
     "metadata": {},
     "output_type": "display_data"
    }
   ],
   "source": [
    "df_plot = df_staff.copy()\n",
    "df_plot[['student_staff_ratio']]\\\n",
    "    .plot.bar(figsize=(10,6),title ='Ratio b/w Students and Faculty Members by Country')\n",
    "plt.xlabel('Countries')\n",
    "plt.ylabel('Ratio b/w Students and Faculty Members')\n",
    "plt.show()"
   ]
  },
  {
   "cell_type": "markdown",
   "metadata": {},
   "source": [
    "### `(c)(2) Ratio of international students by country`"
   ]
  },
  {
   "cell_type": "code",
   "execution_count": 10,
   "metadata": {
    "collapsed": false
   },
   "outputs": [
    {
     "data": {
      "text/html": [
       "<div>\n",
       "<table border=\"1\" class=\"dataframe\">\n",
       "  <thead>\n",
       "    <tr style=\"text-align: right;\">\n",
       "      <th></th>\n",
       "      <th>international_students_ratio</th>\n",
       "    </tr>\n",
       "    <tr>\n",
       "      <th>country</th>\n",
       "      <th></th>\n",
       "    </tr>\n",
       "  </thead>\n",
       "  <tbody>\n",
       "    <tr>\n",
       "      <th>Australia</th>\n",
       "      <td>35.219</td>\n",
       "    </tr>\n",
       "    <tr>\n",
       "      <th>United Kingdom</th>\n",
       "      <td>34.170</td>\n",
       "    </tr>\n",
       "    <tr>\n",
       "      <th>Hong Kong</th>\n",
       "      <td>31.075</td>\n",
       "    </tr>\n",
       "    <tr>\n",
       "      <th>Austria</th>\n",
       "      <td>30.998</td>\n",
       "    </tr>\n",
       "    <tr>\n",
       "      <th>Switzerland</th>\n",
       "      <td>30.240</td>\n",
       "    </tr>\n",
       "  </tbody>\n",
       "</table>\n",
       "</div>"
      ],
      "text/plain": [
       "                international_students_ratio\n",
       "country                                     \n",
       "Australia                             35.219\n",
       "United Kingdom                        34.170\n",
       "Hong Kong                             31.075\n",
       "Austria                               30.998\n",
       "Switzerland                           30.240"
      ]
     },
     "execution_count": 10,
     "metadata": {},
     "output_type": "execute_result"
    }
   ],
   "source": [
    "df_inter = df_top_universities.copy()\n",
    "df_inter = df_inter.groupby('country').sum()\n",
    "df_inter['international_students_ratio'] = df_inter['inter_students'].divide(df_inter['students'])*100\n",
    "df_inter = df_inter.sort_values(['international_students_ratio'], ascending=False)\n",
    "df_inter[['international_students_ratio']].round(3).head()"
   ]
  },
  {
   "cell_type": "code",
   "execution_count": 11,
   "metadata": {
    "collapsed": false
   },
   "outputs": [
    {
     "data": {
      "image/png": "[encoded data removed]",
      "text/plain": [
       "<matplotlib.figure.Figure at 0x1102fcf28>"
      ]
     },
     "metadata": {},
     "output_type": "display_data"
    }
   ],
   "source": [
    "df_plot = df_inter.copy().sort_values(['students'], ascending = True)\n",
    "df_plot[['students','inter_students']]\\\n",
    "    .plot.bar(figsize=(10,6),title ='Ratio of International Students by Country')\n",
    "plt.xlabel('Countries')\n",
    "plt.ylabel('Number of Students')\n",
    "plt.show()"
   ]
  },
  {
   "cell_type": "code",
   "execution_count": 12,
   "metadata": {
    "collapsed": false
   },
   "outputs": [
    {
     "data": {
      "image/png": "[encoded data removed]",
      "text/plain": [
       "<matplotlib.figure.Figure at 0x10b0ad518>"
      ]
     },
     "metadata": {},
     "output_type": "display_data"
    }
   ],
   "source": [
    "df_plot = df_inter.copy()\n",
    "df_plot[['international_students_ratio']]\\\n",
    "    .plot.bar(figsize=(10,6),title ='Ratio International Students by Country')\n",
    "plt.xlabel('Countries')\n",
    "plt.ylabel('Ratio of International Students')\n",
    "plt.show()"
   ]
  },
  {
   "cell_type": "markdown",
   "metadata": {},
   "source": [
    "### `(d)(1) Ratio between faculty members and students by region`"
   ]
  },
  {
   "cell_type": "code",
   "execution_count": 13,
   "metadata": {
    "collapsed": false
   },
   "outputs": [
    {
     "data": {
      "text/html": [
       "<div>\n",
       "<table border=\"1\" class=\"dataframe\">\n",
       "  <thead>\n",
       "    <tr style=\"text-align: right;\">\n",
       "      <th></th>\n",
       "      <th>student_staff_ratio</th>\n",
       "    </tr>\n",
       "    <tr>\n",
       "      <th>region</th>\n",
       "      <th></th>\n",
       "    </tr>\n",
       "  </thead>\n",
       "  <tbody>\n",
       "    <tr>\n",
       "      <th>Asia</th>\n",
       "      <td>7.561</td>\n",
       "    </tr>\n",
       "    <tr>\n",
       "      <th>North America</th>\n",
       "      <td>8.491</td>\n",
       "    </tr>\n",
       "    <tr>\n",
       "      <th>Europe</th>\n",
       "      <td>8.963</td>\n",
       "    </tr>\n",
       "    <tr>\n",
       "      <th>Latin America</th>\n",
       "      <td>9.602</td>\n",
       "    </tr>\n",
       "    <tr>\n",
       "      <th>Africa</th>\n",
       "      <td>11.306</td>\n",
       "    </tr>\n",
       "    <tr>\n",
       "      <th>Oceania</th>\n",
       "      <td>13.815</td>\n",
       "    </tr>\n",
       "  </tbody>\n",
       "</table>\n",
       "</div>"
      ],
      "text/plain": [
       "               student_staff_ratio\n",
       "region                            \n",
       "Asia                         7.561\n",
       "North America                8.491\n",
       "Europe                       8.963\n",
       "Latin America                9.602\n",
       "Africa                      11.306\n",
       "Oceania                     13.815"
      ]
     },
     "execution_count": 13,
     "metadata": {},
     "output_type": "execute_result"
    }
   ],
   "source": [
    "df_inter = df_top_universities.copy()\n",
    "df_inter = df_inter.groupby('region').sum()\n",
    "df_inter['student_staff_ratio'] = df_inter['students'].divide(df_inter['staff'])\n",
    "df_inter = df_inter.sort_values(['student_staff_ratio'])\n",
    "df_inter[['student_staff_ratio']].round(3)"
   ]
  },
  {
   "cell_type": "code",
   "execution_count": 14,
   "metadata": {
    "collapsed": false
   },
   "outputs": [
    {
     "data": {
      "image/png": "[encoded data removed]",
      "text/plain": [
       "<matplotlib.figure.Figure at 0x110b32208>"
      ]
     },
     "metadata": {},
     "output_type": "display_data"
    }
   ],
   "source": [
    "df_plot = df_staff.copy().sort_values(['students'], ascending = True)\n",
    "df_plot[['students','staff']]\\\n",
    "    .plot.bar(figsize=(10,6),title ='Ratio b/w Students and Faculty Members by Region')\n",
    "plt.xlabel('Regions')\n",
    "plt.ylabel('Number of Students')\n",
    "plt.show()"
   ]
  },
  {
   "cell_type": "code",
   "execution_count": 15,
   "metadata": {
    "collapsed": false
   },
   "outputs": [
    {
     "data": {
      "image/png": "[encoded data removed]",
      "text/plain": [
       "<matplotlib.figure.Figure at 0x110e52278>"
      ]
     },
     "metadata": {},
     "output_type": "display_data"
    }
   ],
   "source": [
    "df_plot = df_staff.copy()\n",
    "df_plot[['student_staff_ratio']]\\\n",
    "    .plot.bar(figsize=(10,6),title ='Ratio b/w Students and Faculty Members by Region')\n",
    "plt.xlabel('Regions')\n",
    "plt.ylabel('Ratio b/w Students and Faculty Members')\n",
    "plt.show()"
   ]
  },
  {
   "cell_type": "markdown",
   "metadata": {},
   "source": [
    "### `(d)(2) Ratio of international students by region`"
   ]
  },
  {
   "cell_type": "code",
   "execution_count": 16,
   "metadata": {
    "collapsed": false
   },
   "outputs": [
    {
     "data": {
      "text/html": [
       "<div>\n",
       "<table border=\"1\" class=\"dataframe\">\n",
       "  <thead>\n",
       "    <tr style=\"text-align: right;\">\n",
       "      <th></th>\n",
       "      <th>international_students_ratio</th>\n",
       "    </tr>\n",
       "    <tr>\n",
       "      <th>region</th>\n",
       "      <th></th>\n",
       "    </tr>\n",
       "  </thead>\n",
       "  <tbody>\n",
       "    <tr>\n",
       "      <th>Oceania</th>\n",
       "      <td>33.926</td>\n",
       "    </tr>\n",
       "    <tr>\n",
       "      <th>Europe</th>\n",
       "      <td>22.959</td>\n",
       "    </tr>\n",
       "    <tr>\n",
       "      <th>North America</th>\n",
       "      <td>18.891</td>\n",
       "    </tr>\n",
       "    <tr>\n",
       "      <th>Africa</th>\n",
       "      <td>16.970</td>\n",
       "    </tr>\n",
       "    <tr>\n",
       "      <th>Asia</th>\n",
       "      <td>13.643</td>\n",
       "    </tr>\n",
       "    <tr>\n",
       "      <th>Latin America</th>\n",
       "      <td>8.462</td>\n",
       "    </tr>\n",
       "  </tbody>\n",
       "</table>\n",
       "</div>"
      ],
      "text/plain": [
       "               international_students_ratio\n",
       "region                                     \n",
       "Oceania                              33.926\n",
       "Europe                               22.959\n",
       "North America                        18.891\n",
       "Africa                               16.970\n",
       "Asia                                 13.643\n",
       "Latin America                         8.462"
      ]
     },
     "execution_count": 16,
     "metadata": {},
     "output_type": "execute_result"
    }
   ],
   "source": [
    "df_inter = df_top_universities.copy()\n",
    "df_inter = df_inter.groupby('region').sum()\n",
    "df_inter['international_students_ratio'] = df_inter['inter_students'].divide(df_inter['students'])*100\n",
    "df_inter = df_inter.sort_values(['international_students_ratio'], ascending=False)\n",
    "df_inter[['international_students_ratio']].round(3)"
   ]
  },
  {
   "cell_type": "code",
   "execution_count": 17,
   "metadata": {
    "collapsed": false
   },
   "outputs": [
    {
     "data": {
      "image/png": "[encoded data removed]",
      "text/plain": [
       "<matplotlib.figure.Figure at 0x110dbca90>"
      ]
     },
     "metadata": {},
     "output_type": "display_data"
    }
   ],
   "source": [
    "df_plot = df_inter.copy().sort_values(['students'], ascending = True)\n",
    "df_plot[['students','inter_students']]\\\n",
    "    .plot.bar(figsize=(10,6),title ='Ratio of International Students by Region')\n",
    "plt.xlabel('Regions')\n",
    "plt.ylabel('Number of Students')\n",
    "plt.show()"
   ]
  },
  {
   "cell_type": "code",
   "execution_count": 18,
   "metadata": {
    "collapsed": false
   },
   "outputs": [
    {
     "data": {
      "image/png": "[encoded data removed]",
      "text/plain": [
       "<matplotlib.figure.Figure at 0x1109c3f28>"
      ]
     },
     "metadata": {},
     "output_type": "display_data"
    }
   ],
   "source": [
    "df_plot = df_inter.copy()\n",
    "df_plot[['international_students_ratio']]\\\n",
    "    .plot.bar(figsize=(10,6),title ='Ratio International Students by Region')\n",
    "plt.xlabel('region')\n",
    "plt.ylabel('Ratio of International Students')\n",
    "plt.show()"
   ]
  },
  {
   "cell_type": "markdown",
   "metadata": {},
   "source": [
    "## `Question #2`"
   ]
  },
  {
   "cell_type": "code",
   "execution_count": 19,
   "metadata": {
    "collapsed": true
   },
   "outputs": [],
   "source": [
    "URL = 'https://www.timeshighereducation.com/sites/default/files/the_data_rankings/world_university_rankings_2018_limit0_369a9045a203e176392b9fb8f8c1cb2a.json'\n",
    "r = requests.get(URL).json()['data']\n",
    "df = pd.DataFrame(r)"
   ]
  },
  {
   "cell_type": "markdown",
   "metadata": {},
   "source": [
    "`Regions are not provided in timeshighereducation.com.\n",
    "We converted countries to continents using an external library.`"
   ]
  },
  {
   "cell_type": "code",
   "execution_count": 20,
   "metadata": {
    "collapsed": false
   },
   "outputs": [
    {
     "data": {
      "text/html": [
       "<div>\n",
       "<table border=\"1\" class=\"dataframe\">\n",
       "  <thead>\n",
       "    <tr style=\"text-align: right;\">\n",
       "      <th></th>\n",
       "      <th>location</th>\n",
       "      <th>rank_order</th>\n",
       "      <th>name</th>\n",
       "      <th>stats_number_students</th>\n",
       "      <th>stats_pc_intl_students</th>\n",
       "      <th>stats_student_staff_ratio</th>\n",
       "      <th>continent</th>\n",
       "    </tr>\n",
       "  </thead>\n",
       "  <tbody>\n",
       "    <tr>\n",
       "      <th>0</th>\n",
       "      <td>United Kingdom</td>\n",
       "      <td>10</td>\n",
       "      <td>University of Oxford</td>\n",
       "      <td>20,409</td>\n",
       "      <td>38%</td>\n",
       "      <td>11.2</td>\n",
       "      <td>Europe</td>\n",
       "    </tr>\n",
       "    <tr>\n",
       "      <th>1</th>\n",
       "      <td>United Kingdom</td>\n",
       "      <td>20</td>\n",
       "      <td>University of Cambridge</td>\n",
       "      <td>18,389</td>\n",
       "      <td>35%</td>\n",
       "      <td>10.9</td>\n",
       "      <td>Europe</td>\n",
       "    </tr>\n",
       "    <tr>\n",
       "      <th>2</th>\n",
       "      <td>United States</td>\n",
       "      <td>30</td>\n",
       "      <td>California Institute of Technology</td>\n",
       "      <td>2,209</td>\n",
       "      <td>27%</td>\n",
       "      <td>6.5</td>\n",
       "      <td>North America</td>\n",
       "    </tr>\n",
       "    <tr>\n",
       "      <th>3</th>\n",
       "      <td>United States</td>\n",
       "      <td>40</td>\n",
       "      <td>Stanford University</td>\n",
       "      <td>15,845</td>\n",
       "      <td>22%</td>\n",
       "      <td>7.5</td>\n",
       "      <td>North America</td>\n",
       "    </tr>\n",
       "    <tr>\n",
       "      <th>4</th>\n",
       "      <td>United States</td>\n",
       "      <td>50</td>\n",
       "      <td>Massachusetts Institute of Technology</td>\n",
       "      <td>11,177</td>\n",
       "      <td>34%</td>\n",
       "      <td>8.7</td>\n",
       "      <td>North America</td>\n",
       "    </tr>\n",
       "  </tbody>\n",
       "</table>\n",
       "</div>"
      ],
      "text/plain": [
       "         location rank_order                                   name  \\\n",
       "0  United Kingdom         10                   University of Oxford   \n",
       "1  United Kingdom         20                University of Cambridge   \n",
       "2   United States         30     California Institute of Technology   \n",
       "3   United States         40                    Stanford University   \n",
       "4   United States         50  Massachusetts Institute of Technology   \n",
       "\n",
       "  stats_number_students stats_pc_intl_students stats_student_staff_ratio  \\\n",
       "0                20,409                    38%                      11.2   \n",
       "1                18,389                    35%                      10.9   \n",
       "2                 2,209                    27%                       6.5   \n",
       "3                15,845                    22%                       7.5   \n",
       "4                11,177                    34%                       8.7   \n",
       "\n",
       "       continent  \n",
       "0         Europe  \n",
       "1         Europe  \n",
       "2  North America  \n",
       "3  North America  \n",
       "4  North America  "
      ]
     },
     "execution_count": 20,
     "metadata": {},
     "output_type": "execute_result"
    }
   ],
   "source": [
    "df_times_higher = df[['location','rank_order','name', 'stats_number_students', 'stats_pc_intl_students',\n",
    "             'stats_student_staff_ratio']][:200]\n",
    "\n",
    "def convert_country_name_to_continent(name):    \n",
    "    alpha2 = convert_country_name_to_country_alpha2(name)\n",
    "    return convert_country_alpha2_to_continent(alpha2)\n",
    "\n",
    "df_times_higher = df_times_higher.copy()\n",
    "df_times_higher['continent'] = df_times_higher\\\n",
    "                                .apply(lambda x: convert_country_name_to_continent(x['location']), axis=1)\n",
    "\n",
    "df_times_higher.head()"
   ]
  },
  {
   "cell_type": "markdown",
   "metadata": {},
   "source": [
    "`Derive missing fields from existing ones:\n",
    "inter_students = stats_number_students * stats_pc_intl_students / 100\n",
    "staff = stats_number_students / stats_student_staff_ratio\n",
    "`"
   ]
  },
  {
   "cell_type": "code",
   "execution_count": 21,
   "metadata": {
    "collapsed": true
   },
   "outputs": [],
   "source": [
    "df_times_higher['stats_student_staff_ratio'] = df_times_higher.stats_student_staff_ratio.astype('float')\n",
    "\n",
    "df_times_higher['stats_number_students'] = df_times_higher['stats_number_students']\\\n",
    "    .replace(',', '',regex=True).astype('float')\n",
    "    \n",
    "df_times_higher['stats_pc_intl_students'] = df_times_higher['stats_pc_intl_students']\\\n",
    "    .replace('%','',regex=True).astype('float')\n",
    "\n",
    "df_times_higher['inter_students'] = df_times_higher\\\n",
    "    .apply(lambda x: int(x['stats_number_students']*x['stats_pc_intl_students']/100), axis=1)\n",
    "\n",
    "df_times_higher['staff'] = df_times_higher\\\n",
    "    .apply(lambda x: int(x['stats_number_students']/x['stats_student_staff_ratio']), axis=1)"
   ]
  },
  {
   "cell_type": "code",
   "execution_count": 22,
   "metadata": {
    "collapsed": false
   },
   "outputs": [
    {
     "data": {
      "text/html": [
       "<div>\n",
       "<table border=\"1\" class=\"dataframe\">\n",
       "  <thead>\n",
       "    <tr style=\"text-align: right;\">\n",
       "      <th></th>\n",
       "      <th>location</th>\n",
       "      <th>rank_order</th>\n",
       "      <th>name</th>\n",
       "      <th>stats_number_students</th>\n",
       "      <th>stats_pc_intl_students</th>\n",
       "      <th>stats_student_staff_ratio</th>\n",
       "      <th>continent</th>\n",
       "      <th>inter_students</th>\n",
       "      <th>staff</th>\n",
       "    </tr>\n",
       "  </thead>\n",
       "  <tbody>\n",
       "    <tr>\n",
       "      <th>0</th>\n",
       "      <td>United Kingdom</td>\n",
       "      <td>10</td>\n",
       "      <td>University of Oxford</td>\n",
       "      <td>20409.0</td>\n",
       "      <td>38.0</td>\n",
       "      <td>11.2</td>\n",
       "      <td>Europe</td>\n",
       "      <td>7755</td>\n",
       "      <td>1822</td>\n",
       "    </tr>\n",
       "    <tr>\n",
       "      <th>1</th>\n",
       "      <td>United Kingdom</td>\n",
       "      <td>20</td>\n",
       "      <td>University of Cambridge</td>\n",
       "      <td>18389.0</td>\n",
       "      <td>35.0</td>\n",
       "      <td>10.9</td>\n",
       "      <td>Europe</td>\n",
       "      <td>6436</td>\n",
       "      <td>1687</td>\n",
       "    </tr>\n",
       "    <tr>\n",
       "      <th>2</th>\n",
       "      <td>United States</td>\n",
       "      <td>30</td>\n",
       "      <td>California Institute of Technology</td>\n",
       "      <td>2209.0</td>\n",
       "      <td>27.0</td>\n",
       "      <td>6.5</td>\n",
       "      <td>North America</td>\n",
       "      <td>596</td>\n",
       "      <td>339</td>\n",
       "    </tr>\n",
       "    <tr>\n",
       "      <th>3</th>\n",
       "      <td>United States</td>\n",
       "      <td>40</td>\n",
       "      <td>Stanford University</td>\n",
       "      <td>15845.0</td>\n",
       "      <td>22.0</td>\n",
       "      <td>7.5</td>\n",
       "      <td>North America</td>\n",
       "      <td>3485</td>\n",
       "      <td>2112</td>\n",
       "    </tr>\n",
       "    <tr>\n",
       "      <th>4</th>\n",
       "      <td>United States</td>\n",
       "      <td>50</td>\n",
       "      <td>Massachusetts Institute of Technology</td>\n",
       "      <td>11177.0</td>\n",
       "      <td>34.0</td>\n",
       "      <td>8.7</td>\n",
       "      <td>North America</td>\n",
       "      <td>3800</td>\n",
       "      <td>1284</td>\n",
       "    </tr>\n",
       "  </tbody>\n",
       "</table>\n",
       "</div>"
      ],
      "text/plain": [
       "         location rank_order                                   name  \\\n",
       "0  United Kingdom         10                   University of Oxford   \n",
       "1  United Kingdom         20                University of Cambridge   \n",
       "2   United States         30     California Institute of Technology   \n",
       "3   United States         40                    Stanford University   \n",
       "4   United States         50  Massachusetts Institute of Technology   \n",
       "\n",
       "   stats_number_students  stats_pc_intl_students  stats_student_staff_ratio  \\\n",
       "0                20409.0                    38.0                       11.2   \n",
       "1                18389.0                    35.0                       10.9   \n",
       "2                 2209.0                    27.0                        6.5   \n",
       "3                15845.0                    22.0                        7.5   \n",
       "4                11177.0                    34.0                        8.7   \n",
       "\n",
       "       continent  inter_students  staff  \n",
       "0         Europe            7755   1822  \n",
       "1         Europe            6436   1687  \n",
       "2  North America             596    339  \n",
       "3  North America            3485   2112  \n",
       "4  North America            3800   1284  "
      ]
     },
     "execution_count": 22,
     "metadata": {},
     "output_type": "execute_result"
    }
   ],
   "source": [
    "df_times_higher.head()"
   ]
  },
  {
   "cell_type": "markdown",
   "metadata": {},
   "source": [
    "### `(a) Ratio between faculty members and students`"
   ]
  },
  {
   "cell_type": "code",
   "execution_count": 23,
   "metadata": {
    "collapsed": false
   },
   "outputs": [
    {
     "data": {
      "text/html": [
       "<div>\n",
       "<table border=\"1\" class=\"dataframe\">\n",
       "  <thead>\n",
       "    <tr style=\"text-align: right;\">\n",
       "      <th></th>\n",
       "      <th>name</th>\n",
       "      <th>stats_student_staff_ratio</th>\n",
       "    </tr>\n",
       "  </thead>\n",
       "  <tbody>\n",
       "    <tr>\n",
       "      <th>105</th>\n",
       "      <td>Vanderbilt University</td>\n",
       "      <td>3.3</td>\n",
       "    </tr>\n",
       "    <tr>\n",
       "      <th>109</th>\n",
       "      <td>University of Copenhagen</td>\n",
       "      <td>4.1</td>\n",
       "    </tr>\n",
       "    <tr>\n",
       "      <th>12</th>\n",
       "      <td>Johns Hopkins University</td>\n",
       "      <td>4.3</td>\n",
       "    </tr>\n",
       "    <tr>\n",
       "      <th>11</th>\n",
       "      <td>Yale University</td>\n",
       "      <td>4.3</td>\n",
       "    </tr>\n",
       "    <tr>\n",
       "      <th>153</th>\n",
       "      <td>University of Rochester</td>\n",
       "      <td>4.3</td>\n",
       "    </tr>\n",
       "  </tbody>\n",
       "</table>\n",
       "</div>"
      ],
      "text/plain": [
       "                         name  stats_student_staff_ratio\n",
       "105     Vanderbilt University                        3.3\n",
       "109  University of Copenhagen                        4.1\n",
       "12   Johns Hopkins University                        4.3\n",
       "11            Yale University                        4.3\n",
       "153   University of Rochester                        4.3"
      ]
     },
     "execution_count": 23,
     "metadata": {},
     "output_type": "execute_result"
    }
   ],
   "source": [
    "df_times_higher = df_times_higher.sort_values(['stats_student_staff_ratio'], ascending = True)\n",
    "df_times_higher[['name', 'stats_student_staff_ratio']].head()"
   ]
  },
  {
   "cell_type": "markdown",
   "metadata": {},
   "source": [
    "### `(b) Ratio of international students`"
   ]
  },
  {
   "cell_type": "code",
   "execution_count": 24,
   "metadata": {
    "collapsed": false
   },
   "outputs": [
    {
     "data": {
      "text/html": [
       "<div>\n",
       "<table border=\"1\" class=\"dataframe\">\n",
       "  <thead>\n",
       "    <tr style=\"text-align: right;\">\n",
       "      <th></th>\n",
       "      <th>name</th>\n",
       "      <th>stats_pc_intl_students</th>\n",
       "    </tr>\n",
       "  </thead>\n",
       "  <tbody>\n",
       "    <tr>\n",
       "      <th>24</th>\n",
       "      <td>London School of Economics and Political Science</td>\n",
       "      <td>71.0</td>\n",
       "    </tr>\n",
       "    <tr>\n",
       "      <th>178</th>\n",
       "      <td>University of Luxembourg</td>\n",
       "      <td>57.0</td>\n",
       "    </tr>\n",
       "    <tr>\n",
       "      <th>37</th>\n",
       "      <td>École Polytechnique Fédérale de Lausanne</td>\n",
       "      <td>55.0</td>\n",
       "    </tr>\n",
       "    <tr>\n",
       "      <th>7</th>\n",
       "      <td>Imperial College London</td>\n",
       "      <td>55.0</td>\n",
       "    </tr>\n",
       "    <tr>\n",
       "      <th>102</th>\n",
       "      <td>Maastricht University</td>\n",
       "      <td>50.0</td>\n",
       "    </tr>\n",
       "  </tbody>\n",
       "</table>\n",
       "</div>"
      ],
      "text/plain": [
       "                                                 name  stats_pc_intl_students\n",
       "24   London School of Economics and Political Science                    71.0\n",
       "178                          University of Luxembourg                    57.0\n",
       "37           École Polytechnique Fédérale de Lausanne                    55.0\n",
       "7                             Imperial College London                    55.0\n",
       "102                             Maastricht University                    50.0"
      ]
     },
     "execution_count": 24,
     "metadata": {},
     "output_type": "execute_result"
    }
   ],
   "source": [
    "df_times_higher.sort_values(['stats_pc_intl_students'], ascending=False, inplace=True)\n",
    "df_times_higher[['name', 'stats_pc_intl_students']].head()"
   ]
  },
  {
   "cell_type": "markdown",
   "metadata": {},
   "source": [
    "`Some universities such as University of Luxembourg that are in the top 200 list in topuniversities.com are not in the list according to topuniversities.com and that is why ordering is different.`"
   ]
  },
  {
   "cell_type": "markdown",
   "metadata": {},
   "source": [
    "### `(c)(1) Ratio between faculty members and students by country`"
   ]
  },
  {
   "cell_type": "code",
   "execution_count": 25,
   "metadata": {
    "collapsed": false
   },
   "outputs": [
    {
     "data": {
      "text/html": [
       "<div>\n",
       "<table border=\"1\" class=\"dataframe\">\n",
       "  <thead>\n",
       "    <tr style=\"text-align: right;\">\n",
       "      <th></th>\n",
       "      <th>student_staff_ratio</th>\n",
       "    </tr>\n",
       "    <tr>\n",
       "      <th>location</th>\n",
       "      <th></th>\n",
       "    </tr>\n",
       "  </thead>\n",
       "  <tbody>\n",
       "    <tr>\n",
       "      <th>Denmark</th>\n",
       "      <td>6.050</td>\n",
       "    </tr>\n",
       "    <tr>\n",
       "      <th>Russian Federation</th>\n",
       "      <td>7.302</td>\n",
       "    </tr>\n",
       "    <tr>\n",
       "      <th>Japan</th>\n",
       "      <td>7.500</td>\n",
       "    </tr>\n",
       "    <tr>\n",
       "      <th>Italy</th>\n",
       "      <td>7.675</td>\n",
       "    </tr>\n",
       "    <tr>\n",
       "      <th>Switzerland</th>\n",
       "      <td>10.734</td>\n",
       "    </tr>\n",
       "  </tbody>\n",
       "</table>\n",
       "</div>"
      ],
      "text/plain": [
       "                    student_staff_ratio\n",
       "location                               \n",
       "Denmark                           6.050\n",
       "Russian Federation                7.302\n",
       "Japan                             7.500\n",
       "Italy                             7.675\n",
       "Switzerland                      10.734"
      ]
     },
     "execution_count": 25,
     "metadata": {},
     "output_type": "execute_result"
    }
   ],
   "source": [
    "df_staff = df_times_higher.copy()\n",
    "df_staff = df_staff.groupby('location').sum()\n",
    "df_staff['student_staff_ratio'] = df_staff['stats_number_students'].divide(df_staff['staff'])\n",
    "df_staff = df_staff.sort_values(['student_staff_ratio'])\n",
    "df_staff[['student_staff_ratio']].round(3).head()"
   ]
  },
  {
   "cell_type": "code",
   "execution_count": 26,
   "metadata": {
    "collapsed": false
   },
   "outputs": [
    {
     "data": {
      "image/png": "[encoded data removed]",
      "text/plain": [
       "<matplotlib.figure.Figure at 0x10afc7828>"
      ]
     },
     "metadata": {},
     "output_type": "display_data"
    }
   ],
   "source": [
    "df_plot = df_staff.copy().sort_values(['stats_number_students'], ascending = True)\n",
    "df_plot[['stats_number_students','staff']]\\\n",
    "    .plot.bar(figsize=(10,6),title ='Ratio b/w Students and Faculty Members by Country')\n",
    "plt.xlabel('Countries')\n",
    "plt.ylabel('Number of Students')\n",
    "plt.show()"
   ]
  },
  {
   "cell_type": "code",
   "execution_count": 27,
   "metadata": {
    "collapsed": false
   },
   "outputs": [
    {
     "data": {
      "image/png": "[encoded data removed]",
      "text/plain": [
       "<matplotlib.figure.Figure at 0x110f67e48>"
      ]
     },
     "metadata": {},
     "output_type": "display_data"
    }
   ],
   "source": [
    "df_plot = df_staff.copy()\n",
    "df_plot[['student_staff_ratio']]\\\n",
    "    .plot.bar(figsize=(10,6),title ='Ratio b/w Students and Faculty Members by Country')\n",
    "plt.xlabel('Countries')\n",
    "plt.ylabel('Ratio b/w Students and Faculty Members')\n",
    "plt.show()"
   ]
  },
  {
   "cell_type": "markdown",
   "metadata": {},
   "source": [
    "### `(c)(2) Ratio of international students by country`"
   ]
  },
  {
   "cell_type": "code",
   "execution_count": 28,
   "metadata": {
    "collapsed": false
   },
   "outputs": [
    {
     "data": {
      "text/html": [
       "<div>\n",
       "<table border=\"1\" class=\"dataframe\">\n",
       "  <thead>\n",
       "    <tr style=\"text-align: right;\">\n",
       "      <th></th>\n",
       "      <th>international_students_ratio</th>\n",
       "    </tr>\n",
       "    <tr>\n",
       "      <th>location</th>\n",
       "      <th></th>\n",
       "    </tr>\n",
       "  </thead>\n",
       "  <tbody>\n",
       "    <tr>\n",
       "      <th>Luxembourg</th>\n",
       "      <td>56.993</td>\n",
       "    </tr>\n",
       "    <tr>\n",
       "      <th>United Kingdom</th>\n",
       "      <td>35.719</td>\n",
       "    </tr>\n",
       "    <tr>\n",
       "      <th>Hong Kong</th>\n",
       "      <td>32.393</td>\n",
       "    </tr>\n",
       "    <tr>\n",
       "      <th>Australia</th>\n",
       "      <td>31.198</td>\n",
       "    </tr>\n",
       "    <tr>\n",
       "      <th>Singapore</th>\n",
       "      <td>30.452</td>\n",
       "    </tr>\n",
       "  </tbody>\n",
       "</table>\n",
       "</div>"
      ],
      "text/plain": [
       "                international_students_ratio\n",
       "location                                    \n",
       "Luxembourg                            56.993\n",
       "United Kingdom                        35.719\n",
       "Hong Kong                             32.393\n",
       "Australia                             31.198\n",
       "Singapore                             30.452"
      ]
     },
     "execution_count": 28,
     "metadata": {},
     "output_type": "execute_result"
    }
   ],
   "source": [
    "df_inter = df_times_higher.copy()\n",
    "df_inter = df_inter.groupby('location').sum()\n",
    "df_inter['international_students_ratio'] = df_inter['inter_students'].divide(df_inter['stats_number_students'])*100\n",
    "df_inter = df_inter.sort_values(['international_students_ratio'], ascending=False)\n",
    "df_inter[['international_students_ratio']].round(3).head()"
   ]
  },
  {
   "cell_type": "code",
   "execution_count": 29,
   "metadata": {
    "collapsed": false
   },
   "outputs": [
    {
     "data": {
      "image/png": "[encoded data removed]",
      "text/plain": [
       "<matplotlib.figure.Figure at 0x10da62fd0>"
      ]
     },
     "metadata": {},
     "output_type": "display_data"
    }
   ],
   "source": [
    "df_plot = df_inter.copy().sort_values(['stats_number_students'], ascending = True)\n",
    "df_plot[['stats_number_students','inter_students']]\\\n",
    "    .plot.bar(figsize=(10,6),title ='Ratio of International Students by Country')\n",
    "plt.xlabel('Countries')\n",
    "plt.ylabel('Number of Students')\n",
    "plt.show()"
   ]
  },
  {
   "cell_type": "code",
   "execution_count": 30,
   "metadata": {
    "collapsed": false
   },
   "outputs": [
    {
     "data": {
      "image/png": "[encoded data removed]",
      "text/plain": [
       "<matplotlib.figure.Figure at 0x10afee278>"
      ]
     },
     "metadata": {},
     "output_type": "display_data"
    }
   ],
   "source": [
    "df_plot = df_inter.copy()\n",
    "df_plot[['international_students_ratio']]\\\n",
    "    .plot.bar(figsize=(10,6),title ='Ratio International Students by Country')\n",
    "plt.xlabel('Countries')\n",
    "plt.ylabel('Ratio of International Students')\n",
    "plt.show()"
   ]
  },
  {
   "cell_type": "markdown",
   "metadata": {},
   "source": [
    "### `(d)(1) Ratio between faculty members and students by region`"
   ]
  },
  {
   "cell_type": "code",
   "execution_count": 31,
   "metadata": {
    "collapsed": false
   },
   "outputs": [
    {
     "data": {
      "text/html": [
       "<div>\n",
       "<table border=\"1\" class=\"dataframe\">\n",
       "  <thead>\n",
       "    <tr style=\"text-align: right;\">\n",
       "      <th></th>\n",
       "      <th>stats_student_staff_ratio</th>\n",
       "    </tr>\n",
       "    <tr>\n",
       "      <th>location</th>\n",
       "      <th></th>\n",
       "    </tr>\n",
       "  </thead>\n",
       "  <tbody>\n",
       "    <tr>\n",
       "      <th>Russian Federation</th>\n",
       "      <td>7.3</td>\n",
       "    </tr>\n",
       "    <tr>\n",
       "      <th>Taiwan</th>\n",
       "      <td>11.5</td>\n",
       "    </tr>\n",
       "    <tr>\n",
       "      <th>South Africa</th>\n",
       "      <td>11.7</td>\n",
       "    </tr>\n",
       "    <tr>\n",
       "      <th>Luxembourg</th>\n",
       "      <td>14.6</td>\n",
       "    </tr>\n",
       "    <tr>\n",
       "      <th>Japan</th>\n",
       "      <td>15.4</td>\n",
       "    </tr>\n",
       "  </tbody>\n",
       "</table>\n",
       "</div>"
      ],
      "text/plain": [
       "                    stats_student_staff_ratio\n",
       "location                                     \n",
       "Russian Federation                        7.3\n",
       "Taiwan                                   11.5\n",
       "South Africa                             11.7\n",
       "Luxembourg                               14.6\n",
       "Japan                                    15.4"
      ]
     },
     "execution_count": 31,
     "metadata": {},
     "output_type": "execute_result"
    }
   ],
   "source": [
    "df_staff = df_times_higher.copy()\n",
    "df_staff = df_staff.groupby('continent').sum()\n",
    "df_staff['stats_student_staff_ratio'] = df_staff['stats_number_students'].divide(df_staff['staff'])\n",
    "df_staff = df_inter.sort_values(['stats_student_staff_ratio'])\n",
    "df_staff[['stats_student_staff_ratio']].round(3).head()"
   ]
  },
  {
   "cell_type": "code",
   "execution_count": 32,
   "metadata": {
    "collapsed": false
   },
   "outputs": [
    {
     "data": {
      "image/png": "[encoded data removed]",
      "text/plain": [
       "<matplotlib.figure.Figure at 0x10f9d7438>"
      ]
     },
     "metadata": {},
     "output_type": "display_data"
    }
   ],
   "source": [
    "df_plot = df_staff.copy().sort_values(['stats_number_students'], ascending = True)\n",
    "df_plot[['stats_number_students','staff']]\\\n",
    "    .plot.bar(figsize=(10,6),title ='Ratio b/w Students and Faculty Members by Region')\n",
    "plt.xlabel('Regions')\n",
    "plt.ylabel('Number of Students')\n",
    "plt.show()"
   ]
  },
  {
   "cell_type": "code",
   "execution_count": 33,
   "metadata": {
    "collapsed": false
   },
   "outputs": [
    {
     "data": {
      "text/html": [
       "<div>\n",
       "<table border=\"1\" class=\"dataframe\">\n",
       "  <thead>\n",
       "    <tr style=\"text-align: right;\">\n",
       "      <th></th>\n",
       "      <th>stats_number_students</th>\n",
       "      <th>stats_pc_intl_students</th>\n",
       "      <th>stats_student_staff_ratio</th>\n",
       "      <th>inter_students</th>\n",
       "      <th>staff</th>\n",
       "      <th>international_students_ratio</th>\n",
       "    </tr>\n",
       "    <tr>\n",
       "      <th>location</th>\n",
       "      <th></th>\n",
       "      <th></th>\n",
       "      <th></th>\n",
       "      <th></th>\n",
       "      <th></th>\n",
       "      <th></th>\n",
       "    </tr>\n",
       "  </thead>\n",
       "  <tbody>\n",
       "    <tr>\n",
       "      <th>Russian Federation</th>\n",
       "      <td>29236.0</td>\n",
       "      <td>22.0</td>\n",
       "      <td>7.3</td>\n",
       "      <td>6431</td>\n",
       "      <td>4004</td>\n",
       "      <td>21.996853</td>\n",
       "    </tr>\n",
       "    <tr>\n",
       "      <th>Taiwan</th>\n",
       "      <td>31758.0</td>\n",
       "      <td>8.0</td>\n",
       "      <td>11.5</td>\n",
       "      <td>2540</td>\n",
       "      <td>2761</td>\n",
       "      <td>7.997985</td>\n",
       "    </tr>\n",
       "    <tr>\n",
       "      <th>South Africa</th>\n",
       "      <td>20775.0</td>\n",
       "      <td>18.0</td>\n",
       "      <td>11.7</td>\n",
       "      <td>3739</td>\n",
       "      <td>1775</td>\n",
       "      <td>17.997593</td>\n",
       "    </tr>\n",
       "    <tr>\n",
       "      <th>Luxembourg</th>\n",
       "      <td>4969.0</td>\n",
       "      <td>57.0</td>\n",
       "      <td>14.6</td>\n",
       "      <td>2832</td>\n",
       "      <td>340</td>\n",
       "      <td>56.993359</td>\n",
       "    </tr>\n",
       "    <tr>\n",
       "      <th>Japan</th>\n",
       "      <td>48481.0</td>\n",
       "      <td>18.0</td>\n",
       "      <td>15.4</td>\n",
       "      <td>4398</td>\n",
       "      <td>6464</td>\n",
       "      <td>9.071595</td>\n",
       "    </tr>\n",
       "  </tbody>\n",
       "</table>\n",
       "</div>"
      ],
      "text/plain": [
       "                    stats_number_students  stats_pc_intl_students  \\\n",
       "location                                                            \n",
       "Russian Federation                29236.0                    22.0   \n",
       "Taiwan                            31758.0                     8.0   \n",
       "South Africa                      20775.0                    18.0   \n",
       "Luxembourg                         4969.0                    57.0   \n",
       "Japan                             48481.0                    18.0   \n",
       "\n",
       "                    stats_student_staff_ratio  inter_students  staff  \\\n",
       "location                                                               \n",
       "Russian Federation                        7.3            6431   4004   \n",
       "Taiwan                                   11.5            2540   2761   \n",
       "South Africa                             11.7            3739   1775   \n",
       "Luxembourg                               14.6            2832    340   \n",
       "Japan                                    15.4            4398   6464   \n",
       "\n",
       "                    international_students_ratio  \n",
       "location                                          \n",
       "Russian Federation                     21.996853  \n",
       "Taiwan                                  7.997985  \n",
       "South Africa                           17.997593  \n",
       "Luxembourg                             56.993359  \n",
       "Japan                                   9.071595  "
      ]
     },
     "execution_count": 33,
     "metadata": {},
     "output_type": "execute_result"
    }
   ],
   "source": [
    "df_plot = df_staff.copy()\n",
    "df_plot.head()"
   ]
  },
  {
   "cell_type": "code",
   "execution_count": 34,
   "metadata": {
    "collapsed": false
   },
   "outputs": [
    {
     "data": {
      "image/png": "[encoded data removed]",
      "text/plain": [
       "<matplotlib.figure.Figure at 0x110f5f4a8>"
      ]
     },
     "metadata": {},
     "output_type": "display_data"
    }
   ],
   "source": [
    "df_plot = df_staff.copy()\n",
    "df_plot[['stats_student_staff_ratio']]\\\n",
    "    .plot.bar(figsize=(10,6),title ='Ratio b/w Students and Faculty Members by Region')\n",
    "plt.xlabel('Regions')\n",
    "plt.ylabel('Ratio b/w Students and Faculty Members')\n",
    "plt.show()"
   ]
  },
  {
   "cell_type": "markdown",
   "metadata": {},
   "source": [
    "### `(d)(2) Ratio of international students by region`"
   ]
  },
  {
   "cell_type": "code",
   "execution_count": 35,
   "metadata": {
    "collapsed": false
   },
   "outputs": [
    {
     "data": {
      "text/html": [
       "<div>\n",
       "<table border=\"1\" class=\"dataframe\">\n",
       "  <thead>\n",
       "    <tr style=\"text-align: right;\">\n",
       "      <th></th>\n",
       "      <th>international_students_ratio</th>\n",
       "    </tr>\n",
       "    <tr>\n",
       "      <th>continent</th>\n",
       "      <th></th>\n",
       "    </tr>\n",
       "  </thead>\n",
       "  <tbody>\n",
       "    <tr>\n",
       "      <th>Oceania</th>\n",
       "      <td>30.975</td>\n",
       "    </tr>\n",
       "    <tr>\n",
       "      <th>Europe</th>\n",
       "      <td>22.463</td>\n",
       "    </tr>\n",
       "    <tr>\n",
       "      <th>Africa</th>\n",
       "      <td>17.998</td>\n",
       "    </tr>\n",
       "    <tr>\n",
       "      <th>North America</th>\n",
       "      <td>17.200</td>\n",
       "    </tr>\n",
       "    <tr>\n",
       "      <th>Asia</th>\n",
       "      <td>14.846</td>\n",
       "    </tr>\n",
       "  </tbody>\n",
       "</table>\n",
       "</div>"
      ],
      "text/plain": [
       "               international_students_ratio\n",
       "continent                                  \n",
       "Oceania                              30.975\n",
       "Europe                               22.463\n",
       "Africa                               17.998\n",
       "North America                        17.200\n",
       "Asia                                 14.846"
      ]
     },
     "execution_count": 35,
     "metadata": {},
     "output_type": "execute_result"
    }
   ],
   "source": [
    "df_inter = df_times_higher.copy()\n",
    "df_inter = df_inter.groupby('continent').sum()\n",
    "df_inter['international_students_ratio'] = df_inter['inter_students'].divide(df_inter['stats_number_students'])*100\n",
    "df_inter = df_inter.sort_values(['international_students_ratio'], ascending=False)\n",
    "df_inter[['international_students_ratio']].round(3)"
   ]
  },
  {
   "cell_type": "markdown",
   "metadata": {},
   "source": [
    "`This ordering is similar to what've found earlier.\n",
    "Only difference is that there is no university from Latin America at top 200 accordig to timeshighereducation.com.`"
   ]
  },
  {
   "cell_type": "code",
   "execution_count": 36,
   "metadata": {
    "collapsed": false
   },
   "outputs": [
    {
     "data": {
      "image/png": "[encoded data removed]",
      "text/plain": [
       "<matplotlib.figure.Figure at 0x110411748>"
      ]
     },
     "metadata": {},
     "output_type": "display_data"
    }
   ],
   "source": [
    "df_plot = df_inter.copy().sort_values(['stats_number_students'], ascending = True)\n",
    "df_plot[['stats_number_students','inter_students']]\\\n",
    "    .plot.bar(figsize=(10,6),title ='Ratio of International Students by Region')\n",
    "plt.xlabel('Regions')\n",
    "plt.ylabel('Number of Students')\n",
    "plt.show()"
   ]
  },
  {
   "cell_type": "code",
   "execution_count": 37,
   "metadata": {
    "collapsed": false
   },
   "outputs": [
    {
     "data": {
      "image/png": "[encoded data removed]",
      "text/plain": [
       "<matplotlib.figure.Figure at 0x10b0c2908>"
      ]
     },
     "metadata": {},
     "output_type": "display_data"
    }
   ],
   "source": [
    "df_plot = df_inter.copy()\n",
    "df_plot[['international_students_ratio']]\\\n",
    "    .plot.bar(figsize=(10,6),title ='Ratio International Students by Region')\n",
    "plt.xlabel('region')\n",
    "plt.ylabel('Ratio of International Students')\n",
    "plt.show()"
   ]
  },
  {
   "cell_type": "markdown",
   "metadata": {},
   "source": [
    "## `Question #3`"
   ]
  },
  {
   "cell_type": "markdown",
   "metadata": {},
   "source": [
    "`First, we change column names and types for two dataframes to allign before joining.`"
   ]
  },
  {
   "cell_type": "code",
   "execution_count": 38,
   "metadata": {
    "collapsed": false
   },
   "outputs": [],
   "source": [
    "# just cleaning up column names and types\n",
    "df_top_universities.columns = ['country', 'rank', 'region', 'title', 'students', 'inter_students', 'staff',\\\n",
    "                                   'inter_staff', 'student_staff_ratio', 'international_student_ratio']\n",
    "\n",
    "df_times_higher.columns = ['country', 'rank', 'title', 'students', 'international_student_ratio',\\\n",
    "                               'student_staff_ratio','region', 'inter_students', 'staff']\n",
    "\n",
    "df_times_higher['rank'] = df_times_higher.apply(lambda x: int(x['rank'])/10, axis=1)\n",
    "df_top_universities['rank'] = df_top_universities['rank'].replace('=','',regex=True).astype('int')"
   ]
  },
  {
   "cell_type": "code",
   "execution_count": 39,
   "metadata": {
    "collapsed": false
   },
   "outputs": [],
   "source": [
    "df_THE = df_times_higher.copy()\n",
    "df_TU = df_top_universities.copy()"
   ]
  },
  {
   "cell_type": "markdown",
   "metadata": {},
   "source": [
    "`We've used edit distance to detect same university names.`"
   ]
  },
  {
   "cell_type": "code",
   "execution_count": 40,
   "metadata": {
    "collapsed": true
   },
   "outputs": [],
   "source": [
    "def edit_distance_difference(s1, s2):\n",
    "    if len(s1) > len(s2):\n",
    "        s1, s2 = s2, s1\n",
    "\n",
    "    distances = range(len(s1) + 1)\n",
    "    for i2, c2 in enumerate(s2):\n",
    "        distances_ = [i2+1]\n",
    "        for i1, c1 in enumerate(s1):\n",
    "            if c1 == c2:\n",
    "                distances_.append(distances[i1])\n",
    "            else:\n",
    "                distances_.append(1 + min((distances[i1], distances[i1 + 1], distances_[-1])))\n",
    "        distances = distances_\n",
    "    return (distances[-1] / float(len(s2)))*100"
   ]
  },
  {
   "cell_type": "markdown",
   "metadata": {},
   "source": [
    "`By emprical analysis, we found there might be difference between the name of the same university as much as %35.\n",
    "Which means that if \"edit_distance_difference\" value is smaller than %30, meaning that names are more than %65 similar to each other, there is a good chance that these two names are the same.\n",
    "Consequently, we match university names whose \"edit_distance_difference\" is the smallest among the names whose \"edit_distance_difference\" is also smaller than %35.`"
   ]
  },
  {
   "cell_type": "markdown",
   "metadata": {},
   "source": [
    "##### `Create refrence dictionary to convert names to each other`"
   ]
  },
  {
   "cell_type": "code",
   "execution_count": 41,
   "metadata": {
    "collapsed": true
   },
   "outputs": [],
   "source": [
    "names_TU = list(df_TU.title)\n",
    "names_THE = list(df_THE.title)\n",
    "\n",
    "name_reference = dict()\n",
    "for name_first in names_TU:\n",
    "    \n",
    "    curr_diff = 35\n",
    "    for name_second in names_THE:\n",
    "        diff = edit_distance_difference(name_first, name_second)\n",
    "        if diff < curr_diff and diff < 35:\n",
    "            name_reference[name_first] = name_second\n",
    "            curr_diff = diff"
   ]
  },
  {
   "cell_type": "markdown",
   "metadata": {},
   "source": [
    "`There are 170 intersection out of 200 universities.`"
   ]
  },
  {
   "cell_type": "markdown",
   "metadata": {},
   "source": [
    "##### `Convert university names in \"df_TU\"  using \"name_reference\" dictionary`"
   ]
  },
  {
   "cell_type": "code",
   "execution_count": 42,
   "metadata": {
    "collapsed": true
   },
   "outputs": [],
   "source": [
    "def convert_name(name, reference_dict):\n",
    "    try:\n",
    "        return reference_dict[name]\n",
    "    except:\n",
    "        return name\n",
    "    \n",
    "df_TU['title'] = df_TU.apply(lambda x: convert_name(x['title'], name_reference), axis=1)"
   ]
  },
  {
   "cell_type": "markdown",
   "metadata": {},
   "source": [
    "##### `Join the tables by \"title\"`"
   ]
  },
  {
   "cell_type": "code",
   "execution_count": 43,
   "metadata": {
    "collapsed": false
   },
   "outputs": [
    {
     "data": {
      "text/html": [
       "<div>\n",
       "<table border=\"1\" class=\"dataframe\">\n",
       "  <thead>\n",
       "    <tr style=\"text-align: right;\">\n",
       "      <th></th>\n",
       "      <th>rank_x</th>\n",
       "      <th>title</th>\n",
       "      <th>students_x</th>\n",
       "      <th>international_student_ratio_x</th>\n",
       "      <th>student_staff_ratio_x</th>\n",
       "      <th>inter_students_x</th>\n",
       "      <th>staff_x</th>\n",
       "      <th>rank_y</th>\n",
       "      <th>students_y</th>\n",
       "      <th>inter_students_y</th>\n",
       "      <th>staff_y</th>\n",
       "      <th>inter_staff</th>\n",
       "      <th>student_staff_ratio_y</th>\n",
       "      <th>international_student_ratio_y</th>\n",
       "    </tr>\n",
       "  </thead>\n",
       "  <tbody>\n",
       "    <tr>\n",
       "      <th>0</th>\n",
       "      <td>25.0</td>\n",
       "      <td>London School of Economics and Political Science</td>\n",
       "      <td>10065.0</td>\n",
       "      <td>71.0</td>\n",
       "      <td>12.2</td>\n",
       "      <td>7146.0</td>\n",
       "      <td>825.0</td>\n",
       "      <td>35.0</td>\n",
       "      <td>9760.0</td>\n",
       "      <td>6748.0</td>\n",
       "      <td>1088.0</td>\n",
       "      <td>687.0</td>\n",
       "      <td>8.971</td>\n",
       "      <td>69.1</td>\n",
       "    </tr>\n",
       "    <tr>\n",
       "      <th>1</th>\n",
       "      <td>179.0</td>\n",
       "      <td>University of Luxembourg</td>\n",
       "      <td>4969.0</td>\n",
       "      <td>57.0</td>\n",
       "      <td>14.6</td>\n",
       "      <td>2832.0</td>\n",
       "      <td>340.0</td>\n",
       "      <td>NaN</td>\n",
       "      <td>NaN</td>\n",
       "      <td>NaN</td>\n",
       "      <td>NaN</td>\n",
       "      <td>NaN</td>\n",
       "      <td>NaN</td>\n",
       "      <td>NaN</td>\n",
       "    </tr>\n",
       "    <tr>\n",
       "      <th>2</th>\n",
       "      <td>38.0</td>\n",
       "      <td>École Polytechnique Fédérale de Lausanne</td>\n",
       "      <td>9928.0</td>\n",
       "      <td>55.0</td>\n",
       "      <td>11.2</td>\n",
       "      <td>5460.0</td>\n",
       "      <td>886.0</td>\n",
       "      <td>12.0</td>\n",
       "      <td>10343.0</td>\n",
       "      <td>5896.0</td>\n",
       "      <td>1695.0</td>\n",
       "      <td>1300.0</td>\n",
       "      <td>6.102</td>\n",
       "      <td>57.0</td>\n",
       "    </tr>\n",
       "    <tr>\n",
       "      <th>3</th>\n",
       "      <td>8.0</td>\n",
       "      <td>Imperial College London</td>\n",
       "      <td>15857.0</td>\n",
       "      <td>55.0</td>\n",
       "      <td>11.4</td>\n",
       "      <td>8721.0</td>\n",
       "      <td>1390.0</td>\n",
       "      <td>8.0</td>\n",
       "      <td>16090.0</td>\n",
       "      <td>8746.0</td>\n",
       "      <td>3930.0</td>\n",
       "      <td>2071.0</td>\n",
       "      <td>4.094</td>\n",
       "      <td>54.4</td>\n",
       "    </tr>\n",
       "    <tr>\n",
       "      <th>4</th>\n",
       "      <td>103.0</td>\n",
       "      <td>Maastricht University</td>\n",
       "      <td>16727.0</td>\n",
       "      <td>50.0</td>\n",
       "      <td>18.0</td>\n",
       "      <td>8363.0</td>\n",
       "      <td>929.0</td>\n",
       "      <td>200.0</td>\n",
       "      <td>16385.0</td>\n",
       "      <td>8234.0</td>\n",
       "      <td>1277.0</td>\n",
       "      <td>502.0</td>\n",
       "      <td>12.831</td>\n",
       "      <td>50.3</td>\n",
       "    </tr>\n",
       "  </tbody>\n",
       "</table>\n",
       "</div>"
      ],
      "text/plain": [
       "   rank_x                                             title  students_x  \\\n",
       "0    25.0  London School of Economics and Political Science     10065.0   \n",
       "1   179.0                          University of Luxembourg      4969.0   \n",
       "2    38.0          École Polytechnique Fédérale de Lausanne      9928.0   \n",
       "3     8.0                           Imperial College London     15857.0   \n",
       "4   103.0                             Maastricht University     16727.0   \n",
       "\n",
       "   international_student_ratio_x  student_staff_ratio_x  inter_students_x  \\\n",
       "0                           71.0                   12.2            7146.0   \n",
       "1                           57.0                   14.6            2832.0   \n",
       "2                           55.0                   11.2            5460.0   \n",
       "3                           55.0                   11.4            8721.0   \n",
       "4                           50.0                   18.0            8363.0   \n",
       "\n",
       "   staff_x  rank_y  students_y  inter_students_y  staff_y  inter_staff  \\\n",
       "0    825.0    35.0      9760.0            6748.0   1088.0        687.0   \n",
       "1    340.0     NaN         NaN               NaN      NaN          NaN   \n",
       "2    886.0    12.0     10343.0            5896.0   1695.0       1300.0   \n",
       "3   1390.0     8.0     16090.0            8746.0   3930.0       2071.0   \n",
       "4    929.0   200.0     16385.0            8234.0   1277.0        502.0   \n",
       "\n",
       "   student_staff_ratio_y  international_student_ratio_y  \n",
       "0                  8.971                           69.1  \n",
       "1                    NaN                            NaN  \n",
       "2                  6.102                           57.0  \n",
       "3                  4.094                           54.4  \n",
       "4                 12.831                           50.3  "
      ]
     },
     "execution_count": 43,
     "metadata": {},
     "output_type": "execute_result"
    }
   ],
   "source": [
    "df_merged = pd.merge(df_THE, df_TU, how='outer', on=['title'])\n",
    "df_merged = df_merged.drop(['country_x', 'country_y', 'region_x', 'region_y'], axis=1)\n",
    "df_merged.head()"
   ]
  },
  {
   "cell_type": "markdown",
   "metadata": {},
   "source": [
    "*** `The suffixes _x , and _y refer to attributes belonging to the timeshighereducation.com and the topuniversities.com respectively.` ***"
   ]
  },
  {
   "cell_type": "markdown",
   "metadata": {},
   "source": [
    "`As it is seen from following sorted tables, original rankings are kept track of.`"
   ]
  },
  {
   "cell_type": "code",
   "execution_count": 44,
   "metadata": {
    "collapsed": false
   },
   "outputs": [
    {
     "data": {
      "text/html": [
       "<div>\n",
       "<table border=\"1\" class=\"dataframe\">\n",
       "  <thead>\n",
       "    <tr style=\"text-align: right;\">\n",
       "      <th></th>\n",
       "      <th>rank_x</th>\n",
       "      <th>title</th>\n",
       "      <th>students_x</th>\n",
       "      <th>international_student_ratio_x</th>\n",
       "      <th>student_staff_ratio_x</th>\n",
       "      <th>inter_students_x</th>\n",
       "      <th>staff_x</th>\n",
       "      <th>rank_y</th>\n",
       "      <th>students_y</th>\n",
       "      <th>inter_students_y</th>\n",
       "      <th>staff_y</th>\n",
       "      <th>inter_staff</th>\n",
       "      <th>student_staff_ratio_y</th>\n",
       "      <th>international_student_ratio_y</th>\n",
       "    </tr>\n",
       "  </thead>\n",
       "  <tbody>\n",
       "    <tr>\n",
       "      <th>19</th>\n",
       "      <td>1.0</td>\n",
       "      <td>University of Oxford</td>\n",
       "      <td>20409.0</td>\n",
       "      <td>38.0</td>\n",
       "      <td>11.2</td>\n",
       "      <td>7755.0</td>\n",
       "      <td>1822.0</td>\n",
       "      <td>6.0</td>\n",
       "      <td>19720.0</td>\n",
       "      <td>7353.0</td>\n",
       "      <td>6750.0</td>\n",
       "      <td>2964.0</td>\n",
       "      <td>2.921</td>\n",
       "      <td>37.3</td>\n",
       "    </tr>\n",
       "    <tr>\n",
       "      <th>33</th>\n",
       "      <td>2.0</td>\n",
       "      <td>University of Cambridge</td>\n",
       "      <td>18389.0</td>\n",
       "      <td>35.0</td>\n",
       "      <td>10.9</td>\n",
       "      <td>6436.0</td>\n",
       "      <td>1687.0</td>\n",
       "      <td>5.0</td>\n",
       "      <td>18770.0</td>\n",
       "      <td>6699.0</td>\n",
       "      <td>5490.0</td>\n",
       "      <td>2278.0</td>\n",
       "      <td>3.419</td>\n",
       "      <td>35.7</td>\n",
       "    </tr>\n",
       "    <tr>\n",
       "      <th>68</th>\n",
       "      <td>3.0</td>\n",
       "      <td>California Institute of Technology</td>\n",
       "      <td>2209.0</td>\n",
       "      <td>27.0</td>\n",
       "      <td>6.5</td>\n",
       "      <td>596.0</td>\n",
       "      <td>339.0</td>\n",
       "      <td>4.0</td>\n",
       "      <td>2255.0</td>\n",
       "      <td>647.0</td>\n",
       "      <td>953.0</td>\n",
       "      <td>350.0</td>\n",
       "      <td>2.366</td>\n",
       "      <td>28.7</td>\n",
       "    </tr>\n",
       "    <tr>\n",
       "      <th>97</th>\n",
       "      <td>4.0</td>\n",
       "      <td>Stanford University</td>\n",
       "      <td>15845.0</td>\n",
       "      <td>22.0</td>\n",
       "      <td>7.5</td>\n",
       "      <td>3485.0</td>\n",
       "      <td>2112.0</td>\n",
       "      <td>2.0</td>\n",
       "      <td>15878.0</td>\n",
       "      <td>3611.0</td>\n",
       "      <td>4285.0</td>\n",
       "      <td>2042.0</td>\n",
       "      <td>3.705</td>\n",
       "      <td>22.7</td>\n",
       "    </tr>\n",
       "    <tr>\n",
       "      <th>35</th>\n",
       "      <td>5.0</td>\n",
       "      <td>Massachusetts Institute of Technology</td>\n",
       "      <td>11177.0</td>\n",
       "      <td>34.0</td>\n",
       "      <td>8.7</td>\n",
       "      <td>3800.0</td>\n",
       "      <td>1284.0</td>\n",
       "      <td>1.0</td>\n",
       "      <td>11067.0</td>\n",
       "      <td>3717.0</td>\n",
       "      <td>2982.0</td>\n",
       "      <td>1679.0</td>\n",
       "      <td>3.711</td>\n",
       "      <td>33.6</td>\n",
       "    </tr>\n",
       "  </tbody>\n",
       "</table>\n",
       "</div>"
      ],
      "text/plain": [
       "    rank_x                                  title  students_x  \\\n",
       "19     1.0                   University of Oxford     20409.0   \n",
       "33     2.0                University of Cambridge     18389.0   \n",
       "68     3.0     California Institute of Technology      2209.0   \n",
       "97     4.0                    Stanford University     15845.0   \n",
       "35     5.0  Massachusetts Institute of Technology     11177.0   \n",
       "\n",
       "    international_student_ratio_x  student_staff_ratio_x  inter_students_x  \\\n",
       "19                           38.0                   11.2            7755.0   \n",
       "33                           35.0                   10.9            6436.0   \n",
       "68                           27.0                    6.5             596.0   \n",
       "97                           22.0                    7.5            3485.0   \n",
       "35                           34.0                    8.7            3800.0   \n",
       "\n",
       "    staff_x  rank_y  students_y  inter_students_y  staff_y  inter_staff  \\\n",
       "19   1822.0     6.0     19720.0            7353.0   6750.0       2964.0   \n",
       "33   1687.0     5.0     18770.0            6699.0   5490.0       2278.0   \n",
       "68    339.0     4.0      2255.0             647.0    953.0        350.0   \n",
       "97   2112.0     2.0     15878.0            3611.0   4285.0       2042.0   \n",
       "35   1284.0     1.0     11067.0            3717.0   2982.0       1679.0   \n",
       "\n",
       "    student_staff_ratio_y  international_student_ratio_y  \n",
       "19                  2.921                           37.3  \n",
       "33                  3.419                           35.7  \n",
       "68                  2.366                           28.7  \n",
       "97                  3.705                           22.7  \n",
       "35                  3.711                           33.6  "
      ]
     },
     "execution_count": 44,
     "metadata": {},
     "output_type": "execute_result"
    }
   ],
   "source": [
    "df_merged.sort_values(['rank_x'], ascending = True).head()"
   ]
  },
  {
   "cell_type": "code",
   "execution_count": 45,
   "metadata": {
    "collapsed": false
   },
   "outputs": [
    {
     "data": {
      "text/html": [
       "<div>\n",
       "<table border=\"1\" class=\"dataframe\">\n",
       "  <thead>\n",
       "    <tr style=\"text-align: right;\">\n",
       "      <th></th>\n",
       "      <th>rank_x</th>\n",
       "      <th>title</th>\n",
       "      <th>students_x</th>\n",
       "      <th>international_student_ratio_x</th>\n",
       "      <th>student_staff_ratio_x</th>\n",
       "      <th>inter_students_x</th>\n",
       "      <th>staff_x</th>\n",
       "      <th>rank_y</th>\n",
       "      <th>students_y</th>\n",
       "      <th>inter_students_y</th>\n",
       "      <th>staff_y</th>\n",
       "      <th>inter_staff</th>\n",
       "      <th>student_staff_ratio_y</th>\n",
       "      <th>international_student_ratio_y</th>\n",
       "    </tr>\n",
       "  </thead>\n",
       "  <tbody>\n",
       "    <tr>\n",
       "      <th>35</th>\n",
       "      <td>5.0</td>\n",
       "      <td>Massachusetts Institute of Technology</td>\n",
       "      <td>11177.0</td>\n",
       "      <td>34.0</td>\n",
       "      <td>8.7</td>\n",
       "      <td>3800.0</td>\n",
       "      <td>1284.0</td>\n",
       "      <td>1.0</td>\n",
       "      <td>11067.0</td>\n",
       "      <td>3717.0</td>\n",
       "      <td>2982.0</td>\n",
       "      <td>1679.0</td>\n",
       "      <td>3.711</td>\n",
       "      <td>33.6</td>\n",
       "    </tr>\n",
       "    <tr>\n",
       "      <th>97</th>\n",
       "      <td>4.0</td>\n",
       "      <td>Stanford University</td>\n",
       "      <td>15845.0</td>\n",
       "      <td>22.0</td>\n",
       "      <td>7.5</td>\n",
       "      <td>3485.0</td>\n",
       "      <td>2112.0</td>\n",
       "      <td>2.0</td>\n",
       "      <td>15878.0</td>\n",
       "      <td>3611.0</td>\n",
       "      <td>4285.0</td>\n",
       "      <td>2042.0</td>\n",
       "      <td>3.705</td>\n",
       "      <td>22.7</td>\n",
       "    </tr>\n",
       "    <tr>\n",
       "      <th>70</th>\n",
       "      <td>6.0</td>\n",
       "      <td>Harvard University</td>\n",
       "      <td>20326.0</td>\n",
       "      <td>26.0</td>\n",
       "      <td>8.9</td>\n",
       "      <td>5284.0</td>\n",
       "      <td>2283.0</td>\n",
       "      <td>3.0</td>\n",
       "      <td>22429.0</td>\n",
       "      <td>5266.0</td>\n",
       "      <td>4350.0</td>\n",
       "      <td>1311.0</td>\n",
       "      <td>5.156</td>\n",
       "      <td>23.5</td>\n",
       "    </tr>\n",
       "    <tr>\n",
       "      <th>68</th>\n",
       "      <td>3.0</td>\n",
       "      <td>California Institute of Technology</td>\n",
       "      <td>2209.0</td>\n",
       "      <td>27.0</td>\n",
       "      <td>6.5</td>\n",
       "      <td>596.0</td>\n",
       "      <td>339.0</td>\n",
       "      <td>4.0</td>\n",
       "      <td>2255.0</td>\n",
       "      <td>647.0</td>\n",
       "      <td>953.0</td>\n",
       "      <td>350.0</td>\n",
       "      <td>2.366</td>\n",
       "      <td>28.7</td>\n",
       "    </tr>\n",
       "    <tr>\n",
       "      <th>33</th>\n",
       "      <td>2.0</td>\n",
       "      <td>University of Cambridge</td>\n",
       "      <td>18389.0</td>\n",
       "      <td>35.0</td>\n",
       "      <td>10.9</td>\n",
       "      <td>6436.0</td>\n",
       "      <td>1687.0</td>\n",
       "      <td>5.0</td>\n",
       "      <td>18770.0</td>\n",
       "      <td>6699.0</td>\n",
       "      <td>5490.0</td>\n",
       "      <td>2278.0</td>\n",
       "      <td>3.419</td>\n",
       "      <td>35.7</td>\n",
       "    </tr>\n",
       "  </tbody>\n",
       "</table>\n",
       "</div>"
      ],
      "text/plain": [
       "    rank_x                                  title  students_x  \\\n",
       "35     5.0  Massachusetts Institute of Technology     11177.0   \n",
       "97     4.0                    Stanford University     15845.0   \n",
       "70     6.0                     Harvard University     20326.0   \n",
       "68     3.0     California Institute of Technology      2209.0   \n",
       "33     2.0                University of Cambridge     18389.0   \n",
       "\n",
       "    international_student_ratio_x  student_staff_ratio_x  inter_students_x  \\\n",
       "35                           34.0                    8.7            3800.0   \n",
       "97                           22.0                    7.5            3485.0   \n",
       "70                           26.0                    8.9            5284.0   \n",
       "68                           27.0                    6.5             596.0   \n",
       "33                           35.0                   10.9            6436.0   \n",
       "\n",
       "    staff_x  rank_y  students_y  inter_students_y  staff_y  inter_staff  \\\n",
       "35   1284.0     1.0     11067.0            3717.0   2982.0       1679.0   \n",
       "97   2112.0     2.0     15878.0            3611.0   4285.0       2042.0   \n",
       "70   2283.0     3.0     22429.0            5266.0   4350.0       1311.0   \n",
       "68    339.0     4.0      2255.0             647.0    953.0        350.0   \n",
       "33   1687.0     5.0     18770.0            6699.0   5490.0       2278.0   \n",
       "\n",
       "    student_staff_ratio_y  international_student_ratio_y  \n",
       "35                  3.711                           33.6  \n",
       "97                  3.705                           22.7  \n",
       "70                  5.156                           23.5  \n",
       "68                  2.366                           28.7  \n",
       "33                  3.419                           35.7  "
      ]
     },
     "execution_count": 45,
     "metadata": {},
     "output_type": "execute_result"
    }
   ],
   "source": [
    "df_merged.sort_values(['rank_y'], ascending = True).head()"
   ]
  },
  {
   "cell_type": "markdown",
   "metadata": {},
   "source": [
    "## `Question #4`"
   ]
  },
  {
   "cell_type": "code",
   "execution_count": 46,
   "metadata": {
    "collapsed": false
   },
   "outputs": [
    {
     "data": {
      "text/html": [
       "<div>\n",
       "<table border=\"1\" class=\"dataframe\">\n",
       "  <thead>\n",
       "    <tr style=\"text-align: right;\">\n",
       "      <th></th>\n",
       "      <th>rank_x</th>\n",
       "      <th>students_x</th>\n",
       "      <th>international_student_ratio_x</th>\n",
       "      <th>student_staff_ratio_x</th>\n",
       "      <th>inter_students_x</th>\n",
       "      <th>staff_x</th>\n",
       "      <th>rank_y</th>\n",
       "      <th>students_y</th>\n",
       "      <th>inter_students_y</th>\n",
       "      <th>staff_y</th>\n",
       "      <th>inter_staff</th>\n",
       "      <th>student_staff_ratio_y</th>\n",
       "      <th>international_student_ratio_y</th>\n",
       "    </tr>\n",
       "  </thead>\n",
       "  <tbody>\n",
       "    <tr>\n",
       "      <th>rank_x</th>\n",
       "      <td>1.000000</td>\n",
       "      <td>-0.147144</td>\n",
       "      <td>-0.232507</td>\n",
       "      <td>0.097146</td>\n",
       "      <td>-0.336630</td>\n",
       "      <td>-0.243680</td>\n",
       "      <td>0.623413</td>\n",
       "      <td>-0.126056</td>\n",
       "      <td>-0.214446</td>\n",
       "      <td>-0.329878</td>\n",
       "      <td>-0.306980</td>\n",
       "      <td>0.169674</td>\n",
       "      <td>-0.193401</td>\n",
       "    </tr>\n",
       "    <tr>\n",
       "      <th>students_x</th>\n",
       "      <td>-0.147144</td>\n",
       "      <td>1.000000</td>\n",
       "      <td>-0.269530</td>\n",
       "      <td>0.266459</td>\n",
       "      <td>0.581384</td>\n",
       "      <td>0.570834</td>\n",
       "      <td>0.005126</td>\n",
       "      <td>0.882600</td>\n",
       "      <td>0.496004</td>\n",
       "      <td>0.559585</td>\n",
       "      <td>0.222225</td>\n",
       "      <td>0.352429</td>\n",
       "      <td>-0.244129</td>\n",
       "    </tr>\n",
       "    <tr>\n",
       "      <th>international_student_ratio_x</th>\n",
       "      <td>-0.232507</td>\n",
       "      <td>-0.269530</td>\n",
       "      <td>1.000000</td>\n",
       "      <td>-0.103910</td>\n",
       "      <td>0.518104</td>\n",
       "      <td>-0.209315</td>\n",
       "      <td>-0.278137</td>\n",
       "      <td>-0.223028</td>\n",
       "      <td>0.405446</td>\n",
       "      <td>-0.107538</td>\n",
       "      <td>0.309497</td>\n",
       "      <td>-0.076860</td>\n",
       "      <td>0.882039</td>\n",
       "    </tr>\n",
       "    <tr>\n",
       "      <th>student_staff_ratio_x</th>\n",
       "      <td>0.097146</td>\n",
       "      <td>0.266459</td>\n",
       "      <td>-0.103910</td>\n",
       "      <td>1.000000</td>\n",
       "      <td>0.158801</td>\n",
       "      <td>-0.427106</td>\n",
       "      <td>0.210017</td>\n",
       "      <td>0.341480</td>\n",
       "      <td>0.241889</td>\n",
       "      <td>-0.087704</td>\n",
       "      <td>-0.052341</td>\n",
       "      <td>0.537697</td>\n",
       "      <td>-0.050384</td>\n",
       "    </tr>\n",
       "    <tr>\n",
       "      <th>inter_students_x</th>\n",
       "      <td>-0.336630</td>\n",
       "      <td>0.581384</td>\n",
       "      <td>0.518104</td>\n",
       "      <td>0.158801</td>\n",
       "      <td>1.000000</td>\n",
       "      <td>0.270381</td>\n",
       "      <td>-0.225390</td>\n",
       "      <td>0.502632</td>\n",
       "      <td>0.783956</td>\n",
       "      <td>0.350316</td>\n",
       "      <td>0.441273</td>\n",
       "      <td>0.215343</td>\n",
       "      <td>0.447125</td>\n",
       "    </tr>\n",
       "    <tr>\n",
       "      <th>staff_x</th>\n",
       "      <td>-0.243680</td>\n",
       "      <td>0.570834</td>\n",
       "      <td>-0.209315</td>\n",
       "      <td>-0.427106</td>\n",
       "      <td>0.270381</td>\n",
       "      <td>1.000000</td>\n",
       "      <td>-0.208084</td>\n",
       "      <td>0.452669</td>\n",
       "      <td>0.151082</td>\n",
       "      <td>0.668284</td>\n",
       "      <td>0.252128</td>\n",
       "      <td>-0.171237</td>\n",
       "      <td>-0.233668</td>\n",
       "    </tr>\n",
       "    <tr>\n",
       "      <th>rank_y</th>\n",
       "      <td>0.623413</td>\n",
       "      <td>0.005126</td>\n",
       "      <td>-0.278137</td>\n",
       "      <td>0.210017</td>\n",
       "      <td>-0.225390</td>\n",
       "      <td>-0.208084</td>\n",
       "      <td>1.000000</td>\n",
       "      <td>-0.033233</td>\n",
       "      <td>-0.302350</td>\n",
       "      <td>-0.308171</td>\n",
       "      <td>-0.530954</td>\n",
       "      <td>0.373101</td>\n",
       "      <td>-0.369101</td>\n",
       "    </tr>\n",
       "    <tr>\n",
       "      <th>students_y</th>\n",
       "      <td>-0.126056</td>\n",
       "      <td>0.882600</td>\n",
       "      <td>-0.223028</td>\n",
       "      <td>0.341480</td>\n",
       "      <td>0.502632</td>\n",
       "      <td>0.452669</td>\n",
       "      <td>-0.033233</td>\n",
       "      <td>1.000000</td>\n",
       "      <td>0.562818</td>\n",
       "      <td>0.767160</td>\n",
       "      <td>0.318303</td>\n",
       "      <td>0.331211</td>\n",
       "      <td>-0.171074</td>\n",
       "    </tr>\n",
       "    <tr>\n",
       "      <th>inter_students_y</th>\n",
       "      <td>-0.214446</td>\n",
       "      <td>0.496004</td>\n",
       "      <td>0.405446</td>\n",
       "      <td>0.241889</td>\n",
       "      <td>0.783956</td>\n",
       "      <td>0.151082</td>\n",
       "      <td>-0.302350</td>\n",
       "      <td>0.562818</td>\n",
       "      <td>1.000000</td>\n",
       "      <td>0.476709</td>\n",
       "      <td>0.646589</td>\n",
       "      <td>0.196063</td>\n",
       "      <td>0.539893</td>\n",
       "    </tr>\n",
       "    <tr>\n",
       "      <th>staff_y</th>\n",
       "      <td>-0.329878</td>\n",
       "      <td>0.559585</td>\n",
       "      <td>-0.107538</td>\n",
       "      <td>-0.087704</td>\n",
       "      <td>0.350316</td>\n",
       "      <td>0.668284</td>\n",
       "      <td>-0.308171</td>\n",
       "      <td>0.767160</td>\n",
       "      <td>0.476709</td>\n",
       "      <td>1.000000</td>\n",
       "      <td>0.596562</td>\n",
       "      <td>-0.266907</td>\n",
       "      <td>-0.069602</td>\n",
       "    </tr>\n",
       "    <tr>\n",
       "      <th>inter_staff</th>\n",
       "      <td>-0.306980</td>\n",
       "      <td>0.222225</td>\n",
       "      <td>0.309497</td>\n",
       "      <td>-0.052341</td>\n",
       "      <td>0.441273</td>\n",
       "      <td>0.252128</td>\n",
       "      <td>-0.530954</td>\n",
       "      <td>0.318303</td>\n",
       "      <td>0.646589</td>\n",
       "      <td>0.596562</td>\n",
       "      <td>1.000000</td>\n",
       "      <td>-0.300532</td>\n",
       "      <td>0.430018</td>\n",
       "    </tr>\n",
       "    <tr>\n",
       "      <th>student_staff_ratio_y</th>\n",
       "      <td>0.169674</td>\n",
       "      <td>0.352429</td>\n",
       "      <td>-0.076860</td>\n",
       "      <td>0.537697</td>\n",
       "      <td>0.215343</td>\n",
       "      <td>-0.171237</td>\n",
       "      <td>0.373101</td>\n",
       "      <td>0.331211</td>\n",
       "      <td>0.196063</td>\n",
       "      <td>-0.266907</td>\n",
       "      <td>-0.300532</td>\n",
       "      <td>1.000000</td>\n",
       "      <td>-0.103964</td>\n",
       "    </tr>\n",
       "    <tr>\n",
       "      <th>international_student_ratio_y</th>\n",
       "      <td>-0.193401</td>\n",
       "      <td>-0.244129</td>\n",
       "      <td>0.882039</td>\n",
       "      <td>-0.050384</td>\n",
       "      <td>0.447125</td>\n",
       "      <td>-0.233668</td>\n",
       "      <td>-0.369101</td>\n",
       "      <td>-0.171074</td>\n",
       "      <td>0.539893</td>\n",
       "      <td>-0.069602</td>\n",
       "      <td>0.430018</td>\n",
       "      <td>-0.103964</td>\n",
       "      <td>1.000000</td>\n",
       "    </tr>\n",
       "  </tbody>\n",
       "</table>\n",
       "</div>"
      ],
      "text/plain": [
       "                                 rank_x  students_x  \\\n",
       "rank_x                         1.000000   -0.147144   \n",
       "students_x                    -0.147144    1.000000   \n",
       "international_student_ratio_x -0.232507   -0.269530   \n",
       "student_staff_ratio_x          0.097146    0.266459   \n",
       "inter_students_x              -0.336630    0.581384   \n",
       "staff_x                       -0.243680    0.570834   \n",
       "rank_y                         0.623413    0.005126   \n",
       "students_y                    -0.126056    0.882600   \n",
       "inter_students_y              -0.214446    0.496004   \n",
       "staff_y                       -0.329878    0.559585   \n",
       "inter_staff                   -0.306980    0.222225   \n",
       "student_staff_ratio_y          0.169674    0.352429   \n",
       "international_student_ratio_y -0.193401   -0.244129   \n",
       "\n",
       "                               international_student_ratio_x  \\\n",
       "rank_x                                             -0.232507   \n",
       "students_x                                         -0.269530   \n",
       "international_student_ratio_x                       1.000000   \n",
       "student_staff_ratio_x                              -0.103910   \n",
       "inter_students_x                                    0.518104   \n",
       "staff_x                                            -0.209315   \n",
       "rank_y                                             -0.278137   \n",
       "students_y                                         -0.223028   \n",
       "inter_students_y                                    0.405446   \n",
       "staff_y                                            -0.107538   \n",
       "inter_staff                                         0.309497   \n",
       "student_staff_ratio_y                              -0.076860   \n",
       "international_student_ratio_y                       0.882039   \n",
       "\n",
       "                               student_staff_ratio_x  inter_students_x  \\\n",
       "rank_x                                      0.097146         -0.336630   \n",
       "students_x                                  0.266459          0.581384   \n",
       "international_student_ratio_x              -0.103910          0.518104   \n",
       "student_staff_ratio_x                       1.000000          0.158801   \n",
       "inter_students_x                            0.158801          1.000000   \n",
       "staff_x                                    -0.427106          0.270381   \n",
       "rank_y                                      0.210017         -0.225390   \n",
       "students_y                                  0.341480          0.502632   \n",
       "inter_students_y                            0.241889          0.783956   \n",
       "staff_y                                    -0.087704          0.350316   \n",
       "inter_staff                                -0.052341          0.441273   \n",
       "student_staff_ratio_y                       0.537697          0.215343   \n",
       "international_student_ratio_y              -0.050384          0.447125   \n",
       "\n",
       "                                staff_x    rank_y  students_y  \\\n",
       "rank_x                        -0.243680  0.623413   -0.126056   \n",
       "students_x                     0.570834  0.005126    0.882600   \n",
       "international_student_ratio_x -0.209315 -0.278137   -0.223028   \n",
       "student_staff_ratio_x         -0.427106  0.210017    0.341480   \n",
       "inter_students_x               0.270381 -0.225390    0.502632   \n",
       "staff_x                        1.000000 -0.208084    0.452669   \n",
       "rank_y                        -0.208084  1.000000   -0.033233   \n",
       "students_y                     0.452669 -0.033233    1.000000   \n",
       "inter_students_y               0.151082 -0.302350    0.562818   \n",
       "staff_y                        0.668284 -0.308171    0.767160   \n",
       "inter_staff                    0.252128 -0.530954    0.318303   \n",
       "student_staff_ratio_y         -0.171237  0.373101    0.331211   \n",
       "international_student_ratio_y -0.233668 -0.369101   -0.171074   \n",
       "\n",
       "                               inter_students_y   staff_y  inter_staff  \\\n",
       "rank_x                                -0.214446 -0.329878    -0.306980   \n",
       "students_x                             0.496004  0.559585     0.222225   \n",
       "international_student_ratio_x          0.405446 -0.107538     0.309497   \n",
       "student_staff_ratio_x                  0.241889 -0.087704    -0.052341   \n",
       "inter_students_x                       0.783956  0.350316     0.441273   \n",
       "staff_x                                0.151082  0.668284     0.252128   \n",
       "rank_y                                -0.302350 -0.308171    -0.530954   \n",
       "students_y                             0.562818  0.767160     0.318303   \n",
       "inter_students_y                       1.000000  0.476709     0.646589   \n",
       "staff_y                                0.476709  1.000000     0.596562   \n",
       "inter_staff                            0.646589  0.596562     1.000000   \n",
       "student_staff_ratio_y                  0.196063 -0.266907    -0.300532   \n",
       "international_student_ratio_y          0.539893 -0.069602     0.430018   \n",
       "\n",
       "                               student_staff_ratio_y  \\\n",
       "rank_x                                      0.169674   \n",
       "students_x                                  0.352429   \n",
       "international_student_ratio_x              -0.076860   \n",
       "student_staff_ratio_x                       0.537697   \n",
       "inter_students_x                            0.215343   \n",
       "staff_x                                    -0.171237   \n",
       "rank_y                                      0.373101   \n",
       "students_y                                  0.331211   \n",
       "inter_students_y                            0.196063   \n",
       "staff_y                                    -0.266907   \n",
       "inter_staff                                -0.300532   \n",
       "student_staff_ratio_y                       1.000000   \n",
       "international_student_ratio_y              -0.103964   \n",
       "\n",
       "                               international_student_ratio_y  \n",
       "rank_x                                             -0.193401  \n",
       "students_x                                         -0.244129  \n",
       "international_student_ratio_x                       0.882039  \n",
       "student_staff_ratio_x                              -0.050384  \n",
       "inter_students_x                                    0.447125  \n",
       "staff_x                                            -0.233668  \n",
       "rank_y                                             -0.369101  \n",
       "students_y                                         -0.171074  \n",
       "inter_students_y                                    0.539893  \n",
       "staff_y                                            -0.069602  \n",
       "inter_staff                                         0.430018  \n",
       "student_staff_ratio_y                              -0.103964  \n",
       "international_student_ratio_y                       1.000000  "
      ]
     },
     "metadata": {},
     "output_type": "display_data"
    }
   ],
   "source": [
    "cor = df_merged.corr(method='pearson', min_periods=1)\n",
    "display(cor)"
   ]
  },
  {
   "cell_type": "code",
   "execution_count": 47,
   "metadata": {
    "collapsed": false
   },
   "outputs": [
    {
     "data": {
      "text/html": [
       "<div>\n",
       "<table border=\"1\" class=\"dataframe\">\n",
       "  <thead>\n",
       "    <tr style=\"text-align: right;\">\n",
       "      <th></th>\n",
       "      <th>rank_x</th>\n",
       "      <th>students_x</th>\n",
       "      <th>international_student_ratio_x</th>\n",
       "      <th>student_staff_ratio_x</th>\n",
       "      <th>inter_students_x</th>\n",
       "      <th>staff_x</th>\n",
       "      <th>rank_y</th>\n",
       "      <th>students_y</th>\n",
       "      <th>inter_students_y</th>\n",
       "      <th>staff_y</th>\n",
       "      <th>inter_staff</th>\n",
       "      <th>student_staff_ratio_y</th>\n",
       "      <th>international_student_ratio_y</th>\n",
       "    </tr>\n",
       "  </thead>\n",
       "  <tbody>\n",
       "    <tr>\n",
       "      <th>rank_x</th>\n",
       "      <td>.</td>\n",
       "      <td>.</td>\n",
       "      <td>.</td>\n",
       "      <td>.</td>\n",
       "      <td>.</td>\n",
       "      <td>.</td>\n",
       "      <td>0.623413</td>\n",
       "      <td>.</td>\n",
       "      <td>.</td>\n",
       "      <td>.</td>\n",
       "      <td>.</td>\n",
       "      <td>.</td>\n",
       "      <td>.</td>\n",
       "    </tr>\n",
       "    <tr>\n",
       "      <th>students_x</th>\n",
       "      <td>.</td>\n",
       "      <td>.</td>\n",
       "      <td>.</td>\n",
       "      <td>.</td>\n",
       "      <td>0.581384</td>\n",
       "      <td>0.570834</td>\n",
       "      <td>.</td>\n",
       "      <td>0.8826</td>\n",
       "      <td>0.496004</td>\n",
       "      <td>0.559585</td>\n",
       "      <td>.</td>\n",
       "      <td>.</td>\n",
       "      <td>.</td>\n",
       "    </tr>\n",
       "    <tr>\n",
       "      <th>international_student_ratio_x</th>\n",
       "      <td>.</td>\n",
       "      <td>.</td>\n",
       "      <td>.</td>\n",
       "      <td>.</td>\n",
       "      <td>0.518104</td>\n",
       "      <td>.</td>\n",
       "      <td>.</td>\n",
       "      <td>.</td>\n",
       "      <td>0.405446</td>\n",
       "      <td>.</td>\n",
       "      <td>.</td>\n",
       "      <td>.</td>\n",
       "      <td>0.882039</td>\n",
       "    </tr>\n",
       "    <tr>\n",
       "      <th>student_staff_ratio_x</th>\n",
       "      <td>.</td>\n",
       "      <td>.</td>\n",
       "      <td>.</td>\n",
       "      <td>.</td>\n",
       "      <td>.</td>\n",
       "      <td>-0.427106</td>\n",
       "      <td>.</td>\n",
       "      <td>.</td>\n",
       "      <td>.</td>\n",
       "      <td>.</td>\n",
       "      <td>.</td>\n",
       "      <td>0.537697</td>\n",
       "      <td>.</td>\n",
       "    </tr>\n",
       "    <tr>\n",
       "      <th>inter_students_x</th>\n",
       "      <td>.</td>\n",
       "      <td>0.581384</td>\n",
       "      <td>0.518104</td>\n",
       "      <td>.</td>\n",
       "      <td>.</td>\n",
       "      <td>.</td>\n",
       "      <td>.</td>\n",
       "      <td>0.502632</td>\n",
       "      <td>0.783956</td>\n",
       "      <td>.</td>\n",
       "      <td>0.441273</td>\n",
       "      <td>.</td>\n",
       "      <td>0.447125</td>\n",
       "    </tr>\n",
       "    <tr>\n",
       "      <th>staff_x</th>\n",
       "      <td>.</td>\n",
       "      <td>0.570834</td>\n",
       "      <td>.</td>\n",
       "      <td>-0.427106</td>\n",
       "      <td>.</td>\n",
       "      <td>.</td>\n",
       "      <td>.</td>\n",
       "      <td>0.452669</td>\n",
       "      <td>.</td>\n",
       "      <td>0.668284</td>\n",
       "      <td>.</td>\n",
       "      <td>.</td>\n",
       "      <td>.</td>\n",
       "    </tr>\n",
       "    <tr>\n",
       "      <th>rank_y</th>\n",
       "      <td>0.623413</td>\n",
       "      <td>.</td>\n",
       "      <td>.</td>\n",
       "      <td>.</td>\n",
       "      <td>.</td>\n",
       "      <td>.</td>\n",
       "      <td>.</td>\n",
       "      <td>.</td>\n",
       "      <td>.</td>\n",
       "      <td>.</td>\n",
       "      <td>-0.530954</td>\n",
       "      <td>.</td>\n",
       "      <td>.</td>\n",
       "    </tr>\n",
       "    <tr>\n",
       "      <th>students_y</th>\n",
       "      <td>.</td>\n",
       "      <td>0.8826</td>\n",
       "      <td>.</td>\n",
       "      <td>.</td>\n",
       "      <td>0.502632</td>\n",
       "      <td>0.452669</td>\n",
       "      <td>.</td>\n",
       "      <td>.</td>\n",
       "      <td>0.562818</td>\n",
       "      <td>0.76716</td>\n",
       "      <td>.</td>\n",
       "      <td>.</td>\n",
       "      <td>.</td>\n",
       "    </tr>\n",
       "    <tr>\n",
       "      <th>inter_students_y</th>\n",
       "      <td>.</td>\n",
       "      <td>0.496004</td>\n",
       "      <td>0.405446</td>\n",
       "      <td>.</td>\n",
       "      <td>0.783956</td>\n",
       "      <td>.</td>\n",
       "      <td>.</td>\n",
       "      <td>0.562818</td>\n",
       "      <td>.</td>\n",
       "      <td>0.476709</td>\n",
       "      <td>0.646589</td>\n",
       "      <td>.</td>\n",
       "      <td>0.539893</td>\n",
       "    </tr>\n",
       "    <tr>\n",
       "      <th>staff_y</th>\n",
       "      <td>.</td>\n",
       "      <td>0.559585</td>\n",
       "      <td>.</td>\n",
       "      <td>.</td>\n",
       "      <td>.</td>\n",
       "      <td>0.668284</td>\n",
       "      <td>.</td>\n",
       "      <td>0.76716</td>\n",
       "      <td>0.476709</td>\n",
       "      <td>.</td>\n",
       "      <td>0.596562</td>\n",
       "      <td>.</td>\n",
       "      <td>.</td>\n",
       "    </tr>\n",
       "    <tr>\n",
       "      <th>inter_staff</th>\n",
       "      <td>.</td>\n",
       "      <td>.</td>\n",
       "      <td>.</td>\n",
       "      <td>.</td>\n",
       "      <td>0.441273</td>\n",
       "      <td>.</td>\n",
       "      <td>-0.530954</td>\n",
       "      <td>.</td>\n",
       "      <td>0.646589</td>\n",
       "      <td>0.596562</td>\n",
       "      <td>.</td>\n",
       "      <td>.</td>\n",
       "      <td>0.430018</td>\n",
       "    </tr>\n",
       "    <tr>\n",
       "      <th>student_staff_ratio_y</th>\n",
       "      <td>.</td>\n",
       "      <td>.</td>\n",
       "      <td>.</td>\n",
       "      <td>0.537697</td>\n",
       "      <td>.</td>\n",
       "      <td>.</td>\n",
       "      <td>.</td>\n",
       "      <td>.</td>\n",
       "      <td>.</td>\n",
       "      <td>.</td>\n",
       "      <td>.</td>\n",
       "      <td>.</td>\n",
       "      <td>.</td>\n",
       "    </tr>\n",
       "    <tr>\n",
       "      <th>international_student_ratio_y</th>\n",
       "      <td>.</td>\n",
       "      <td>.</td>\n",
       "      <td>0.882039</td>\n",
       "      <td>.</td>\n",
       "      <td>0.447125</td>\n",
       "      <td>.</td>\n",
       "      <td>.</td>\n",
       "      <td>.</td>\n",
       "      <td>0.539893</td>\n",
       "      <td>.</td>\n",
       "      <td>0.430018</td>\n",
       "      <td>.</td>\n",
       "      <td>.</td>\n",
       "    </tr>\n",
       "  </tbody>\n",
       "</table>\n",
       "</div>"
      ],
      "text/plain": [
       "                                 rank_x students_x  \\\n",
       "rank_x                                .          .   \n",
       "students_x                            .          .   \n",
       "international_student_ratio_x         .          .   \n",
       "student_staff_ratio_x                 .          .   \n",
       "inter_students_x                      .   0.581384   \n",
       "staff_x                               .   0.570834   \n",
       "rank_y                         0.623413          .   \n",
       "students_y                            .     0.8826   \n",
       "inter_students_y                      .   0.496004   \n",
       "staff_y                               .   0.559585   \n",
       "inter_staff                           .          .   \n",
       "student_staff_ratio_y                 .          .   \n",
       "international_student_ratio_y         .          .   \n",
       "\n",
       "                              international_student_ratio_x  \\\n",
       "rank_x                                                    .   \n",
       "students_x                                                .   \n",
       "international_student_ratio_x                             .   \n",
       "student_staff_ratio_x                                     .   \n",
       "inter_students_x                                   0.518104   \n",
       "staff_x                                                   .   \n",
       "rank_y                                                    .   \n",
       "students_y                                                .   \n",
       "inter_students_y                                   0.405446   \n",
       "staff_y                                                   .   \n",
       "inter_staff                                               .   \n",
       "student_staff_ratio_y                                     .   \n",
       "international_student_ratio_y                      0.882039   \n",
       "\n",
       "                              student_staff_ratio_x inter_students_x  \\\n",
       "rank_x                                            .                .   \n",
       "students_x                                        .         0.581384   \n",
       "international_student_ratio_x                     .         0.518104   \n",
       "student_staff_ratio_x                             .                .   \n",
       "inter_students_x                                  .                .   \n",
       "staff_x                                   -0.427106                .   \n",
       "rank_y                                            .                .   \n",
       "students_y                                        .         0.502632   \n",
       "inter_students_y                                  .         0.783956   \n",
       "staff_y                                           .                .   \n",
       "inter_staff                                       .         0.441273   \n",
       "student_staff_ratio_y                      0.537697                .   \n",
       "international_student_ratio_y                     .         0.447125   \n",
       "\n",
       "                                staff_x    rank_y students_y inter_students_y  \\\n",
       "rank_x                                .  0.623413          .                .   \n",
       "students_x                     0.570834         .     0.8826         0.496004   \n",
       "international_student_ratio_x         .         .          .         0.405446   \n",
       "student_staff_ratio_x         -0.427106         .          .                .   \n",
       "inter_students_x                      .         .   0.502632         0.783956   \n",
       "staff_x                               .         .   0.452669                .   \n",
       "rank_y                                .         .          .                .   \n",
       "students_y                     0.452669         .          .         0.562818   \n",
       "inter_students_y                      .         .   0.562818                .   \n",
       "staff_y                        0.668284         .    0.76716         0.476709   \n",
       "inter_staff                           . -0.530954          .         0.646589   \n",
       "student_staff_ratio_y                 .         .          .                .   \n",
       "international_student_ratio_y         .         .          .         0.539893   \n",
       "\n",
       "                                staff_y inter_staff student_staff_ratio_y  \\\n",
       "rank_x                                .           .                     .   \n",
       "students_x                     0.559585           .                     .   \n",
       "international_student_ratio_x         .           .                     .   \n",
       "student_staff_ratio_x                 .           .              0.537697   \n",
       "inter_students_x                      .    0.441273                     .   \n",
       "staff_x                        0.668284           .                     .   \n",
       "rank_y                                .   -0.530954                     .   \n",
       "students_y                      0.76716           .                     .   \n",
       "inter_students_y               0.476709    0.646589                     .   \n",
       "staff_y                               .    0.596562                     .   \n",
       "inter_staff                    0.596562           .                     .   \n",
       "student_staff_ratio_y                 .           .                     .   \n",
       "international_student_ratio_y         .    0.430018                     .   \n",
       "\n",
       "                              international_student_ratio_y  \n",
       "rank_x                                                    .  \n",
       "students_x                                                .  \n",
       "international_student_ratio_x                      0.882039  \n",
       "student_staff_ratio_x                                     .  \n",
       "inter_students_x                                   0.447125  \n",
       "staff_x                                                   .  \n",
       "rank_y                                                    .  \n",
       "students_y                                                .  \n",
       "inter_students_y                                   0.539893  \n",
       "staff_y                                                   .  \n",
       "inter_staff                                        0.430018  \n",
       "student_staff_ratio_y                                     .  \n",
       "international_student_ratio_y                             .  "
      ]
     },
     "execution_count": 47,
     "metadata": {},
     "output_type": "execute_result"
    }
   ],
   "source": [
    "cor[((cor > 0.4) | (cor < -0.4)) & (cor != 1)].fillna('.')"
   ]
  },
  {
   "cell_type": "markdown",
   "metadata": {},
   "source": [
    "`From the pearson correlation table above, we can easily spot the relatively strong correlations. We decided to pick some of them and process a linear regression for a better visualization of the correlations.`"
   ]
  },
  {
   "cell_type": "code",
   "execution_count": 48,
   "metadata": {
    "collapsed": false
   },
   "outputs": [],
   "source": [
    "cleanedDF = df_merged.copy()\n",
    "cleanedDF = cleanedDF.dropna()\n",
    "\n",
    "# Remove rows containing nan (university of rank one is not in rank 2 and vice versa)\n",
    "for i in cleanedDF.index.values:\n",
    "    if cleanedDF['rank_x'].loc[i] == None or cleanedDF['rank_y'].loc[i] == None or cleanedDF['international_student_ratio_x'].loc[i] == None:    \n",
    "        cleanedDF.drop(i, axis=0, inplace=True) \n",
    "\n",
    "def draw_regress(x,y, title=''):\n",
    "    slope, intercept, r_value, p_value, std_err = stats.linregress(x,y)\n",
    "    line1 = intercept + slope*x\n",
    "\n",
    "    plt.scatter(x,y)\n",
    "    plt.plot(x,line1,'--r')\n",
    "    plt.title(title)\n",
    "    plt.show()"
   ]
  },
  {
   "cell_type": "code",
   "execution_count": 49,
   "metadata": {
    "collapsed": false
   },
   "outputs": [
    {
     "data": {
      "image/png": "[encoded data removed]",
      "text/plain": [
       "<matplotlib.figure.Figure at 0x110547ef0>"
      ]
     },
     "metadata": {},
     "output_type": "display_data"
    }
   ],
   "source": [
    "draw_regress(cleanedDF['staff_x'],cleanedDF['inter_students_x'], 'The number of international students\\\n",
    "grows with the growth of staff members.')"
   ]
  },
  {
   "cell_type": "code",
   "execution_count": 50,
   "metadata": {
    "collapsed": false
   },
   "outputs": [
    {
     "data": {
      "image/png": "[encoded data removed]",
      "text/plain": [
       "<matplotlib.figure.Figure at 0x1102c3d68>"
      ]
     },
     "metadata": {},
     "output_type": "display_data"
    }
   ],
   "source": [
    "draw_regress(cleanedDF['rank_x'],cleanedDF['student_staff_ratio_x'], ' The more internationals a university hosts, \\\n",
    "the better its ranking is.')\n"
   ]
  },
  {
   "cell_type": "code",
   "execution_count": 51,
   "metadata": {
    "collapsed": false
   },
   "outputs": [
    {
     "data": {
      "image/png": "[encoded data removed]",
      "text/plain": [
       "<matplotlib.figure.Figure at 0x1102ab710>"
      ]
     },
     "metadata": {},
     "output_type": "display_data"
    }
   ],
   "source": [
    "draw_regress(cleanedDF['rank_x'][:200],cleanedDF['rank_y'][:200], 'There is a realtively weak corroletion\\\n",
    "b/w rankings of two websites.')"
   ]
  },
  {
   "cell_type": "code",
   "execution_count": 52,
   "metadata": {
    "collapsed": false
   },
   "outputs": [
    {
     "data": {
      "image/png": "[encoded data removed]",
      "text/plain": [
       "<matplotlib.figure.Figure at 0x10f90eb00>"
      ]
     },
     "metadata": {},
     "output_type": "display_data"
    }
   ],
   "source": [
    "draw_regress(cleanedDF['rank_x'][:50],cleanedDF['rank_y'][:50], 'Corroletion is strong for top 50 universities.')"
   ]
  },
  {
   "cell_type": "code",
   "execution_count": 53,
   "metadata": {
    "collapsed": false
   },
   "outputs": [
    {
     "data": {
      "image/png": "[encoded data removed]",
      "text/plain": [
       "<matplotlib.figure.Figure at 0x110684be0>"
      ]
     },
     "metadata": {},
     "output_type": "display_data"
    }
   ],
   "source": [
    "draw_regress(cleanedDF['student_staff_ratio_x'],cleanedDF['student_staff_ratio_y'], 'There is a corroletion\\\n",
    "b/w studetn staff ratio ranking of websites.')"
   ]
  },
  {
   "cell_type": "code",
   "execution_count": 54,
   "metadata": {
    "collapsed": false
   },
   "outputs": [
    {
     "data": {
      "image/png": "[encoded data removed]",
      "text/plain": [
       "<matplotlib.figure.Figure at 0x10b075c50>"
      ]
     },
     "metadata": {},
     "output_type": "display_data"
    }
   ],
   "source": [
    "draw_regress(cleanedDF['international_student_ratio_x'],cleanedDF['international_student_ratio_y'], 'It is\\\n",
    "almost the same international students ratio for both websites.')"
   ]
  },
  {
   "cell_type": "markdown",
   "metadata": {},
   "source": [
    "## `Question #5`"
   ]
  },
  {
   "cell_type": "markdown",
   "metadata": {},
   "source": [
    "`SSR: Student Staff Ratio\n",
    "ISR: International Student Ratio`"
   ]
  },
  {
   "cell_type": "markdown",
   "metadata": {},
   "source": [
    "`\n",
    "The method we've used to create custom ranking is as follows.\n",
    "I. Convert SSR values into corresponding descending values by using the following formula:\n",
    "`\n",
    "\n",
    "`\n",
    "max = mean + 2 * standart_deviation\n",
    "descending_ssr = ((max - ascending_ssr) / max) * 100\n",
    "` \n",
    "\n",
    "`\n",
    "Taking (mean + 2 * standart_deviation) as the max value seems more consistent than taking the real max value.\n",
    "`\n",
    "\n",
    "`\n",
    "II. Average SSR and ISR values that are coming from two tables\n",
    "III. Average SSR and ISR values together\n",
    "`\n",
    "\n",
    "`\n",
    " They are both out of 100 so, this calculation makes sense. \n",
    "`"
   ]
  },
  {
   "cell_type": "code",
   "execution_count": 55,
   "metadata": {
    "collapsed": true
   },
   "outputs": [],
   "source": [
    "max_ssr_x = df_merged['student_staff_ratio_x'].mean() + 2 * df_merged['student_staff_ratio_x'].std()\n",
    "max_ssr_y = df_merged['student_staff_ratio_y'].mean() + 2 * df_merged['student_staff_ratio_y'].std()\n",
    "def custom_score(ssr_x, isr_x, ssr_y, isr_y, max_ssr_x, max_ssr_y): \n",
    "    \n",
    "    descending_ssr_x = ((max_ssr_x - ssr_x) / max_ssr_x) * 100\n",
    "    descending_ssr_y = ((max_ssr_y - ssr_y) / max_ssr_y) * 100\n",
    "    \n",
    "    descending_ssr_mean = (descending_ssr_x + descending_ssr_y) / 2.\n",
    "    isr_mean = (isr_x + isr_y) / 2.\n",
    "    \n",
    "    if not ssr_x:\n",
    "        return (descending_ssr_y + isr_y) / 2\n",
    "    elif not ssr_y:\n",
    "        return (descending_ssr_x + isr_x) / 2\n",
    "    else:\n",
    "        return (descending_ssr_mean + isr_mean) / 2\n",
    "\n",
    "df_merged['custom_score'] = df_merged\\\n",
    "    .apply(lambda x: custom_score(x['student_staff_ratio_x'], x['international_student_ratio_x'],x['student_staff_ratio_y'], x['international_student_ratio_y'],max_ssr_x,max_ssr_y).round(1), axis=1)\n",
    "    "
   ]
  },
  {
   "cell_type": "code",
   "execution_count": 56,
   "metadata": {
    "collapsed": false
   },
   "outputs": [
    {
     "data": {
      "text/html": [
       "<div>\n",
       "<table border=\"1\" class=\"dataframe\">\n",
       "  <thead>\n",
       "    <tr style=\"text-align: right;\">\n",
       "      <th></th>\n",
       "      <th>title</th>\n",
       "      <th>custom_score</th>\n",
       "    </tr>\n",
       "  </thead>\n",
       "  <tbody>\n",
       "    <tr>\n",
       "      <th>1</th>\n",
       "      <td>London School of Economics and Political Science</td>\n",
       "      <td>65.3</td>\n",
       "    </tr>\n",
       "    <tr>\n",
       "      <th>2</th>\n",
       "      <td>Imperial College London</td>\n",
       "      <td>64.8</td>\n",
       "    </tr>\n",
       "    <tr>\n",
       "      <th>3</th>\n",
       "      <td>École Polytechnique Fédérale de Lausanne</td>\n",
       "      <td>62.8</td>\n",
       "    </tr>\n",
       "    <tr>\n",
       "      <th>4</th>\n",
       "      <td>University College London</td>\n",
       "      <td>61.1</td>\n",
       "    </tr>\n",
       "    <tr>\n",
       "      <th>5</th>\n",
       "      <td>University of Oxford</td>\n",
       "      <td>58.1</td>\n",
       "    </tr>\n",
       "  </tbody>\n",
       "</table>\n",
       "</div>"
      ],
      "text/plain": [
       "                                              title  custom_score\n",
       "1  London School of Economics and Political Science          65.3\n",
       "2                           Imperial College London          64.8\n",
       "3          École Polytechnique Fédérale de Lausanne          62.8\n",
       "4                         University College London          61.1\n",
       "5                              University of Oxford          58.1"
      ]
     },
     "execution_count": 56,
     "metadata": {},
     "output_type": "execute_result"
    }
   ],
   "source": [
    "df_merged.sort_values(['custom_score'], ascending=False)\\\n",
    "    .set_index(pd.Series(list(range(1,df_merged.shape[0]+1))))[['title', 'custom_score']].head()"
   ]
  },
  {
   "cell_type": "markdown",
   "metadata": {},
   "source": [
    "`The trivial approach of finding the best university by taking in consideration both rankings can be just avaraging rankings from both websites.\n",
    "However, it seems that by using these approach a lot of universities will have the same score. In order to overcome the cases of tie, we used \"custom score\" that we've calculated using \"student_staff_ratio_x\" and\n",
    "\"international_student_ratio_x\".`"
   ]
  },
  {
   "cell_type": "code",
   "execution_count": 57,
   "metadata": {
    "collapsed": true
   },
   "outputs": [],
   "source": [
    "def avarage_score(rank_overall_x, rank_overall_y): \n",
    "    \n",
    "    if not rank_overall_x:\n",
    "        return rank_overall_y\n",
    "    elif not rank_overall_y:\n",
    "        return rank_overall_x\n",
    "    else:\n",
    "        return (rank_overall_x + rank_overall_y) / 2.\n",
    "\n",
    "df_merged['avarage_score'] = df_merged\\\n",
    "    .apply(lambda x: avarage_score(x['rank_x'], x['rank_y']), axis=1)"
   ]
  },
  {
   "cell_type": "code",
   "execution_count": 58,
   "metadata": {
    "collapsed": false
   },
   "outputs": [
    {
     "data": {
      "text/html": [
       "<div>\n",
       "<table border=\"1\" class=\"dataframe\">\n",
       "  <thead>\n",
       "    <tr style=\"text-align: right;\">\n",
       "      <th></th>\n",
       "      <th>title</th>\n",
       "      <th>avarage_score</th>\n",
       "      <th>custom_score</th>\n",
       "    </tr>\n",
       "  </thead>\n",
       "  <tbody>\n",
       "    <tr>\n",
       "      <th>1</th>\n",
       "      <td>Massachusetts Institute of Technology</td>\n",
       "      <td>3.0</td>\n",
       "      <td>56.5</td>\n",
       "    </tr>\n",
       "    <tr>\n",
       "      <th>2</th>\n",
       "      <td>Stanford University</td>\n",
       "      <td>3.0</td>\n",
       "      <td>51.6</td>\n",
       "    </tr>\n",
       "    <tr>\n",
       "      <th>3</th>\n",
       "      <td>University of Oxford</td>\n",
       "      <td>3.5</td>\n",
       "      <td>58.1</td>\n",
       "    </tr>\n",
       "    <tr>\n",
       "      <th>4</th>\n",
       "      <td>California Institute of Technology</td>\n",
       "      <td>3.5</td>\n",
       "      <td>56.8</td>\n",
       "    </tr>\n",
       "    <tr>\n",
       "      <th>5</th>\n",
       "      <td>University of Cambridge</td>\n",
       "      <td>3.5</td>\n",
       "      <td>56.4</td>\n",
       "    </tr>\n",
       "  </tbody>\n",
       "</table>\n",
       "</div>"
      ],
      "text/plain": [
       "                                   title  avarage_score  custom_score\n",
       "1  Massachusetts Institute of Technology            3.0          56.5\n",
       "2                    Stanford University            3.0          51.6\n",
       "3                   University of Oxford            3.5          58.1\n",
       "4     California Institute of Technology            3.5          56.8\n",
       "5                University of Cambridge            3.5          56.4"
      ]
     },
     "execution_count": 58,
     "metadata": {},
     "output_type": "execute_result"
    }
   ],
   "source": [
    "df_merged.sort_values(['avarage_score', 'custom_score'], ascending=[True, False])\\\n",
    "    .set_index(pd.Series(list(range(1,df_merged.shape[0]+1))))[['title', 'avarage_score', 'custom_score']].head()"
   ]
  }
 ],
 "metadata": {
  "kernelspec": {
   "display_name": "Python 3",
   "language": "python",
   "name": "python3"
  },
  "language_info": {
   "codemirror_mode": {
    "name": "ipython",
    "version": 3
   },
   "file_extension": ".py",
   "mimetype": "text/x-python",
   "name": "python",
   "nbconvert_exporter": "python",
   "pygments_lexer": "ipython3",
   "version": "3.5.2"
  }
 },
 "nbformat": 4,
 "nbformat_minor": 1
}
