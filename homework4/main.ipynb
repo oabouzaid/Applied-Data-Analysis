{
 "cells": [
  {
   "cell_type": "code",
   "execution_count": 3,
   "metadata": {
    "collapsed": true
   },
   "outputs": [],
   "source": [
    "import pandas as pd\n",
    "import numpy as np\n",
    "import itertools\n",
    "import matplotlib.pyplot as plt\n",
    "from sklearn.linear_model import LinearRegression, LogisticRegression\n",
    "from sklearn.preprocessing import OneHotEncoder\n",
    "from sklearn import linear_model\n",
    "from pandas.plotting import scatter_matrix\n",
    "from sklearn.model_selection import cross_val_predict\n",
    "from sklearn.model_selection import cross_val_score\n",
    "from sklearn.datasets import fetch_20newsgroups\n",
    "from sklearn.feature_extraction.text import TfidfVectorizer\n",
    "from sklearn.ensemble import RandomForestClassifier\n",
    "from sklearn.model_selection import GridSearchCV\n",
    "from sklearn.pipeline import Pipeline\n",
    "from sklearn.model_selection import train_test_split\n",
    "from sklearn.metrics import accuracy_score, confusion_matrix\n",
    "import seaborn as sns\n",
    "from scipy.sparse.csr import csr_matrix\n",
    "from scipy import stats, integrate\n",
    "sns.set(color_codes=True)\n",
    "%matplotlib inline\n",
    "import warnings\n",
    "warnings.filterwarnings('ignore')"
   ]
  },
  {
   "cell_type": "markdown",
   "metadata": {},
   "source": [
    "# 1. Propensity score matching"
   ]
  },
  {
   "cell_type": "code",
   "execution_count": 4,
   "metadata": {},
   "outputs": [
    {
     "data": {
      "text/html": [
       "<div>\n",
       "<style>\n",
       "    .dataframe thead tr:only-child th {\n",
       "        text-align: right;\n",
       "    }\n",
       "\n",
       "    .dataframe thead th {\n",
       "        text-align: left;\n",
       "    }\n",
       "\n",
       "    .dataframe tbody tr th {\n",
       "        vertical-align: top;\n",
       "    }\n",
       "</style>\n",
       "<table border=\"1\" class=\"dataframe\">\n",
       "  <thead>\n",
       "    <tr style=\"text-align: right;\">\n",
       "      <th></th>\n",
       "      <th>id</th>\n",
       "      <th>treat</th>\n",
       "      <th>age</th>\n",
       "      <th>educ</th>\n",
       "      <th>black</th>\n",
       "      <th>hispan</th>\n",
       "      <th>married</th>\n",
       "      <th>nodegree</th>\n",
       "      <th>re74</th>\n",
       "      <th>re75</th>\n",
       "      <th>re78</th>\n",
       "    </tr>\n",
       "  </thead>\n",
       "  <tbody>\n",
       "    <tr>\n",
       "      <th>0</th>\n",
       "      <td>NSW1</td>\n",
       "      <td>1</td>\n",
       "      <td>37</td>\n",
       "      <td>11</td>\n",
       "      <td>1</td>\n",
       "      <td>0</td>\n",
       "      <td>1</td>\n",
       "      <td>1</td>\n",
       "      <td>0.0</td>\n",
       "      <td>0.0</td>\n",
       "      <td>9930.0460</td>\n",
       "    </tr>\n",
       "    <tr>\n",
       "      <th>1</th>\n",
       "      <td>NSW2</td>\n",
       "      <td>1</td>\n",
       "      <td>22</td>\n",
       "      <td>9</td>\n",
       "      <td>0</td>\n",
       "      <td>1</td>\n",
       "      <td>0</td>\n",
       "      <td>1</td>\n",
       "      <td>0.0</td>\n",
       "      <td>0.0</td>\n",
       "      <td>3595.8940</td>\n",
       "    </tr>\n",
       "    <tr>\n",
       "      <th>2</th>\n",
       "      <td>NSW3</td>\n",
       "      <td>1</td>\n",
       "      <td>30</td>\n",
       "      <td>12</td>\n",
       "      <td>1</td>\n",
       "      <td>0</td>\n",
       "      <td>0</td>\n",
       "      <td>0</td>\n",
       "      <td>0.0</td>\n",
       "      <td>0.0</td>\n",
       "      <td>24909.4500</td>\n",
       "    </tr>\n",
       "    <tr>\n",
       "      <th>3</th>\n",
       "      <td>NSW4</td>\n",
       "      <td>1</td>\n",
       "      <td>27</td>\n",
       "      <td>11</td>\n",
       "      <td>1</td>\n",
       "      <td>0</td>\n",
       "      <td>0</td>\n",
       "      <td>1</td>\n",
       "      <td>0.0</td>\n",
       "      <td>0.0</td>\n",
       "      <td>7506.1460</td>\n",
       "    </tr>\n",
       "    <tr>\n",
       "      <th>4</th>\n",
       "      <td>NSW5</td>\n",
       "      <td>1</td>\n",
       "      <td>33</td>\n",
       "      <td>8</td>\n",
       "      <td>1</td>\n",
       "      <td>0</td>\n",
       "      <td>0</td>\n",
       "      <td>1</td>\n",
       "      <td>0.0</td>\n",
       "      <td>0.0</td>\n",
       "      <td>289.7899</td>\n",
       "    </tr>\n",
       "  </tbody>\n",
       "</table>\n",
       "</div>"
      ],
      "text/plain": [
       "     id  treat  age  educ  black  hispan  married  nodegree  re74  re75  \\\n",
       "0  NSW1      1   37    11      1       0        1         1   0.0   0.0   \n",
       "1  NSW2      1   22     9      0       1        0         1   0.0   0.0   \n",
       "2  NSW3      1   30    12      1       0        0         0   0.0   0.0   \n",
       "3  NSW4      1   27    11      1       0        0         1   0.0   0.0   \n",
       "4  NSW5      1   33     8      1       0        0         1   0.0   0.0   \n",
       "\n",
       "         re78  \n",
       "0   9930.0460  \n",
       "1   3595.8940  \n",
       "2  24909.4500  \n",
       "3   7506.1460  \n",
       "4    289.7899  "
      ]
     },
     "execution_count": 4,
     "metadata": {},
     "output_type": "execute_result"
    }
   ],
   "source": [
    "data = pd.read_csv('lalonde.csv')\n",
    "data.head()"
   ]
  },
  {
   "cell_type": "markdown",
   "metadata": {},
   "source": [
    "## 1.1 A Naive Analysis"
   ]
  },
  {
   "cell_type": "markdown",
   "metadata": {},
   "source": [
    "**Basic Statistics**"
   ]
  },
  {
   "cell_type": "code",
   "execution_count": 6,
   "metadata": {
    "collapsed": true
   },
   "outputs": [],
   "source": [
    "treated = data[data.treat==1]\n",
    "untreated = data[data.treat==0]\n",
    "re78_treated = treated[\"re78\"]\n",
    "re78_untreated = untreated[\"re78\"]"
   ]
  },
  {
   "cell_type": "code",
   "execution_count": 7,
   "metadata": {},
   "outputs": [
    {
     "name": "stdout",
     "output_type": "stream",
     "text": [
      "Ratio of treated people = 30%\n"
     ]
    }
   ],
   "source": [
    "treated_ratio = int(re78_treated.count()/(re78_untreated.count()+ re78_treated.count()) * 100)\n",
    "print(\"Ratio of treated people = \" + str(treated_ratio) + \"%\")"
   ]
  },
  {
   "cell_type": "markdown",
   "metadata": {},
   "source": [
    "We see that out of the 614 samples, there is only 185 samples (30%) who are treated (did the the job traning program)."
   ]
  },
  {
   "cell_type": "markdown",
   "metadata": {},
   "source": [
    "**Kolmogorov–Smirnov Test**"
   ]
  },
  {
   "cell_type": "markdown",
   "metadata": {},
   "source": [
    "The K-S test returns a D statistic and a p-value corresponding to it. The D statistic is the absolute maximum distance (supremum) between the CDFs of the two samples. **The closer this number is to 0, the more likely it is that the two samples were drawn from the same distribution.**\n",
    "\n",
    "The p-value returned by the K-S test has the same interpretation as other p-values. We reject the null hypothesis that the two samples were drawn from the same distribution if the p-value is less than your significance level."
   ]
  },
  {
   "cell_type": "code",
   "execution_count": 8,
   "metadata": {},
   "outputs": [
    {
     "data": {
      "text/plain": [
       "Ks_2sampResult(statistic=0.098607698607698691, pvalue=0.15279452288468109)"
      ]
     },
     "execution_count": 8,
     "metadata": {},
     "output_type": "execute_result"
    }
   ],
   "source": [
    "stats.ks_2samp(re78_treated, re78_untreated)"
   ]
  },
  {
   "cell_type": "markdown",
   "metadata": {},
   "source": [
    "$p-value \\geqslant 0.05$ therefore, we can't reject the null hypothesis, meaning that there is a difference between the distribtuion of the variable 're78' wihtin the two groups. Let's how important is this difference."
   ]
  },
  {
   "cell_type": "markdown",
   "metadata": {},
   "source": [
    "Note that we consider the significant level for p-value to be approximately 0.05."
   ]
  },
  {
   "cell_type": "markdown",
   "metadata": {},
   "source": [
    "**Visual Comparison**"
   ]
  },
  {
   "cell_type": "code",
   "execution_count": 9,
   "metadata": {},
   "outputs": [
    {
     "data": {
      "text/plain": [
       "<matplotlib.axes._subplots.AxesSubplot at 0x112f975c0>"
      ]
     },
     "execution_count": 9,
     "metadata": {},
     "output_type": "execute_result"
    },
    {
     "data": {
      "image/png": "[encoded data removed]",
      "text/plain": [
       "<matplotlib.figure.Figure at 0x112f97b70>"
      ]
     },
     "metadata": {},
     "output_type": "display_data"
    }
   ],
   "source": [
    "sns.distplot(re78_treated)"
   ]
  },
  {
   "cell_type": "code",
   "execution_count": 10,
   "metadata": {},
   "outputs": [
    {
     "data": {
      "text/plain": [
       "<matplotlib.axes._subplots.AxesSubplot at 0x1162fb240>"
      ]
     },
     "execution_count": 10,
     "metadata": {},
     "output_type": "execute_result"
    },
    {
     "data": {
      "image/png": "[encoded data removed]",
      "text/plain": [
       "<matplotlib.figure.Figure at 0x1163b4518>"
      ]
     },
     "metadata": {},
     "output_type": "display_data"
    }
   ],
   "source": [
    "sns.distplot(re78_untreated)"
   ]
  },
  {
   "cell_type": "code",
   "execution_count": 11,
   "metadata": {},
   "outputs": [
    {
     "data": {
      "text/plain": [
       "count      429.000000\n",
       "mean      6984.169742\n",
       "std       7294.161791\n",
       "min          0.000000\n",
       "25%        220.181300\n",
       "50%       4975.505000\n",
       "75%      11688.820000\n",
       "max      25564.670000\n",
       "Name: re78, dtype: float64"
      ]
     },
     "execution_count": 11,
     "metadata": {},
     "output_type": "execute_result"
    }
   ],
   "source": [
    "re78_untreated.describe()"
   ]
  },
  {
   "cell_type": "code",
   "execution_count": 12,
   "metadata": {},
   "outputs": [
    {
     "data": {
      "text/plain": [
       "count      185.000000\n",
       "mean      6349.143530\n",
       "std       7867.402218\n",
       "min          0.000000\n",
       "25%        485.229800\n",
       "50%       4232.309000\n",
       "75%       9642.999000\n",
       "max      60307.930000\n",
       "Name: re78, dtype: float64"
      ]
     },
     "execution_count": 12,
     "metadata": {},
     "output_type": "execute_result"
    }
   ],
   "source": [
    "re78_treated.describe()"
   ]
  },
  {
   "cell_type": "markdown",
   "metadata": {},
   "source": [
    "From these plots and the stats, it seems that the income of untreated group is higher than in the treated group meaning that the **treatment is not effective**."
   ]
  },
  {
   "cell_type": "markdown",
   "metadata": {},
   "source": [
    "Let us analyze the distribution of the other variables to have a better understanding of the effectiveness of the treatment."
   ]
  },
  {
   "cell_type": "code",
   "execution_count": 13,
   "metadata": {
    "collapsed": true
   },
   "outputs": [],
   "source": [
    "def compare_distributions(s1, s2, feature, title):\n",
    "    plt.figure(figsize = (10,8))\n",
    "    plt.hist([s1[feature], s2[feature]], edgecolor='k', stacked= False)\n",
    "    plt.legend(['No Treatment','Treatment'])\n",
    "    plt.title('Treated, Untreated subjects by ' + title)\n",
    "    plt.xlabel(feature)\n",
    "    plt.ylabel('Frequency')\n",
    "    plt.show()\n",
    "    print(\"Satistics of Untreated subjects by \" + title + \"\\n\")\n",
    "    print(s1[feature].describe())\n",
    "    print(\"\\n\\nSatistics of Treated subjects by \" + title + \"\\n\")\n",
    "    print(s2[feature].describe())"
   ]
  },
  {
   "cell_type": "code",
   "execution_count": 15,
   "metadata": {
    "scrolled": false
   },
   "outputs": [
    {
     "data": {
      "image/png": "[encoded data removed]",
      "text/plain": [
       "<matplotlib.figure.Figure at 0x1165c27b8>"
      ]
     },
     "metadata": {},
     "output_type": "display_data"
    },
    {
     "name": "stdout",
     "output_type": "stream",
     "text": [
      "Satistics of Untreated subjects by Income in year 1974\n",
      "\n",
      "count      429.000000\n",
      "mean      5619.236506\n",
      "std       6788.750796\n",
      "min          0.000000\n",
      "25%          0.000000\n",
      "50%       2547.047000\n",
      "75%       9277.128000\n",
      "max      25862.320000\n",
      "Name: re74, dtype: float64\n",
      "\n",
      "\n",
      "Satistics of Treated subjects by Income in year 1974\n",
      "\n",
      "count      185.000000\n",
      "mean      2095.573689\n",
      "std       4886.620353\n",
      "min          0.000000\n",
      "25%          0.000000\n",
      "50%          0.000000\n",
      "75%       1291.468000\n",
      "max      35040.070000\n",
      "Name: re74, dtype: float64\n"
     ]
    },
    {
     "data": {
      "image/png": "[encoded data removed]",
      "text/plain": [
       "<matplotlib.figure.Figure at 0x1166680f0>"
      ]
     },
     "metadata": {},
     "output_type": "display_data"
    },
    {
     "name": "stdout",
     "output_type": "stream",
     "text": [
      "Satistics of Untreated subjects by Income in year 1975\n",
      "\n",
      "count      429.000000\n",
      "mean      2466.484443\n",
      "std       3291.996183\n",
      "min          0.000000\n",
      "25%          0.000000\n",
      "50%       1086.726000\n",
      "75%       3881.419000\n",
      "max      18347.230000\n",
      "Name: re75, dtype: float64\n",
      "\n",
      "\n",
      "Satistics of Treated subjects by Income in year 1975\n",
      "\n",
      "count      185.000000\n",
      "mean      1532.055314\n",
      "std       3219.250870\n",
      "min          0.000000\n",
      "25%          0.000000\n",
      "50%          0.000000\n",
      "75%       1817.284000\n",
      "max      25142.240000\n",
      "Name: re75, dtype: float64\n"
     ]
    },
    {
     "data": {
      "image/png": "[encoded data removed]",
      "text/plain": [
       "<matplotlib.figure.Figure at 0x116389cc0>"
      ]
     },
     "metadata": {},
     "output_type": "display_data"
    },
    {
     "name": "stdout",
     "output_type": "stream",
     "text": [
      "Satistics of Untreated subjects by Income in year 1978\n",
      "\n",
      "count      429.000000\n",
      "mean      6984.169742\n",
      "std       7294.161791\n",
      "min          0.000000\n",
      "25%        220.181300\n",
      "50%       4975.505000\n",
      "75%      11688.820000\n",
      "max      25564.670000\n",
      "Name: re78, dtype: float64\n",
      "\n",
      "\n",
      "Satistics of Treated subjects by Income in year 1978\n",
      "\n",
      "count      185.000000\n",
      "mean      6349.143530\n",
      "std       7867.402218\n",
      "min          0.000000\n",
      "25%        485.229800\n",
      "50%       4232.309000\n",
      "75%       9642.999000\n",
      "max      60307.930000\n",
      "Name: re78, dtype: float64\n"
     ]
    }
   ],
   "source": [
    "year_variables = ['re74','re75','re78']\n",
    "for year in year_variables:\n",
    "    title = 'Income in year 19{}'.format(year[2:])\n",
    "    compare_distributions(untreated, treated, year, title)"
   ]
  },
  {
   "cell_type": "markdown",
   "metadata": {},
   "source": [
    "Again, it seems that what the naive method says is that the treatment is **ineffective**."
   ]
  },
  {
   "cell_type": "markdown",
   "metadata": {},
   "source": [
    "## 1.2 A Closer Look at the Data "
   ]
  },
  {
   "cell_type": "markdown",
   "metadata": {},
   "source": [
    "We now compare the distribution of each feature in the treated group with its distribution in the untreated group."
   ]
  },
  {
   "cell_type": "markdown",
   "metadata": {},
   "source": [
    "### Comparison by Age"
   ]
  },
  {
   "cell_type": "code",
   "execution_count": 16,
   "metadata": {},
   "outputs": [
    {
     "data": {
      "image/png": "[encoded data removed]",
      "text/plain": [
       "<matplotlib.figure.Figure at 0x1168f3c50>"
      ]
     },
     "metadata": {},
     "output_type": "display_data"
    },
    {
     "name": "stdout",
     "output_type": "stream",
     "text": [
      "Satistics of Untreated subjects by age\n",
      "\n",
      "count    429.000000\n",
      "mean      28.030303\n",
      "std       10.786653\n",
      "min       16.000000\n",
      "25%       19.000000\n",
      "50%       25.000000\n",
      "75%       35.000000\n",
      "max       55.000000\n",
      "Name: age, dtype: float64\n",
      "\n",
      "\n",
      "Satistics of Treated subjects by age\n",
      "\n",
      "count    185.000000\n",
      "mean      25.816216\n",
      "std        7.155019\n",
      "min       17.000000\n",
      "25%       20.000000\n",
      "50%       25.000000\n",
      "75%       29.000000\n",
      "max       48.000000\n",
      "Name: age, dtype: float64\n"
     ]
    }
   ],
   "source": [
    "compare_distributions(untreated, treated, 'age', 'age')"
   ]
  },
  {
   "cell_type": "code",
   "execution_count": 17,
   "metadata": {
    "collapsed": true
   },
   "outputs": [],
   "source": [
    "age_treated = data[data.treat==1][\"age\"]\n",
    "age_untreated = data[data.treat==0][\"age\"]"
   ]
  },
  {
   "cell_type": "code",
   "execution_count": 18,
   "metadata": {},
   "outputs": [
    {
     "data": {
      "text/plain": [
       "<matplotlib.axes._subplots.AxesSubplot at 0x116b19be0>"
      ]
     },
     "execution_count": 18,
     "metadata": {},
     "output_type": "execute_result"
    },
    {
     "data": {
      "image/png": "[encoded data removed]",
      "text/plain": [
       "<matplotlib.figure.Figure at 0x116b45d68>"
      ]
     },
     "metadata": {},
     "output_type": "display_data"
    }
   ],
   "source": [
    "sns.distplot(age_treated)"
   ]
  },
  {
   "cell_type": "code",
   "execution_count": 19,
   "metadata": {},
   "outputs": [
    {
     "data": {
      "text/plain": [
       "<matplotlib.axes._subplots.AxesSubplot at 0x116b6efd0>"
      ]
     },
     "execution_count": 19,
     "metadata": {},
     "output_type": "execute_result"
    },
    {
     "data": {
      "image/png": "[encoded data removed]",
      "text/plain": [
       "<matplotlib.figure.Figure at 0x116b45898>"
      ]
     },
     "metadata": {},
     "output_type": "display_data"
    }
   ],
   "source": [
    "sns.distplot(age_untreated)"
   ]
  },
  {
   "cell_type": "code",
   "execution_count": 20,
   "metadata": {},
   "outputs": [
    {
     "data": {
      "text/plain": [
       "Ks_2sampResult(statistic=0.15772695772695777, pvalue=0.0027787486444449967)"
      ]
     },
     "execution_count": 20,
     "metadata": {},
     "output_type": "execute_result"
    }
   ],
   "source": [
    "stats.ks_2samp(age_treated, age_untreated)"
   ]
  },
  {
   "cell_type": "markdown",
   "metadata": {},
   "source": [
    "$p-value \\leqslant 0.05$  So, we reject the null hypothesis meaning that there is no difference between the distribtuion of the variable 'age' within the two groups. This is what we also observed on the figures."
   ]
  },
  {
   "cell_type": "markdown",
   "metadata": {},
   "source": [
    "### Comparison by Education"
   ]
  },
  {
   "cell_type": "code",
   "execution_count": 22,
   "metadata": {},
   "outputs": [
    {
     "data": {
      "image/png": "[encoded data removed]",
      "text/plain": [
       "<matplotlib.figure.Figure at 0x11705af28>"
      ]
     },
     "metadata": {},
     "output_type": "display_data"
    },
    {
     "name": "stdout",
     "output_type": "stream",
     "text": [
      "Satistics of Untreated subjects by education\n",
      "\n",
      "count    429.000000\n",
      "mean      10.235431\n",
      "std        2.855238\n",
      "min        0.000000\n",
      "25%        9.000000\n",
      "50%       11.000000\n",
      "75%       12.000000\n",
      "max       18.000000\n",
      "Name: educ, dtype: float64\n",
      "\n",
      "\n",
      "Satistics of Treated subjects by education\n",
      "\n",
      "count    185.000000\n",
      "mean      10.345946\n",
      "std        2.010650\n",
      "min        4.000000\n",
      "25%        9.000000\n",
      "50%       11.000000\n",
      "75%       12.000000\n",
      "max       16.000000\n",
      "Name: educ, dtype: float64\n"
     ]
    }
   ],
   "source": [
    "compare_distributions(untreated, treated, 'educ', 'education')"
   ]
  },
  {
   "cell_type": "markdown",
   "metadata": {},
   "source": [
    "**Treatment/non treament by education** is ***normally distributed with a small negative skew***."
   ]
  },
  {
   "cell_type": "code",
   "execution_count": 23,
   "metadata": {
    "collapsed": true
   },
   "outputs": [],
   "source": [
    "educ_treated = data[data.treat==1][\"educ\"]\n",
    "educ_untreated = data[data.treat==0][\"educ\"]"
   ]
  },
  {
   "cell_type": "code",
   "execution_count": 24,
   "metadata": {},
   "outputs": [
    {
     "data": {
      "text/plain": [
       "<matplotlib.axes._subplots.AxesSubplot at 0x116b19160>"
      ]
     },
     "execution_count": 24,
     "metadata": {},
     "output_type": "execute_result"
    },
    {
     "data": {
      "image/png": "[encoded data removed]",
      "text/plain": [
       "<matplotlib.figure.Figure at 0x116b1de10>"
      ]
     },
     "metadata": {},
     "output_type": "display_data"
    }
   ],
   "source": [
    "sns.distplot(educ_treated)"
   ]
  },
  {
   "cell_type": "code",
   "execution_count": 25,
   "metadata": {},
   "outputs": [
    {
     "data": {
      "text/plain": [
       "<matplotlib.axes._subplots.AxesSubplot at 0x116ee0780>"
      ]
     },
     "execution_count": 25,
     "metadata": {},
     "output_type": "execute_result"
    },
    {
     "data": {
      "image/png": "[encoded data removed]",
      "text/plain": [
       "<matplotlib.figure.Figure at 0x116b1dcf8>"
      ]
     },
     "metadata": {},
     "output_type": "display_data"
    }
   ],
   "source": [
    "sns.distplot(educ_untreated)"
   ]
  },
  {
   "cell_type": "code",
   "execution_count": 26,
   "metadata": {},
   "outputs": [
    {
     "data": {
      "text/plain": [
       "Ks_2sampResult(statistic=0.11137151137151136, pvalue=0.075243451787299645)"
      ]
     },
     "execution_count": 26,
     "metadata": {},
     "output_type": "execute_result"
    }
   ],
   "source": [
    "stats.ks_2samp(educ_treated, educ_untreated)"
   ]
  },
  {
   "cell_type": "markdown",
   "metadata": {},
   "source": [
    "$p-value$ is very close to 0.05 so, it is reasonable to reject the null hypothesis meaning that there is no difference between the distribtuion of the variable 'educ' within the two groups. This is also what we observed from the figures."
   ]
  },
  {
   "cell_type": "markdown",
   "metadata": {},
   "source": [
    "### Comparison by Race, Marital Status and Having Degree"
   ]
  },
  {
   "cell_type": "markdown",
   "metadata": {},
   "source": [
    "For the categorical (0/1) features ***race (black and hispanic), married & nondegree***, we will sum up the value of those features to get the total count. "
   ]
  },
  {
   "cell_type": "code",
   "execution_count": 27,
   "metadata": {
    "collapsed": true
   },
   "outputs": [],
   "source": [
    "def ratios(data , features):\n",
    "    ones = []\n",
    "    zeros = []\n",
    "    for f in features:\n",
    "        one = (data[f].values.sum()/data[f].count())*100\n",
    "        zero = 100 - one\n",
    "        ones.append(one)\n",
    "        zeros.append(zero)\n",
    "    return ones, zeros"
   ]
  },
  {
   "cell_type": "code",
   "execution_count": 28,
   "metadata": {
    "collapsed": true,
    "scrolled": false
   },
   "outputs": [],
   "source": [
    "def compare_feature_value(treated, untreated):\n",
    "    fig, ax = plt.subplots(1, 2, figsize=(14, 5), sharex=True)\n",
    "    features = ['black', 'hispan', 'married', 'nodegree']\n",
    "    ones, zeros = ratios(treated, features)\n",
    "    n = [0, 1, 2, 3]\n",
    "    title = 'treated subjects'\n",
    "    data = [treated, untreated]\n",
    "    for i in range(2):\n",
    "        ones, zeros = ratios(data[i], features)\n",
    "        if (i == 1):\n",
    "            title = 'Un' + title\n",
    "        plt.sca(ax[i])\n",
    "        plt.xticks(n, features)\n",
    "        plt.ylabel('Percentage of ' + title )\n",
    "        plt.yticks( [0, 25, 50, 75, 100] )\n",
    "        plt.bar(n, ones)\n",
    "        plt.bar(n, zeros, bottom = ones)\n",
    "        plt.title('Feature-wise ' + title)\n",
    "        plt.legend(('1','0'))"
   ]
  },
  {
   "cell_type": "code",
   "execution_count": 29,
   "metadata": {},
   "outputs": [
    {
     "data": {
      "image/png": "[encoded data removed]",
      "text/plain": [
       "<matplotlib.figure.Figure at 0x11706bf98>"
      ]
     },
     "metadata": {},
     "output_type": "display_data"
    }
   ],
   "source": [
    "compare_feature_value(treated, untreated)"
   ]
  },
  {
   "cell_type": "markdown",
   "metadata": {},
   "source": [
    "As it is seen from these figures, the frequency of black people is much higher in untreated subjects. And in terms of marital status, the frequency of married people is higher among untreated subjects.\n",
    "The frequecny of hispanic people and people who have a degree is similar between groups."
   ]
  },
  {
   "cell_type": "markdown",
   "metadata": {},
   "source": [
    "Overall, by naive analysis we can conclude that education level, age, having a degree and being hispanic are equally balanced between treated and untreated groups. Yet, the income level in 1978 is similar which means that again, the treatment is **ineffective** even after examining different variables."
   ]
  },
  {
   "cell_type": "markdown",
   "metadata": {},
   "source": [
    "## 1.3 A Propensity Score Model"
   ]
  },
  {
   "cell_type": "markdown",
   "metadata": {},
   "source": [
    "Let us train our data to estimate the propensity score for each datapoint, i.e the probability of being treated (or not)."
   ]
  },
  {
   "cell_type": "code",
   "execution_count": 30,
   "metadata": {},
   "outputs": [
    {
     "data": {
      "text/plain": [
       "LogisticRegression(C=1.0, class_weight=None, dual=False, fit_intercept=True,\n",
       "          intercept_scaling=1, max_iter=100, multi_class='ovr', n_jobs=1,\n",
       "          penalty='l2', random_state=None, solver='liblinear', tol=0.0001,\n",
       "          verbose=0, warm_start=False)"
      ]
     },
     "execution_count": 30,
     "metadata": {},
     "output_type": "execute_result"
    }
   ],
   "source": [
    "dataV2 = pd.read_csv('lalonde.csv', index_col=0)\n",
    "logistic = linear_model.LogisticRegression()\n",
    "Z = dataV2['treat']\n",
    "X = dataV2.drop('treat', axis=1)\n",
    "logistic.fit(X,Z)"
   ]
  },
  {
   "cell_type": "markdown",
   "metadata": {},
   "source": [
    "Once our data is trained, we now calculate the propensity scores:"
   ]
  },
  {
   "cell_type": "code",
   "execution_count": 31,
   "metadata": {},
   "outputs": [
    {
     "data": {
      "text/html": [
       "<div>\n",
       "<style>\n",
       "    .dataframe thead tr:only-child th {\n",
       "        text-align: right;\n",
       "    }\n",
       "\n",
       "    .dataframe thead th {\n",
       "        text-align: left;\n",
       "    }\n",
       "\n",
       "    .dataframe tbody tr th {\n",
       "        vertical-align: top;\n",
       "    }\n",
       "</style>\n",
       "<table border=\"1\" class=\"dataframe\">\n",
       "  <thead>\n",
       "    <tr style=\"text-align: right;\">\n",
       "      <th></th>\n",
       "      <th>treat</th>\n",
       "      <th>age</th>\n",
       "      <th>educ</th>\n",
       "      <th>black</th>\n",
       "      <th>hispan</th>\n",
       "      <th>married</th>\n",
       "      <th>nodegree</th>\n",
       "      <th>re74</th>\n",
       "      <th>re75</th>\n",
       "      <th>re78</th>\n",
       "      <th>prop_0</th>\n",
       "      <th>prop_1</th>\n",
       "    </tr>\n",
       "    <tr>\n",
       "      <th>id</th>\n",
       "      <th></th>\n",
       "      <th></th>\n",
       "      <th></th>\n",
       "      <th></th>\n",
       "      <th></th>\n",
       "      <th></th>\n",
       "      <th></th>\n",
       "      <th></th>\n",
       "      <th></th>\n",
       "      <th></th>\n",
       "      <th></th>\n",
       "      <th></th>\n",
       "    </tr>\n",
       "  </thead>\n",
       "  <tbody>\n",
       "    <tr>\n",
       "      <th>NSW1</th>\n",
       "      <td>1</td>\n",
       "      <td>37</td>\n",
       "      <td>11</td>\n",
       "      <td>1</td>\n",
       "      <td>0</td>\n",
       "      <td>1</td>\n",
       "      <td>1</td>\n",
       "      <td>0.0</td>\n",
       "      <td>0.0</td>\n",
       "      <td>9930.0460</td>\n",
       "      <td>0.541926</td>\n",
       "      <td>0.458074</td>\n",
       "    </tr>\n",
       "    <tr>\n",
       "      <th>NSW2</th>\n",
       "      <td>1</td>\n",
       "      <td>22</td>\n",
       "      <td>9</td>\n",
       "      <td>0</td>\n",
       "      <td>1</td>\n",
       "      <td>0</td>\n",
       "      <td>1</td>\n",
       "      <td>0.0</td>\n",
       "      <td>0.0</td>\n",
       "      <td>3595.8940</td>\n",
       "      <td>0.848020</td>\n",
       "      <td>0.151980</td>\n",
       "    </tr>\n",
       "    <tr>\n",
       "      <th>NSW3</th>\n",
       "      <td>1</td>\n",
       "      <td>30</td>\n",
       "      <td>12</td>\n",
       "      <td>1</td>\n",
       "      <td>0</td>\n",
       "      <td>0</td>\n",
       "      <td>0</td>\n",
       "      <td>0.0</td>\n",
       "      <td>0.0</td>\n",
       "      <td>24909.4500</td>\n",
       "      <td>0.249034</td>\n",
       "      <td>0.750966</td>\n",
       "    </tr>\n",
       "    <tr>\n",
       "      <th>NSW4</th>\n",
       "      <td>1</td>\n",
       "      <td>27</td>\n",
       "      <td>11</td>\n",
       "      <td>1</td>\n",
       "      <td>0</td>\n",
       "      <td>0</td>\n",
       "      <td>1</td>\n",
       "      <td>0.0</td>\n",
       "      <td>0.0</td>\n",
       "      <td>7506.1460</td>\n",
       "      <td>0.325980</td>\n",
       "      <td>0.674020</td>\n",
       "    </tr>\n",
       "    <tr>\n",
       "      <th>NSW5</th>\n",
       "      <td>1</td>\n",
       "      <td>33</td>\n",
       "      <td>8</td>\n",
       "      <td>1</td>\n",
       "      <td>0</td>\n",
       "      <td>0</td>\n",
       "      <td>1</td>\n",
       "      <td>0.0</td>\n",
       "      <td>0.0</td>\n",
       "      <td>289.7899</td>\n",
       "      <td>0.329410</td>\n",
       "      <td>0.670590</td>\n",
       "    </tr>\n",
       "    <tr>\n",
       "      <th>NSW6</th>\n",
       "      <td>1</td>\n",
       "      <td>22</td>\n",
       "      <td>9</td>\n",
       "      <td>1</td>\n",
       "      <td>0</td>\n",
       "      <td>0</td>\n",
       "      <td>1</td>\n",
       "      <td>0.0</td>\n",
       "      <td>0.0</td>\n",
       "      <td>4056.4940</td>\n",
       "      <td>0.288746</td>\n",
       "      <td>0.711254</td>\n",
       "    </tr>\n",
       "    <tr>\n",
       "      <th>NSW7</th>\n",
       "      <td>1</td>\n",
       "      <td>23</td>\n",
       "      <td>12</td>\n",
       "      <td>1</td>\n",
       "      <td>0</td>\n",
       "      <td>0</td>\n",
       "      <td>0</td>\n",
       "      <td>0.0</td>\n",
       "      <td>0.0</td>\n",
       "      <td>0.0000</td>\n",
       "      <td>0.350384</td>\n",
       "      <td>0.649616</td>\n",
       "    </tr>\n",
       "    <tr>\n",
       "      <th>NSW8</th>\n",
       "      <td>1</td>\n",
       "      <td>32</td>\n",
       "      <td>11</td>\n",
       "      <td>1</td>\n",
       "      <td>0</td>\n",
       "      <td>0</td>\n",
       "      <td>1</td>\n",
       "      <td>0.0</td>\n",
       "      <td>0.0</td>\n",
       "      <td>8472.1580</td>\n",
       "      <td>0.339566</td>\n",
       "      <td>0.660434</td>\n",
       "    </tr>\n",
       "    <tr>\n",
       "      <th>NSW9</th>\n",
       "      <td>1</td>\n",
       "      <td>22</td>\n",
       "      <td>16</td>\n",
       "      <td>1</td>\n",
       "      <td>0</td>\n",
       "      <td>0</td>\n",
       "      <td>0</td>\n",
       "      <td>0.0</td>\n",
       "      <td>0.0</td>\n",
       "      <td>2164.0220</td>\n",
       "      <td>0.416180</td>\n",
       "      <td>0.583820</td>\n",
       "    </tr>\n",
       "    <tr>\n",
       "      <th>NSW10</th>\n",
       "      <td>1</td>\n",
       "      <td>33</td>\n",
       "      <td>12</td>\n",
       "      <td>0</td>\n",
       "      <td>0</td>\n",
       "      <td>1</td>\n",
       "      <td>0</td>\n",
       "      <td>0.0</td>\n",
       "      <td>0.0</td>\n",
       "      <td>12418.0700</td>\n",
       "      <td>0.913265</td>\n",
       "      <td>0.086735</td>\n",
       "    </tr>\n",
       "  </tbody>\n",
       "</table>\n",
       "</div>"
      ],
      "text/plain": [
       "       treat  age  educ  black  hispan  married  nodegree  re74  re75  \\\n",
       "id                                                                      \n",
       "NSW1       1   37    11      1       0        1         1   0.0   0.0   \n",
       "NSW2       1   22     9      0       1        0         1   0.0   0.0   \n",
       "NSW3       1   30    12      1       0        0         0   0.0   0.0   \n",
       "NSW4       1   27    11      1       0        0         1   0.0   0.0   \n",
       "NSW5       1   33     8      1       0        0         1   0.0   0.0   \n",
       "NSW6       1   22     9      1       0        0         1   0.0   0.0   \n",
       "NSW7       1   23    12      1       0        0         0   0.0   0.0   \n",
       "NSW8       1   32    11      1       0        0         1   0.0   0.0   \n",
       "NSW9       1   22    16      1       0        0         0   0.0   0.0   \n",
       "NSW10      1   33    12      0       0        1         0   0.0   0.0   \n",
       "\n",
       "             re78    prop_0    prop_1  \n",
       "id                                     \n",
       "NSW1    9930.0460  0.541926  0.458074  \n",
       "NSW2    3595.8940  0.848020  0.151980  \n",
       "NSW3   24909.4500  0.249034  0.750966  \n",
       "NSW4    7506.1460  0.325980  0.674020  \n",
       "NSW5     289.7899  0.329410  0.670590  \n",
       "NSW6    4056.4940  0.288746  0.711254  \n",
       "NSW7       0.0000  0.350384  0.649616  \n",
       "NSW8    8472.1580  0.339566  0.660434  \n",
       "NSW9    2164.0220  0.416180  0.583820  \n",
       "NSW10  12418.0700  0.913265  0.086735  "
      ]
     },
     "execution_count": 31,
     "metadata": {},
     "output_type": "execute_result"
    }
   ],
   "source": [
    "score = logistic.predict_proba(X)\n",
    "score_lalonde = dataV2.copy()\n",
    "score_lalonde[\"prop_0\"] = score[:,0]\n",
    "score_lalonde[\"prop_1\"] = score[:,1]\n",
    "score_lalonde.head(10)"
   ]
  },
  {
   "cell_type": "markdown",
   "metadata": {},
   "source": [
    "## 1.4 Balancing the Dataset via Matching"
   ]
  },
  {
   "cell_type": "markdown",
   "metadata": {},
   "source": [
    "Now that we got our scores, let us split our dataframe into 2 groups as we did earlier: the treated group, and the control (untreated) group:"
   ]
  },
  {
   "cell_type": "code",
   "execution_count": 32,
   "metadata": {
    "collapsed": true
   },
   "outputs": [],
   "source": [
    "score_treated = score_lalonde[score_lalonde['treat'] == 1]\n",
    "score_untreated = score_lalonde[score_lalonde['treat'] == 0]"
   ]
  },
  {
   "cell_type": "code",
   "execution_count": 33,
   "metadata": {
    "collapsed": true
   },
   "outputs": [],
   "source": [
    "A = score_treated.index\n",
    "B = score_untreated.index"
   ]
  },
  {
   "cell_type": "markdown",
   "metadata": {},
   "source": [
    "We will now match each data point from the treated group with exactly one data point from the control group.\n",
    "In order to do that we first create a **Bipartite Graph G connecting all the points from the two groups**, and then extract a **one-to-one mapping** minimizing the sum of costs over all the edges.\n",
    "\n",
    "We will now use the **Python networkx package** in order to construct a **Bipartite Graph G** consisting of **sets of vertices A & B**. Each *vertex* represent a datapoint in X, and each *edge* has a weight w. \n",
    "1. Let **A** be the set of all vertices consisting of propensity scores relative the treated group **(treat=1)**\n",
    "2. Let **B** be the set of all vertices consisting of propensity scores relative the untreated group **(treat=0)**\n",
    "3. We define the *weight* **w** of each edge **E = (Ai, Bj)** as the absolute value difference of the scores of the vertices **Ai** & **Bj**"
   ]
  },
  {
   "cell_type": "code",
   "execution_count": 34,
   "metadata": {
    "collapsed": true
   },
   "outputs": [],
   "source": [
    "import networkx as nx\n",
    "from networkx.algorithms import bipartite"
   ]
  },
  {
   "cell_type": "markdown",
   "metadata": {},
   "source": [
    "We now construct the vertices by mapping every element of A to every element of B"
   ]
  },
  {
   "cell_type": "code",
   "execution_count": 35,
   "metadata": {
    "collapsed": true
   },
   "outputs": [],
   "source": [
    "G = nx.Graph()\n",
    "G.add_nodes_from(A, bipartite=0)\n",
    "G.add_nodes_from(B, bipartite=1)\n",
    "\n",
    "for i in A:\n",
    "    for j in B:\n",
    "        G.add_edge(i,j, weight= - abs(score_treated.loc[i].prop_1 - score_untreated.loc[j].prop_1))"
   ]
  },
  {
   "cell_type": "markdown",
   "metadata": {},
   "source": [
    "Next, we should maximize the similarity between matched subjects, as captured by their propensity scores. In other words, the sum (over all matched pairs) of absolute propensity-score differences between the two matched subjects should be minimized.\n",
    "\n",
    "\n",
    "**N.B: Since the networkx package only offers a maximization function, we put a minus sign in front of the absolute value weight of our edges.** This way, we shall **maximize the opposite of the sum of scores**, which is *equivalent* to the problem of **minimizing the sum of scores.**  \n",
    "\n",
    "\n"
   ]
  },
  {
   "cell_type": "code",
   "execution_count": 36,
   "metadata": {
    "collapsed": true
   },
   "outputs": [],
   "source": [
    "match = nx.max_weight_matching(G, maxcardinality= True)"
   ]
  },
  {
   "cell_type": "code",
   "execution_count": 37,
   "metadata": {},
   "outputs": [
    {
     "data": {
      "text/plain": [
       "185.0"
      ]
     },
     "execution_count": 37,
     "metadata": {},
     "output_type": "execute_result"
    }
   ],
   "source": [
    "len(match)/2"
   ]
  },
  {
   "cell_type": "markdown",
   "metadata": {},
   "source": [
    "We see that all the matches appears twice (for each edge (Ai, Bj) there is a corresponding one (Bj, Ai)), which is obviously the same. So we only take the first half."
   ]
  },
  {
   "cell_type": "code",
   "execution_count": 38,
   "metadata": {
    "collapsed": true,
    "scrolled": false
   },
   "outputs": [],
   "source": [
    "indexes = sorted(list(match.keys()))[:185]\n",
    "treated_matched_index = indexes\n",
    "untreated_matched_index = []\n",
    "\n",
    "#Retrieve the values corresponding the the keys in the matching\n",
    "for i in treated_matched_index:\n",
    "    untreated_matched_index.append(match.get(i))"
   ]
  },
  {
   "cell_type": "code",
   "execution_count": 39,
   "metadata": {
    "collapsed": true
   },
   "outputs": [],
   "source": [
    "#untreated_matched_index\n",
    "treated_matched = score_treated.loc[treated_matched_index]\n",
    "untreated_matched = score_untreated.loc[untreated_matched_index]"
   ]
  },
  {
   "cell_type": "code",
   "execution_count": 40,
   "metadata": {
    "scrolled": false
   },
   "outputs": [
    {
     "data": {
      "text/html": [
       "<div>\n",
       "<style>\n",
       "    .dataframe thead tr:only-child th {\n",
       "        text-align: right;\n",
       "    }\n",
       "\n",
       "    .dataframe thead th {\n",
       "        text-align: left;\n",
       "    }\n",
       "\n",
       "    .dataframe tbody tr th {\n",
       "        vertical-align: top;\n",
       "    }\n",
       "</style>\n",
       "<table border=\"1\" class=\"dataframe\">\n",
       "  <thead>\n",
       "    <tr style=\"text-align: right;\">\n",
       "      <th></th>\n",
       "      <th>treat</th>\n",
       "      <th>age</th>\n",
       "      <th>educ</th>\n",
       "      <th>black</th>\n",
       "      <th>hispan</th>\n",
       "      <th>married</th>\n",
       "      <th>nodegree</th>\n",
       "      <th>re74</th>\n",
       "      <th>re75</th>\n",
       "      <th>re78</th>\n",
       "      <th>prop_0</th>\n",
       "      <th>prop_1</th>\n",
       "    </tr>\n",
       "    <tr>\n",
       "      <th>id</th>\n",
       "      <th></th>\n",
       "      <th></th>\n",
       "      <th></th>\n",
       "      <th></th>\n",
       "      <th></th>\n",
       "      <th></th>\n",
       "      <th></th>\n",
       "      <th></th>\n",
       "      <th></th>\n",
       "      <th></th>\n",
       "      <th></th>\n",
       "      <th></th>\n",
       "    </tr>\n",
       "  </thead>\n",
       "  <tbody>\n",
       "    <tr>\n",
       "      <th>NSW1</th>\n",
       "      <td>1</td>\n",
       "      <td>37</td>\n",
       "      <td>11</td>\n",
       "      <td>1</td>\n",
       "      <td>0</td>\n",
       "      <td>1</td>\n",
       "      <td>1</td>\n",
       "      <td>0.0</td>\n",
       "      <td>0.0</td>\n",
       "      <td>9930.046</td>\n",
       "      <td>0.541926</td>\n",
       "      <td>0.458074</td>\n",
       "    </tr>\n",
       "    <tr>\n",
       "      <th>NSW10</th>\n",
       "      <td>1</td>\n",
       "      <td>33</td>\n",
       "      <td>12</td>\n",
       "      <td>0</td>\n",
       "      <td>0</td>\n",
       "      <td>1</td>\n",
       "      <td>0</td>\n",
       "      <td>0.0</td>\n",
       "      <td>0.0</td>\n",
       "      <td>12418.070</td>\n",
       "      <td>0.913265</td>\n",
       "      <td>0.086735</td>\n",
       "    </tr>\n",
       "    <tr>\n",
       "      <th>NSW100</th>\n",
       "      <td>1</td>\n",
       "      <td>31</td>\n",
       "      <td>9</td>\n",
       "      <td>0</td>\n",
       "      <td>1</td>\n",
       "      <td>0</td>\n",
       "      <td>1</td>\n",
       "      <td>0.0</td>\n",
       "      <td>0.0</td>\n",
       "      <td>26817.600</td>\n",
       "      <td>0.787110</td>\n",
       "      <td>0.212890</td>\n",
       "    </tr>\n",
       "    <tr>\n",
       "      <th>NSW101</th>\n",
       "      <td>1</td>\n",
       "      <td>24</td>\n",
       "      <td>10</td>\n",
       "      <td>1</td>\n",
       "      <td>0</td>\n",
       "      <td>0</td>\n",
       "      <td>1</td>\n",
       "      <td>0.0</td>\n",
       "      <td>0.0</td>\n",
       "      <td>0.000</td>\n",
       "      <td>0.335811</td>\n",
       "      <td>0.664189</td>\n",
       "    </tr>\n",
       "    <tr>\n",
       "      <th>NSW102</th>\n",
       "      <td>1</td>\n",
       "      <td>26</td>\n",
       "      <td>10</td>\n",
       "      <td>1</td>\n",
       "      <td>0</td>\n",
       "      <td>0</td>\n",
       "      <td>1</td>\n",
       "      <td>0.0</td>\n",
       "      <td>0.0</td>\n",
       "      <td>9265.788</td>\n",
       "      <td>0.294593</td>\n",
       "      <td>0.705407</td>\n",
       "    </tr>\n",
       "  </tbody>\n",
       "</table>\n",
       "</div>"
      ],
      "text/plain": [
       "        treat  age  educ  black  hispan  married  nodegree  re74  re75  \\\n",
       "id                                                                       \n",
       "NSW1        1   37    11      1       0        1         1   0.0   0.0   \n",
       "NSW10       1   33    12      0       0        1         0   0.0   0.0   \n",
       "NSW100      1   31     9      0       1        0         1   0.0   0.0   \n",
       "NSW101      1   24    10      1       0        0         1   0.0   0.0   \n",
       "NSW102      1   26    10      1       0        0         1   0.0   0.0   \n",
       "\n",
       "             re78    prop_0    prop_1  \n",
       "id                                     \n",
       "NSW1     9930.046  0.541926  0.458074  \n",
       "NSW10   12418.070  0.913265  0.086735  \n",
       "NSW100  26817.600  0.787110  0.212890  \n",
       "NSW101      0.000  0.335811  0.664189  \n",
       "NSW102   9265.788  0.294593  0.705407  "
      ]
     },
     "execution_count": 40,
     "metadata": {},
     "output_type": "execute_result"
    }
   ],
   "source": [
    "treated_matched.head()"
   ]
  },
  {
   "cell_type": "code",
   "execution_count": 41,
   "metadata": {},
   "outputs": [
    {
     "data": {
      "text/html": [
       "<div>\n",
       "<style>\n",
       "    .dataframe thead tr:only-child th {\n",
       "        text-align: right;\n",
       "    }\n",
       "\n",
       "    .dataframe thead th {\n",
       "        text-align: left;\n",
       "    }\n",
       "\n",
       "    .dataframe tbody tr th {\n",
       "        vertical-align: top;\n",
       "    }\n",
       "</style>\n",
       "<table border=\"1\" class=\"dataframe\">\n",
       "  <thead>\n",
       "    <tr style=\"text-align: right;\">\n",
       "      <th></th>\n",
       "      <th>treat</th>\n",
       "      <th>age</th>\n",
       "      <th>educ</th>\n",
       "      <th>black</th>\n",
       "      <th>hispan</th>\n",
       "      <th>married</th>\n",
       "      <th>nodegree</th>\n",
       "      <th>re74</th>\n",
       "      <th>re75</th>\n",
       "      <th>re78</th>\n",
       "      <th>prop_0</th>\n",
       "      <th>prop_1</th>\n",
       "    </tr>\n",
       "    <tr>\n",
       "      <th>id</th>\n",
       "      <th></th>\n",
       "      <th></th>\n",
       "      <th></th>\n",
       "      <th></th>\n",
       "      <th></th>\n",
       "      <th></th>\n",
       "      <th></th>\n",
       "      <th></th>\n",
       "      <th></th>\n",
       "      <th></th>\n",
       "      <th></th>\n",
       "      <th></th>\n",
       "    </tr>\n",
       "  </thead>\n",
       "  <tbody>\n",
       "    <tr>\n",
       "      <th>PSID193</th>\n",
       "      <td>0</td>\n",
       "      <td>18</td>\n",
       "      <td>8</td>\n",
       "      <td>0</td>\n",
       "      <td>0</td>\n",
       "      <td>0</td>\n",
       "      <td>1</td>\n",
       "      <td>5023.56</td>\n",
       "      <td>1391.081</td>\n",
       "      <td>6756.166</td>\n",
       "      <td>0.817762</td>\n",
       "      <td>0.182238</td>\n",
       "    </tr>\n",
       "    <tr>\n",
       "      <th>PSID394</th>\n",
       "      <td>0</td>\n",
       "      <td>34</td>\n",
       "      <td>8</td>\n",
       "      <td>0</td>\n",
       "      <td>0</td>\n",
       "      <td>1</td>\n",
       "      <td>1</td>\n",
       "      <td>0.00</td>\n",
       "      <td>0.000</td>\n",
       "      <td>2664.341</td>\n",
       "      <td>0.913108</td>\n",
       "      <td>0.086892</td>\n",
       "    </tr>\n",
       "    <tr>\n",
       "      <th>PSID185</th>\n",
       "      <td>0</td>\n",
       "      <td>18</td>\n",
       "      <td>10</td>\n",
       "      <td>0</td>\n",
       "      <td>0</td>\n",
       "      <td>0</td>\n",
       "      <td>1</td>\n",
       "      <td>0.00</td>\n",
       "      <td>1491.339</td>\n",
       "      <td>237.914</td>\n",
       "      <td>0.812520</td>\n",
       "      <td>0.187480</td>\n",
       "    </tr>\n",
       "    <tr>\n",
       "      <th>PSID184</th>\n",
       "      <td>0</td>\n",
       "      <td>17</td>\n",
       "      <td>10</td>\n",
       "      <td>0</td>\n",
       "      <td>0</td>\n",
       "      <td>0</td>\n",
       "      <td>1</td>\n",
       "      <td>0.00</td>\n",
       "      <td>1503.871</td>\n",
       "      <td>7843.773</td>\n",
       "      <td>0.779763</td>\n",
       "      <td>0.220237</td>\n",
       "    </tr>\n",
       "    <tr>\n",
       "      <th>PSID389</th>\n",
       "      <td>0</td>\n",
       "      <td>18</td>\n",
       "      <td>11</td>\n",
       "      <td>1</td>\n",
       "      <td>0</td>\n",
       "      <td>0</td>\n",
       "      <td>1</td>\n",
       "      <td>0.00</td>\n",
       "      <td>0.000</td>\n",
       "      <td>7146.286</td>\n",
       "      <td>0.295241</td>\n",
       "      <td>0.704759</td>\n",
       "    </tr>\n",
       "  </tbody>\n",
       "</table>\n",
       "</div>"
      ],
      "text/plain": [
       "         treat  age  educ  black  hispan  married  nodegree     re74  \\\n",
       "id                                                                     \n",
       "PSID193      0   18     8      0       0        0         1  5023.56   \n",
       "PSID394      0   34     8      0       0        1         1     0.00   \n",
       "PSID185      0   18    10      0       0        0         1     0.00   \n",
       "PSID184      0   17    10      0       0        0         1     0.00   \n",
       "PSID389      0   18    11      1       0        0         1     0.00   \n",
       "\n",
       "             re75      re78    prop_0    prop_1  \n",
       "id                                               \n",
       "PSID193  1391.081  6756.166  0.817762  0.182238  \n",
       "PSID394     0.000  2664.341  0.913108  0.086892  \n",
       "PSID185  1491.339   237.914  0.812520  0.187480  \n",
       "PSID184  1503.871  7843.773  0.779763  0.220237  \n",
       "PSID389     0.000  7146.286  0.295241  0.704759  "
      ]
     },
     "execution_count": 41,
     "metadata": {},
     "output_type": "execute_result"
    }
   ],
   "source": [
    "untreated_matched.head()"
   ]
  },
  {
   "cell_type": "markdown",
   "metadata": {},
   "source": [
    "After matching, we have as many treated subjects as controls. Now we are going to make the simplified version of the analysis that we've done in parts 1 & 2."
   ]
  },
  {
   "cell_type": "markdown",
   "metadata": {},
   "source": [
    "First, compare the distribution of the variable 're78' between groups."
   ]
  },
  {
   "cell_type": "code",
   "execution_count": 42,
   "metadata": {
    "scrolled": false
   },
   "outputs": [
    {
     "data": {
      "image/png": "[encoded data removed]",
      "text/plain": [
       "<matplotlib.figure.Figure at 0x1168a0b00>"
      ]
     },
     "metadata": {},
     "output_type": "display_data"
    },
    {
     "name": "stdout",
     "output_type": "stream",
     "text": [
      "Satistics of Untreated subjects by Income in year 1978\n",
      "\n",
      "count      185.000000\n",
      "mean      5828.584903\n",
      "std       6094.306306\n",
      "min          0.000000\n",
      "25%        237.914000\n",
      "50%       4112.513000\n",
      "75%       8957.978000\n",
      "max      25564.670000\n",
      "Name: re78, dtype: float64\n",
      "\n",
      "\n",
      "Satistics of Treated subjects by Income in year 1978\n",
      "\n",
      "count      185.000000\n",
      "mean      6349.143530\n",
      "std       7867.402218\n",
      "min          0.000000\n",
      "25%        485.229800\n",
      "50%       4232.309000\n",
      "75%       9642.999000\n",
      "max      60307.930000\n",
      "Name: re78, dtype: float64\n"
     ]
    }
   ],
   "source": [
    "earnings = ['re78']\n",
    "for e in earnings:\n",
    "    title = 'Income in year 19{}'.format(e[2:])\n",
    "    compare_distributions(untreated_matched, treated_matched, e, title)"
   ]
  },
  {
   "cell_type": "markdown",
   "metadata": {},
   "source": [
    "Then, compare the feature-value distributions between the two groups, as we've done in part 2."
   ]
  },
  {
   "cell_type": "code",
   "execution_count": 43,
   "metadata": {},
   "outputs": [
    {
     "data": {
      "image/png": "[encoded data removed]",
      "text/plain": [
       "<matplotlib.figure.Figure at 0x116b306a0>"
      ]
     },
     "metadata": {},
     "output_type": "display_data"
    },
    {
     "name": "stdout",
     "output_type": "stream",
     "text": [
      "Satistics of Untreated subjects by education\n",
      "\n",
      "count    185.000000\n",
      "mean      23.167568\n",
      "std        9.337805\n",
      "min       16.000000\n",
      "25%       17.000000\n",
      "50%       19.000000\n",
      "75%       24.000000\n",
      "max       55.000000\n",
      "Name: age, dtype: float64\n",
      "\n",
      "\n",
      "Satistics of Treated subjects by education\n",
      "\n",
      "count    185.000000\n",
      "mean      25.816216\n",
      "std        7.155019\n",
      "min       17.000000\n",
      "25%       20.000000\n",
      "50%       25.000000\n",
      "75%       29.000000\n",
      "max       48.000000\n",
      "Name: age, dtype: float64\n"
     ]
    }
   ],
   "source": [
    "compare_distributions(untreated_matched, treated_matched, 'age', 'education')"
   ]
  },
  {
   "cell_type": "code",
   "execution_count": 44,
   "metadata": {},
   "outputs": [
    {
     "data": {
      "image/png": "[encoded data removed]",
      "text/plain": [
       "<matplotlib.figure.Figure at 0x11922feb8>"
      ]
     },
     "metadata": {},
     "output_type": "display_data"
    },
    {
     "name": "stdout",
     "output_type": "stream",
     "text": [
      "Satistics of Untreated subjects by education\n",
      "\n",
      "count    185.000000\n",
      "mean       9.864865\n",
      "std        2.775692\n",
      "min        0.000000\n",
      "25%        8.000000\n",
      "50%       10.000000\n",
      "75%       12.000000\n",
      "max       17.000000\n",
      "Name: educ, dtype: float64\n",
      "\n",
      "\n",
      "Satistics of Treated subjects by education\n",
      "\n",
      "count    185.000000\n",
      "mean      10.345946\n",
      "std        2.010650\n",
      "min        4.000000\n",
      "25%        9.000000\n",
      "50%       11.000000\n",
      "75%       12.000000\n",
      "max       16.000000\n",
      "Name: educ, dtype: float64\n"
     ]
    }
   ],
   "source": [
    "compare_distributions(untreated_matched, treated_matched, 'educ', 'education')"
   ]
  },
  {
   "cell_type": "code",
   "execution_count": 45,
   "metadata": {},
   "outputs": [
    {
     "data": {
      "image/png": "[encoded data removed]",
      "text/plain": [
       "<matplotlib.figure.Figure at 0x116f65c18>"
      ]
     },
     "metadata": {},
     "output_type": "display_data"
    }
   ],
   "source": [
    "compare_feature_value(treated_matched, untreated_matched)"
   ]
  },
  {
   "cell_type": "markdown",
   "metadata": {},
   "source": [
    "As we can see from these figures, matches were (almost) reasonably accurate. \n",
    "What we can derive from these results is that balancing the data reveals that the treatment seems effective since the mean value 're78' (income level) is higher in treated group. This is the opposite of what we've observed before balancing the groups. However, we need to do more analysis (e.g. balance 'black' variable between groups) to make sure that this inference is true but we are clearly, closer to being able to draw valid conclusions now than before."
   ]
  },
  {
   "cell_type": "markdown",
   "metadata": {},
   "source": [
    "## 1.5 Balancing the Groups Further"
   ]
  },
  {
   "cell_type": "markdown",
   "metadata": {},
   "source": [
    "Let's look closer into our new DataFrame and see if it's balanced."
   ]
  },
  {
   "cell_type": "code",
   "execution_count": 46,
   "metadata": {
    "collapsed": true
   },
   "outputs": [],
   "source": [
    "balanced = treated_matched.append(untreated_matched)"
   ]
  },
  {
   "cell_type": "code",
   "execution_count": 47,
   "metadata": {
    "scrolled": false
   },
   "outputs": [
    {
     "data": {
      "text/html": [
       "<div>\n",
       "<style>\n",
       "    .dataframe thead tr:only-child th {\n",
       "        text-align: right;\n",
       "    }\n",
       "\n",
       "    .dataframe thead th {\n",
       "        text-align: left;\n",
       "    }\n",
       "\n",
       "    .dataframe tbody tr th {\n",
       "        vertical-align: top;\n",
       "    }\n",
       "</style>\n",
       "<table border=\"1\" class=\"dataframe\">\n",
       "  <thead>\n",
       "    <tr style=\"text-align: right;\">\n",
       "      <th></th>\n",
       "      <th>treat</th>\n",
       "      <th>age</th>\n",
       "      <th>educ</th>\n",
       "      <th>black</th>\n",
       "      <th>hispan</th>\n",
       "      <th>married</th>\n",
       "      <th>nodegree</th>\n",
       "      <th>re74</th>\n",
       "      <th>re75</th>\n",
       "      <th>re78</th>\n",
       "      <th>prop_0</th>\n",
       "      <th>prop_1</th>\n",
       "    </tr>\n",
       "  </thead>\n",
       "  <tbody>\n",
       "    <tr>\n",
       "      <th>count</th>\n",
       "      <td>370.000000</td>\n",
       "      <td>370.000000</td>\n",
       "      <td>370.000000</td>\n",
       "      <td>370.000000</td>\n",
       "      <td>370.000000</td>\n",
       "      <td>370.000000</td>\n",
       "      <td>370.000000</td>\n",
       "      <td>370.000000</td>\n",
       "      <td>370.000000</td>\n",
       "      <td>370.000000</td>\n",
       "      <td>370.000000</td>\n",
       "      <td>370.000000</td>\n",
       "    </tr>\n",
       "    <tr>\n",
       "      <th>mean</th>\n",
       "      <td>0.500000</td>\n",
       "      <td>24.491892</td>\n",
       "      <td>10.105405</td>\n",
       "      <td>0.656757</td>\n",
       "      <td>0.081081</td>\n",
       "      <td>0.186486</td>\n",
       "      <td>0.691892</td>\n",
       "      <td>2181.979934</td>\n",
       "      <td>1601.096992</td>\n",
       "      <td>6088.864217</td>\n",
       "      <td>0.533536</td>\n",
       "      <td>0.466464</td>\n",
       "    </tr>\n",
       "    <tr>\n",
       "      <th>std</th>\n",
       "      <td>0.500677</td>\n",
       "      <td>8.412224</td>\n",
       "      <td>2.432219</td>\n",
       "      <td>0.475435</td>\n",
       "      <td>0.273329</td>\n",
       "      <td>0.390026</td>\n",
       "      <td>0.462337</td>\n",
       "      <td>4581.758779</td>\n",
       "      <td>2983.674365</td>\n",
       "      <td>7032.213485</td>\n",
       "      <td>0.237978</td>\n",
       "      <td>0.237978</td>\n",
       "    </tr>\n",
       "    <tr>\n",
       "      <th>min</th>\n",
       "      <td>0.000000</td>\n",
       "      <td>16.000000</td>\n",
       "      <td>0.000000</td>\n",
       "      <td>0.000000</td>\n",
       "      <td>0.000000</td>\n",
       "      <td>0.000000</td>\n",
       "      <td>0.000000</td>\n",
       "      <td>0.000000</td>\n",
       "      <td>0.000000</td>\n",
       "      <td>0.000000</td>\n",
       "      <td>0.114378</td>\n",
       "      <td>0.036175</td>\n",
       "    </tr>\n",
       "    <tr>\n",
       "      <th>25%</th>\n",
       "      <td>0.000000</td>\n",
       "      <td>18.000000</td>\n",
       "      <td>9.000000</td>\n",
       "      <td>0.000000</td>\n",
       "      <td>0.000000</td>\n",
       "      <td>0.000000</td>\n",
       "      <td>0.000000</td>\n",
       "      <td>0.000000</td>\n",
       "      <td>0.000000</td>\n",
       "      <td>322.999875</td>\n",
       "      <td>0.311395</td>\n",
       "      <td>0.206591</td>\n",
       "    </tr>\n",
       "    <tr>\n",
       "      <th>50%</th>\n",
       "      <td>0.500000</td>\n",
       "      <td>22.000000</td>\n",
       "      <td>10.000000</td>\n",
       "      <td>1.000000</td>\n",
       "      <td>0.000000</td>\n",
       "      <td>0.000000</td>\n",
       "      <td>1.000000</td>\n",
       "      <td>0.000000</td>\n",
       "      <td>132.483850</td>\n",
       "      <td>4207.125500</td>\n",
       "      <td>0.457361</td>\n",
       "      <td>0.542639</td>\n",
       "    </tr>\n",
       "    <tr>\n",
       "      <th>75%</th>\n",
       "      <td>1.000000</td>\n",
       "      <td>27.000000</td>\n",
       "      <td>12.000000</td>\n",
       "      <td>1.000000</td>\n",
       "      <td>0.000000</td>\n",
       "      <td>0.000000</td>\n",
       "      <td>1.000000</td>\n",
       "      <td>1932.604250</td>\n",
       "      <td>1955.032250</td>\n",
       "      <td>9344.724750</td>\n",
       "      <td>0.793409</td>\n",
       "      <td>0.688605</td>\n",
       "    </tr>\n",
       "    <tr>\n",
       "      <th>max</th>\n",
       "      <td>1.000000</td>\n",
       "      <td>55.000000</td>\n",
       "      <td>17.000000</td>\n",
       "      <td>1.000000</td>\n",
       "      <td>1.000000</td>\n",
       "      <td>1.000000</td>\n",
       "      <td>1.000000</td>\n",
       "      <td>35040.070000</td>\n",
       "      <td>25142.240000</td>\n",
       "      <td>60307.930000</td>\n",
       "      <td>0.963825</td>\n",
       "      <td>0.885622</td>\n",
       "    </tr>\n",
       "  </tbody>\n",
       "</table>\n",
       "</div>"
      ],
      "text/plain": [
       "            treat         age        educ       black      hispan     married  \\\n",
       "count  370.000000  370.000000  370.000000  370.000000  370.000000  370.000000   \n",
       "mean     0.500000   24.491892   10.105405    0.656757    0.081081    0.186486   \n",
       "std      0.500677    8.412224    2.432219    0.475435    0.273329    0.390026   \n",
       "min      0.000000   16.000000    0.000000    0.000000    0.000000    0.000000   \n",
       "25%      0.000000   18.000000    9.000000    0.000000    0.000000    0.000000   \n",
       "50%      0.500000   22.000000   10.000000    1.000000    0.000000    0.000000   \n",
       "75%      1.000000   27.000000   12.000000    1.000000    0.000000    0.000000   \n",
       "max      1.000000   55.000000   17.000000    1.000000    1.000000    1.000000   \n",
       "\n",
       "         nodegree          re74          re75          re78      prop_0  \\\n",
       "count  370.000000    370.000000    370.000000    370.000000  370.000000   \n",
       "mean     0.691892   2181.979934   1601.096992   6088.864217    0.533536   \n",
       "std      0.462337   4581.758779   2983.674365   7032.213485    0.237978   \n",
       "min      0.000000      0.000000      0.000000      0.000000    0.114378   \n",
       "25%      0.000000      0.000000      0.000000    322.999875    0.311395   \n",
       "50%      1.000000      0.000000    132.483850   4207.125500    0.457361   \n",
       "75%      1.000000   1932.604250   1955.032250   9344.724750    0.793409   \n",
       "max      1.000000  35040.070000  25142.240000  60307.930000    0.963825   \n",
       "\n",
       "           prop_1  \n",
       "count  370.000000  \n",
       "mean     0.466464  \n",
       "std      0.237978  \n",
       "min      0.036175  \n",
       "25%      0.206591  \n",
       "50%      0.542639  \n",
       "75%      0.688605  \n",
       "max      0.885622  "
      ]
     },
     "execution_count": 47,
     "metadata": {},
     "output_type": "execute_result"
    }
   ],
   "source": [
    "balanced.describe()"
   ]
  },
  {
   "cell_type": "markdown",
   "metadata": {},
   "source": [
    "Out of our matched set, we saw that the black feature was problematic, so in order to get a more accurate match, so we filter our previous match, and take only the matches that have the same *black* attribute"
   ]
  },
  {
   "cell_type": "code",
   "execution_count": 48,
   "metadata": {
    "collapsed": true,
    "scrolled": true
   },
   "outputs": [],
   "source": [
    "a = treated_matched.index\n",
    "b = untreated_matched.index\n",
    "idx = []\n",
    "for i in range(len(a)):\n",
    "    if treated_matched.loc[a[i]].black == untreated_matched.loc[b[i]].black:\n",
    "        idx.append(a[i])\n",
    "        idx.append(b[i])\n",
    "black_balanced = treated_matched.append(untreated_matched).loc[idx]"
   ]
  },
  {
   "cell_type": "code",
   "execution_count": 49,
   "metadata": {},
   "outputs": [
    {
     "data": {
      "text/html": [
       "<div>\n",
       "<style>\n",
       "    .dataframe thead tr:only-child th {\n",
       "        text-align: right;\n",
       "    }\n",
       "\n",
       "    .dataframe thead th {\n",
       "        text-align: left;\n",
       "    }\n",
       "\n",
       "    .dataframe tbody tr th {\n",
       "        vertical-align: top;\n",
       "    }\n",
       "</style>\n",
       "<table border=\"1\" class=\"dataframe\">\n",
       "  <thead>\n",
       "    <tr style=\"text-align: right;\">\n",
       "      <th></th>\n",
       "      <th>treat</th>\n",
       "      <th>age</th>\n",
       "      <th>educ</th>\n",
       "      <th>black</th>\n",
       "      <th>hispan</th>\n",
       "      <th>married</th>\n",
       "      <th>nodegree</th>\n",
       "      <th>re74</th>\n",
       "      <th>re75</th>\n",
       "      <th>re78</th>\n",
       "      <th>prop_0</th>\n",
       "      <th>prop_1</th>\n",
       "    </tr>\n",
       "    <tr>\n",
       "      <th>id</th>\n",
       "      <th></th>\n",
       "      <th></th>\n",
       "      <th></th>\n",
       "      <th></th>\n",
       "      <th></th>\n",
       "      <th></th>\n",
       "      <th></th>\n",
       "      <th></th>\n",
       "      <th></th>\n",
       "      <th></th>\n",
       "      <th></th>\n",
       "      <th></th>\n",
       "    </tr>\n",
       "  </thead>\n",
       "  <tbody>\n",
       "    <tr>\n",
       "      <th>NSW10</th>\n",
       "      <td>1</td>\n",
       "      <td>33</td>\n",
       "      <td>12</td>\n",
       "      <td>0</td>\n",
       "      <td>0</td>\n",
       "      <td>1</td>\n",
       "      <td>0</td>\n",
       "      <td>0.0</td>\n",
       "      <td>0.000</td>\n",
       "      <td>12418.070</td>\n",
       "      <td>0.913265</td>\n",
       "      <td>0.086735</td>\n",
       "    </tr>\n",
       "    <tr>\n",
       "      <th>PSID394</th>\n",
       "      <td>0</td>\n",
       "      <td>34</td>\n",
       "      <td>8</td>\n",
       "      <td>0</td>\n",
       "      <td>0</td>\n",
       "      <td>1</td>\n",
       "      <td>1</td>\n",
       "      <td>0.0</td>\n",
       "      <td>0.000</td>\n",
       "      <td>2664.341</td>\n",
       "      <td>0.913108</td>\n",
       "      <td>0.086892</td>\n",
       "    </tr>\n",
       "    <tr>\n",
       "      <th>NSW100</th>\n",
       "      <td>1</td>\n",
       "      <td>31</td>\n",
       "      <td>9</td>\n",
       "      <td>0</td>\n",
       "      <td>1</td>\n",
       "      <td>0</td>\n",
       "      <td>1</td>\n",
       "      <td>0.0</td>\n",
       "      <td>0.000</td>\n",
       "      <td>26817.600</td>\n",
       "      <td>0.787110</td>\n",
       "      <td>0.212890</td>\n",
       "    </tr>\n",
       "    <tr>\n",
       "      <th>PSID185</th>\n",
       "      <td>0</td>\n",
       "      <td>18</td>\n",
       "      <td>10</td>\n",
       "      <td>0</td>\n",
       "      <td>0</td>\n",
       "      <td>0</td>\n",
       "      <td>1</td>\n",
       "      <td>0.0</td>\n",
       "      <td>1491.339</td>\n",
       "      <td>237.914</td>\n",
       "      <td>0.812520</td>\n",
       "      <td>0.187480</td>\n",
       "    </tr>\n",
       "    <tr>\n",
       "      <th>NSW102</th>\n",
       "      <td>1</td>\n",
       "      <td>26</td>\n",
       "      <td>10</td>\n",
       "      <td>1</td>\n",
       "      <td>0</td>\n",
       "      <td>0</td>\n",
       "      <td>1</td>\n",
       "      <td>0.0</td>\n",
       "      <td>0.000</td>\n",
       "      <td>9265.788</td>\n",
       "      <td>0.294593</td>\n",
       "      <td>0.705407</td>\n",
       "    </tr>\n",
       "  </tbody>\n",
       "</table>\n",
       "</div>"
      ],
      "text/plain": [
       "         treat  age  educ  black  hispan  married  nodegree  re74      re75  \\\n",
       "id                                                                            \n",
       "NSW10        1   33    12      0       0        1         0   0.0     0.000   \n",
       "PSID394      0   34     8      0       0        1         1   0.0     0.000   \n",
       "NSW100       1   31     9      0       1        0         1   0.0     0.000   \n",
       "PSID185      0   18    10      0       0        0         1   0.0  1491.339   \n",
       "NSW102       1   26    10      1       0        0         1   0.0     0.000   \n",
       "\n",
       "              re78    prop_0    prop_1  \n",
       "id                                      \n",
       "NSW10    12418.070  0.913265  0.086735  \n",
       "PSID394   2664.341  0.913108  0.086892  \n",
       "NSW100   26817.600  0.787110  0.212890  \n",
       "PSID185    237.914  0.812520  0.187480  \n",
       "NSW102    9265.788  0.294593  0.705407  "
      ]
     },
     "execution_count": 49,
     "metadata": {},
     "output_type": "execute_result"
    }
   ],
   "source": [
    "black_balanced.head()"
   ]
  },
  {
   "cell_type": "code",
   "execution_count": 50,
   "metadata": {
    "collapsed": true
   },
   "outputs": [],
   "source": [
    "black_balanced_treated = black_balanced[black_balanced['treat']== 1]\n",
    "black_balanced_untreated = black_balanced[black_balanced['treat']== 0]"
   ]
  },
  {
   "cell_type": "code",
   "execution_count": 51,
   "metadata": {},
   "outputs": [
    {
     "data": {
      "image/png": "[encoded data removed]",
      "text/plain": [
       "<matplotlib.figure.Figure at 0x11946d128>"
      ]
     },
     "metadata": {},
     "output_type": "display_data"
    }
   ],
   "source": [
    "compare_feature_value(black_balanced_treated, black_balanced_untreated)"
   ]
  },
  {
   "cell_type": "markdown",
   "metadata": {},
   "source": [
    "Now as we can see from the barplots, the black attribute is perfectly balanced."
   ]
  },
  {
   "cell_type": "markdown",
   "metadata": {},
   "source": [
    "We do the same operation for the varible 'married', in order to balance the data more."
   ]
  },
  {
   "cell_type": "code",
   "execution_count": 52,
   "metadata": {
    "collapsed": true
   },
   "outputs": [],
   "source": [
    "a = black_balanced_treated.index\n",
    "b = black_balanced_untreated.index\n",
    "idx = []\n",
    "for i in range(len(a)):\n",
    "    if black_balanced_treated.loc[a[i]].married == black_balanced_untreated.loc[b[i]].married:\n",
    "        idx.append(a[i])\n",
    "        idx.append(b[i])\n",
    "married_balanced = black_balanced_treated.append(black_balanced_untreated).loc[idx]"
   ]
  },
  {
   "cell_type": "code",
   "execution_count": 53,
   "metadata": {},
   "outputs": [
    {
     "data": {
      "image/png": "[encoded data removed]",
      "text/plain": [
       "<matplotlib.figure.Figure at 0x119229f60>"
      ]
     },
     "metadata": {},
     "output_type": "display_data"
    }
   ],
   "source": [
    "married_balanced_treated = married_balanced[married_balanced['treat']== 1]\n",
    "married_balanced_untreated = married_balanced[married_balanced['treat']== 0]\n",
    "compare_feature_value(married_balanced_treated, married_balanced_untreated)"
   ]
  },
  {
   "cell_type": "markdown",
   "metadata": {},
   "source": [
    "We can now say that all variables are balanced among groups."
   ]
  },
  {
   "cell_type": "markdown",
   "metadata": {},
   "source": [
    "## 1.6 A Less Naive Analysis"
   ]
  },
  {
   "cell_type": "code",
   "execution_count": 54,
   "metadata": {
    "collapsed": true
   },
   "outputs": [],
   "source": [
    "r78_treated_final = married_balanced_treated['re78']\n",
    "r78_untreated_final = married_balanced_untreated['re78']"
   ]
  },
  {
   "cell_type": "markdown",
   "metadata": {},
   "source": [
    "**Kolmogorov-Smirnov Test**"
   ]
  },
  {
   "cell_type": "code",
   "execution_count": 55,
   "metadata": {},
   "outputs": [
    {
     "data": {
      "text/plain": [
       "Ks_2sampResult(statistic=0.10526315789473689, pvalue=0.52975702514673861)"
      ]
     },
     "execution_count": 55,
     "metadata": {},
     "output_type": "execute_result"
    }
   ],
   "source": [
    "stats.ks_2samp(black_balanced_treated['re78'], black_balanced_untreated['re78'])"
   ]
  },
  {
   "cell_type": "markdown",
   "metadata": {},
   "source": [
    "$p-value \\geqslant 0.05$  So again, there is a difference betwen the distribtuion of the variable 're78' between two groups. But this time we expect the mean value of 'r78' variable (that is avarege income) to be higher for the tretated group (and not vice-versa as we found with naive analysis in parts 1-2)."
   ]
  },
  {
   "cell_type": "markdown",
   "metadata": {},
   "source": [
    "**Visual Comparison**"
   ]
  },
  {
   "cell_type": "code",
   "execution_count": 56,
   "metadata": {},
   "outputs": [
    {
     "data": {
      "text/plain": [
       "<matplotlib.axes._subplots.AxesSubplot at 0x116818978>"
      ]
     },
     "execution_count": 56,
     "metadata": {},
     "output_type": "execute_result"
    },
    {
     "data": {
      "image/png": "[encoded data removed]",
      "text/plain": [
       "<matplotlib.figure.Figure at 0x116929860>"
      ]
     },
     "metadata": {},
     "output_type": "display_data"
    }
   ],
   "source": [
    "sns.distplot(r78_treated_final)"
   ]
  },
  {
   "cell_type": "code",
   "execution_count": 57,
   "metadata": {},
   "outputs": [
    {
     "data": {
      "text/plain": [
       "<matplotlib.axes._subplots.AxesSubplot at 0x1192e1f60>"
      ]
     },
     "execution_count": 57,
     "metadata": {},
     "output_type": "execute_result"
    },
    {
     "data": {
      "image/png": "[encoded data removed]",
      "text/plain": [
       "<matplotlib.figure.Figure at 0x1192195c0>"
      ]
     },
     "metadata": {},
     "output_type": "display_data"
    }
   ],
   "source": [
    "sns.distplot(r78_untreated_final)"
   ]
  },
  {
   "cell_type": "code",
   "execution_count": 58,
   "metadata": {
    "scrolled": true
   },
   "outputs": [
    {
     "data": {
      "text/plain": [
       "count       93.000000\n",
       "mean      5329.444775\n",
       "std       6291.016296\n",
       "min          0.000000\n",
       "25%         54.675880\n",
       "50%       3057.416000\n",
       "75%       7759.542000\n",
       "max      25564.670000\n",
       "Name: re78, dtype: float64"
      ]
     },
     "execution_count": 58,
     "metadata": {},
     "output_type": "execute_result"
    }
   ],
   "source": [
    "r78_untreated_final.describe()"
   ]
  },
  {
   "cell_type": "code",
   "execution_count": 59,
   "metadata": {},
   "outputs": [
    {
     "data": {
      "text/plain": [
       "count       93.000000\n",
       "mean      6958.501457\n",
       "std       8719.383874\n",
       "min          0.000000\n",
       "25%        762.914600\n",
       "50%       4941.849000\n",
       "75%      10747.350000\n",
       "max      60307.930000\n",
       "Name: re78, dtype: float64"
      ]
     },
     "execution_count": 59,
     "metadata": {},
     "output_type": "execute_result"
    }
   ],
   "source": [
    "r78_treated_final.describe()"
   ]
  },
  {
   "cell_type": "markdown",
   "metadata": {},
   "source": [
    "From these plots and the stats, it seems that the income of treated group is higher meaning that the **treatment is effective**."
   ]
  },
  {
   "cell_type": "markdown",
   "metadata": {},
   "source": [
    "To further analyze the distribution of the variable 'r78' between groups:"
   ]
  },
  {
   "cell_type": "code",
   "execution_count": 60,
   "metadata": {
    "scrolled": false
   },
   "outputs": [
    {
     "data": {
      "image/png": "[encoded data removed]",
      "text/plain": [
       "<matplotlib.figure.Figure at 0x119182128>"
      ]
     },
     "metadata": {},
     "output_type": "display_data"
    },
    {
     "name": "stdout",
     "output_type": "stream",
     "text": [
      "Satistics of Untreated subjects by Income in year 1978\n",
      "\n",
      "count       93.000000\n",
      "mean      5329.444775\n",
      "std       6291.016296\n",
      "min          0.000000\n",
      "25%         54.675880\n",
      "50%       3057.416000\n",
      "75%       7759.542000\n",
      "max      25564.670000\n",
      "Name: re78, dtype: float64\n",
      "\n",
      "\n",
      "Satistics of Treated subjects by Income in year 1978\n",
      "\n",
      "count       93.000000\n",
      "mean      6958.501457\n",
      "std       8719.383874\n",
      "min          0.000000\n",
      "25%        762.914600\n",
      "50%       4941.849000\n",
      "75%      10747.350000\n",
      "max      60307.930000\n",
      "Name: re78, dtype: float64\n"
     ]
    }
   ],
   "source": [
    "year_variables = ['re78']\n",
    "for year in year_variables:\n",
    "    title = 'Income in year 19{}'.format(year[2:])\n",
    "    compare_distributions(married_balanced_untreated, married_balanced_treated, year, title)"
   ]
  },
  {
   "cell_type": "markdown",
   "metadata": {},
   "source": [
    "From the the **re78** plot and the numbers, we can conclude that the treatment is effective, as the quantiles are larger **(robust statistics)**."
   ]
  },
  {
   "cell_type": "markdown",
   "metadata": {},
   "source": [
    "**To summarize the findings once more, what we've found with naive analysis in parts 1-2 is that the treatment is ineffective, but this finding is not very reliable because the two groups were not balanced. But after we've matched the groups and balanced them, we've found that the treatment is actually effective.**"
   ]
  },
  {
   "cell_type": "markdown",
   "metadata": {},
   "source": [
    "# 2 Applied ML"
   ]
  },
  {
   "cell_type": "markdown",
   "metadata": {},
   "source": [
    "## 2.1"
   ]
  },
  {
   "cell_type": "markdown",
   "metadata": {},
   "source": [
    "### Load the *20newsgroup* Dataset"
   ]
  },
  {
   "cell_type": "code",
   "execution_count": 5,
   "metadata": {
    "scrolled": false
   },
   "outputs": [
    {
     "name": "stdout",
     "output_type": "stream",
     "text": [
      "11314 documents\n",
      "20 categories\n"
     ]
    }
   ],
   "source": [
    "newsgroup = fetch_20newsgroups(subset='train',remove=('headers', 'footers', 'quotes'))\n",
    "\n",
    "print(\"%d documents\" % len(newsgroup.filenames))\n",
    "print(\"%d categories\" % len(newsgroup.target_names))"
   ]
  },
  {
   "cell_type": "markdown",
   "metadata": {},
   "source": [
    "### Compute vectors using TF-IDF scores"
   ]
  },
  {
   "cell_type": "code",
   "execution_count": 6,
   "metadata": {},
   "outputs": [
    {
     "name": "stdout",
     "output_type": "stream",
     "text": [
      "11314 vectors\n"
     ]
    }
   ],
   "source": [
    "vectorizer = TfidfVectorizer()\n",
    "vectors = vectorizer.fit_transform(newsgroup.data)\n",
    "\n",
    "print(\"%d vectors\" % len(vectors.todense()))"
   ]
  },
  {
   "cell_type": "markdown",
   "metadata": {},
   "source": [
    "### Pair category of each article"
   ]
  },
  {
   "cell_type": "code",
   "execution_count": 7,
   "metadata": {
    "collapsed": true
   },
   "outputs": [],
   "source": [
    "catregory_ref = dict()\n",
    "for i,k  in enumerate(newsgroup['target_names']):\n",
    "    catregory_ref[k] = i"
   ]
  },
  {
   "cell_type": "code",
   "execution_count": 8,
   "metadata": {
    "collapsed": true
   },
   "outputs": [],
   "source": [
    "extract_category = lambda filename: catregory_ref[filename.split(\"/\")[6]]\n",
    "category_func = np.vectorize(extract_category)\n",
    "category = np.transpose(csr_matrix(category_func(newsgroup['filenames'])))"
   ]
  },
  {
   "cell_type": "markdown",
   "metadata": {},
   "source": [
    "### Split the data into train, validation and test sets"
   ]
  },
  {
   "cell_type": "code",
   "execution_count": 9,
   "metadata": {},
   "outputs": [
    {
     "name": "stdout",
     "output_type": "stream",
     "text": [
      "9061 articles in train dataset\n",
      "1121 articles in validation dataset\n",
      "1132 articles in test dataset\n"
     ]
    }
   ],
   "source": [
    "x = vectors\n",
    "y = category\n",
    "x_train, x_test, y_train, y_test = train_test_split(x, y, test_size=0.1)\n",
    "x_train, x_validation, y_train, y_validation = train_test_split(x_train, y_train, test_size=0.11)\n",
    "\n",
    "print(\"%d articles in train dataset\" % len(x_train.todense()))\n",
    "print(\"%d articles in validation dataset\" % len(x_validation.todense()))\n",
    "print(\"%d articles in test dataset\" % len(x_test.todense()))\n"
   ]
  },
  {
   "cell_type": "markdown",
   "metadata": {},
   "source": [
    "## 2.2"
   ]
  },
  {
   "cell_type": "code",
   "execution_count": 10,
   "metadata": {
    "collapsed": true
   },
   "outputs": [],
   "source": [
    "def random_forest_accuracy(x_train, y_train, x_validation, y_validation, max_depth, n_estimators):\n",
    "    clf = RandomForestClassifier(max_depth=max_depth, n_estimators=n_estimators)\n",
    "    clf.fit(x_train.todense(), np.ravel(y_train.todense()))\n",
    "    \n",
    "    return accuracy_score(y_validation.todense(), clf.predict(x_validation.todense()))"
   ]
  },
  {
   "cell_type": "markdown",
   "metadata": {},
   "source": [
    "### Grid search on *max_depth* and *n_estimators*"
   ]
  },
  {
   "cell_type": "code",
   "execution_count": 16,
   "metadata": {},
   "outputs": [
    {
     "name": "stdout",
     "output_type": "stream",
     "text": [
      "Accuracy = 0.612846 for n_estimators = 70, max_depth = 70\n",
      "Accuracy = 0.620874 for n_estimators = 70, max_depth = 90\n",
      "Accuracy = 0.616414 for n_estimators = 70, max_depth = 110\n",
      "Accuracy = 0.623550 for n_estimators = 90, max_depth = 70\n",
      "Accuracy = 0.622658 for n_estimators = 90, max_depth = 90\n",
      "Accuracy = 0.638715 for n_estimators = 90, max_depth = 110\n",
      "Accuracy = 0.612846 for n_estimators = 110, max_depth = 70\n",
      "Accuracy = 0.626227 for n_estimators = 110, max_depth = 90\n",
      "Accuracy = 0.629795 for n_estimators = 110, max_depth = 110\n",
      "The best accuracy score 0.638715 is obtained by parameters {'n_estimators': 90, 'max_depth': 110}.\n"
     ]
    }
   ],
   "source": [
    "n_estimators_list = [70,90,110]\n",
    "max_depth_list = [70,90,110]\n",
    "\n",
    "best_param = {'n_estimators': 0,\n",
    "              'max_depth': 0}\n",
    "\n",
    "max_acc = 0.\n",
    "\n",
    "for n_estimators in n_estimators_list:\n",
    "    for max_depth in max_depth_list:\n",
    "        acc = random_forest_accuracy(x_train, y_train, x_validation, y_validation, max_depth, n_estimators)\n",
    "        print(\"Accuracy = %f for n_estimators = %d, max_depth = %d\"%(acc,n_estimators,max_depth))\n",
    "        if acc > max_acc:\n",
    "            max_acc = acc\n",
    "            best_param['n_estimators'] = n_estimators\n",
    "            best_param['max_depth'] = max_depth\n",
    "\n",
    "print('The best accuracy score %f is obtained by parameters %s.'%(max_acc,str(best_param)))"
   ]
  },
  {
   "cell_type": "markdown",
   "metadata": {},
   "source": [
    "##  Alternative method to find best parameters using *`scikit-learn`*"
   ]
  },
  {
   "cell_type": "markdown",
   "metadata": {},
   "source": [
    "### Load the *20newsgroup*  Dataset"
   ]
  },
  {
   "cell_type": "code",
   "execution_count": 17,
   "metadata": {
    "scrolled": false
   },
   "outputs": [
    {
     "name": "stdout",
     "output_type": "stream",
     "text": [
      "11314 documents\n",
      "20 categories\n"
     ]
    }
   ],
   "source": [
    "newsgroup = fetch_20newsgroups(subset='train',remove=('headers', 'footers', 'quotes'))\n",
    "\n",
    "print(\"%d documents\" % len(newsgroup.filenames))\n",
    "print(\"%d categories\" % len(newsgroup.target_names))"
   ]
  },
  {
   "cell_type": "markdown",
   "metadata": {},
   "source": [
    "### Create pipeline with *TfidfVectorizer()* and *RandomForestClassifier()*"
   ]
  },
  {
   "cell_type": "code",
   "execution_count": 18,
   "metadata": {
    "collapsed": true
   },
   "outputs": [],
   "source": [
    "pipeline = Pipeline([\n",
    "    ('tfidf', TfidfVectorizer()),\n",
    "    ('clf', RandomForestClassifier()),\n",
    "])"
   ]
  },
  {
   "cell_type": "markdown",
   "metadata": {},
   "source": [
    "### Grid search on *max_depth* and *n_estimators*"
   ]
  },
  {
   "cell_type": "markdown",
   "metadata": {},
   "source": [
    "Here, no validation dataset is not required since **cross-validation** is used to calculate the accuarcy of the model.\n",
    "What cross-validation does is that it divides the train dataset into chunks and use all of these chunks except one to train model then it uses the remaining one chunk to calculate accuracy. This process is repeated for each of these chunks and the average accuracy is reported."
   ]
  },
  {
   "cell_type": "code",
   "execution_count": 19,
   "metadata": {},
   "outputs": [
    {
     "name": "stdout",
     "output_type": "stream",
     "text": [
      "Fitting 3 folds for each of 9 candidates, totalling 27 fits\n"
     ]
    },
    {
     "name": "stderr",
     "output_type": "stream",
     "text": [
      "[Parallel(n_jobs=-1)]: Done  27 out of  27 | elapsed:  5.3min finished\n"
     ]
    },
    {
     "name": "stdout",
     "output_type": "stream",
     "text": [
      "Best score: 0.636\n",
      "Best parameters set:\n",
      "\tclf__max_depth: 110\n",
      "\tclf__n_estimators: 110\n"
     ]
    }
   ],
   "source": [
    "parameters = {\n",
    "    'clf__n_estimators': (70, 90, 110),\n",
    "    'clf__max_depth': (70, 90, 110),\n",
    "}\n",
    "\n",
    "grid_search = GridSearchCV(pipeline, parameters, n_jobs=-1, verbose=1)\n",
    "grid_search.fit(newsgroup.data, newsgroup.target)\n",
    "\n",
    "print(\"Best score: %0.3f\" % grid_search.best_score_)\n",
    "print(\"Best parameters set:\")\n",
    "best_parameters = grid_search.best_estimator_.get_params()\n",
    "for param_name in sorted(parameters.keys()):\n",
    "    print(\"\\t%s: %r\" % (param_name, best_parameters[param_name]))"
   ]
  },
  {
   "cell_type": "markdown",
   "metadata": {},
   "source": [
    "Note that this method gives the optimal *max_depth* as 110 compared to 90. This is acceptable since with both of these values, the calculated accuracy is very similar and therefore, it is reasonable to train the Random Forest model with either of them. "
   ]
  },
  {
   "cell_type": "markdown",
   "metadata": {},
   "source": [
    "### Training the model with the best parameters"
   ]
  },
  {
   "cell_type": "code",
   "execution_count": 20,
   "metadata": {},
   "outputs": [
    {
     "data": {
      "text/plain": [
       "RandomForestClassifier(bootstrap=True, class_weight=None, criterion='gini',\n",
       "            max_depth=90, max_features='auto', max_leaf_nodes=None,\n",
       "            min_impurity_split=1e-07, min_samples_leaf=1,\n",
       "            min_samples_split=2, min_weight_fraction_leaf=0.0,\n",
       "            n_estimators=110, n_jobs=1, oob_score=False, random_state=None,\n",
       "            verbose=0, warm_start=False)"
      ]
     },
     "execution_count": 20,
     "metadata": {},
     "output_type": "execute_result"
    }
   ],
   "source": [
    "clf = RandomForestClassifier(max_depth=90, n_estimators=110)\n",
    "clf.fit(x_train.todense(), np.ravel(y_train.todense()))"
   ]
  },
  {
   "cell_type": "markdown",
   "metadata": {},
   "source": [
    "### Display the confusion matrix"
   ]
  },
  {
   "cell_type": "code",
   "execution_count": 21,
   "metadata": {
    "collapsed": true
   },
   "outputs": [],
   "source": [
    "def plot_confusion_matrix(cm, classes,\n",
    "                          normalize=False,\n",
    "                          title='Confusion matrix',\n",
    "                          cmap=plt.cm.Blues):\n",
    "\n",
    "    plt.imshow(cm, interpolation='nearest', cmap=cmap)\n",
    "    plt.title(title)\n",
    "    plt.colorbar()\n",
    "    tick_marks = np.arange(len(classes))\n",
    "    plt.xticks(tick_marks, classes, rotation=45)\n",
    "    plt.yticks(tick_marks, classes)\n",
    "\n",
    "    fmt = '.2f' if normalize else 'd'\n",
    "    thresh = cm.max() / 2.\n",
    "    for i, j in itertools.product(range(cm.shape[0]), range(cm.shape[1])):\n",
    "        plt.text(j, i, format(cm[i, j], fmt),\n",
    "                 horizontalalignment=\"center\",\n",
    "                 color=\"white\" if cm[i, j] > thresh else \"black\")\n",
    "\n",
    "    plt.tight_layout()\n",
    "    plt.ylabel('True label')\n",
    "    plt.xlabel('Predicted label')"
   ]
  },
  {
   "cell_type": "code",
   "execution_count": 22,
   "metadata": {},
   "outputs": [
    {
     "data": {
      "image/png": "[encoded data removed]",
      "text/plain": [
       "<matplotlib.figure.Figure at 0x11b7ad6d8>"
      ]
     },
     "metadata": {},
     "output_type": "display_data"
    }
   ],
   "source": [
    "cnf_matrix = confusion_matrix(y_validation.todense(), clf.predict(x_validation.todense()))\n",
    "np.set_printoptions(precision=2)\n",
    "\n",
    "plt.figure(figsize=(30,10))\n",
    "plot_confusion_matrix(cnf_matrix, classes=newsgroup.target_names, title='Confusion Matrix')"
   ]
  },
  {
   "cell_type": "markdown",
   "metadata": {},
   "source": [
    "From the confusion matrix, precision an recall values can be derived for each class.\n",
    "For instance these values for **graphics** class are as follows:"
   ]
  },
  {
   "cell_type": "markdown",
   "metadata": {},
   "source": [
    "$recall = \\frac{Number of True Positives}{Number of Actual Graphics} = \\frac{31}{57} = 0.543$\n",
    "\n",
    "$precision = \\frac{Number of True Positives}{Number of Predicted Graphics} = \\frac{31}{61} = 0.508$"
   ]
  },
  {
   "cell_type": "markdown",
   "metadata": {},
   "source": [
    "### Inspect the *feature_importances*  attribute of the Random Forest model"
   ]
  },
  {
   "cell_type": "code",
   "execution_count": 23,
   "metadata": {
    "collapsed": true
   },
   "outputs": [],
   "source": [
    "n_01 = 0\n",
    "n_001 = 0\n",
    "n_0001 = 0\n",
    "n_00001 = 0\n",
    "n_000001 = 0\n",
    "\n",
    "for i in np.array(clf.feature_importances_):\n",
    "    if i > 0.001:\n",
    "        n_001 += 1\n",
    "    if i > 0.0001:\n",
    "        n_0001 += 1\n",
    "    if i > 0.00001:\n",
    "        n_00001 += 1\n",
    "    if i > 0.000001:\n",
    "        n_000001 += 1"
   ]
  },
  {
   "cell_type": "code",
   "execution_count": 24,
   "metadata": {},
   "outputs": [
    {
     "name": "stdout",
     "output_type": "stream",
     "text": [
      "There are 101631 TF-IDF features in total\n",
      "0 of them bigger than 0.01\n",
      "150 of them bigger than 0.001\n",
      "1710 of them bigger than 0.0001\n",
      "9148 of them bigger than 0.00001\n",
      "25088 of them bigger than 0.000001\n",
      "And 76543 of them smaller than 0.000001\n"
     ]
    }
   ],
   "source": [
    "print('There are %d TF-IDF features in total'%len(clf.feature_importances_))\n",
    "print('%d of them bigger than 0.01'%n_01)\n",
    "print('%d of them bigger than 0.001'%n_001)\n",
    "print('%d of them bigger than 0.0001'%n_0001)\n",
    "print('%d of them bigger than 0.00001'%n_00001)\n",
    "print('%d of them bigger than 0.000001'%n_000001)\n",
    "print('And %d of them smaller than 0.000001'%(len(clf.feature_importances_)-n_000001))"
   ]
  },
  {
   "cell_type": "markdown",
   "metadata": {},
   "source": [
    "As it can be derived from these values, most of the features does not hold significant weights. Only 149 out of 101'631 features (that are words) have a noticable impact on the model while predicting the class. This can be interpreted as follows. Only a few number of words actually distinguishes classes between one another. The rest of the words (and also the majority) does not give specific information about the class of the article. It is highly possible that most of such words are just what we call ***stop words*** and are therefore not specific to a certain domain  (e.g. the, a, an, I, am, he, she, they, in, on, between). On the other hand, the most significant 149 words should be words that are highly realted to the classes of articles (e.g. drive, BMW, Mercedes, speed, road)."
   ]
  }
 ],
 "metadata": {
  "kernelspec": {
   "display_name": "Python [default]",
   "language": "python",
   "name": "python3"
  },
  "language_info": {
   "codemirror_mode": {
    "name": "ipython",
    "version": 3
   },
   "file_extension": ".py",
   "mimetype": "text/x-python",
   "name": "python",
   "nbconvert_exporter": "python",
   "pygments_lexer": "ipython3",
   "version": "3.6.1"
  }
 },
 "nbformat": 4,
 "nbformat_minor": 2
}
